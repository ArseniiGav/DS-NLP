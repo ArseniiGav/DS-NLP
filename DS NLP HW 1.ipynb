{
 "cells": [
  {
   "cell_type": "code",
   "execution_count": 1,
   "metadata": {},
   "outputs": [],
   "source": [
    "import json\n",
    "\n",
    "import bz2\n",
    "import regex\n",
    "from tqdm import tqdm_notebook\n",
    "\n",
    "from scipy import sparse"
   ]
  },
  {
   "cell_type": "code",
   "execution_count": 2,
   "metadata": {},
   "outputs": [
    {
     "name": "stdout",
     "output_type": "stream",
     "text": [
      "Populating the interactive namespace from numpy and matplotlib\n"
     ]
    }
   ],
   "source": [
    "import pandas as pd\n",
    "import numpy as np\n",
    "import nltk\n",
    "import matplotlib.pyplot as plt\n",
    "import seaborn as sns\n",
    "%matplotlib inline\n",
    "%pylab inline"
   ]
  },
  {
   "cell_type": "code",
   "execution_count": 3,
   "metadata": {},
   "outputs": [
    {
     "data": {
      "application/vnd.jupyter.widget-view+json": {
       "model_id": "90196f66cb85432f8e06a7bd9327c906",
       "version_major": 2,
       "version_minor": 0
      },
      "text/plain": [
       "HBox(children=(IntProgress(value=1, bar_style='info', max=1), HTML(value='')))"
      ]
     },
     "metadata": {},
     "output_type": "display_data"
    },
    {
     "name": "stdout",
     "output_type": "stream",
     "text": [
      "\n"
     ]
    }
   ],
   "source": [
    "responses = []\n",
    "with open('banki_responses.json', 'r') as thefile:\n",
    "    for row in tqdm_notebook(thefile):\n",
    "        resp = json.loads(row)\n",
    "        if not resp['rating_not_checked'] and (len(resp['text'].split()) > 0):\n",
    "            responses.append(resp)"
   ]
  },
  {
   "cell_type": "markdown",
   "metadata": {},
   "source": [
    "#  Домашнее задание по NLP # 1 [100 баллов]\n",
    "## Классификация по тональности \n",
    "\n",
    "В этом домашнем задании вам предстоит классифицировать по тональности отзывы на банки с сайта banki.ru.\n",
    "\n",
    "Данные содержат непосредственно тексты отзывов, некоторую дополнительную информацию, а также оценку по шкале от 1 до 5. \n",
    "\n",
    "Тексты хранятся в json-ах в массиве responses.\n",
    "\n",
    "Посмотрим на пример отзыва:"
   ]
  },
  {
   "cell_type": "code",
   "execution_count": 4,
   "metadata": {},
   "outputs": [
    {
     "data": {
      "text/plain": [
       "{'city': 'г. Саратов',\n",
       " 'rating_not_checked': False,\n",
       " 'title': 'Карта ко вкладу',\n",
       " 'num_comments': 0,\n",
       " 'bank_license': 'лицензия № 880',\n",
       " 'author': 'ronnichka',\n",
       " 'bank_name': 'Югра',\n",
       " 'datetime': '2015-06-03 20:56:57',\n",
       " 'text': 'Здравствуйте! Хотела написать, что мне месяц не выдают карту ко вкладу, ссылаясь на \"нам же их из Самары везут\" (на секундочку 5 часов езды от нашего города). Но! Прочитала, что людям 3,5 месяцев не выдают карту, и поняла, что у меня все хорошо, пока что. И подарок мне дали, и кулер в отделении есть. Так что я, конечно, готова ждать. Правда хотелось бы не очень долго.',\n",
       " 'rating_grade': 3}"
      ]
     },
     "execution_count": 4,
     "metadata": {},
     "output_type": "execute_result"
    }
   ],
   "source": [
    "responses[99]"
   ]
  },
  {
   "cell_type": "markdown",
   "metadata": {},
   "source": [
    "# Часть 1. Анализ текстов [40/100]\n",
    "\n",
    "1. Посчитайте количество отзывов в разных городах и на разные банки\n",
    "2. Постройте гистограмы длин слов в символах и в словах\n",
    "3. Найдите 10 самых частых:\n",
    "    * слов\n",
    "    * слов без стоп-слов\n",
    "    * лемм \n",
    "    * существительных\n",
    "4. Постройте кривые Ципфа и Хипса\n",
    "5. Ответьте на следующие вопросы:\n",
    "    * какое слово встречается чаще, \"сотрудник\" или \"клиент\"?\n",
    "    * сколько раз встречается слова \"мошенничество\" и \"доверие\"?\n",
    "6. В поле \"rating_grade\" записана оценка отзыва по шкале от 1 до 5. Используйте меру $tf-idf$, для того, чтобы найти ключевые слова и биграмы для положительных отзывов (с оценкой 5) и отрицательных отзывов (с оценкой 1)"
   ]
  },
  {
   "cell_type": "code",
   "execution_count": 5,
   "metadata": {},
   "outputs": [],
   "source": [
    "df = pd.DataFrame(responses)"
   ]
  },
  {
   "cell_type": "code",
   "execution_count": 6,
   "metadata": {},
   "outputs": [
    {
     "data": {
      "text/html": [
       "<div>\n",
       "<style scoped>\n",
       "    .dataframe tbody tr th:only-of-type {\n",
       "        vertical-align: middle;\n",
       "    }\n",
       "\n",
       "    .dataframe tbody tr th {\n",
       "        vertical-align: top;\n",
       "    }\n",
       "\n",
       "    .dataframe thead th {\n",
       "        text-align: right;\n",
       "    }\n",
       "</style>\n",
       "<table border=\"1\" class=\"dataframe\">\n",
       "  <thead>\n",
       "    <tr style=\"text-align: right;\">\n",
       "      <th></th>\n",
       "      <th>author</th>\n",
       "      <th>bank_license</th>\n",
       "      <th>bank_name</th>\n",
       "      <th>city</th>\n",
       "      <th>datetime</th>\n",
       "      <th>num_comments</th>\n",
       "      <th>rating_grade</th>\n",
       "      <th>rating_not_checked</th>\n",
       "      <th>text</th>\n",
       "      <th>title</th>\n",
       "    </tr>\n",
       "  </thead>\n",
       "  <tbody>\n",
       "    <tr>\n",
       "      <th>0</th>\n",
       "      <td>uhnov1</td>\n",
       "      <td>лицензия № 2562</td>\n",
       "      <td>Бинбанк</td>\n",
       "      <td>г. Москва</td>\n",
       "      <td>2015-06-08 12:50:54</td>\n",
       "      <td>0</td>\n",
       "      <td>NaN</td>\n",
       "      <td>False</td>\n",
       "      <td>Добрый день! Я не являюсь клиентом банка и пор...</td>\n",
       "      <td>Жалоба</td>\n",
       "    </tr>\n",
       "    <tr>\n",
       "      <th>1</th>\n",
       "      <td>Foryou</td>\n",
       "      <td>лицензия № 1481</td>\n",
       "      <td>Сбербанк России</td>\n",
       "      <td>г. Новосибирск</td>\n",
       "      <td>2015-06-08 11:09:57</td>\n",
       "      <td>0</td>\n",
       "      <td>NaN</td>\n",
       "      <td>False</td>\n",
       "      <td>Доброго дня! Являюсь держателем зарплатной кар...</td>\n",
       "      <td>Не могу пользоваться услугой Сбербанк он-лайн</td>\n",
       "    </tr>\n",
       "    <tr>\n",
       "      <th>2</th>\n",
       "      <td>Vladimir84</td>\n",
       "      <td>лицензия № 2562</td>\n",
       "      <td>Бинбанк</td>\n",
       "      <td>г. Москва</td>\n",
       "      <td>2015-06-05 20:14:28</td>\n",
       "      <td>1</td>\n",
       "      <td>NaN</td>\n",
       "      <td>False</td>\n",
       "      <td>Здравствуйте!  Дублирую свое заявление от 03.0...</td>\n",
       "      <td>Двойное списание за один товар.</td>\n",
       "    </tr>\n",
       "    <tr>\n",
       "      <th>3</th>\n",
       "      <td>643609</td>\n",
       "      <td>лицензия № 1481</td>\n",
       "      <td>Сбербанк России</td>\n",
       "      <td>г. Ставрополь</td>\n",
       "      <td>2015-06-05 13:51:01</td>\n",
       "      <td>2</td>\n",
       "      <td>NaN</td>\n",
       "      <td>False</td>\n",
       "      <td>Добрый день!! Я открыл расчетный счет в СберБа...</td>\n",
       "      <td>Меняют проценты комиссии  не предупредив и не ...</td>\n",
       "    </tr>\n",
       "    <tr>\n",
       "      <th>4</th>\n",
       "      <td>anfisa-2003</td>\n",
       "      <td>лицензия № 2766</td>\n",
       "      <td>ОТП Банк</td>\n",
       "      <td>г. Челябинск</td>\n",
       "      <td>2015-06-05 10:58:12</td>\n",
       "      <td>1</td>\n",
       "      <td>NaN</td>\n",
       "      <td>False</td>\n",
       "      <td>04.03.2015 г. взяла кредит в вашем банке, заяв...</td>\n",
       "      <td>Верните денежные средства за страховку</td>\n",
       "    </tr>\n",
       "  </tbody>\n",
       "</table>\n",
       "</div>"
      ],
      "text/plain": [
       "        author     bank_license        bank_name            city  \\\n",
       "0       uhnov1  лицензия № 2562          Бинбанк       г. Москва   \n",
       "1       Foryou  лицензия № 1481  Сбербанк России  г. Новосибирск   \n",
       "2   Vladimir84  лицензия № 2562          Бинбанк       г. Москва   \n",
       "3       643609  лицензия № 1481  Сбербанк России   г. Ставрополь   \n",
       "4  anfisa-2003  лицензия № 2766         ОТП Банк    г. Челябинск   \n",
       "\n",
       "              datetime  num_comments  rating_grade  rating_not_checked  \\\n",
       "0  2015-06-08 12:50:54             0           NaN               False   \n",
       "1  2015-06-08 11:09:57             0           NaN               False   \n",
       "2  2015-06-05 20:14:28             1           NaN               False   \n",
       "3  2015-06-05 13:51:01             2           NaN               False   \n",
       "4  2015-06-05 10:58:12             1           NaN               False   \n",
       "\n",
       "                                                text  \\\n",
       "0  Добрый день! Я не являюсь клиентом банка и пор...   \n",
       "1  Доброго дня! Являюсь держателем зарплатной кар...   \n",
       "2  Здравствуйте!  Дублирую свое заявление от 03.0...   \n",
       "3  Добрый день!! Я открыл расчетный счет в СберБа...   \n",
       "4  04.03.2015 г. взяла кредит в вашем банке, заяв...   \n",
       "\n",
       "                                               title  \n",
       "0                                             Жалоба  \n",
       "1      Не могу пользоваться услугой Сбербанк он-лайн  \n",
       "2                    Двойное списание за один товар.  \n",
       "3  Меняют проценты комиссии  не предупредив и не ...  \n",
       "4             Верните денежные средства за страховку  "
      ]
     },
     "execution_count": 6,
     "metadata": {},
     "output_type": "execute_result"
    }
   ],
   "source": [
    "df.head()"
   ]
  },
  {
   "cell_type": "code",
   "execution_count": 7,
   "metadata": {},
   "outputs": [
    {
     "data": {
      "text/plain": [
       "                        1223\n",
       "Претензия                364\n",
       "Кредитная карта          317\n",
       "Жалоба                   286\n",
       "Благодарность            248\n",
       "Звонки из банка          203\n",
       "Банкомат съел деньги     176\n",
       "Name: title, dtype: int64"
      ]
     },
     "execution_count": 7,
     "metadata": {},
     "output_type": "execute_result"
    }
   ],
   "source": [
    "df['title'].value_counts()[:7]"
   ]
  },
  {
   "cell_type": "markdown",
   "metadata": {},
   "source": [
    "### 1. Посчитайте количество отзывов в разных городах и на разные банки"
   ]
  },
  {
   "cell_type": "code",
   "execution_count": 8,
   "metadata": {},
   "outputs": [
    {
     "data": {
      "text/plain": [
       "153499"
      ]
     },
     "execution_count": 8,
     "metadata": {},
     "output_type": "execute_result"
    }
   ],
   "source": [
    "len(df)"
   ]
  },
  {
   "cell_type": "code",
   "execution_count": 9,
   "metadata": {},
   "outputs": [
    {
     "data": {
      "text/plain": [
       "г. Москва             55354\n",
       "г. Санкт-Петербург    14342\n",
       "г. Екатеринбург        2337\n",
       "г. Новосибирск         2300\n",
       "г. Нижний Новгород     1976\n",
       "г. Ростов-на-Дону      1891\n",
       "г. Самара              1731\n",
       "г. Челябинск           1507\n",
       "г. Казань              1440\n",
       "г. Краснодар           1262\n",
       "Name: city, dtype: int64"
      ]
     },
     "execution_count": 9,
     "metadata": {},
     "output_type": "execute_result"
    }
   ],
   "source": [
    "df['city'].value_counts()[:10]"
   ]
  },
  {
   "cell_type": "code",
   "execution_count": 10,
   "metadata": {},
   "outputs": [
    {
     "data": {
      "text/plain": [
       "1536"
      ]
     },
     "execution_count": 10,
     "metadata": {},
     "output_type": "execute_result"
    }
   ],
   "source": [
    "len(df['text'][10])"
   ]
  },
  {
   "cell_type": "code",
   "execution_count": 11,
   "metadata": {},
   "outputs": [
    {
     "data": {
      "text/plain": [
       "Сбербанк России              26327\n",
       "Альфа-Банк                   10224\n",
       "ВТБ 24                        8185\n",
       "Русский Стандарт              7943\n",
       "Хоум Кредит Банк              7549\n",
       "Тинькофф Банк                 5387\n",
       "Национальный Банк «Траст»     4607\n",
       "Ренессанс Кредит              3849\n",
       "Связной Банк                  3775\n",
       "ОТП Банк                      3237\n",
       "Name: bank_name, dtype: int64"
      ]
     },
     "execution_count": 11,
     "metadata": {},
     "output_type": "execute_result"
    }
   ],
   "source": [
    "df['bank_name'].value_counts()[:10]"
   ]
  },
  {
   "cell_type": "markdown",
   "metadata": {},
   "source": [
    "### 2. Постройте гистограмы длин слов в символах и в словах.\n",
    "### *Прим.: Вероятно, имеется ввиду гистограммы тесктов в символах и в словах.*"
   ]
  },
  {
   "cell_type": "markdown",
   "metadata": {},
   "source": [
    "### *В символах.*"
   ]
  },
  {
   "cell_type": "code",
   "execution_count": 12,
   "metadata": {},
   "outputs": [
    {
     "data": {
      "text/plain": [
       "(0, 8000)"
      ]
     },
     "execution_count": 12,
     "metadata": {},
     "output_type": "execute_result"
    },
    {
     "data": {
      "image/png": "[encoded data removed]",
      "text/plain": [
       "<Figure size 432x288 with 1 Axes>"
      ]
     },
     "metadata": {
      "needs_background": "light"
     },
     "output_type": "display_data"
    }
   ],
   "source": [
    "df['text'].apply(len).hist(bins=150)\n",
    "\n",
    "plt.xlim(0, 8000)"
   ]
  },
  {
   "cell_type": "markdown",
   "metadata": {},
   "source": [
    "### *В словах. Для начала проведем токенизацию.*"
   ]
  },
  {
   "cell_type": "code",
   "execution_count": 13,
   "metadata": {},
   "outputs": [],
   "source": [
    "import re\n",
    "regex = re.compile(\"[А-Яа-я]+\")\n",
    "\n",
    "def words_only(text, regex=regex):\n",
    "    try:\n",
    "        return \" \".join(regex.findall(text))\n",
    "    except:\n",
    "        return \"\"\n",
    "\n",
    "\n",
    "df['text'] = df.text.apply(lambda x: x.lower())\n",
    "df['words_only'] = df.text.apply(words_only)"
   ]
  },
  {
   "cell_type": "code",
   "execution_count": 14,
   "metadata": {},
   "outputs": [],
   "source": [
    "df['tokenized_sents'] = df.words_only.apply(lambda x: x.split(' '))"
   ]
  },
  {
   "cell_type": "code",
   "execution_count": 15,
   "metadata": {},
   "outputs": [],
   "source": [
    "df['tokenized_sents_len'] = df['tokenized_sents'].apply(len)"
   ]
  },
  {
   "cell_type": "code",
   "execution_count": 16,
   "metadata": {},
   "outputs": [
    {
     "data": {
      "text/plain": [
       "(0, 1000)"
      ]
     },
     "execution_count": 16,
     "metadata": {},
     "output_type": "execute_result"
    },
    {
     "data": {
      "image/png": "[encoded data removed]",
      "text/plain": [
       "<Figure size 432x288 with 1 Axes>"
      ]
     },
     "metadata": {
      "needs_background": "light"
     },
     "output_type": "display_data"
    }
   ],
   "source": [
    "df['tokenized_sents_len'].hist(bins=100)\n",
    "\n",
    "plt.xlim(0, 1000)"
   ]
  },
  {
   "cell_type": "markdown",
   "metadata": {},
   "source": [
    "### И в том и в другом случае мы получаем эксп. распределение."
   ]
  },
  {
   "cell_type": "markdown",
   "metadata": {},
   "source": [
    "### 3. Найдите 10 самых частых:\n",
    "        \n",
    "* слов\n",
    "* слов без стоп-слов\n",
    "* лемм \n",
    "* существительных"
   ]
  },
  {
   "cell_type": "code",
   "execution_count": 17,
   "metadata": {},
   "outputs": [],
   "source": [
    "from collections import Counter"
   ]
  },
  {
   "cell_type": "code",
   "execution_count": 18,
   "metadata": {},
   "outputs": [],
   "source": [
    "def counter(how):\n",
    "    cnt = Counter()\n",
    "    n_types = []\n",
    "    n_tokens = []\n",
    "    tokens = []\n",
    "    for index, row in tqdm_notebook(df.iterrows(), total = len(df)):\n",
    "        tokens = row[how].split()\n",
    "        cnt.update(tokens)\n",
    "        n_types.append(len(cnt))\n",
    "        n_tokens.append(sum(cnt.values()))\n",
    "    for i in cnt.most_common(10):\n",
    "        print(i)"
   ]
  },
  {
   "cell_type": "code",
   "execution_count": 19,
   "metadata": {},
   "outputs": [
    {
     "data": {
      "application/vnd.jupyter.widget-view+json": {
       "model_id": "29268310a68c44edb51c284c11eff8a2",
       "version_major": 2,
       "version_minor": 0
      },
      "text/plain": [
       "HBox(children=(IntProgress(value=0, max=153499), HTML(value='')))"
      ]
     },
     "metadata": {},
     "output_type": "display_data"
    },
    {
     "name": "stdout",
     "output_type": "stream",
     "text": [
      "\n",
      "('в', 1330550)\n",
      "('и', 1058997)\n",
      "('не', 855335)\n",
      "('на', 707935)\n",
      "('что', 640057)\n",
      "('я', 577500)\n",
      "('с', 464037)\n",
      "('по', 372769)\n",
      "('мне', 320958)\n",
      "('банка', 275906)\n"
     ]
    }
   ],
   "source": [
    "counter('words_only')"
   ]
  },
  {
   "cell_type": "markdown",
   "metadata": {},
   "source": [
    "### Как видно, основные слова это предлоги и слово \"банк\", так как тексты о банках. Избавимся от слоп-слов."
   ]
  },
  {
   "cell_type": "code",
   "execution_count": 20,
   "metadata": {},
   "outputs": [],
   "source": [
    "from nltk.corpus import stopwords\n",
    "sw = stopwords.words('russian') + ['т', 'д', 'это']"
   ]
  },
  {
   "cell_type": "code",
   "execution_count": 21,
   "metadata": {},
   "outputs": [],
   "source": [
    "def  remove_stopwords(text, mystopwords = sw):\n",
    "    try:\n",
    "        return \" \".join([token for token in text.split() if not token in mystopwords])\n",
    "    except:\n",
    "        return \"\""
   ]
  },
  {
   "cell_type": "code",
   "execution_count": 22,
   "metadata": {},
   "outputs": [],
   "source": [
    "df['words_only_without_sw']= df['words_only'].apply(remove_stopwords) "
   ]
  },
  {
   "cell_type": "code",
   "execution_count": 23,
   "metadata": {},
   "outputs": [
    {
     "data": {
      "application/vnd.jupyter.widget-view+json": {
       "model_id": "c02661b268c24665a6d33cb6b66f5313",
       "version_major": 2,
       "version_minor": 0
      },
      "text/plain": [
       "HBox(children=(IntProgress(value=0, max=153499), HTML(value='')))"
      ]
     },
     "metadata": {},
     "output_type": "display_data"
    },
    {
     "name": "stdout",
     "output_type": "stream",
     "text": [
      "\n",
      "('банка', 275906)\n",
      "('банк', 215426)\n",
      "('деньги', 131201)\n",
      "('карту', 105829)\n",
      "('карты', 101821)\n",
      "('кредит', 81136)\n",
      "('день', 76552)\n",
      "('банке', 72169)\n",
      "('заявление', 70423)\n",
      "('очень', 66824)\n"
     ]
    }
   ],
   "source": [
    "counter('words_only_without_sw')"
   ]
  },
  {
   "cell_type": "markdown",
   "metadata": {},
   "source": [
    "### Теперь лемматизация"
   ]
  },
  {
   "cell_type": "code",
   "execution_count": 24,
   "metadata": {},
   "outputs": [],
   "source": [
    "from pymorphy2 import MorphAnalyzer\n",
    "\n",
    "pm2 = MorphAnalyzer()\n",
    "\n",
    "\n",
    "def lemmatize(text, mystem=pm2):\n",
    "    try:\n",
    "        return ' '.join([pm2.parse(word)[0].normal_form for word in text.split()])\n",
    "    except:\n",
    "        return \" \""
   ]
  },
  {
   "cell_type": "markdown",
   "metadata": {},
   "source": [
    "### Возьмем первые 1000 текстов, так как текстов слишком много."
   ]
  },
  {
   "cell_type": "code",
   "execution_count": 25,
   "metadata": {},
   "outputs": [],
   "source": [
    "df['lemmas'] = df['words_only_without_sw'][:1000].apply(lemmatize) "
   ]
  },
  {
   "cell_type": "code",
   "execution_count": 26,
   "metadata": {},
   "outputs": [],
   "source": [
    "df['lemmas'] = df['lemmas'].fillna('')"
   ]
  },
  {
   "cell_type": "code",
   "execution_count": 27,
   "metadata": {},
   "outputs": [
    {
     "data": {
      "application/vnd.jupyter.widget-view+json": {
       "model_id": "0f525ee8b83f466f96702ed57277032d",
       "version_major": 2,
       "version_minor": 0
      },
      "text/plain": [
       "HBox(children=(IntProgress(value=0, max=153499), HTML(value='')))"
      ]
     },
     "metadata": {},
     "output_type": "display_data"
    },
    {
     "name": "stdout",
     "output_type": "stream",
     "text": [
      "\n",
      "('банка', 2366)\n",
      "('карта', 1801)\n",
      "('банк', 1713)\n",
      "('год', 1068)\n",
      "('кредит', 937)\n",
      "('мой', 895)\n",
      "('который', 865)\n",
      "('деньга', 853)\n",
      "('вклад', 817)\n",
      "('день', 811)\n"
     ]
    }
   ],
   "source": [
    " counter('lemmas')"
   ]
  },
  {
   "cell_type": "markdown",
   "metadata": {},
   "source": [
    "### Как видно, есть проблема того, что отличает леммы \"банка\" и \"банк\", хотя это одно и тоже слово в нашем контексте."
   ]
  },
  {
   "cell_type": "markdown",
   "metadata": {},
   "source": [
    "### 4. Постройте кривые Ципфа и Хипса"
   ]
  },
  {
   "cell_type": "code",
   "execution_count": 28,
   "metadata": {},
   "outputs": [
    {
     "data": {
      "application/vnd.jupyter.widget-view+json": {
       "model_id": "87e217d629da4c2c8a9aec18fb7a199d",
       "version_major": 2,
       "version_minor": 0
      },
      "text/plain": [
       "HBox(children=(IntProgress(value=0, max=153499), HTML(value='')))"
      ]
     },
     "metadata": {},
     "output_type": "display_data"
    },
    {
     "name": "stdout",
     "output_type": "stream",
     "text": [
      "\n"
     ]
    }
   ],
   "source": [
    "cnt = Counter()\n",
    "n_types = []\n",
    "n_tokens = []\n",
    "tokens = []\n",
    "for index, row in tqdm_notebook(df.iterrows(), total = len(df)):\n",
    "    tokens = row['words_only'].split()\n",
    "    cnt.update(tokens)\n",
    "    n_types.append(len(cnt))\n",
    "    n_tokens.append(sum(list(cnt.values())))"
   ]
  },
  {
   "cell_type": "markdown",
   "metadata": {},
   "source": [
    "### Кривая Ципфа."
   ]
  },
  {
   "cell_type": "code",
   "execution_count": 29,
   "metadata": {},
   "outputs": [
    {
     "data": {
      "image/png": "[encoded data removed]",
      "text/plain": [
       "<Figure size 432x288 with 1 Axes>"
      ]
     },
     "metadata": {
      "needs_background": "light"
     },
     "output_type": "display_data"
    }
   ],
   "source": [
    "freqs = list(cnt.values())\n",
    "freqs = sorted(freqs, reverse = True)\n",
    "\n",
    "fig, ax = plt.subplots()\n",
    "ax.plot(freqs[:300], range(300))\n",
    "plt.show()"
   ]
  },
  {
   "cell_type": "markdown",
   "metadata": {},
   "source": [
    "### Кривая Хипса"
   ]
  },
  {
   "cell_type": "code",
   "execution_count": 30,
   "metadata": {},
   "outputs": [
    {
     "data": {
      "image/png": "[encoded data removed]",
      "text/plain": [
       "<Figure size 432x288 with 1 Axes>"
      ]
     },
     "metadata": {
      "needs_background": "light"
     },
     "output_type": "display_data"
    }
   ],
   "source": [
    "fig, ax = plt.subplots()\n",
    "ax.plot(n_tokens, n_types)\n",
    "plt.show()"
   ]
  },
  {
   "cell_type": "code",
   "execution_count": 31,
   "metadata": {},
   "outputs": [
    {
     "data": {
      "application/vnd.jupyter.widget-view+json": {
       "model_id": "bfb0e4e43e93412d922905124add82ad",
       "version_major": 2,
       "version_minor": 0
      },
      "text/plain": [
       "HBox(children=(IntProgress(value=0, max=265248), HTML(value='')))"
      ]
     },
     "metadata": {},
     "output_type": "display_data"
    },
    {
     "name": "stdout",
     "output_type": "stream",
     "text": [
      "\n"
     ]
    }
   ],
   "source": [
    "client_count = 0\n",
    "emp_count = 0\n",
    "fr_count = 0\n",
    "tr_count = 0\n",
    "for key, value in tqdm_notebook(cnt.items()):\n",
    "    if lemmatize(key) == 'сотрудник':\n",
    "        emp_count += value\n",
    "    elif lemmatize(key) == 'клиент':\n",
    "        client_count += value\n",
    "    elif lemmatize(key) == 'мошенничество':\n",
    "        fr_count += value\n",
    "    elif lemmatize(key) == 'доверие':\n",
    "        tr_count += value"
   ]
  },
  {
   "cell_type": "code",
   "execution_count": 32,
   "metadata": {},
   "outputs": [
    {
     "name": "stdout",
     "output_type": "stream",
     "text": [
      "Количество упоминаний клиента: 136893, сотрудника: 134168\n"
     ]
    }
   ],
   "source": [
    "print('Количество упоминаний клиента: {}, сотрудника: {}'.format(client_count, emp_count))"
   ]
  },
  {
   "cell_type": "code",
   "execution_count": 33,
   "metadata": {},
   "outputs": [
    {
     "name": "stdout",
     "output_type": "stream",
     "text": [
      "Количество упоминаний слово мошенничество: 3244, слово доверие: 2108\n"
     ]
    }
   ],
   "source": [
    "print('Количество упоминаний слово мошенничество: {}, слово доверие: {}'.format(fr_count, tr_count))"
   ]
  },
  {
   "cell_type": "markdown",
   "metadata": {},
   "source": [
    "### 6. В поле \"rating_grade\" записана оценка отзыва по шкале от 1 до 5. Используйте меру $tf-idf$, для того, чтобы найти ключевые слова и биграмы для положительных отзывов (с оценкой 5) и отрицательных отзывов (с оценкой 1)"
   ]
  },
  {
   "cell_type": "code",
   "execution_count": 34,
   "metadata": {},
   "outputs": [],
   "source": [
    "tokens_with_rat_1 = []\n",
    "tokens_with_rat_5 = []\n",
    "for i in df[df['rating_grade'] == 1]['lemmas']:\n",
    "    tokens_with_rat_1 += i.split()\n",
    "for i in df[df['rating_grade'] == 5]['lemmas']:\n",
    "    tokens_with_rat_5 += i.split()"
   ]
  },
  {
   "cell_type": "code",
   "execution_count": 35,
   "metadata": {},
   "outputs": [],
   "source": [
    "from sklearn.feature_extraction.text import TfidfVectorizer\n",
    "import numpy as np\n",
    "\n",
    "def tfidf(tokens_list, N_min, N_max):\n",
    "    tfidf = TfidfVectorizer(analyzer='word', ngram_range=(N_min, N_max), min_df = 0)\n",
    "    tfidf_matrix =  tfidf.fit_transform([' '.join(tokens_list)])\n",
    "    feature_names = tfidf.get_feature_names() \n",
    "    tfidf_ranking = []\n",
    "    dense = tfidf_matrix.todense()\n",
    "\n",
    "    text = dense.tolist()[0]\n",
    "    phrase_scores = [pair for pair in zip(range(0, len(text)), text) if pair[1] > 0]\n",
    "    sorted_phrase_scores = sorted(phrase_scores, key=lambda t: t[1] * -1)\n",
    "    phrases = []\n",
    "    for phrase, score in [(feature_names[word_id], score) for (word_id, score) in sorted_phrase_scores][:40]:\n",
    "        tfidf_ranking.append(phrase)\n",
    "    return tfidf_ranking"
   ]
  },
  {
   "cell_type": "code",
   "execution_count": 36,
   "metadata": {},
   "outputs": [
    {
     "data": {
      "text/html": [
       "<div>\n",
       "<style scoped>\n",
       "    .dataframe tbody tr th:only-of-type {\n",
       "        vertical-align: middle;\n",
       "    }\n",
       "\n",
       "    .dataframe tbody tr th {\n",
       "        vertical-align: top;\n",
       "    }\n",
       "\n",
       "    .dataframe thead th {\n",
       "        text-align: right;\n",
       "    }\n",
       "</style>\n",
       "<table border=\"1\" class=\"dataframe\">\n",
       "  <thead>\n",
       "    <tr style=\"text-align: right;\">\n",
       "      <th></th>\n",
       "      <th>tf-idf</th>\n",
       "    </tr>\n",
       "  </thead>\n",
       "  <tbody>\n",
       "    <tr>\n",
       "      <th>0</th>\n",
       "      <td>банка</td>\n",
       "    </tr>\n",
       "    <tr>\n",
       "      <th>1</th>\n",
       "      <td>карта</td>\n",
       "    </tr>\n",
       "    <tr>\n",
       "      <th>2</th>\n",
       "      <td>банк</td>\n",
       "    </tr>\n",
       "    <tr>\n",
       "      <th>3</th>\n",
       "      <td>деньга</td>\n",
       "    </tr>\n",
       "    <tr>\n",
       "      <th>4</th>\n",
       "      <td>отделение</td>\n",
       "    </tr>\n",
       "    <tr>\n",
       "      <th>5</th>\n",
       "      <td>год</td>\n",
       "    </tr>\n",
       "    <tr>\n",
       "      <th>6</th>\n",
       "      <td>сотрудник</td>\n",
       "    </tr>\n",
       "    <tr>\n",
       "      <th>7</th>\n",
       "      <td>день</td>\n",
       "    </tr>\n",
       "    <tr>\n",
       "      <th>8</th>\n",
       "      <td>который</td>\n",
       "    </tr>\n",
       "    <tr>\n",
       "      <th>9</th>\n",
       "      <td>мой</td>\n",
       "    </tr>\n",
       "  </tbody>\n",
       "</table>\n",
       "</div>"
      ],
      "text/plain": [
       "      tf-idf\n",
       "0      банка\n",
       "1      карта\n",
       "2       банк\n",
       "3     деньга\n",
       "4  отделение\n",
       "5        год\n",
       "6  сотрудник\n",
       "7       день\n",
       "8    который\n",
       "9        мой"
      ]
     },
     "execution_count": 36,
     "metadata": {},
     "output_type": "execute_result"
    }
   ],
   "source": [
    "rankings = pd.DataFrame({'tf-idf': tfidf(tokens_with_rat_1, 1, 1)})\n",
    "rankings.head(10)"
   ]
  },
  {
   "cell_type": "code",
   "execution_count": 37,
   "metadata": {},
   "outputs": [
    {
     "data": {
      "text/html": [
       "<div>\n",
       "<style scoped>\n",
       "    .dataframe tbody tr th:only-of-type {\n",
       "        vertical-align: middle;\n",
       "    }\n",
       "\n",
       "    .dataframe tbody tr th {\n",
       "        vertical-align: top;\n",
       "    }\n",
       "\n",
       "    .dataframe thead th {\n",
       "        text-align: right;\n",
       "    }\n",
       "</style>\n",
       "<table border=\"1\" class=\"dataframe\">\n",
       "  <thead>\n",
       "    <tr style=\"text-align: right;\">\n",
       "      <th></th>\n",
       "      <th>tf-idf</th>\n",
       "    </tr>\n",
       "  </thead>\n",
       "  <tbody>\n",
       "    <tr>\n",
       "      <th>0</th>\n",
       "      <td>сотрудник банка</td>\n",
       "    </tr>\n",
       "    <tr>\n",
       "      <th>1</th>\n",
       "      <td>отделение банка</td>\n",
       "    </tr>\n",
       "    <tr>\n",
       "      <th>2</th>\n",
       "      <td>денежный средство</td>\n",
       "    </tr>\n",
       "    <tr>\n",
       "      <th>3</th>\n",
       "      <td>горячий линия</td>\n",
       "    </tr>\n",
       "    <tr>\n",
       "      <th>4</th>\n",
       "      <td>кредитный карта</td>\n",
       "    </tr>\n",
       "    <tr>\n",
       "      <th>5</th>\n",
       "      <td>написать заявление</td>\n",
       "    </tr>\n",
       "    <tr>\n",
       "      <th>6</th>\n",
       "      <td>альфа банк</td>\n",
       "    </tr>\n",
       "    <tr>\n",
       "      <th>7</th>\n",
       "      <td>дебетовый карта</td>\n",
       "    </tr>\n",
       "    <tr>\n",
       "      <th>8</th>\n",
       "      <td>тысяча рубль</td>\n",
       "    </tr>\n",
       "    <tr>\n",
       "      <th>9</th>\n",
       "      <td>добрый день</td>\n",
       "    </tr>\n",
       "  </tbody>\n",
       "</table>\n",
       "</div>"
      ],
      "text/plain": [
       "               tf-idf\n",
       "0     сотрудник банка\n",
       "1     отделение банка\n",
       "2   денежный средство\n",
       "3       горячий линия\n",
       "4     кредитный карта\n",
       "5  написать заявление\n",
       "6          альфа банк\n",
       "7     дебетовый карта\n",
       "8        тысяча рубль\n",
       "9         добрый день"
      ]
     },
     "execution_count": 37,
     "metadata": {},
     "output_type": "execute_result"
    }
   ],
   "source": [
    "rankings = pd.DataFrame({'tf-idf': tfidf(tokens_with_rat_1, 2, 2)})\n",
    "rankings.head(10)"
   ]
  },
  {
   "cell_type": "code",
   "execution_count": 38,
   "metadata": {},
   "outputs": [
    {
     "data": {
      "text/html": [
       "<div>\n",
       "<style scoped>\n",
       "    .dataframe tbody tr th:only-of-type {\n",
       "        vertical-align: middle;\n",
       "    }\n",
       "\n",
       "    .dataframe tbody tr th {\n",
       "        vertical-align: top;\n",
       "    }\n",
       "\n",
       "    .dataframe thead th {\n",
       "        text-align: right;\n",
       "    }\n",
       "</style>\n",
       "<table border=\"1\" class=\"dataframe\">\n",
       "  <thead>\n",
       "    <tr style=\"text-align: right;\">\n",
       "      <th></th>\n",
       "      <th>tf-idf</th>\n",
       "    </tr>\n",
       "  </thead>\n",
       "  <tbody>\n",
       "    <tr>\n",
       "      <th>0</th>\n",
       "      <td>карта</td>\n",
       "    </tr>\n",
       "    <tr>\n",
       "      <th>1</th>\n",
       "      <td>банка</td>\n",
       "    </tr>\n",
       "    <tr>\n",
       "      <th>2</th>\n",
       "      <td>банк</td>\n",
       "    </tr>\n",
       "    <tr>\n",
       "      <th>3</th>\n",
       "      <td>очень</td>\n",
       "    </tr>\n",
       "    <tr>\n",
       "      <th>4</th>\n",
       "      <td>вклад</td>\n",
       "    </tr>\n",
       "    <tr>\n",
       "      <th>5</th>\n",
       "      <td>клиент</td>\n",
       "    </tr>\n",
       "    <tr>\n",
       "      <th>6</th>\n",
       "      <td>который</td>\n",
       "    </tr>\n",
       "    <tr>\n",
       "      <th>7</th>\n",
       "      <td>документ</td>\n",
       "    </tr>\n",
       "    <tr>\n",
       "      <th>8</th>\n",
       "      <td>дать</td>\n",
       "    </tr>\n",
       "    <tr>\n",
       "      <th>9</th>\n",
       "      <td>отделение</td>\n",
       "    </tr>\n",
       "  </tbody>\n",
       "</table>\n",
       "</div>"
      ],
      "text/plain": [
       "      tf-idf\n",
       "0      карта\n",
       "1      банка\n",
       "2       банк\n",
       "3      очень\n",
       "4      вклад\n",
       "5     клиент\n",
       "6    который\n",
       "7   документ\n",
       "8       дать\n",
       "9  отделение"
      ]
     },
     "execution_count": 38,
     "metadata": {},
     "output_type": "execute_result"
    }
   ],
   "source": [
    "rankings = pd.DataFrame({'tf-idf': tfidf(tokens_with_rat_5, 1, 1)})\n",
    "rankings.head(10)"
   ]
  },
  {
   "cell_type": "code",
   "execution_count": 39,
   "metadata": {},
   "outputs": [
    {
     "data": {
      "text/html": [
       "<div>\n",
       "<style scoped>\n",
       "    .dataframe tbody tr th:only-of-type {\n",
       "        vertical-align: middle;\n",
       "    }\n",
       "\n",
       "    .dataframe tbody tr th {\n",
       "        vertical-align: top;\n",
       "    }\n",
       "\n",
       "    .dataframe thead th {\n",
       "        text-align: right;\n",
       "    }\n",
       "</style>\n",
       "<table border=\"1\" class=\"dataframe\">\n",
       "  <thead>\n",
       "    <tr style=\"text-align: right;\">\n",
       "      <th></th>\n",
       "      <th>tf-idf</th>\n",
       "    </tr>\n",
       "  </thead>\n",
       "  <tbody>\n",
       "    <tr>\n",
       "      <th>0</th>\n",
       "      <td>сч тот</td>\n",
       "    </tr>\n",
       "    <tr>\n",
       "      <th>1</th>\n",
       "      <td>отделение банка</td>\n",
       "    </tr>\n",
       "    <tr>\n",
       "      <th>2</th>\n",
       "      <td>сбербанк онлайн</td>\n",
       "    </tr>\n",
       "    <tr>\n",
       "      <th>3</th>\n",
       "      <td>сотрудник банка</td>\n",
       "    </tr>\n",
       "    <tr>\n",
       "      <th>4</th>\n",
       "      <td>вклад доходный</td>\n",
       "    </tr>\n",
       "    <tr>\n",
       "      <th>5</th>\n",
       "      <td>год назад</td>\n",
       "    </tr>\n",
       "    <tr>\n",
       "      <th>6</th>\n",
       "      <td>горячий линия</td>\n",
       "    </tr>\n",
       "    <tr>\n",
       "      <th>7</th>\n",
       "      <td>дебетовый карта</td>\n",
       "    </tr>\n",
       "    <tr>\n",
       "      <th>8</th>\n",
       "      <td>занять минута</td>\n",
       "    </tr>\n",
       "    <tr>\n",
       "      <th>9</th>\n",
       "      <td>интернет банка</td>\n",
       "    </tr>\n",
       "  </tbody>\n",
       "</table>\n",
       "</div>"
      ],
      "text/plain": [
       "            tf-idf\n",
       "0           сч тот\n",
       "1  отделение банка\n",
       "2  сбербанк онлайн\n",
       "3  сотрудник банка\n",
       "4   вклад доходный\n",
       "5        год назад\n",
       "6    горячий линия\n",
       "7  дебетовый карта\n",
       "8    занять минута\n",
       "9   интернет банка"
      ]
     },
     "execution_count": 39,
     "metadata": {},
     "output_type": "execute_result"
    }
   ],
   "source": [
    "rankings = pd.DataFrame({'tf-idf': tfidf(tokens_with_rat_5, 2, 2)})\n",
    "rankings.head(10)"
   ]
  },
  {
   "cell_type": "markdown",
   "metadata": {},
   "source": [
    "## Часть 2. Тематическое моделирование [20/100]\n",
    "\n",
    "1. Постройте несколько тематических моделей коллекции документов с разным числом тем. Приведите примеры понятных (интерпретируемых) тем.\n",
    "2. Найдите темы, в которых упомянуты конкретные банки (Сбербанк, ВТБ, другой банк). Можете ли вы их прокомментировать / объяснить?\n",
    "\n",
    "Эта часть задания может быть сделана с использованием gensim. "
   ]
  },
  {
   "cell_type": "code",
   "execution_count": 40,
   "metadata": {},
   "outputs": [
    {
     "data": {
      "text/plain": [
       "Претензия               364\n",
       "Кредитная карта         317\n",
       "Жалоба                  286\n",
       "Благодарность           248\n",
       "Звонки из банка         203\n",
       "Банкомат съел деньги    176\n",
       "Name: title, dtype: int64"
      ]
     },
     "execution_count": 40,
     "metadata": {},
     "output_type": "execute_result"
    }
   ],
   "source": [
    "df['title'].value_counts()[1:7]"
   ]
  },
  {
   "cell_type": "code",
   "execution_count": 41,
   "metadata": {},
   "outputs": [],
   "source": [
    "from gensim.corpora import *\n",
    "texts = [df[:15000].lemmas.iloc[i].split() for i in range(len(df[:15000]))]\n",
    "dictionary = Dictionary(texts)\n",
    "corpus = [dictionary.doc2bow(text) for text in texts]"
   ]
  },
  {
   "cell_type": "code",
   "execution_count": 42,
   "metadata": {},
   "outputs": [],
   "source": [
    "from gensim.models import  *\n",
    "from gensim import similarities\n",
    "\n",
    "tfidf = TfidfModel(corpus)\n",
    "corpus_tfidf = tfidf[corpus]\n",
    "\n",
    "index = similarities.MatrixSimilarity(corpus_tfidf)\n",
    "sims = index[corpus_tfidf]"
   ]
  },
  {
   "cell_type": "code",
   "execution_count": 43,
   "metadata": {},
   "outputs": [],
   "source": [
    "lsi = lsimodel.LsiModel(corpus=corpus_tfidf, id2word=dictionary, num_topics=6)"
   ]
  },
  {
   "cell_type": "code",
   "execution_count": 44,
   "metadata": {},
   "outputs": [
    {
     "data": {
      "text/plain": [
       "[(0,\n",
       "  '0.327*\"банка\" + 0.303*\"карта\" + 0.239*\"банк\" + 0.166*\"год\" + 0.166*\"кредит\" + 0.145*\"деньга\" + 0.144*\"вклад\" + 0.138*\"мой\" + 0.129*\"день\" + 0.128*\"который\"'),\n",
       " (1,\n",
       "  '-0.615*\"вклад\" + 0.437*\"карта\" + -0.243*\"ставка\" + -0.195*\"пополнение\" + -0.187*\"условие\" + -0.169*\"договор\" + -0.152*\"банк\" + -0.094*\"процент\" + -0.090*\"вкладчик\" + -0.088*\"банка\"'),\n",
       " (2,\n",
       "  '0.506*\"карта\" + -0.318*\"кредит\" + 0.254*\"вклад\" + -0.220*\"звонок\" + -0.208*\"номер\" + -0.176*\"ваш\" + -0.169*\"телефон\" + 0.131*\"деньга\" + -0.127*\"сотрудник\" + -0.114*\"звонить\"'),\n",
       " (3,\n",
       "  '0.436*\"кредит\" + -0.272*\"номер\" + -0.232*\"карта\" + -0.229*\"звонок\" + 0.221*\"страховка\" + -0.209*\"телефон\" + 0.198*\"сумма\" + 0.165*\"страхование\" + 0.134*\"договор\" + 0.129*\"платёж\"'),\n",
       " (4,\n",
       "  '0.436*\"карта\" + -0.425*\"деньга\" + 0.283*\"кредит\" + 0.179*\"кредитный\" + -0.172*\"счёт\" + -0.155*\"банкомат\" + -0.143*\"сбербанк\" + -0.143*\"день\" + -0.139*\"средство\" + -0.117*\"отделение\"'),\n",
       " (5,\n",
       "  '-0.282*\"сумма\" + -0.270*\"рубль\" + 0.227*\"отделение\" + 0.177*\"банка\" + -0.175*\"средство\" + -0.171*\"счёт\" + 0.169*\"офис\" + -0.143*\"год\" + 0.137*\"работать\" + -0.135*\"задолженность\"')]"
      ]
     },
     "execution_count": 44,
     "metadata": {},
     "output_type": "execute_result"
    }
   ],
   "source": [
    "lsi.show_topics(10)"
   ]
  },
  {
   "cell_type": "markdown",
   "metadata": {},
   "source": [
    "### Таким образом, тема №1 касается вкладов. Тема №2, вероятно, кредитов. В теме №4 есть упоминание конкретного банка - сбербанка, вероятно там тоже идет речь о кредитах."
   ]
  },
  {
   "cell_type": "code",
   "execution_count": 45,
   "metadata": {},
   "outputs": [
    {
     "name": "stderr",
     "output_type": "stream",
     "text": [
      "C:\\Users\\Arsenii\\Anaconda3\\lib\\site-packages\\gensim\\models\\ldamodel.py:821: RuntimeWarning: divide by zero encountered in double_scalars\n",
      "  perwordbound = self.bound(chunk, subsample_ratio=subsample_ratio) / (subsample_ratio * corpus_words)\n"
     ]
    }
   ],
   "source": [
    "lda = ldamodel.LdaModel(corpus=corpus, id2word=dictionary, num_topics=3,\n",
    "                        alpha='auto', eta='auto', iterations = 200, passes = 3)"
   ]
  },
  {
   "cell_type": "code",
   "execution_count": 46,
   "metadata": {},
   "outputs": [
    {
     "data": {
      "text/plain": [
       "[(0,\n",
       "  '0.017*\"банка\" + 0.014*\"банк\" + 0.013*\"карта\" + 0.008*\"год\" + 0.008*\"вклад\" + 0.007*\"кредит\" + 0.006*\"деньга\" + 0.006*\"сумма\" + 0.006*\"который\" + 0.006*\"клиент\"'),\n",
       " (1,\n",
       "  '0.013*\"банка\" + 0.008*\"карта\" + 0.007*\"номер\" + 0.006*\"мой\" + 0.006*\"сотрудник\" + 0.006*\"телефон\" + 0.006*\"банк\" + 0.006*\"звонок\" + 0.006*\"год\" + 0.005*\"который\"'),\n",
       " (2,\n",
       "  '0.001*\"кредит\" + 0.001*\"салон\" + 0.001*\"досрочный\" + 0.001*\"банка\" + 0.001*\"заявление\" + 0.000*\"банк\" + 0.000*\"р\" + 0.000*\"год\" + 0.000*\"страховка\" + 0.000*\"погашение\"')]"
      ]
     },
     "execution_count": 46,
     "metadata": {},
     "output_type": "execute_result"
    }
   ],
   "source": [
    "lda.show_topics(15)"
   ]
  },
  {
   "cell_type": "code",
   "execution_count": 47,
   "metadata": {},
   "outputs": [
    {
     "name": "stderr",
     "output_type": "stream",
     "text": [
      "C:\\Users\\Arsenii\\Anaconda3\\lib\\site-packages\\pyLDAvis\\_prepare.py:257: FutureWarning: Sorting because non-concatenation axis is not aligned. A future version\n",
      "of pandas will change to not sort by default.\n",
      "\n",
      "To accept the future behavior, pass 'sort=False'.\n",
      "\n",
      "To retain the current behavior and silence the warning, pass 'sort=True'.\n",
      "\n",
      "  return pd.concat([default_term_info] + list(topic_dfs))\n"
     ]
    },
    {
     "data": {
      "text/html": [
       "\n",
       "<link rel=\"stylesheet\" type=\"text/css\" href=\"https://cdn.rawgit.com/bmabey/pyLDAvis/files/ldavis.v1.0.0.css\">\n",
       "\n",
       "\n",
       "<div id=\"ldavis_el136824869227624249054798046\"></div>\n",
       "<script type=\"text/javascript\">\n",
       "\n",
       "var ldavis_el136824869227624249054798046_data = {\"mdsDat\": {\"x\": [-0.0943817388600709, -0.018809643779337814, 0.11319138263940867], \"y\": [-0.0, -0.0, -0.0], \"topics\": [1, 2, 3], \"cluster\": [1, 1, 1], \"Freq\": [82.39335632324219, 17.38978385925293, 0.21684856712818146]}, \"tinfo\": {\"Category\": [\"Default\", \"Default\", \"Default\", \"Default\", \"Default\", \"Default\", \"Default\", \"Default\", \"Default\", \"Default\", \"Default\", \"Default\", \"Default\", \"Default\", \"Default\", \"Default\", \"Default\", \"Default\", \"Default\", \"Default\", \"Default\", \"Default\", \"Default\", \"Default\", \"Default\", \"Default\", \"Default\", \"Default\", \"Default\", \"Default\", \"Topic1\", \"Topic1\", \"Topic1\", \"Topic1\", \"Topic1\", \"Topic1\", \"Topic1\", \"Topic1\", \"Topic1\", \"Topic1\", \"Topic1\", \"Topic1\", \"Topic1\", \"Topic1\", \"Topic1\", \"Topic1\", \"Topic1\", \"Topic1\", \"Topic1\", \"Topic1\", \"Topic1\", \"Topic1\", \"Topic1\", \"Topic1\", \"Topic1\", \"Topic1\", \"Topic1\", \"Topic1\", \"Topic1\", \"Topic1\", \"Topic1\", \"Topic1\", \"Topic1\", \"Topic1\", \"Topic1\", \"Topic1\", \"Topic1\", \"Topic1\", \"Topic1\", \"Topic1\", \"Topic1\", \"Topic1\", \"Topic1\", \"Topic1\", \"Topic1\", \"Topic1\", \"Topic1\", \"Topic1\", \"Topic1\", \"Topic1\", \"Topic1\", \"Topic1\", \"Topic1\", \"Topic1\", \"Topic1\", \"Topic1\", \"Topic1\", \"Topic1\", \"Topic1\", \"Topic1\", \"Topic1\", \"Topic1\", \"Topic1\", \"Topic1\", \"Topic2\", \"Topic2\", \"Topic2\", \"Topic2\", \"Topic2\", \"Topic2\", \"Topic2\", \"Topic2\", \"Topic2\", \"Topic2\", \"Topic2\", \"Topic2\", \"Topic2\", \"Topic2\", \"Topic2\", \"Topic2\", \"Topic2\", \"Topic2\", \"Topic2\", \"Topic2\", \"Topic2\", \"Topic2\", \"Topic2\", \"Topic2\", \"Topic2\", \"Topic2\", \"Topic2\", \"Topic2\", \"Topic2\", \"Topic2\", \"Topic2\", \"Topic2\", \"Topic2\", \"Topic2\", \"Topic2\", \"Topic2\", \"Topic2\", \"Topic2\", \"Topic2\", \"Topic2\", \"Topic2\", \"Topic2\", \"Topic2\", \"Topic2\", \"Topic2\", \"Topic2\", \"Topic2\", \"Topic2\", \"Topic2\", \"Topic2\", \"Topic2\", \"Topic2\", \"Topic2\", \"Topic2\", \"Topic2\", \"Topic2\", \"Topic2\", \"Topic2\", \"Topic2\", \"Topic2\", \"Topic2\", \"Topic2\", \"Topic2\", \"Topic2\", \"Topic2\", \"Topic2\", \"Topic2\", \"Topic2\", \"Topic2\", \"Topic2\", \"Topic2\", \"Topic2\", \"Topic2\", \"Topic2\", \"Topic2\", \"Topic2\", \"Topic2\", \"Topic2\", \"Topic2\", \"Topic2\", \"Topic2\", \"Topic2\", \"Topic3\", \"Topic3\", \"Topic3\", \"Topic3\", \"Topic3\", \"Topic3\", \"Topic3\", \"Topic3\", \"Topic3\", \"Topic3\", \"Topic3\", \"Topic3\", \"Topic3\", \"Topic3\", \"Topic3\", \"Topic3\", \"Topic3\", \"Topic3\", \"Topic3\", \"Topic3\", \"Topic3\", \"Topic3\", \"Topic3\", \"Topic3\", \"Topic3\", \"Topic3\", \"Topic3\", \"Topic3\", \"Topic3\", \"Topic3\", \"Topic3\", \"Topic3\", \"Topic3\", \"Topic3\", \"Topic3\", \"Topic3\", \"Topic3\", \"Topic3\", \"Topic3\", \"Topic3\", \"Topic3\", \"Topic3\", \"Topic3\", \"Topic3\", \"Topic3\", \"Topic3\", \"Topic3\", \"Topic3\", \"Topic3\", \"Topic3\", \"Topic3\", \"Topic3\", \"Topic3\", \"Topic3\", \"Topic3\", \"Topic3\", \"Topic3\", \"Topic3\", \"Topic3\", \"Topic3\", \"Topic3\", \"Topic3\", \"Topic3\", \"Topic3\", \"Topic3\", \"Topic3\", \"Topic3\"], \"Freq\": [1914.0, 762.0, 248.0, 532.0, 686.0, 253.0, 232.0, 363.0, 640.0, 682.0, 867.0, 445.0, 1500.0, 402.0, 263.0, 65.0, 481.0, 168.0, 192.0, 701.0, 1467.0, 263.0, 254.0, 158.0, 267.0, 229.0, 132.0, 122.0, 636.0, 228.0, 242.68165588378906, 185.04127502441406, 126.19418334960938, 167.20114135742188, 111.86251831054688, 750.5724487304688, 69.74348449707031, 314.54022216796875, 75.87420654296875, 64.22410583496094, 79.83622741699219, 90.64196014404297, 97.74042510986328, 83.28570556640625, 80.56927490234375, 74.93270111083984, 52.57582092285156, 201.95164489746094, 66.00009155273438, 63.28696823120117, 50.14260482788086, 49.717735290527344, 63.13232421875, 45.202720642089844, 45.863765716552734, 80.42935943603516, 31.647789001464844, 32.41774368286133, 261.861572265625, 36.76069259643555, 578.6025390625, 472.3959045410156, 114.87107849121094, 332.66082763671875, 365.99639892578125, 193.18946838378906, 1348.1810302734375, 486.9833679199219, 415.4205017089844, 315.7749328613281, 1332.8193359375, 467.9466857910156, 237.892822265625, 312.733154296875, 1650.0115966796875, 307.6288146972656, 675.0978393554688, 140.6175537109375, 431.3116455078125, 750.72119140625, 336.88238525390625, 614.3945922851562, 559.790771484375, 294.4617614746094, 318.6496276855469, 568.8858642578125, 536.645263671875, 359.8268737792969, 551.3173828125, 397.1741943359375, 343.1816101074219, 403.863037109375, 309.4844665527344, 348.70367431640625, 17.49658966064453, 11.750246047973633, 8.264185905456543, 13.058500289916992, 8.647123336791992, 7.814568519592285, 7.411564350128174, 8.98736572265625, 6.8979620933532715, 16.23897361755371, 6.021853923797607, 5.925754547119141, 6.681550025939941, 11.838274955749512, 6.529548168182373, 4.296180725097656, 4.645759582519531, 4.280228137969971, 4.266694068908691, 7.187770843505859, 4.255849838256836, 4.244565010070801, 3.884934902191162, 3.8847618103027344, 3.884018898010254, 9.319144248962402, 3.868675470352173, 3.8211147785186768, 3.4442954063415527, 3.4437456130981445, 11.561593055725098, 11.8107271194458, 14.47377872467041, 142.369140625, 26.713499069213867, 19.41516876220703, 116.93816375732422, 10.265621185302734, 8.290535926818848, 119.20027160644531, 10.232316017150879, 21.370420455932617, 34.33047103881836, 23.210134506225586, 37.856407165527344, 23.546375274658203, 15.127066612243652, 16.1871337890625, 14.975354194641113, 18.301572799682617, 79.22345733642578, 128.47561645507812, 97.52034759521484, 32.150028228759766, 135.5847930908203, 57.32114028930664, 263.9891662597656, 96.31336212158203, 22.7380313873291, 114.0471420288086, 104.22627258300781, 40.33287048339844, 167.41477966308594, 84.21834564208984, 116.55353546142578, 35.33033752441406, 57.21333312988281, 55.591400146484375, 51.71485137939453, 87.39618682861328, 54.23307418823242, 119.11227416992188, 86.63507080078125, 77.15902709960938, 44.36483383178711, 59.535770416259766, 47.055137634277344, 50.691123962402344, 52.06303024291992, 49.817222595214844, 44.806861877441406, 49.52600860595703, 0.08355762809515, 0.0692862942814827, 0.06788600236177444, 0.06557133793830872, 0.06047806143760681, 0.05403522402048111, 0.05319066345691681, 0.05254989117383957, 0.05382443591952324, 0.04982283338904381, 0.19894804060459137, 0.0485239215195179, 0.04677221551537514, 0.040815506130456924, 0.04081546515226364, 0.04081546142697334, 0.04081544280052185, 0.04081541672348976, 0.040815409272909164, 0.04081537574529648, 0.040422916412353516, 0.04042290523648262, 0.04042290151119232, 0.04042289778590202, 0.04042288661003113, 0.040422871708869934, 0.040422867983579636, 0.04042286425828934, 0.04042285308241844, 0.03997284919023514, 0.03997284546494484, 0.051252640783786774, 0.08469901233911514, 0.05036389082670212, 0.04951620474457741, 0.0632687360048294, 0.17574289441108704, 0.04868350550532341, 0.04467643052339554, 0.04954792559146881, 0.3667793571949005, 0.05927886441349983, 0.08854733407497406, 0.068646140396595, 0.050533220171928406, 0.057771775871515274, 0.05304422602057457, 0.06058593466877937, 0.07360673695802689, 0.12158877402544022, 0.14530067145824432, 0.10499001294374466, 0.06956825405359268, 0.10530655086040497, 0.06541498750448227, 0.15149101614952087, 0.1217760294675827, 0.10372839868068695, 0.10655920952558517, 0.10094095021486282, 0.07416995614767075, 0.07125893980264664, 0.07421907037496567, 0.06613286584615707, 0.06666506826877594, 0.06891799718141556, 0.06516541540622711], \"Term\": [\"\\u0431\\u0430\\u043d\\u043a\\u0430\", \"\\u043a\\u0440\\u0435\\u0434\\u0438\\u0442\", \"\\u043d\\u043e\\u043c\\u0435\\u0440\", \"\\u0441\\u043e\\u0442\\u0440\\u0443\\u0434\\u043d\\u0438\\u043a\", \"\\u043c\\u043e\\u0439\", \"\\u0442\\u0435\\u043b\\u0435\\u0444\\u043e\\u043d\", \"\\u0437\\u0432\\u043e\\u043d\\u043e\\u043a\", \"\\u0432\\u0430\\u0448\", \"\\u0434\\u0435\\u043d\\u044c\", \"\\u043a\\u043e\\u0442\\u043e\\u0440\\u044b\\u0439\", \"\\u0433\\u043e\\u0434\", \"\\u0434\\u0430\\u0442\\u044c\", \"\\u043a\\u0430\\u0440\\u0442\\u0430\", \"\\u0437\\u0430\\u044f\\u0432\\u043b\\u0435\\u043d\\u0438\\u0435\", \"\\u0437\\u0432\\u043e\\u043d\\u0438\\u0442\\u044c\", \"\\u0434\\u043e\\u0441\\u0440\\u043e\\u0447\\u043d\\u044b\\u0439\", \"\\u0441\\u0432\\u043e\\u0439\", \"\\u0441\\u0442\\u0440\\u0430\\u0445\\u043e\\u0432\\u043a\\u0430\", \"\\u0447\\u0435\\u043b\\u043e\\u0432\\u0435\\u043a\", \"\\u0434\\u0435\\u043d\\u044c\\u0433\\u0430\", \"\\u0431\\u0430\\u043d\\u043a\", \"\\u0431\\u044b\\u0442\\u044c\", \"\\u0441\\u0431\\u0435\\u0440\\u0431\\u0430\\u043d\\u043a\", \"\\u0440\", \"\\u043f\\u0440\\u043e\\u0431\\u043b\\u0435\\u043c\\u0430\", \"\\u043f\\u0440\\u043e\\u0441\\u0438\\u0442\\u044c\", \"\\u043d\\u0430\\u0448\", \"\\u043f\\u043e\\u0433\\u0430\\u0448\\u0435\\u043d\\u0438\\u0435\", \"\\u043a\\u043b\\u0438\\u0435\\u043d\\u0442\", \"\\u044f\\u0432\\u043b\\u044f\\u0442\\u044c\\u0441\\u044f\", \"\\u0441\\u0442\\u0430\\u0432\\u043a\\u0430\", \"\\u043f\\u043e\\u043f\\u043e\\u043b\\u043d\\u0435\\u043d\\u0438\\u0435\", \"\\u0441\\u0442\\u0440\\u0430\\u0445\\u043e\\u0432\\u0430\\u043d\\u0438\\u0435\", \"\\u0441\\u0442\\u0440\\u0430\\u0445\\u043e\\u0432\\u043a\\u0430\", \"\\u043b\\u0438\\u043c\\u0438\\u0442\", \"\\u0432\\u043a\\u043b\\u0430\\u0434\", \"\\u043f\\u043e\\u043f\\u043e\\u043b\\u043d\\u044f\\u0442\\u044c\", \"\\u0443\\u0441\\u043b\\u043e\\u0432\\u0438\\u0435\", \"\\u043f\\u0440\\u043e\\u0446\\u0435\\u043d\\u0442\\u043d\\u044b\\u0439\", \"\\u0434\\u043e\\u0441\\u0440\\u043e\\u0447\\u043d\\u044b\\u0439\", \"\\u043e\\u0442\\u043a\\u0440\\u044b\\u0442\\u0438\\u0435\", \"\\u0434\\u0435\\u043f\\u043e\\u0437\\u0438\\u0442\", \"\\u0438\\u0437\\u043c\\u0435\\u043d\\u0435\\u043d\\u0438\\u0435\", \"\\u0432\\u043a\\u043b\\u0430\\u0434\\u0447\\u0438\\u043a\", \"\\u0442\\u0430\\u0440\\u0438\\u0444\", \"\\u0435\\u0436\\u0435\\u043c\\u0435\\u0441\\u044f\\u0447\\u043d\\u044b\\u0439\", \"\\u043f\\u043e\\u043f\\u043e\\u043b\\u043d\\u0438\\u0442\\u044c\", \"\\u043a\\u043e\\u043c\\u0438\\u0441\\u0441\\u0438\\u044f\", \"\\u043f\\u0440\\u043e\\u0433\\u0440\\u0430\\u043c\\u043c\\u0430\", \"\\u0442\\u0435\\u043a\\u0443\\u0449\\u0438\\u0439\", \"\\u0433\\u0440\\u0430\\u0444\\u0438\\u043a\", \"\\u0434\\u0435\\u043a\\u0430\\u0431\\u0440\\u044c\", \"\\u043e\\u0434\\u043d\\u043e\\u0441\\u0442\\u043e\\u0440\\u043e\\u043d\\u043d\\u0438\\u0439\", \"\\u0438\\u044e\\u043b\\u044c\", \"\\u043c\\u0438\\u043d\\u0438\\u043c\\u0430\\u043b\\u044c\\u043d\\u044b\\u0439\", \"\\u0433\\u043e\\u0434\\u043e\\u0432\\u043e\\u0439\", \"\\u043a\\u0430\\u0442\\u0435\\u0433\\u043e\\u0440\\u0438\\u044f\", \"\\u0438\\u0431\", \"\\u043f\\u0440\\u043e\\u0446\\u0435\\u043d\\u0442\", \"\\u043d\\u0430\\u043b\\u0438\\u0447\\u0438\\u0435\", \"\\u0441\\u0443\\u043c\\u043c\\u0430\", \"\\u0434\\u043e\\u0433\\u043e\\u0432\\u043e\\u0440\", \"\\u043e\\u0442\\u043a\\u0430\\u0437\", \"\\u043c\\u0430\\u0439\", \"\\u043f\\u043b\\u0430\\u0442\\u0451\\u0436\", \"\\u043e\\u0431\\u0441\\u043b\\u0443\\u0436\\u0438\\u0432\\u0430\\u043d\\u0438\\u0435\", \"\\u0431\\u0430\\u043d\\u043a\", \"\\u0441\\u0447\\u0451\\u0442\", \"\\u043a\\u0440\\u0435\\u0434\\u0438\\u0442\\u043d\\u044b\\u0439\", \"\\u043c\\u0435\\u0441\\u044f\\u0446\", \"\\u043a\\u0430\\u0440\\u0442\\u0430\", \"\\u0440\\u0443\\u0431\\u043b\\u044c\", \"\\u0441\\u0440\\u043e\\u043a\", \"\\u0441\\u0440\\u0435\\u0434\\u0441\\u0442\\u0432\\u043e\", \"\\u0431\\u0430\\u043d\\u043a\\u0430\", \"\\u043e\\u0442\\u0432\\u0435\\u0442\", \"\\u043a\\u0440\\u0435\\u0434\\u0438\\u0442\", \"\\u0442\\u044b\\u0441\\u044f\\u0447\\u0430\", \"\\u043e\\u0442\\u0434\\u0435\\u043b\\u0435\\u043d\\u0438\\u0435\", \"\\u0433\\u043e\\u0434\", \"\\u043f\\u043e\\u043b\\u0443\\u0447\\u0438\\u0442\\u044c\", \"\\u0434\\u0435\\u043d\\u044c\\u0433\\u0430\", \"\\u043a\\u043b\\u0438\\u0435\\u043d\\u0442\", \"\\u043e\\u0444\\u0438\\u0441\", \"\\u0432\\u043e\\u043f\\u0440\\u043e\\u0441\", \"\\u043a\\u043e\\u0442\\u043e\\u0440\\u044b\\u0439\", \"\\u0434\\u0435\\u043d\\u044c\", \"\\u0441\\u043a\\u0430\\u0437\\u0430\\u0442\\u044c\", \"\\u043c\\u043e\\u0439\", \"\\u0441\\u0432\\u043e\\u0439\", \"\\u0437\\u0430\\u044f\\u0432\\u043b\\u0435\\u043d\\u0438\\u0435\", \"\\u0441\\u043e\\u0442\\u0440\\u0443\\u0434\\u043d\\u0438\\u043a\", \"\\u0442\\u0430\\u043a\\u043e\\u0439\", \"\\u0434\\u0430\\u0442\\u044c\", \"\\u0443\\u0434\\u0430\\u043b\\u0438\\u0442\\u044c\", \"\\u0444\\u0430\\u0439\\u043b\", \"\\u0440\\u043e\\u0441\\u043a\\u043e\\u043c\\u043d\\u0430\\u0434\\u0437\\u043e\\u0440\", \"\\u0434\\u043e\\u043c\\u0430\\u0448\\u043d\\u0438\\u0439\", \"\\u0441\\u043e\\u0442\\u043e\\u0432\\u044b\\u0439\", \"\\u043b\\u044e\\u0442\\u044b\\u0439\", \"\\u0440\\u0443\\u0431\\u043b\\u0451\\u0432\", \"\\u043f\\u0440\\u0435\\u043a\\u0440\\u0430\\u0442\\u0438\\u0442\\u044c\\u0441\\u044f\", \"\\u0431\\u0435\\u0441\\u043f\\u043e\\u043a\\u043e\\u0438\\u0442\\u044c\", \"\\u043a\\u043e\\u043d\\u0442\\u0430\\u043a\\u0442\", \"\\u043c\\u0438\\u043a\\u0440\\u043e\\u0440\\u0430\\u0439\\u043e\\u043d\", \"\\u0441\\u043f\\u0435\\u0446\\u043f\\u0440\\u0435\\u0434\\u043b\\u043e\\u0436\\u0435\\u043d\\u0438\\u0435\", \"\\u043c\\u0435\\u0433\\u0430\\u0444\\u043e\\u043d\", \"\\u0430\\u0432\\u0442\\u043e\\u043c\\u043e\\u0431\\u0438\\u043b\\u044c\", \"\\u043e\\u0431\\u0437\\u0432\\u043e\\u043d\", \"\\u043f\\u043e\\u0442\\u0435\\u0440\\u043f\\u0435\\u0432\\u0448\\u0438\\u0439\", \"\\u043b\\u0435\\u043d\\u0438\\u043d\", \"\\u043d\\u0430\\u0437\\u043e\\u0439\\u043b\\u0438\\u0432\\u044b\\u0439\", \"\\u043f\\u043b\\u043e\\u0449\\u0430\\u0434\\u044c\", \"\\u0440\\u0430\\u0441\\u0441\\u043b\\u0435\\u0434\\u043e\\u0432\\u0430\\u043d\\u0438\\u0435\", \"\\u043a\\u0430\\u043f\\u043b\\u0430\\u043d\\u043e\\u0432\\u043e\", \"\\u0432\\u0438\\u043a\\u0442\\u043e\\u0440\", \"\\u043d\\u0430\\u0442\\u0430\\u0448\\u0430\", \"\\u0441\\u0435\\u0432\\u0430\\u0441\\u0442\\u043e\\u043f\\u043e\\u043b\\u044c\", \"\\u0441\\u043e\\u0437\\u0430\\u0451\\u043c\\u0449\\u0438\\u043a\", \"\\u0443\\u0433\\u043e\\u043b\\u043e\\u0432\\u043d\\u044b\\u0439\", \"\\u044e\\u0430\\u043e\", \"\\u0442\\u0435\\u0440\\u0440\\u043e\\u0440\\u0438\\u0437\\u043c\", \"\\u0446\\u0430\\u0440\\u0438\\u0446\\u044b\\u043d\\u0441\\u043a\\u0438\\u0439\", \"\\u043b\\u0438\\u043b\\u0438\\u044f\", \"\\u043f\\u0440\\u043e\\u0434\\u043e\\u043b\\u0436\\u0430\\u0442\\u044c\\u0441\\u044f\", \"\\u043f\\u043e\\u0440\\u0443\\u0447\\u0438\\u0442\\u0435\\u043b\\u044c\", \"\\u0430\\u043b\\u0435\\u043a\\u0441\\u0430\\u043d\\u0434\\u0440\", \"\\u043d\\u043e\\u043c\\u0435\\u0440\", \"\\u043c\\u0443\\u0436\", \"\\u043f\\u0440\\u0435\\u043a\\u0440\\u0430\\u0442\\u0438\\u0442\\u044c\", \"\\u0437\\u0432\\u043e\\u043d\\u043e\\u043a\", \"\\u0441\\u0435\\u0440\\u0433\\u0435\\u0439\", \"\\u0431\\u044b\\u0432\\u0448\\u0438\\u0439\", \"\\u0442\\u0435\\u043b\\u0435\\u0444\\u043e\\u043d\", \"\\u043e\\u0442\\u043f\", \"\\u043f\\u0440\\u043e\\u043a\\u0443\\u0440\\u0430\\u0442\\u0443\\u0440\\u0430\", \"\\u043c\\u044b\", \"\\u0431\\u0430\\u0437\\u0430\", \"\\u0430\\u0434\\u0440\\u0435\\u0441\", \"\\u0441\\u043e\\u0433\\u043b\\u0430\\u0441\\u0438\\u0435\", \"\\u043e\\u0431\\u0440\\u0430\\u0431\\u043e\\u0442\\u043a\\u0430\", \"\\u043a\\u043e\\u043d\\u0442\\u0430\\u043a\\u0442\\u043d\\u044b\\u0439\", \"\\u043c\\u043e\\u0448\\u0435\\u043d\\u043d\\u0438\\u043a\", \"\\u0442\\u0435\\u043b\\u0435\\u0444\\u043e\\u043d\\u043d\\u044b\\u0439\", \"\\u0437\\u0432\\u043e\\u043d\\u0438\\u0442\\u044c\", \"\\u0441\\u043e\\u0442\\u0440\\u0443\\u0434\\u043d\\u0438\\u043a\", \"\\u0432\\u0430\\u0448\", \"\\u0442\\u0440\\u0435\\u0431\\u043e\\u0432\\u0430\\u0442\\u044c\", \"\\u043c\\u043e\\u0439\", \"\\u0447\\u0435\\u043b\\u043e\\u0432\\u0435\\u043a\", \"\\u0431\\u0430\\u043d\\u043a\\u0430\", \"\\u0434\\u0430\\u0442\\u044c\", \"\\u043f\\u043e\\u0441\\u0442\\u0443\\u043f\\u0430\\u0442\\u044c\", \"\\u043a\\u043e\\u0442\\u043e\\u0440\\u044b\\u0439\", \"\\u0434\\u0435\\u043d\\u044c\", \"\\u043d\\u0430\\u0448\", \"\\u043a\\u0430\\u0440\\u0442\\u0430\", \"\\u0441\\u0432\\u043e\\u0439\", \"\\u0433\\u043e\\u0434\", \"\\u043e\\u0442\\u043d\\u043e\\u0448\\u0435\\u043d\\u0438\\u0435\", \"\\u0431\\u044b\\u0442\\u044c\", \"\\u0441\\u0431\\u0435\\u0440\\u0431\\u0430\\u043d\\u043a\", \"\\u043f\\u0440\\u043e\\u0441\\u0438\\u0442\\u044c\", \"\\u0434\\u0435\\u043d\\u044c\\u0433\\u0430\", \"\\u043f\\u0440\\u043e\\u0431\\u043b\\u0435\\u043c\\u0430\", \"\\u0431\\u0430\\u043d\\u043a\", \"\\u043a\\u0440\\u0435\\u0434\\u0438\\u0442\", \"\\u043a\\u043b\\u0438\\u0435\\u043d\\u0442\", \"\\u0438\\u043c\\u0435\\u0442\\u044c\", \"\\u0437\\u0430\\u044f\\u0432\\u043b\\u0435\\u043d\\u0438\\u0435\", \"\\u044f\\u0432\\u043b\\u044f\\u0442\\u044c\\u0441\\u044f\", \"\\u0432\\u0440\\u0435\\u043c\\u044f\", \"\\u0441\\u043a\\u0430\\u0437\\u0430\\u0442\\u044c\", \"\\u043c\\u043e\\u0447\\u044c\", \"\\u0441\\u043c\\u0441\", \"\\u043e\\u0442\\u0434\\u0435\\u043b\\u0435\\u043d\\u0438\\u0435\", \"\\u0430\\u044f\\u0432\\u043b\\u0435\\u043d\\u0438\\u0435\", \"\\u043f\\u0435\\u0440\\u0441\\u043e\\u043d\\u0430\\u0436\", \"\\u043a\\u0430\\u0440\\u0445\\u0430\\u043d\\u0438\\u043d\", \"\\u043f\\u0435\\u0440\\u0435\\u0441\\u044b\\u043b\\u043a\\u0430\", \"\\u043d\\u0430\\u0441\\u043b\\u0435\\u0434\\u0441\\u0442\\u0432\\u043e\", \"\\u043d\\u0430\\u043b\\u0438\", \"\\u043e\\u0434\\u0438\\u043d\\u043e\\u0447\\u043a\\u0430\", \"\\u043b\\u0430\\u0439\\u0444\", \"\\u0441\\u043e\\u0431\\u0435\\u0441\\u0435\\u0434\\u043d\\u0438\\u043a\", \"\\u0430\\u0433\\u0430\\u0442\", \"\\u0441\\u0430\\u043b\\u043e\\u043d\", \"\\u043a\\u043e\\u0440\\u0440\\u0435\\u0441\\u043f\\u043e\\u043d\\u0434\\u0435\\u043d\\u0446\\u0438\\u044f\", \"\\u043d\\u0430\\u0441\\u043b\\u0435\\u0434\\u043d\\u0438\\u043a\", \"\\u043c\\u043e\\u0437\\u0433\", \"\\u043d\\u0435\\u043f\\u043e\\u0441\\u0438\\u043b\\u044c\\u043d\\u044b\\u0439\", \"\\u0440\\u0435\\u0442\\u0435\\u0439\\u043b\", \"\\u0431\\u043b\\u0430\\u0433\\u043e\\u0442\\u0432\\u043e\\u0440\\u0438\\u0442\\u0435\\u043b\\u044c\\u043d\\u044b\\u0439\", \"\\u0442\\u044b\\u043a\\u0430\\u0442\\u044c\\u0441\\u044f\", \"\\u0437\\u0430\\u0431\\u0440\\u043e\\u0441\\u0438\\u0442\\u044c\", \"\\u043c\\u044b\\u043a\\u0430\\u0442\\u044c\\u0441\\u044f\", \"\\u0443\\u0434\\u0440\\u0443\\u0447\", \"\\u0442\\u0435\\u0440\\u043f\\u0438\\u043b\\u0430\", \"\\u043e\\u0442\\u0440\\u0430\\u0436\\u0430\\u0442\\u044c\", \"\\u0430\\u043a\\u0446\\u0435\\u043f\\u0442\\u043e\\u0432\\u0430\\u0442\\u044c\", \"\\u043f\\u0440\\u0435\\u0442\\u0438\\u0442\\u044c\", \"\\u043d\\u0435\\u043a\\u0440\\u0430\\u0441\\u0438\\u0432\\u044b\\u0439\", \"\\u043e\\u0433\\u043e\\u0432\\u043e\\u0440\\u043a\\u0430\", \"\\u043d\\u0435\\u0437\\u0430\\u043a\\u043e\\u043d\\u043d\\u043e\\u0441\\u0442\\u044c\", \"\\u043e\\u0448\\u0430\\u0440\\u0430\\u0448\\u0438\\u0442\\u044c\", \"\\u0441\\u043e\\u0437\\u043d\\u0430\\u043d\\u0438\\u0435\", \"\\u043b\\u0438\\u0441\\u0438\\u0446\\u0430\", \"\\u043c\\u0430\\u0442\", \"\\u0440\\u0435\\u043d\\u0435\\u0441\\u0441\\u0430\\u043d\\u0441\", \"\\u043b\\u0438\\u043a\\u0432\\u0438\\u0434\\u0438\\u0440\\u043e\\u0432\\u0430\\u0442\\u044c\\u0441\\u044f\", \"\\u043f\\u043e\\u0436\\u0430\\u043b\\u0435\\u0442\\u044c\", \"\\u043a\\u0431\", \"\\u0434\\u043e\\u0441\\u0440\\u043e\\u0447\\u043d\\u044b\\u0439\", \"\\u043e\\u0442\\u043f\\u0430\\u0441\\u0442\\u044c\", \"\\u0440\\u0430\\u0437\\u0431\\u043b\\u043e\\u043a\\u0438\\u0440\\u043e\\u0432\\u0430\\u0442\\u044c\\u0441\\u044f\", \"\\u0431\\u044c\\u044e\\u0442\\u044f\", \"\\u043a\\u0440\\u0435\\u0434\\u0438\\u0442\", \"\\u0444\\u043e\\u043d\\u0434\", \"\\u0434\\u043e\\u0432\\u0435\\u0440\\u0435\\u043d\\u043d\\u043e\\u0441\\u0442\\u044c\", \"\\u0441\\u0442\\u0440\\u0430\\u043d\\u043d\\u044b\\u0439\", \"\\u0443\\u0434\\u0438\\u0432\\u0442\\u044c\", \"\\u0441\\u043c\\u0435\\u0440\\u0442\\u044c\", \"\\u043a\\u0443\\u043f\\u043b\\u044f\", \"\\u0435\\u0432\\u0440\\u043e\\u043f\\u0430\", \"\\u0440\\u0430\\u0441\\u0442\\u043e\\u0440\\u0433\\u043d\\u0443\\u0442\\u044c\", \"\\u0440\", \"\\u0437\\u0430\\u044f\\u0432\\u043b\\u0435\\u043d\\u0438\\u0435\", \"\\u043f\\u043e\\u0433\\u0430\\u0448\\u0435\\u043d\\u0438\\u0435\", \"\\u043a\\u0432\\u0438\\u0442\\u0430\\u043d\\u0446\\u0438\\u044f\", \"\\u0441\\u0442\\u0440\\u0430\\u0445\\u043e\\u0432\\u043a\\u0430\", \"\\u0432\\u044b\\u0441\\u043b\\u0430\\u0442\\u044c\", \"\\u0431\\u0430\\u043d\\u043a\\u0430\", \"\\u0431\\u0430\\u043d\\u043a\", \"\\u0434\\u043e\\u0433\\u043e\\u0432\\u043e\\u0440\", \"\\u0433\\u043e\\u0434\", \"\\u0434\\u0435\\u043d\\u044c\", \"\\u043e\\u0444\\u043e\\u0440\\u043c\\u0438\\u0442\\u044c\", \"\\u0434\\u043e\\u043a\\u0443\\u043c\\u0435\\u043d\\u0442\", \"\\u0441\\u0443\\u043c\\u043c\\u0430\", \"\\u0441\\u0442\\u043e\\u0440\\u043e\\u043d\\u0430\", \"\\u043d\\u0430\\u0448\", \"\\u0441\\u043e\\u0442\\u0440\\u0443\\u0434\\u043d\\u0438\\u043a\", \"\\u043e\\u0442\\u0434\\u0435\\u043b\\u0435\\u043d\\u0438\\u0435\"], \"Total\": [1914.0, 762.0, 248.0, 532.0, 686.0, 253.0, 232.0, 363.0, 640.0, 682.0, 867.0, 445.0, 1500.0, 402.0, 263.0, 65.0, 481.0, 168.0, 192.0, 701.0, 1467.0, 263.0, 254.0, 158.0, 267.0, 229.0, 132.0, 122.0, 636.0, 228.0, 244.16989135742188, 186.37437438964844, 127.16997528076172, 168.94395446777344, 113.0828628540039, 758.8380737304688, 70.7019271850586, 319.1181945800781, 77.01554870605469, 65.24969482421875, 81.32797241210938, 92.33600616455078, 99.61471557617188, 84.89057922363281, 82.14842224121094, 76.46337890625, 53.655826568603516, 206.1310272216797, 67.37123107910156, 64.64485931396484, 51.23008728027344, 50.80513381958008, 64.5596694946289, 46.262027740478516, 47.025753021240234, 82.4828109741211, 32.47908020019531, 33.30708694458008, 269.12017822265625, 37.7972297668457, 605.3030395507812, 496.23486328125, 118.95845794677734, 351.01715087890625, 387.04150390625, 201.6693115234375, 1467.4151611328125, 522.1166381835938, 444.6768798828125, 338.177734375, 1500.2799072265625, 508.5178527832031, 253.7457275390625, 337.86773681640625, 1914.1522216796875, 332.92694091796875, 762.0996704101562, 146.9583740234375, 480.9028015136719, 867.3812866210938, 370.09930419921875, 701.8493041992188, 636.9868774414062, 324.3648681640625, 355.8191833496094, 682.993896484375, 640.9724731445312, 411.94915771484375, 686.9618530273438, 481.4396667480469, 402.8626708984375, 532.4075317382812, 353.85198974609375, 445.0691833496094, 20.270984649658203, 13.629819869995117, 10.036031723022461, 15.861157417297363, 10.543364524841309, 9.626431465148926, 9.142897605895996, 11.110237121582031, 8.778730392456055, 20.741777420043945, 7.8523993492126465, 7.996251583099365, 9.019085884094238, 16.414955139160156, 9.184786796569824, 6.089085102081299, 6.62534761428833, 6.1052703857421875, 6.114258766174316, 10.303797721862793, 6.114651203155518, 6.121824741363525, 5.616247177124023, 5.616074085235596, 5.616063117980957, 13.475815773010254, 5.633375644683838, 5.6829118728637695, 5.175628185272217, 5.175067901611328, 17.524221420288086, 18.228668212890625, 22.602066040039062, 248.53302001953125, 44.544795989990234, 32.12557601928711, 232.37991333007812, 16.206375122070312, 12.827255249023438, 253.07330322265625, 16.258695602416992, 38.25733184814453, 70.4166488647461, 44.735877990722656, 82.47618103027344, 46.97700500488281, 26.675613403320312, 29.225950241088867, 26.800596237182617, 35.201332092285156, 263.2425231933594, 532.4075317382812, 363.2326354980469, 80.30479431152344, 686.9618530273438, 192.3560791015625, 1914.1522216796875, 445.0691833496094, 49.85536575317383, 682.993896484375, 640.9724731445312, 132.56398010253906, 1500.2799072265625, 481.4396667480469, 867.3812866210938, 108.3671646118164, 263.2395324707031, 254.0480194091797, 229.43063354492188, 701.8493041992188, 267.4889831542969, 1467.4151611328125, 762.0996704101562, 636.9868774414062, 195.78302001953125, 402.8626708984375, 228.89683532714844, 347.0935974121094, 411.94915771484375, 351.45062255859375, 239.98223876953125, 480.9028015136719, 2.7304418087005615, 2.674014091491699, 2.7427377700805664, 2.8969926834106445, 2.985041856765747, 2.701141834259033, 2.7247562408447266, 2.790283203125, 3.115541458129883, 2.925405740737915, 12.325311660766602, 3.0253772735595703, 2.9315807819366455, 2.5941193103790283, 2.594120740890503, 2.5941216945648193, 2.5941221714019775, 2.594122886657715, 2.5941247940063477, 2.594125270843506, 2.617861747741699, 2.6178622245788574, 2.6178627014160156, 2.617863178253174, 2.617863416671753, 2.617863893508911, 2.617863893508911, 2.6178643703460693, 2.6178646087646484, 2.6339828968048096, 2.6339828968048096, 3.55110764503479, 8.048087120056152, 3.8061132431030273, 3.878204822540283, 6.4275383949279785, 65.24969482421875, 3.947981357574463, 3.2685770988464355, 4.383173942565918, 762.0996704101562, 7.899895191192627, 26.856151580810547, 14.57529354095459, 5.262673854827881, 8.315454483032227, 6.279199600219727, 10.271084785461426, 21.443103790283203, 158.0358428955078, 402.8626708984375, 122.40457916259766, 21.096418380737305, 168.94395446777344, 16.45559310913086, 1914.1522216796875, 1467.4151611328125, 496.23486328125, 867.3812866210938, 640.9724731445312, 153.0902099609375, 270.9303894042969, 605.3030395507812, 81.26083374023438, 132.56398010253906, 532.4075317382812, 480.9028015136719], \"loglift\": [30.0, 29.0, 28.0, 27.0, 26.0, 25.0, 24.0, 23.0, 22.0, 21.0, 20.0, 19.0, 18.0, 17.0, 16.0, 15.0, 14.0, 13.0, 12.0, 11.0, 10.0, 9.0, 8.0, 7.0, 6.0, 5.0, 4.0, 3.0, 2.0, 1.0, 0.1876000016927719, 0.18649999797344208, 0.1860000044107437, 0.18330000340938568, 0.18279999494552612, 0.1826999932527542, 0.18000000715255737, 0.17919999361038208, 0.17870000004768372, 0.1777999997138977, 0.17520000040531158, 0.17509999871253967, 0.17470000684261322, 0.1746000051498413, 0.17430000007152557, 0.17339999973773956, 0.17329999804496765, 0.17319999635219574, 0.17309999465942383, 0.17239999771118164, 0.17219999432563782, 0.1720000058412552, 0.1712999939918518, 0.1704999953508377, 0.16859999299049377, 0.16850000619888306, 0.16769999265670776, 0.16660000383853912, 0.1662999987602234, 0.16590000689029694, 0.1485999971628189, 0.1444000005722046, 0.15870000422000885, 0.14000000059604645, 0.13779999315738678, 0.15070000290870667, 0.10890000313520432, 0.12399999797344208, 0.12559999525547028, 0.1251000016927719, 0.07530000060796738, 0.11050000041723251, 0.12919999659061432, 0.11640000343322754, 0.04520000144839287, 0.11460000276565552, 0.07240000367164612, 0.14959999918937683, 0.08479999750852585, 0.04919999837875366, 0.09960000216960907, 0.060600001364946365, 0.06449999660253525, 0.09690000116825104, 0.08330000191926956, 0.010900000110268593, 0.01600000075995922, 0.058400001376867294, -0.02630000002682209, 0.0013000000035390258, 0.0333000011742115, -0.08269999921321869, 0.059700001031160355, -0.0502999983727932, 1.6021000146865845, 1.6009000539779663, 1.5549999475479126, 1.554900050163269, 1.5509999990463257, 1.5407999753952026, 1.5393999814987183, 1.5371999740600586, 1.5082000494003296, 1.5046000480651855, 1.4838999509811401, 1.4495999813079834, 1.4493000507354736, 1.4223999977111816, 1.4081000089645386, 1.4005000591278076, 1.3942999839782715, 1.3940999507904053, 1.3895000219345093, 1.38919997215271, 1.3868999481201172, 1.3831000328063965, 1.3806999921798706, 1.3806999921798706, 1.3804999589920044, 1.3804999589920044, 1.3734999895095825, 1.3523999452590942, 1.3420000076293945, 1.3420000076293945, 1.333400011062622, 1.3152999877929688, 1.3035999536514282, 1.1921000480651855, 1.2380000352859497, 1.2457000017166138, 1.062600016593933, 1.2927000522613525, 1.3128000497817993, 0.996399998664856, 1.2862000465393066, 1.1670000553131104, 1.030900001525879, 1.0930999517440796, 0.9706000089645386, 1.0585999488830566, 1.1820000410079956, 1.158400058746338, 1.1672999858856201, 1.0951999425888062, 0.5485000014305115, 0.32760000228881836, 0.4343000054359436, 0.833899974822998, 0.1265999972820282, 0.5386000275611877, -0.23180000483989716, 0.21870000660419464, 0.9642000198364258, -0.0406000018119812, -0.06710000336170197, 0.5594000220298767, -0.44359999895095825, 0.005900000222027302, -0.25780001282691956, 0.6284999847412109, 0.22300000488758087, 0.2298000007867813, 0.25940001010894775, -0.33399999141693115, 0.1535000056028366, -0.761900007724762, -0.4250999987125397, -0.36160001158714294, 0.2646999955177307, -0.16269999742507935, 0.1673000007867813, -0.1746000051498413, -0.3192000091075897, -0.20440000295639038, 0.07109999656677246, -0.5238999724388123, 2.6470000743865967, 2.480600118637085, 2.434799909591675, 2.345400094985962, 2.234600067138672, 2.22189998626709, 2.197499990463257, 2.161600112915039, 2.0752999782562256, 2.061000108718872, 2.0074000358581543, 2.000999927520752, 1.9957000017166138, 1.9817999601364136, 1.9817999601364136, 1.9817999601364136, 1.9817999601364136, 1.9817999601364136, 1.9817999601364136, 1.9817999601364136, 1.9630000591278076, 1.9630000591278076, 1.9630000591278076, 1.9630000591278076, 1.9630000591278076, 1.9630000591278076, 1.9630000591278076, 1.9630000591278076, 1.9630000591278076, 1.9457000494003296, 1.9457000494003296, 1.8954999446868896, 1.5795999765396118, 1.8085999488830566, 1.7728999853134155, 1.5127999782562256, 0.2168000042438507, 1.7381000518798828, 1.8410999774932861, 1.6511000394821167, -1.5053000450134277, 1.2414000034332275, 0.4189999997615814, 0.775600016117096, 1.4880000352859497, 1.1643999814987183, 1.3598999977111816, 1.0006999969482422, 0.4593000113964081, -1.0362000465393066, -1.7937999963760376, -0.9275000095367432, 0.41920000314712524, -1.2467000484466553, 0.6061000227928162, -3.310499906539917, -3.2630999088287354, -2.3392999172210693, -2.870800018310547, -2.622499942779541, -1.4987000226974487, -2.109600067138672, -2.8726999759674072, -0.9800000190734863, -1.461400032043457, -2.81850004196167, -2.7727999687194824], \"logprob\": [30.0, 29.0, 28.0, 27.0, 26.0, 25.0, 24.0, 23.0, 22.0, 21.0, 20.0, 19.0, 18.0, 17.0, 16.0, 15.0, 14.0, 13.0, 12.0, 11.0, 10.0, 9.0, 8.0, 7.0, 6.0, 5.0, 4.0, 3.0, 2.0, 1.0, -6.009900093078613, -6.281099796295166, -6.66379976272583, -6.382400035858154, -6.78439998626709, -4.880799770355225, -7.256800174713135, -5.750500202178955, -7.172599792480469, -7.339300155639648, -7.121699810028076, -6.994699954986572, -6.919300079345703, -7.079400062561035, -7.112500190734863, -7.184999942779541, -7.539400100708008, -6.193600177764893, -7.311999797821045, -7.354000091552734, -7.5868000984191895, -7.595300197601318, -7.356400012969971, -7.690499782562256, -7.676000118255615, -7.114299774169922, -8.04699993133545, -8.022899627685547, -5.933800220489502, -7.897200107574463, -5.140999794006348, -5.343800067901611, -6.757800102233887, -5.694499969482422, -5.598999977111816, -6.23799991607666, -4.295100212097168, -5.313399791717529, -5.472300052642822, -5.746600151062012, -4.306600093841553, -5.353300094604492, -6.029799938201904, -5.75629997253418, -4.093100070953369, -5.77269983291626, -4.986800193786621, -6.555600166320801, -5.434800148010254, -4.8805999755859375, -5.6819000244140625, -5.080999851226807, -5.174099922180176, -5.816500186920166, -5.737500190734863, -5.1579999923706055, -5.216300010681152, -5.616000175476074, -5.189300060272217, -5.517300128936768, -5.663400173187256, -5.5005998611450195, -5.76669979095459, -5.64739990234375, -7.084000110626221, -7.482100009918213, -7.834099769592285, -7.3765997886657715, -7.78879976272583, -7.889999866485596, -7.942999839782715, -7.750199794769287, -8.014800071716309, -7.158599853515625, -8.15060043334961, -8.16670036315918, -8.046699523925781, -7.474699974060059, -8.069700241088867, -8.488300323486328, -8.410099983215332, -8.491999626159668, -8.495200157165527, -7.973599910736084, -8.497699737548828, -8.500399589538574, -8.588899612426758, -8.588899612426758, -8.589099884033203, -7.713900089263916, -8.593099594116211, -8.605500221252441, -8.70930004119873, -8.709400177001953, -7.498300075531006, -7.4770002365112305, -7.27370023727417, -4.987599849700928, -6.660799980163574, -6.980000019073486, -5.1844000816345215, -7.617199897766113, -7.830900192260742, -5.165200233459473, -7.620500087738037, -6.883999824523926, -6.409999847412109, -6.801400184631348, -6.31220006942749, -6.7870001792907715, -7.229499816894531, -7.161799907684326, -7.23960018157959, -7.039000034332275, -5.573699951171875, -5.0903000831604, -5.365900039672852, -6.475599765777588, -5.036399841308594, -5.897299766540527, -4.370100021362305, -5.378399848937988, -6.822000026702881, -5.209400177001953, -5.2993998527526855, -6.248799800872803, -4.825500011444092, -5.512599945068359, -5.187699794769287, -6.38129997253418, -5.899199962615967, -5.927999973297119, -6.00029993057251, -5.475599765777588, -5.952700138092041, -5.165900230407715, -5.484300136566162, -5.600100040435791, -6.153600215911865, -5.859399795532227, -6.094699859619141, -6.020299911499023, -5.993599891662598, -6.037600040435791, -6.143599987030029, -6.043499946594238, -8.043800354003906, -8.231100082397461, -8.251500129699707, -8.286199569702148, -8.366999626159668, -8.479700088500977, -8.495400428771973, -8.507599830627441, -8.483599662780762, -8.56089973449707, -7.176300048828125, -8.587300300598145, -8.62399959564209, -8.760299682617188, -8.760299682617188, -8.760299682617188, -8.760299682617188, -8.760299682617188, -8.760299682617188, -8.760299682617188, -8.76990032196045, -8.76990032196045, -8.76990032196045, -8.76990032196045, -8.76990032196045, -8.76990032196045, -8.76990032196045, -8.76990032196045, -8.76990032196045, -8.781100273132324, -8.781100273132324, -8.532600402832031, -8.030200004577637, -8.550100326538086, -8.567000389099121, -8.321900367736816, -7.300300121307373, -8.583999633789062, -8.669899940490723, -8.566399574279785, -6.564599990844727, -8.387100219726562, -7.985799789428711, -8.240400314331055, -8.546699523925781, -8.412799835205078, -8.498200416564941, -8.365300178527832, -8.170599937438965, -7.668700218200684, -7.490499973297119, -7.815499782562256, -8.22700023651123, -7.812399864196777, -8.288599967956543, -7.448800086975098, -7.667099952697754, -7.827499866485596, -7.800600051879883, -7.854800224304199, -8.163000106811523, -8.20300006866455, -8.162300109863281, -8.277700424194336, -8.269599914550781, -8.23639965057373, -8.292400360107422]}, \"token.table\": {\"Topic\": [1, 2, 1, 2, 1, 2, 1, 2, 1, 2, 1, 2, 1, 2, 1, 2, 1, 2, 1, 2, 1, 2, 1, 2, 1, 2, 1, 2, 1, 2, 1, 2, 1, 2, 1, 2, 1, 2, 1, 2, 1, 2, 1, 2, 1, 2, 1, 2, 1, 2, 1, 2, 1, 2, 1, 2, 1, 2, 1, 2, 1, 2, 1, 2, 1, 2, 1, 2, 1, 2, 1, 2, 1, 2, 1, 2, 1, 2, 1, 2, 1, 2, 1, 2, 1, 2, 1, 2, 1, 2, 1, 2, 1, 2, 1, 2, 1, 2, 1, 2, 1, 2, 1, 2, 1, 2, 1, 2, 1, 2, 1, 2, 1, 2, 1, 2, 1, 2, 1, 2, 1, 2, 1, 2, 1, 2, 1, 2, 1, 2, 1, 2, 1, 2, 1, 2, 1, 2, 1, 2, 1, 2, 1, 2, 1, 2, 1, 2, 1, 2, 1, 2, 1, 2, 1, 2, 1, 2, 1, 2, 1, 2, 1, 2, 1, 2, 1, 2, 1, 2, 1, 2, 1, 2, 1, 2, 1, 2, 1, 2, 1, 2, 1, 2, 1, 2, 1, 2, 1, 2, 1, 2, 1, 2, 1, 2, 1, 2, 1, 2, 1, 2, 1, 2, 1, 2, 1, 2, 1, 2, 1, 2, 1, 2, 1, 2, 1, 2, 1, 2, 1, 2, 1, 2, 1, 2, 1, 2, 1, 2, 1, 2, 1, 2, 1, 2, 1, 2, 1, 2, 1, 2, 1, 2, 1, 2, 1, 2, 1, 2, 1, 2, 1, 2, 1, 2, 1, 2, 1, 2, 1, 2, 1, 2, 1, 2, 1, 2, 1, 2, 1, 2, 1, 2, 1, 2, 1, 2, 1, 2, 1, 2, 1, 2, 1, 2, 1, 2, 1, 2, 1, 2, 1, 2, 1, 2, 1, 2, 1, 2, 1, 2, 1, 2, 1, 2, 1, 2, 1, 2, 1, 2, 1, 2, 1, 2, 1, 2, 1, 2, 1, 2, 1, 2, 1, 2, 1, 2, 1, 2, 1, 2, 1, 2, 1, 2, 1, 2, 1, 2, 1, 2, 1, 2, 1, 2, 1, 2, 1, 2, 1, 2, 1, 2, 1, 2, 1, 2, 1, 2, 1, 2, 1, 2, 1, 2, 1, 2], \"Freq\": [0.3046002984046936, 0.7310406565666199, 0.6836658716201782, 0.3418329358100891, 0.545612096786499, 0.4607390761375427, 0.7639818787574768, 0.3819909393787384, 0.3539499342441559, 0.6194124221801758, 0.7324821949005127, 0.36624109745025635, 0.4694218933582306, 0.5141287446022034, 0.9186220765113831, 0.08109498023986816, 0.8620004057884216, 0.1379200667142868, 0.2278233766555786, 0.7973818182945251, 0.7709736824035645, 0.3854868412017822, 0.3897950053215027, 0.6236720085144043, 0.7825572490692139, 0.21653282642364502, 0.6844355463981628, 0.22814518213272095, 0.7323130369186401, 0.2697995603084564, 0.32669997215270996, 0.6533999443054199, 0.9896709322929382, 0.010542433708906174, 0.9777292013168335, 0.02355973981320858, 0.8965227603912354, 0.10398539900779724, 0.8527958989143372, 0.14693443477153778, 0.8507745862007141, 0.12153922021389008, 0.8658245205879211, 0.13488878309726715, 0.96989905834198, 0.02424747683107853, 0.9759889841079712, 0.019519779831171036, 0.7841477394104004, 0.2156967967748642, 0.9841524958610535, 0.019683049991726875, 0.8377894759178162, 0.1622534543275833, 0.8748316764831543, 0.12395823001861572, 0.9855310320854187, 0.02166002243757248, 0.8564146161079407, 0.14894166588783264, 0.9511625170707703, 0.048364195972681046, 0.9079822897911072, 0.08858364075422287, 0.18914130330085754, 0.8196123242378235, 0.9808474779129028, 0.015325741842389107, 0.8762462735176086, 0.09736070036888123, 0.9808617234230042, 0.026156311854720116, 0.7709729075431824, 0.3854864537715912, 0.8514067530632019, 0.14893412590026855, 0.6989752054214478, 0.30010348558425903, 0.49487927556037903, 0.5034858584403992, 0.9607564806938171, 0.030023640021681786, 0.983790397644043, 0.020077355206012726, 0.771261990070343, 0.22473859786987305, 0.9727200269699097, 0.021616000682115555, 0.3270832598209381, 0.6541665196418762, 0.8885008692741394, 0.11131256073713303, 0.7291983962059021, 0.36459919810295105, 0.9852495789527893, 0.030789049342274666, 0.7779027819633484, 0.1555805504322052, 0.7584225535392761, 0.2370070517063141, 0.8791390061378479, 0.12088160961866379, 0.9799591898918152, 0.01940513215959072, 0.19284750521183014, 0.7713900208473206, 0.4448101818561554, 0.5474586486816406, 0.6610745787620544, 0.3305372893810272, 0.8330967426300049, 0.16691218316555023, 0.8857108950614929, 0.11415829509496689, 0.9332619309425354, 0.06521589308977127, 0.6370238661766052, 0.3185119330883026, 0.7167730927467346, 0.3583865463733673, 0.3018709421157837, 0.7546773552894592, 0.7882056832313538, 0.2627352178096771, 0.3864683508872986, 0.5797025561332703, 0.9904241561889648, 0.008843072690069675, 0.7593063712120056, 0.3796531856060028, 0.20776130259037018, 0.8310452103614807, 0.9486715793609619, 0.051279544830322266, 0.5632045269012451, 0.28160226345062256, 0.22175195813179016, 0.7761318683624268, 0.9344198703765869, 0.06505455076694489, 0.2546992301940918, 0.7640976905822754, 0.9781874418258667, 0.021264944225549698, 0.7709745764732361, 0.38548728823661804, 0.802082359790802, 0.19797314703464508, 0.859295666217804, 0.14226749539375305, 0.4477512240409851, 0.5596890449523926, 0.4040876030921936, 0.6061314344406128, 0.5112427473068237, 0.482840359210968, 0.7709727883338928, 0.3854863941669464, 0.3275858163833618, 0.6551716327667236, 0.7404276132583618, 0.3702138066291809, 0.9789077043533325, 0.026456965133547783, 0.68222576379776, 0.34111288189888, 0.6700073480606079, 0.33500367403030396, 0.3561096787452698, 0.7122193574905396, 0.6940045356750488, 0.3017410933971405, 0.7639815211296082, 0.3819907605648041, 0.7639816403388977, 0.38199082016944885, 0.7709741592407227, 0.38548707962036133, 0.42650267481803894, 0.5713526606559753, 0.32662707567214966, 0.7621298432350159, 0.44984906911849976, 0.5623113512992859, 0.9570122361183167, 0.03966890275478363, 0.7639816403388977, 0.38199082016944885, 0.734010636806488, 0.367005318403244, 0.9758414030075073, 0.015489546582102776, 0.9251279234886169, 0.07509154826402664, 0.8962309956550598, 0.10397111624479294, 0.9667240381240845, 0.03362518548965454, 0.9836713671684265, 0.012295892462134361, 0.6736357808113098, 0.3229760527610779, 0.3690333068370819, 0.615055501461029, 0.7598820328712463, 0.2532939910888672, 0.7639819979667664, 0.3819909989833832, 0.90638667345047, 0.09248843789100647, 0.8557046055793762, 0.14370611310005188, 0.7639814615249634, 0.3819907307624817, 0.6903710961341858, 0.3451855480670929, 0.7479392290115356, 0.3739696145057678, 0.9456350207328796, 0.054257746785879135, 0.32710424065589905, 0.6542084813117981, 0.9558466076850891, 0.0490177758038044, 0.7735537886619568, 0.2578512728214264, 0.9105664491653442, 0.08916525542736053, 0.9926257133483887, 0.005365544464439154, 0.9877771735191345, 0.01863730512559414, 0.9900720119476318, 0.014143886044621468, 0.32915186882019043, 0.6583037376403809, 0.5415666103363037, 0.4613344967365265, 0.3284565806388855, 0.656913161277771, 0.40466201305389404, 0.5914290547370911, 0.18001416325569153, 0.8100637197494507, 0.763981819152832, 0.381990909576416, 0.7962944507598877, 0.20187747478485107, 0.979646623134613, 0.014843130484223366, 0.3423832654953003, 0.6847665309906006, 0.44435927271842957, 0.54891437292099, 0.7758336067199707, 0.2266480177640915, 0.9735427498817444, 0.026010684669017792, 0.9868137240409851, 0.012984391301870346, 0.9048579931259155, 0.09491517394781113, 0.6118870377540588, 0.3059435188770294, 0.29115477204322815, 0.6793611645698547, 0.8394306898117065, 0.1865401566028595, 0.8697718977928162, 0.12425313144922256, 0.7709738612174988, 0.3854869306087494, 0.1992819458246231, 0.7971277832984924, 0.9203216433525085, 0.0806264728307724, 0.2187490314245224, 0.7656216025352478, 0.5679369568824768, 0.405669242143631, 0.779380202293396, 0.22043076157569885, 0.8246100544929504, 0.17447669804096222, 0.35612064599990845, 0.7122412919998169, 0.3702246844768524, 0.6170411109924316, 0.8738942742347717, 0.1262291669845581, 0.6012900471687317, 0.36077404022216797, 0.8125601410865784, 0.18751387298107147, 0.6419429779052734, 0.3209714889526367, 0.4896012544631958, 0.5108882784843445, 0.35612136125564575, 0.7122427225112915, 0.7593063712120056, 0.3796531856060028, 0.18969276547431946, 0.8536174297332764, 0.758817195892334, 0.24041733145713806, 0.2501171827316284, 0.75035160779953, 0.9263980388641357, 0.07399345189332962, 0.9379468560218811, 0.06305524706840515, 0.9952086806297302, 0.004095509182661772, 0.8368114829063416, 0.17228472232818604, 0.8233110308647156, 0.2058277577161789, 0.9907999038696289, 0.007863491773605347, 0.9884935021400452, 0.011838245205581188, 0.9565456509590149, 0.04460575804114342, 0.9327417612075806, 0.06703483313322067, 0.8732464909553528, 0.12434577196836472, 0.9860201478004456, 0.02434617653489113, 0.9745554327964783, 0.015469133853912354, 0.5294908285140991, 0.4702194929122925, 0.4829362630844116, 0.511344313621521, 0.7639821171760559, 0.38199105858802795, 0.35193225741386414, 0.7038645148277283, 0.5977227091789246, 0.3984818160533905, 0.7709735035896301, 0.38548675179481506, 0.9594553709030151, 0.04082788899540901, 0.296828031539917, 0.6678630709648132, 0.1479947865009308, 0.838637113571167, 0.7600699067115784, 0.1900174766778946, 0.7639822959899902, 0.3819911479949951, 0.987095057964325, 0.015668176114559174, 0.14673708379268646, 0.8804224729537964, 0.8860877156257629, 0.12658396363258362, 0.38642650842666626, 0.5796397924423218, 0.7018234133720398, 0.2963254451751709, 0.3550269305706024, 0.7100538611412048, 0.7951180338859558, 0.2053326815366745], \"Term\": [\"\\u0430\\u0432\\u0442\\u043e\\u043c\\u043e\\u0431\\u0438\\u043b\\u044c\", \"\\u0430\\u0432\\u0442\\u043e\\u043c\\u043e\\u0431\\u0438\\u043b\\u044c\", \"\\u0430\\u0433\\u0430\\u0442\", \"\\u0430\\u0433\\u0430\\u0442\", \"\\u0430\\u0434\\u0440\\u0435\\u0441\", \"\\u0430\\u0434\\u0440\\u0435\\u0441\", \"\\u0430\\u043a\\u0446\\u0435\\u043f\\u0442\\u043e\\u0432\\u0430\\u0442\\u044c\", \"\\u0430\\u043a\\u0446\\u0435\\u043f\\u0442\\u043e\\u0432\\u0430\\u0442\\u044c\", \"\\u0430\\u043b\\u0435\\u043a\\u0441\\u0430\\u043d\\u0434\\u0440\", \"\\u0430\\u043b\\u0435\\u043a\\u0441\\u0430\\u043d\\u0434\\u0440\", \"\\u0430\\u044f\\u0432\\u043b\\u0435\\u043d\\u0438\\u0435\", \"\\u0430\\u044f\\u0432\\u043b\\u0435\\u043d\\u0438\\u0435\", \"\\u0431\\u0430\\u0437\\u0430\", \"\\u0431\\u0430\\u0437\\u0430\", \"\\u0431\\u0430\\u043d\\u043a\", \"\\u0431\\u0430\\u043d\\u043a\", \"\\u0431\\u0430\\u043d\\u043a\\u0430\", \"\\u0431\\u0430\\u043d\\u043a\\u0430\", \"\\u0431\\u0435\\u0441\\u043f\\u043e\\u043a\\u043e\\u0438\\u0442\\u044c\", \"\\u0431\\u0435\\u0441\\u043f\\u043e\\u043a\\u043e\\u0438\\u0442\\u044c\", \"\\u0431\\u043b\\u0430\\u0433\\u043e\\u0442\\u0432\\u043e\\u0440\\u0438\\u0442\\u0435\\u043b\\u044c\\u043d\\u044b\\u0439\", \"\\u0431\\u043b\\u0430\\u0433\\u043e\\u0442\\u0432\\u043e\\u0440\\u0438\\u0442\\u0435\\u043b\\u044c\\u043d\\u044b\\u0439\", \"\\u0431\\u044b\\u0432\\u0448\\u0438\\u0439\", \"\\u0431\\u044b\\u0432\\u0448\\u0438\\u0439\", \"\\u0431\\u044b\\u0442\\u044c\", \"\\u0431\\u044b\\u0442\\u044c\", \"\\u0431\\u044c\\u044e\\u0442\\u044f\", \"\\u0431\\u044c\\u044e\\u0442\\u044f\", \"\\u0432\\u0430\\u0448\", \"\\u0432\\u0430\\u0448\", \"\\u0432\\u0438\\u043a\\u0442\\u043e\\u0440\", \"\\u0432\\u0438\\u043a\\u0442\\u043e\\u0440\", \"\\u0432\\u043a\\u043b\\u0430\\u0434\", \"\\u0432\\u043a\\u043b\\u0430\\u0434\", \"\\u0432\\u043a\\u043b\\u0430\\u0434\\u0447\\u0438\\u043a\", \"\\u0432\\u043a\\u043b\\u0430\\u0434\\u0447\\u0438\\u043a\", \"\\u0432\\u043e\\u043f\\u0440\\u043e\\u0441\", \"\\u0432\\u043e\\u043f\\u0440\\u043e\\u0441\", \"\\u0432\\u0440\\u0435\\u043c\\u044f\", \"\\u0432\\u0440\\u0435\\u043c\\u044f\", \"\\u0432\\u044b\\u0441\\u043b\\u0430\\u0442\\u044c\", \"\\u0432\\u044b\\u0441\\u043b\\u0430\\u0442\\u044c\", \"\\u0433\\u043e\\u0434\", \"\\u0433\\u043e\\u0434\", \"\\u0433\\u043e\\u0434\\u043e\\u0432\\u043e\\u0439\", \"\\u0433\\u043e\\u0434\\u043e\\u0432\\u043e\\u0439\", \"\\u0433\\u0440\\u0430\\u0444\\u0438\\u043a\", \"\\u0433\\u0440\\u0430\\u0444\\u0438\\u043a\", \"\\u0434\\u0430\\u0442\\u044c\", \"\\u0434\\u0430\\u0442\\u044c\", \"\\u0434\\u0435\\u043a\\u0430\\u0431\\u0440\\u044c\", \"\\u0434\\u0435\\u043a\\u0430\\u0431\\u0440\\u044c\", \"\\u0434\\u0435\\u043d\\u044c\", \"\\u0434\\u0435\\u043d\\u044c\", \"\\u0434\\u0435\\u043d\\u044c\\u0433\\u0430\", \"\\u0434\\u0435\\u043d\\u044c\\u0433\\u0430\", \"\\u0434\\u0435\\u043f\\u043e\\u0437\\u0438\\u0442\", \"\\u0434\\u0435\\u043f\\u043e\\u0437\\u0438\\u0442\", \"\\u0434\\u043e\\u0432\\u0435\\u0440\\u0435\\u043d\\u043d\\u043e\\u0441\\u0442\\u044c\", \"\\u0434\\u043e\\u0432\\u0435\\u0440\\u0435\\u043d\\u043d\\u043e\\u0441\\u0442\\u044c\", \"\\u0434\\u043e\\u0433\\u043e\\u0432\\u043e\\u0440\", \"\\u0434\\u043e\\u0433\\u043e\\u0432\\u043e\\u0440\", \"\\u0434\\u043e\\u043a\\u0443\\u043c\\u0435\\u043d\\u0442\", \"\\u0434\\u043e\\u043a\\u0443\\u043c\\u0435\\u043d\\u0442\", \"\\u0434\\u043e\\u043c\\u0430\\u0448\\u043d\\u0438\\u0439\", \"\\u0434\\u043e\\u043c\\u0430\\u0448\\u043d\\u0438\\u0439\", \"\\u0434\\u043e\\u0441\\u0440\\u043e\\u0447\\u043d\\u044b\\u0439\", \"\\u0434\\u043e\\u0441\\u0440\\u043e\\u0447\\u043d\\u044b\\u0439\", \"\\u0435\\u0432\\u0440\\u043e\\u043f\\u0430\", \"\\u0435\\u0432\\u0440\\u043e\\u043f\\u0430\", \"\\u0435\\u0436\\u0435\\u043c\\u0435\\u0441\\u044f\\u0447\\u043d\\u044b\\u0439\", \"\\u0435\\u0436\\u0435\\u043c\\u0435\\u0441\\u044f\\u0447\\u043d\\u044b\\u0439\", \"\\u0437\\u0430\\u0431\\u0440\\u043e\\u0441\\u0438\\u0442\\u044c\", \"\\u0437\\u0430\\u0431\\u0440\\u043e\\u0441\\u0438\\u0442\\u044c\", \"\\u0437\\u0430\\u044f\\u0432\\u043b\\u0435\\u043d\\u0438\\u0435\", \"\\u0437\\u0430\\u044f\\u0432\\u043b\\u0435\\u043d\\u0438\\u0435\", \"\\u0437\\u0432\\u043e\\u043d\\u0438\\u0442\\u044c\", \"\\u0437\\u0432\\u043e\\u043d\\u0438\\u0442\\u044c\", \"\\u0437\\u0432\\u043e\\u043d\\u043e\\u043a\", \"\\u0437\\u0432\\u043e\\u043d\\u043e\\u043a\", \"\\u0438\\u0431\", \"\\u0438\\u0431\", \"\\u0438\\u0437\\u043c\\u0435\\u043d\\u0435\\u043d\\u0438\\u0435\", \"\\u0438\\u0437\\u043c\\u0435\\u043d\\u0435\\u043d\\u0438\\u0435\", \"\\u0438\\u043c\\u0435\\u0442\\u044c\", \"\\u0438\\u043c\\u0435\\u0442\\u044c\", \"\\u0438\\u044e\\u043b\\u044c\", \"\\u0438\\u044e\\u043b\\u044c\", \"\\u043a\\u0430\\u043f\\u043b\\u0430\\u043d\\u043e\\u0432\\u043e\", \"\\u043a\\u0430\\u043f\\u043b\\u0430\\u043d\\u043e\\u0432\\u043e\", \"\\u043a\\u0430\\u0440\\u0442\\u0430\", \"\\u043a\\u0430\\u0440\\u0442\\u0430\", \"\\u043a\\u0430\\u0440\\u0445\\u0430\\u043d\\u0438\\u043d\", \"\\u043a\\u0430\\u0440\\u0445\\u0430\\u043d\\u0438\\u043d\", \"\\u043a\\u0430\\u0442\\u0435\\u0433\\u043e\\u0440\\u0438\\u044f\", \"\\u043a\\u0430\\u0442\\u0435\\u0433\\u043e\\u0440\\u0438\\u044f\", \"\\u043a\\u0431\", \"\\u043a\\u0431\", \"\\u043a\\u0432\\u0438\\u0442\\u0430\\u043d\\u0446\\u0438\\u044f\", \"\\u043a\\u0432\\u0438\\u0442\\u0430\\u043d\\u0446\\u0438\\u044f\", \"\\u043a\\u043b\\u0438\\u0435\\u043d\\u0442\", \"\\u043a\\u043b\\u0438\\u0435\\u043d\\u0442\", \"\\u043a\\u043e\\u043c\\u0438\\u0441\\u0441\\u0438\\u044f\", \"\\u043a\\u043e\\u043c\\u0438\\u0441\\u0441\\u0438\\u044f\", \"\\u043a\\u043e\\u043d\\u0442\\u0430\\u043a\\u0442\", \"\\u043a\\u043e\\u043d\\u0442\\u0430\\u043a\\u0442\", \"\\u043a\\u043e\\u043d\\u0442\\u0430\\u043a\\u0442\\u043d\\u044b\\u0439\", \"\\u043a\\u043e\\u043d\\u0442\\u0430\\u043a\\u0442\\u043d\\u044b\\u0439\", \"\\u043a\\u043e\\u0440\\u0440\\u0435\\u0441\\u043f\\u043e\\u043d\\u0434\\u0435\\u043d\\u0446\\u0438\\u044f\", \"\\u043a\\u043e\\u0440\\u0440\\u0435\\u0441\\u043f\\u043e\\u043d\\u0434\\u0435\\u043d\\u0446\\u0438\\u044f\", \"\\u043a\\u043e\\u0442\\u043e\\u0440\\u044b\\u0439\", \"\\u043a\\u043e\\u0442\\u043e\\u0440\\u044b\\u0439\", \"\\u043a\\u0440\\u0435\\u0434\\u0438\\u0442\", \"\\u043a\\u0440\\u0435\\u0434\\u0438\\u0442\", \"\\u043a\\u0440\\u0435\\u0434\\u0438\\u0442\\u043d\\u044b\\u0439\", \"\\u043a\\u0440\\u0435\\u0434\\u0438\\u0442\\u043d\\u044b\\u0439\", \"\\u043a\\u0443\\u043f\\u043b\\u044f\", \"\\u043a\\u0443\\u043f\\u043b\\u044f\", \"\\u043b\\u0430\\u0439\\u0444\", \"\\u043b\\u0430\\u0439\\u0444\", \"\\u043b\\u0435\\u043d\\u0438\\u043d\", \"\\u043b\\u0435\\u043d\\u0438\\u043d\", \"\\u043b\\u0438\\u043a\\u0432\\u0438\\u0434\\u0438\\u0440\\u043e\\u0432\\u0430\\u0442\\u044c\\u0441\\u044f\", \"\\u043b\\u0438\\u043a\\u0432\\u0438\\u0434\\u0438\\u0440\\u043e\\u0432\\u0430\\u0442\\u044c\\u0441\\u044f\", \"\\u043b\\u0438\\u043b\\u0438\\u044f\", \"\\u043b\\u0438\\u043b\\u0438\\u044f\", \"\\u043b\\u0438\\u043c\\u0438\\u0442\", \"\\u043b\\u0438\\u043c\\u0438\\u0442\", \"\\u043b\\u0438\\u0441\\u0438\\u0446\\u0430\", \"\\u043b\\u0438\\u0441\\u0438\\u0446\\u0430\", \"\\u043b\\u044e\\u0442\\u044b\\u0439\", \"\\u043b\\u044e\\u0442\\u044b\\u0439\", \"\\u043c\\u0430\\u0439\", \"\\u043c\\u0430\\u0439\", \"\\u043c\\u0430\\u0442\", \"\\u043c\\u0430\\u0442\", \"\\u043c\\u0435\\u0433\\u0430\\u0444\\u043e\\u043d\", \"\\u043c\\u0435\\u0433\\u0430\\u0444\\u043e\\u043d\", \"\\u043c\\u0435\\u0441\\u044f\\u0446\", \"\\u043c\\u0435\\u0441\\u044f\\u0446\", \"\\u043c\\u0438\\u043a\\u0440\\u043e\\u0440\\u0430\\u0439\\u043e\\u043d\", \"\\u043c\\u0438\\u043a\\u0440\\u043e\\u0440\\u0430\\u0439\\u043e\\u043d\", \"\\u043c\\u0438\\u043d\\u0438\\u043c\\u0430\\u043b\\u044c\\u043d\\u044b\\u0439\", \"\\u043c\\u0438\\u043d\\u0438\\u043c\\u0430\\u043b\\u044c\\u043d\\u044b\\u0439\", \"\\u043c\\u043e\\u0437\\u0433\", \"\\u043c\\u043e\\u0437\\u0433\", \"\\u043c\\u043e\\u0439\", \"\\u043c\\u043e\\u0439\", \"\\u043c\\u043e\\u0447\\u044c\", \"\\u043c\\u043e\\u0447\\u044c\", \"\\u043c\\u043e\\u0448\\u0435\\u043d\\u043d\\u0438\\u043a\", \"\\u043c\\u043e\\u0448\\u0435\\u043d\\u043d\\u0438\\u043a\", \"\\u043c\\u0443\\u0436\", \"\\u043c\\u0443\\u0436\", \"\\u043c\\u044b\", \"\\u043c\\u044b\", \"\\u043c\\u044b\\u043a\\u0430\\u0442\\u044c\\u0441\\u044f\", \"\\u043c\\u044b\\u043a\\u0430\\u0442\\u044c\\u0441\\u044f\", \"\\u043d\\u0430\\u0437\\u043e\\u0439\\u043b\\u0438\\u0432\\u044b\\u0439\", \"\\u043d\\u0430\\u0437\\u043e\\u0439\\u043b\\u0438\\u0432\\u044b\\u0439\", \"\\u043d\\u0430\\u043b\\u0438\", \"\\u043d\\u0430\\u043b\\u0438\", \"\\u043d\\u0430\\u043b\\u0438\\u0447\\u0438\\u0435\", \"\\u043d\\u0430\\u043b\\u0438\\u0447\\u0438\\u0435\", \"\\u043d\\u0430\\u0441\\u043b\\u0435\\u0434\\u043d\\u0438\\u043a\", \"\\u043d\\u0430\\u0441\\u043b\\u0435\\u0434\\u043d\\u0438\\u043a\", \"\\u043d\\u0430\\u0441\\u043b\\u0435\\u0434\\u0441\\u0442\\u0432\\u043e\", \"\\u043d\\u0430\\u0441\\u043b\\u0435\\u0434\\u0441\\u0442\\u0432\\u043e\", \"\\u043d\\u0430\\u0442\\u0430\\u0448\\u0430\", \"\\u043d\\u0430\\u0442\\u0430\\u0448\\u0430\", \"\\u043d\\u0430\\u0448\", \"\\u043d\\u0430\\u0448\", \"\\u043d\\u0435\\u0437\\u0430\\u043a\\u043e\\u043d\\u043d\\u043e\\u0441\\u0442\\u044c\", \"\\u043d\\u0435\\u0437\\u0430\\u043a\\u043e\\u043d\\u043d\\u043e\\u0441\\u0442\\u044c\", \"\\u043d\\u0435\\u043a\\u0440\\u0430\\u0441\\u0438\\u0432\\u044b\\u0439\", \"\\u043d\\u0435\\u043a\\u0440\\u0430\\u0441\\u0438\\u0432\\u044b\\u0439\", \"\\u043d\\u0435\\u043f\\u043e\\u0441\\u0438\\u043b\\u044c\\u043d\\u044b\\u0439\", \"\\u043d\\u0435\\u043f\\u043e\\u0441\\u0438\\u043b\\u044c\\u043d\\u044b\\u0439\", \"\\u043d\\u043e\\u043c\\u0435\\u0440\", \"\\u043d\\u043e\\u043c\\u0435\\u0440\", \"\\u043e\\u0431\\u0437\\u0432\\u043e\\u043d\", \"\\u043e\\u0431\\u0437\\u0432\\u043e\\u043d\", \"\\u043e\\u0431\\u0440\\u0430\\u0431\\u043e\\u0442\\u043a\\u0430\", \"\\u043e\\u0431\\u0440\\u0430\\u0431\\u043e\\u0442\\u043a\\u0430\", \"\\u043e\\u0431\\u0441\\u043b\\u0443\\u0436\\u0438\\u0432\\u0430\\u043d\\u0438\\u0435\", \"\\u043e\\u0431\\u0441\\u043b\\u0443\\u0436\\u0438\\u0432\\u0430\\u043d\\u0438\\u0435\", \"\\u043e\\u0433\\u043e\\u0432\\u043e\\u0440\\u043a\\u0430\", \"\\u043e\\u0433\\u043e\\u0432\\u043e\\u0440\\u043a\\u0430\", \"\\u043e\\u0434\\u0438\\u043d\\u043e\\u0447\\u043a\\u0430\", \"\\u043e\\u0434\\u0438\\u043d\\u043e\\u0447\\u043a\\u0430\", \"\\u043e\\u0434\\u043d\\u043e\\u0441\\u0442\\u043e\\u0440\\u043e\\u043d\\u043d\\u0438\\u0439\", \"\\u043e\\u0434\\u043d\\u043e\\u0441\\u0442\\u043e\\u0440\\u043e\\u043d\\u043d\\u0438\\u0439\", \"\\u043e\\u0442\\u0432\\u0435\\u0442\", \"\\u043e\\u0442\\u0432\\u0435\\u0442\", \"\\u043e\\u0442\\u0434\\u0435\\u043b\\u0435\\u043d\\u0438\\u0435\", \"\\u043e\\u0442\\u0434\\u0435\\u043b\\u0435\\u043d\\u0438\\u0435\", \"\\u043e\\u0442\\u043a\\u0430\\u0437\", \"\\u043e\\u0442\\u043a\\u0430\\u0437\", \"\\u043e\\u0442\\u043a\\u0440\\u044b\\u0442\\u0438\\u0435\", \"\\u043e\\u0442\\u043a\\u0440\\u044b\\u0442\\u0438\\u0435\", \"\\u043e\\u0442\\u043d\\u043e\\u0448\\u0435\\u043d\\u0438\\u0435\", \"\\u043e\\u0442\\u043d\\u043e\\u0448\\u0435\\u043d\\u0438\\u0435\", \"\\u043e\\u0442\\u043f\", \"\\u043e\\u0442\\u043f\", \"\\u043e\\u0442\\u043f\\u0430\\u0441\\u0442\\u044c\", \"\\u043e\\u0442\\u043f\\u0430\\u0441\\u0442\\u044c\", \"\\u043e\\u0442\\u0440\\u0430\\u0436\\u0430\\u0442\\u044c\", \"\\u043e\\u0442\\u0440\\u0430\\u0436\\u0430\\u0442\\u044c\", \"\\u043e\\u0444\\u0438\\u0441\", \"\\u043e\\u0444\\u0438\\u0441\", \"\\u043e\\u0444\\u043e\\u0440\\u043c\\u0438\\u0442\\u044c\", \"\\u043e\\u0444\\u043e\\u0440\\u043c\\u0438\\u0442\\u044c\", \"\\u043e\\u0448\\u0430\\u0440\\u0430\\u0448\\u0438\\u0442\\u044c\", \"\\u043e\\u0448\\u0430\\u0440\\u0430\\u0448\\u0438\\u0442\\u044c\", \"\\u043f\\u0435\\u0440\\u0435\\u0441\\u044b\\u043b\\u043a\\u0430\", \"\\u043f\\u0435\\u0440\\u0435\\u0441\\u044b\\u043b\\u043a\\u0430\", \"\\u043f\\u0435\\u0440\\u0441\\u043e\\u043d\\u0430\\u0436\", \"\\u043f\\u0435\\u0440\\u0441\\u043e\\u043d\\u0430\\u0436\", \"\\u043f\\u043b\\u0430\\u0442\\u0451\\u0436\", \"\\u043f\\u043b\\u0430\\u0442\\u0451\\u0436\", \"\\u043f\\u043b\\u043e\\u0449\\u0430\\u0434\\u044c\", \"\\u043f\\u043b\\u043e\\u0449\\u0430\\u0434\\u044c\", \"\\u043f\\u043e\\u0433\\u0430\\u0448\\u0435\\u043d\\u0438\\u0435\", \"\\u043f\\u043e\\u0433\\u0430\\u0448\\u0435\\u043d\\u0438\\u0435\", \"\\u043f\\u043e\\u0436\\u0430\\u043b\\u0435\\u0442\\u044c\", \"\\u043f\\u043e\\u0436\\u0430\\u043b\\u0435\\u0442\\u044c\", \"\\u043f\\u043e\\u043b\\u0443\\u0447\\u0438\\u0442\\u044c\", \"\\u043f\\u043e\\u043b\\u0443\\u0447\\u0438\\u0442\\u044c\", \"\\u043f\\u043e\\u043f\\u043e\\u043b\\u043d\\u0435\\u043d\\u0438\\u0435\", \"\\u043f\\u043e\\u043f\\u043e\\u043b\\u043d\\u0435\\u043d\\u0438\\u0435\", \"\\u043f\\u043e\\u043f\\u043e\\u043b\\u043d\\u0438\\u0442\\u044c\", \"\\u043f\\u043e\\u043f\\u043e\\u043b\\u043d\\u0438\\u0442\\u044c\", \"\\u043f\\u043e\\u043f\\u043e\\u043b\\u043d\\u044f\\u0442\\u044c\", \"\\u043f\\u043e\\u043f\\u043e\\u043b\\u043d\\u044f\\u0442\\u044c\", \"\\u043f\\u043e\\u0440\\u0443\\u0447\\u0438\\u0442\\u0435\\u043b\\u044c\", \"\\u043f\\u043e\\u0440\\u0443\\u0447\\u0438\\u0442\\u0435\\u043b\\u044c\", \"\\u043f\\u043e\\u0441\\u0442\\u0443\\u043f\\u0430\\u0442\\u044c\", \"\\u043f\\u043e\\u0441\\u0442\\u0443\\u043f\\u0430\\u0442\\u044c\", \"\\u043f\\u043e\\u0442\\u0435\\u0440\\u043f\\u0435\\u0432\\u0448\\u0438\\u0439\", \"\\u043f\\u043e\\u0442\\u0435\\u0440\\u043f\\u0435\\u0432\\u0448\\u0438\\u0439\", \"\\u043f\\u0440\\u0435\\u043a\\u0440\\u0430\\u0442\\u0438\\u0442\\u044c\", \"\\u043f\\u0440\\u0435\\u043a\\u0440\\u0430\\u0442\\u0438\\u0442\\u044c\", \"\\u043f\\u0440\\u0435\\u043a\\u0440\\u0430\\u0442\\u0438\\u0442\\u044c\\u0441\\u044f\", \"\\u043f\\u0440\\u0435\\u043a\\u0440\\u0430\\u0442\\u0438\\u0442\\u044c\\u0441\\u044f\", \"\\u043f\\u0440\\u0435\\u0442\\u0438\\u0442\\u044c\", \"\\u043f\\u0440\\u0435\\u0442\\u0438\\u0442\\u044c\", \"\\u043f\\u0440\\u043e\\u0431\\u043b\\u0435\\u043c\\u0430\", \"\\u043f\\u0440\\u043e\\u0431\\u043b\\u0435\\u043c\\u0430\", \"\\u043f\\u0440\\u043e\\u0433\\u0440\\u0430\\u043c\\u043c\\u0430\", \"\\u043f\\u0440\\u043e\\u0433\\u0440\\u0430\\u043c\\u043c\\u0430\", \"\\u043f\\u0440\\u043e\\u0434\\u043e\\u043b\\u0436\\u0430\\u0442\\u044c\\u0441\\u044f\", \"\\u043f\\u0440\\u043e\\u0434\\u043e\\u043b\\u0436\\u0430\\u0442\\u044c\\u0441\\u044f\", \"\\u043f\\u0440\\u043e\\u043a\\u0443\\u0440\\u0430\\u0442\\u0443\\u0440\\u0430\", \"\\u043f\\u0440\\u043e\\u043a\\u0443\\u0440\\u0430\\u0442\\u0443\\u0440\\u0430\", \"\\u043f\\u0440\\u043e\\u0441\\u0438\\u0442\\u044c\", \"\\u043f\\u0440\\u043e\\u0441\\u0438\\u0442\\u044c\", \"\\u043f\\u0440\\u043e\\u0446\\u0435\\u043d\\u0442\", \"\\u043f\\u0440\\u043e\\u0446\\u0435\\u043d\\u0442\", \"\\u043f\\u0440\\u043e\\u0446\\u0435\\u043d\\u0442\\u043d\\u044b\\u0439\", \"\\u043f\\u0440\\u043e\\u0446\\u0435\\u043d\\u0442\\u043d\\u044b\\u0439\", \"\\u0440\", \"\\u0440\", \"\\u0440\\u0430\\u0437\\u0431\\u043b\\u043e\\u043a\\u0438\\u0440\\u043e\\u0432\\u0430\\u0442\\u044c\\u0441\\u044f\", \"\\u0440\\u0430\\u0437\\u0431\\u043b\\u043e\\u043a\\u0438\\u0440\\u043e\\u0432\\u0430\\u0442\\u044c\\u0441\\u044f\", \"\\u0440\\u0430\\u0441\\u0441\\u043b\\u0435\\u0434\\u043e\\u0432\\u0430\\u043d\\u0438\\u0435\", \"\\u0440\\u0430\\u0441\\u0441\\u043b\\u0435\\u0434\\u043e\\u0432\\u0430\\u043d\\u0438\\u0435\", \"\\u0440\\u0430\\u0441\\u0442\\u043e\\u0440\\u0433\\u043d\\u0443\\u0442\\u044c\", \"\\u0440\\u0430\\u0441\\u0442\\u043e\\u0440\\u0433\\u043d\\u0443\\u0442\\u044c\", \"\\u0440\\u0435\\u043d\\u0435\\u0441\\u0441\\u0430\\u043d\\u0441\", \"\\u0440\\u0435\\u043d\\u0435\\u0441\\u0441\\u0430\\u043d\\u0441\", \"\\u0440\\u0435\\u0442\\u0435\\u0439\\u043b\", \"\\u0440\\u0435\\u0442\\u0435\\u0439\\u043b\", \"\\u0440\\u043e\\u0441\\u043a\\u043e\\u043c\\u043d\\u0430\\u0434\\u0437\\u043e\\u0440\", \"\\u0440\\u043e\\u0441\\u043a\\u043e\\u043c\\u043d\\u0430\\u0434\\u0437\\u043e\\u0440\", \"\\u0440\\u0443\\u0431\\u043b\\u044c\", \"\\u0440\\u0443\\u0431\\u043b\\u044c\", \"\\u0440\\u0443\\u0431\\u043b\\u0451\\u0432\", \"\\u0440\\u0443\\u0431\\u043b\\u0451\\u0432\", \"\\u0441\\u0430\\u043b\\u043e\\u043d\", \"\\u0441\\u0430\\u043b\\u043e\\u043d\", \"\\u0441\\u0431\\u0435\\u0440\\u0431\\u0430\\u043d\\u043a\", \"\\u0441\\u0431\\u0435\\u0440\\u0431\\u0430\\u043d\\u043a\", \"\\u0441\\u0432\\u043e\\u0439\", \"\\u0441\\u0432\\u043e\\u0439\", \"\\u0441\\u0435\\u0432\\u0430\\u0441\\u0442\\u043e\\u043f\\u043e\\u043b\\u044c\", \"\\u0441\\u0435\\u0432\\u0430\\u0441\\u0442\\u043e\\u043f\\u043e\\u043b\\u044c\", \"\\u0441\\u0435\\u0440\\u0433\\u0435\\u0439\", \"\\u0441\\u0435\\u0440\\u0433\\u0435\\u0439\", \"\\u0441\\u043a\\u0430\\u0437\\u0430\\u0442\\u044c\", \"\\u0441\\u043a\\u0430\\u0437\\u0430\\u0442\\u044c\", \"\\u0441\\u043c\\u0435\\u0440\\u0442\\u044c\", \"\\u0441\\u043c\\u0435\\u0440\\u0442\\u044c\", \"\\u0441\\u043c\\u0441\", \"\\u0441\\u043c\\u0441\", \"\\u0441\\u043e\\u0431\\u0435\\u0441\\u0435\\u0434\\u043d\\u0438\\u043a\", \"\\u0441\\u043e\\u0431\\u0435\\u0441\\u0435\\u0434\\u043d\\u0438\\u043a\", \"\\u0441\\u043e\\u0433\\u043b\\u0430\\u0441\\u0438\\u0435\", \"\\u0441\\u043e\\u0433\\u043b\\u0430\\u0441\\u0438\\u0435\", \"\\u0441\\u043e\\u0437\\u0430\\u0451\\u043c\\u0449\\u0438\\u043a\", \"\\u0441\\u043e\\u0437\\u0430\\u0451\\u043c\\u0449\\u0438\\u043a\", \"\\u0441\\u043e\\u0437\\u043d\\u0430\\u043d\\u0438\\u0435\", \"\\u0441\\u043e\\u0437\\u043d\\u0430\\u043d\\u0438\\u0435\", \"\\u0441\\u043e\\u0442\\u043e\\u0432\\u044b\\u0439\", \"\\u0441\\u043e\\u0442\\u043e\\u0432\\u044b\\u0439\", \"\\u0441\\u043e\\u0442\\u0440\\u0443\\u0434\\u043d\\u0438\\u043a\", \"\\u0441\\u043e\\u0442\\u0440\\u0443\\u0434\\u043d\\u0438\\u043a\", \"\\u0441\\u043f\\u0435\\u0446\\u043f\\u0440\\u0435\\u0434\\u043b\\u043e\\u0436\\u0435\\u043d\\u0438\\u0435\", \"\\u0441\\u043f\\u0435\\u0446\\u043f\\u0440\\u0435\\u0434\\u043b\\u043e\\u0436\\u0435\\u043d\\u0438\\u0435\", \"\\u0441\\u0440\\u0435\\u0434\\u0441\\u0442\\u0432\\u043e\", \"\\u0441\\u0440\\u0435\\u0434\\u0441\\u0442\\u0432\\u043e\", \"\\u0441\\u0440\\u043e\\u043a\", \"\\u0441\\u0440\\u043e\\u043a\", \"\\u0441\\u0442\\u0430\\u0432\\u043a\\u0430\", \"\\u0441\\u0442\\u0430\\u0432\\u043a\\u0430\", \"\\u0441\\u0442\\u043e\\u0440\\u043e\\u043d\\u0430\", \"\\u0441\\u0442\\u043e\\u0440\\u043e\\u043d\\u0430\", \"\\u0441\\u0442\\u0440\\u0430\\u043d\\u043d\\u044b\\u0439\", \"\\u0441\\u0442\\u0440\\u0430\\u043d\\u043d\\u044b\\u0439\", \"\\u0441\\u0442\\u0440\\u0430\\u0445\\u043e\\u0432\\u0430\\u043d\\u0438\\u0435\", \"\\u0441\\u0442\\u0440\\u0430\\u0445\\u043e\\u0432\\u0430\\u043d\\u0438\\u0435\", \"\\u0441\\u0442\\u0440\\u0430\\u0445\\u043e\\u0432\\u043a\\u0430\", \"\\u0441\\u0442\\u0440\\u0430\\u0445\\u043e\\u0432\\u043a\\u0430\", \"\\u0441\\u0443\\u043c\\u043c\\u0430\", \"\\u0441\\u0443\\u043c\\u043c\\u0430\", \"\\u0441\\u0447\\u0451\\u0442\", \"\\u0441\\u0447\\u0451\\u0442\", \"\\u0442\\u0430\\u043a\\u043e\\u0439\", \"\\u0442\\u0430\\u043a\\u043e\\u0439\", \"\\u0442\\u0430\\u0440\\u0438\\u0444\", \"\\u0442\\u0430\\u0440\\u0438\\u0444\", \"\\u0442\\u0435\\u043a\\u0443\\u0449\\u0438\\u0439\", \"\\u0442\\u0435\\u043a\\u0443\\u0449\\u0438\\u0439\", \"\\u0442\\u0435\\u043b\\u0435\\u0444\\u043e\\u043d\", \"\\u0442\\u0435\\u043b\\u0435\\u0444\\u043e\\u043d\", \"\\u0442\\u0435\\u043b\\u0435\\u0444\\u043e\\u043d\\u043d\\u044b\\u0439\", \"\\u0442\\u0435\\u043b\\u0435\\u0444\\u043e\\u043d\\u043d\\u044b\\u0439\", \"\\u0442\\u0435\\u0440\\u043f\\u0438\\u043b\\u0430\", \"\\u0442\\u0435\\u0440\\u043f\\u0438\\u043b\\u0430\", \"\\u0442\\u0435\\u0440\\u0440\\u043e\\u0440\\u0438\\u0437\\u043c\", \"\\u0442\\u0435\\u0440\\u0440\\u043e\\u0440\\u0438\\u0437\\u043c\", \"\\u0442\\u0440\\u0435\\u0431\\u043e\\u0432\\u0430\\u0442\\u044c\", \"\\u0442\\u0440\\u0435\\u0431\\u043e\\u0432\\u0430\\u0442\\u044c\", \"\\u0442\\u044b\\u043a\\u0430\\u0442\\u044c\\u0441\\u044f\", \"\\u0442\\u044b\\u043a\\u0430\\u0442\\u044c\\u0441\\u044f\", \"\\u0442\\u044b\\u0441\\u044f\\u0447\\u0430\", \"\\u0442\\u044b\\u0441\\u044f\\u0447\\u0430\", \"\\u0443\\u0433\\u043e\\u043b\\u043e\\u0432\\u043d\\u044b\\u0439\", \"\\u0443\\u0433\\u043e\\u043b\\u043e\\u0432\\u043d\\u044b\\u0439\", \"\\u0443\\u0434\\u0430\\u043b\\u0438\\u0442\\u044c\", \"\\u0443\\u0434\\u0430\\u043b\\u0438\\u0442\\u044c\", \"\\u0443\\u0434\\u0438\\u0432\\u0442\\u044c\", \"\\u0443\\u0434\\u0438\\u0432\\u0442\\u044c\", \"\\u0443\\u0434\\u0440\\u0443\\u0447\", \"\\u0443\\u0434\\u0440\\u0443\\u0447\", \"\\u0443\\u0441\\u043b\\u043e\\u0432\\u0438\\u0435\", \"\\u0443\\u0441\\u043b\\u043e\\u0432\\u0438\\u0435\", \"\\u0444\\u0430\\u0439\\u043b\", \"\\u0444\\u0430\\u0439\\u043b\", \"\\u0444\\u043e\\u043d\\u0434\", \"\\u0444\\u043e\\u043d\\u0434\", \"\\u0446\\u0430\\u0440\\u0438\\u0446\\u044b\\u043d\\u0441\\u043a\\u0438\\u0439\", \"\\u0446\\u0430\\u0440\\u0438\\u0446\\u044b\\u043d\\u0441\\u043a\\u0438\\u0439\", \"\\u0447\\u0435\\u043b\\u043e\\u0432\\u0435\\u043a\", \"\\u0447\\u0435\\u043b\\u043e\\u0432\\u0435\\u043a\", \"\\u044e\\u0430\\u043e\", \"\\u044e\\u0430\\u043e\", \"\\u044f\\u0432\\u043b\\u044f\\u0442\\u044c\\u0441\\u044f\", \"\\u044f\\u0432\\u043b\\u044f\\u0442\\u044c\\u0441\\u044f\"]}, \"R\": 30, \"lambda.step\": 0.01, \"plot.opts\": {\"xlab\": \"PC1\", \"ylab\": \"PC2\"}, \"topic.order\": [1, 2, 3]};\n",
       "\n",
       "function LDAvis_load_lib(url, callback){\n",
       "  var s = document.createElement('script');\n",
       "  s.src = url;\n",
       "  s.async = true;\n",
       "  s.onreadystatechange = s.onload = callback;\n",
       "  s.onerror = function(){console.warn(\"failed to load library \" + url);};\n",
       "  document.getElementsByTagName(\"head\")[0].appendChild(s);\n",
       "}\n",
       "\n",
       "if(typeof(LDAvis) !== \"undefined\"){\n",
       "   // already loaded: just create the visualization\n",
       "   !function(LDAvis){\n",
       "       new LDAvis(\"#\" + \"ldavis_el136824869227624249054798046\", ldavis_el136824869227624249054798046_data);\n",
       "   }(LDAvis);\n",
       "}else if(typeof define === \"function\" && define.amd){\n",
       "   // require.js is available: use it to load d3/LDAvis\n",
       "   require.config({paths: {d3: \"https://cdnjs.cloudflare.com/ajax/libs/d3/3.5.5/d3.min\"}});\n",
       "   require([\"d3\"], function(d3){\n",
       "      window.d3 = d3;\n",
       "      LDAvis_load_lib(\"https://cdn.rawgit.com/bmabey/pyLDAvis/files/ldavis.v1.0.0.js\", function(){\n",
       "        new LDAvis(\"#\" + \"ldavis_el136824869227624249054798046\", ldavis_el136824869227624249054798046_data);\n",
       "      });\n",
       "    });\n",
       "}else{\n",
       "    // require.js not available: dynamically load d3 & LDAvis\n",
       "    LDAvis_load_lib(\"https://cdnjs.cloudflare.com/ajax/libs/d3/3.5.5/d3.min.js\", function(){\n",
       "         LDAvis_load_lib(\"https://cdn.rawgit.com/bmabey/pyLDAvis/files/ldavis.v1.0.0.js\", function(){\n",
       "                 new LDAvis(\"#\" + \"ldavis_el136824869227624249054798046\", ldavis_el136824869227624249054798046_data);\n",
       "            })\n",
       "         });\n",
       "}\n",
       "</script>"
      ],
      "text/plain": [
       "<IPython.core.display.HTML object>"
      ]
     },
     "execution_count": 47,
     "metadata": {},
     "output_type": "execute_result"
    }
   ],
   "source": [
    "import pyLDAvis.gensim as gensimvis\n",
    "import pyLDAvis\n",
    "vis_data = gensimvis.prepare(lda, corpus, dictionary)\n",
    "pyLDAvis.display(vis_data)"
   ]
  },
  {
   "cell_type": "markdown",
   "metadata": {},
   "source": [
    "### Тут мы имеем 3 темы - вклады, кредиты, карты."
   ]
  },
  {
   "cell_type": "code",
   "execution_count": null,
   "metadata": {},
   "outputs": [],
   "source": []
  },
  {
   "cell_type": "markdown",
   "metadata": {},
   "source": [
    "## Часть 3. Классификация текстов [40/100]\n",
    "\n",
    "Сформулируем для простоты задачу бинарной классификации: будем классифицировать на два класса, то есть, различать резко отрицательные отзывы (с оценкой 1) и положительные отзывы (с оценкой 5). \n",
    "\n",
    "1.  Составьте обучающее и тестовое множество: выберите из всего набора данных N1 отзывов с оценкой 1 и N2 отзывов с оценкой 5 (значение N1 и N2 – на ваше усмотрение). Используйте ```sklearn.model_selection.train_test_split``` для разделения множества отобранных документов на обучающее и тестовое. \n",
    "2. Используйте любой известный вам алгоритм классификации текстов для решения задачи и получите baseline. Сравните разные варианты векторизации текста: использование только униграм, пар или троек слов или с использованием символьных $n$-грам. \n",
    "3. Сравните, как изменяется качество решения задачи при использовании скрытых тем в качестве признаков:\n",
    "* 1-ый вариант: $tf-idf$ преобразование (```sklearn.feature_extraction.text.TfidfTransformer```) и сингулярное разложение (оно же – латентый семантический анализ) (```sklearn.decomposition.TruncatedSVD```), \n",
    "* 2-ой вариант: тематические модели LDA (```sklearn.decomposition.LatentDirichletAllocation```). \n",
    "\n",
    "Используйте accuracy и F-measure для оценки качества классификации. \n",
    "\n",
    "Ниже написан примерный Pipeline для классификации текстов. \n",
    "\n",
    "Эта часть задания может быть сделана с использованием sklearn. "
   ]
  },
  {
   "cell_type": "code",
   "execution_count": 48,
   "metadata": {},
   "outputs": [
    {
     "name": "stderr",
     "output_type": "stream",
     "text": [
      "C:\\Users\\Arsenii\\Anaconda3\\lib\\site-packages\\ipykernel_launcher.py:2: SettingWithCopyWarning: \n",
      "A value is trying to be set on a copy of a slice from a DataFrame.\n",
      "Try using .loc[row_indexer,col_indexer] = value instead\n",
      "\n",
      "See the caveats in the documentation: http://pandas.pydata.org/pandas-docs/stable/indexing.html#indexing-view-versus-copy\n",
      "  \n"
     ]
    }
   ],
   "source": [
    "df_ = df[(df['rating_grade']==1) | (df['rating_grade']==5)]\n",
    "df_['rating_grade'] = df_['rating_grade'].map({1: 0, 5: 1})"
   ]
  },
  {
   "cell_type": "code",
   "execution_count": 49,
   "metadata": {},
   "outputs": [
    {
     "name": "stderr",
     "output_type": "stream",
     "text": [
      "100%|███████████████████████████████████████████████████████████████████████████| 62100/62100 [03:44<00:00, 276.07it/s]\n",
      "C:\\Users\\Arsenii\\Anaconda3\\lib\\site-packages\\ipykernel_launcher.py:29: SettingWithCopyWarning: \n",
      "A value is trying to be set on a copy of a slice from a DataFrame.\n",
      "Try using .loc[row_indexer,col_indexer] = value instead\n",
      "\n",
      "See the caveats in the documentation: http://pandas.pydata.org/pandas-docs/stable/indexing.html#indexing-view-versus-copy\n",
      "C:\\Users\\Arsenii\\Anaconda3\\lib\\site-packages\\ipykernel_launcher.py:31: SettingWithCopyWarning: \n",
      "A value is trying to be set on a copy of a slice from a DataFrame.\n",
      "Try using .loc[row_indexer,col_indexer] = value instead\n",
      "\n",
      "See the caveats in the documentation: http://pandas.pydata.org/pandas-docs/stable/indexing.html#indexing-view-versus-copy\n"
     ]
    }
   ],
   "source": [
    "import pymorphy2\n",
    "from nltk.tokenize import word_tokenize\n",
    "\n",
    "class MorphProvider:\n",
    "    def __init__(self):\n",
    "        self.cache = {}\n",
    "        self.morph = pymorphy2.MorphAnalyzer()\n",
    "    \n",
    "    def __call__(self, w):\n",
    "        w = w.lower()\n",
    "        cached = self.cache.get(w)\n",
    "        if cached:\n",
    "            return cached\n",
    "        try:\n",
    "            morphed = self.morph.parse(w)[0].normal_form\n",
    "            self.cache[w] = morphed\n",
    "            return morphed\n",
    "        except:\n",
    "            return None\n",
    "    \n",
    "    def morph_string(self, s):\n",
    "        words = word_tokenize(s)\n",
    "        return \" \".join([self.__call__(w) for w in words])\n",
    "\n",
    "morpher = MorphProvider()\n",
    "\n",
    "from tqdm import tqdm\n",
    "\n",
    "df_[\"normalized\"] = [morpher.morph_string(t) for t in tqdm(df_.text)]\n",
    "\n",
    "df_[\"normalized_words\"] = df_.normalized.apply(lambda x: ' '.join([w if w.isalpha() else 'num' for w in x.split() if w.isalpha() or w.isdigit()]))"
   ]
  },
  {
   "cell_type": "code",
   "execution_count": 50,
   "metadata": {},
   "outputs": [],
   "source": [
    "df_ = df_.drop(['city', 'author', 'bank_license', 'datetime', 'rating_not_checked', 'title', 'words_only',\n",
    "                'tokenized_sents', 'text', 'lemmas', 'words_only_without_sw'], axis=1)"
   ]
  },
  {
   "cell_type": "code",
   "execution_count": 51,
   "metadata": {},
   "outputs": [],
   "source": [
    "df_ = pd.get_dummies(df_, columns=['bank_name'])"
   ]
  },
  {
   "cell_type": "code",
   "execution_count": 52,
   "metadata": {},
   "outputs": [],
   "source": [
    "from sklearn.feature_extraction.text import CountVectorizer\n",
    "\n",
    "vectorizer = CountVectorizer()\n",
    "X = vectorizer.fit_transform(df_['normalized_words'][:5000]).toarray()\n",
    "y = df_['rating_grade'][:5000]"
   ]
  },
  {
   "cell_type": "code",
   "execution_count": 53,
   "metadata": {},
   "outputs": [
    {
     "data": {
      "text/plain": [
       "(5000, 19874)"
      ]
     },
     "execution_count": 53,
     "metadata": {},
     "output_type": "execute_result"
    }
   ],
   "source": [
    "from sklearn.feature_extraction.text import TfidfTransformer\n",
    "\n",
    "X = TfidfTransformer().fit_transform(X)\n",
    "X.shape"
   ]
  },
  {
   "cell_type": "code",
   "execution_count": 54,
   "metadata": {},
   "outputs": [],
   "source": [
    "feature_names = vectorizer.get_feature_names()"
   ]
  },
  {
   "cell_type": "code",
   "execution_count": 55,
   "metadata": {},
   "outputs": [],
   "source": [
    "X = pd.DataFrame(X.toarray())"
   ]
  },
  {
   "cell_type": "code",
   "execution_count": 56,
   "metadata": {},
   "outputs": [],
   "source": [
    "df_ = df_.drop(['normalized_words', 'normalized', 'rating_grade'], axis=1)"
   ]
  },
  {
   "cell_type": "code",
   "execution_count": 57,
   "metadata": {},
   "outputs": [],
   "source": [
    "our_df = df_[:8000].reset_index().drop(['index'], axis=1)"
   ]
  },
  {
   "cell_type": "code",
   "execution_count": 58,
   "metadata": {},
   "outputs": [],
   "source": [
    "X = X.merge(our_df, left_index=True, right_index=True)"
   ]
  },
  {
   "cell_type": "code",
   "execution_count": 59,
   "metadata": {},
   "outputs": [
    {
     "data": {
      "text/plain": [
       "(5000, 20456)"
      ]
     },
     "execution_count": 59,
     "metadata": {},
     "output_type": "execute_result"
    }
   ],
   "source": [
    "X.shape"
   ]
  },
  {
   "cell_type": "code",
   "execution_count": 60,
   "metadata": {},
   "outputs": [],
   "source": [
    "columns = X.columns"
   ]
  },
  {
   "cell_type": "code",
   "execution_count": 61,
   "metadata": {},
   "outputs": [],
   "source": [
    "from sklearn.model_selection import train_test_split\n",
    "\n",
    "\n",
    "X_train, X_test, y_train, y_test = train_test_split(X, y, test_size=0.2, random_state=22)"
   ]
  },
  {
   "cell_type": "code",
   "execution_count": 62,
   "metadata": {},
   "outputs": [],
   "source": [
    "from sklearn.ensemble import GradientBoostingClassifier, RandomForestClassifier\n",
    "import xgboost"
   ]
  },
  {
   "cell_type": "code",
   "execution_count": 63,
   "metadata": {},
   "outputs": [],
   "source": [
    "clf = xgboost.XGBClassifier(\n",
    "                    max_depth=5,\n",
    "                    n_jobs=-1,\n",
    "                    n_estimators=101,\n",
    "                    min_samples_split=200,\n",
    "                    learning_rate=0.079,\n",
    "                    max_features='log2',\n",
    "                    subsample=0.6578947368421052\n",
    ")"
   ]
  },
  {
   "cell_type": "code",
   "execution_count": 64,
   "metadata": {},
   "outputs": [
    {
     "data": {
      "text/plain": [
       "XGBClassifier(base_score=0.5, booster='gbtree', colsample_bylevel=1,\n",
       "       colsample_bynode=1, colsample_bytree=1, gamma=0,\n",
       "       learning_rate=0.079, max_delta_step=0, max_depth=5,\n",
       "       max_features='log2', min_child_weight=1, min_samples_split=200,\n",
       "       missing=None, n_estimators=101, n_jobs=-1, nthread=None,\n",
       "       objective='binary:logistic', random_state=0, reg_alpha=0,\n",
       "       reg_lambda=1, scale_pos_weight=1, seed=None, silent=None,\n",
       "       subsample=0.6578947368421052, verbosity=1)"
      ]
     },
     "execution_count": 64,
     "metadata": {},
     "output_type": "execute_result"
    }
   ],
   "source": [
    "clf.fit(X=X_train, y=y_train)"
   ]
  },
  {
   "cell_type": "code",
   "execution_count": 65,
   "metadata": {},
   "outputs": [],
   "source": [
    "y_train_predict = clf.predict(X_train)\n",
    "y_test_predict = clf.predict(X_test)"
   ]
  },
  {
   "cell_type": "code",
   "execution_count": 66,
   "metadata": {},
   "outputs": [],
   "source": [
    "from sklearn.metrics import accuracy_score, f1_score, roc_auc_score"
   ]
  },
  {
   "cell_type": "code",
   "execution_count": 67,
   "metadata": {},
   "outputs": [
    {
     "data": {
      "text/plain": [
       "0.951"
      ]
     },
     "execution_count": 67,
     "metadata": {},
     "output_type": "execute_result"
    }
   ],
   "source": [
    "accuracy_score(y_test, y_test_predict)"
   ]
  },
  {
   "cell_type": "code",
   "execution_count": 68,
   "metadata": {},
   "outputs": [
    {
     "data": {
      "text/plain": [
       "0.8361204013377926"
      ]
     },
     "execution_count": 68,
     "metadata": {},
     "output_type": "execute_result"
    }
   ],
   "source": [
    "f1_score(y_test, y_test_predict)"
   ]
  },
  {
   "cell_type": "code",
   "execution_count": 69,
   "metadata": {},
   "outputs": [
    {
     "data": {
      "text/plain": [
       "0.88045143952798"
      ]
     },
     "execution_count": 69,
     "metadata": {},
     "output_type": "execute_result"
    }
   ],
   "source": [
    "roc_auc_score(y_test, y_test_predict)"
   ]
  },
  {
   "cell_type": "markdown",
   "metadata": {},
   "source": [
    "### Таким образом accuracy равен 95%"
   ]
  },
  {
   "cell_type": "code",
   "execution_count": null,
   "metadata": {},
   "outputs": [],
   "source": []
  }
 ],
 "metadata": {
  "kernelspec": {
   "display_name": "Python 3",
   "language": "python",
   "name": "python3"
  },
  "language_info": {
   "codemirror_mode": {
    "name": "ipython",
    "version": 3
   },
   "file_extension": ".py",
   "mimetype": "text/x-python",
   "name": "python",
   "nbconvert_exporter": "python",
   "pygments_lexer": "ipython3",
   "version": "3.7.3"
  }
 },
 "nbformat": 4,
 "nbformat_minor": 2
}
