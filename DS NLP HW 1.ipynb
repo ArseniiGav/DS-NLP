{
 "cells": [
  {
   "cell_type": "code",
   "execution_count": 1,
   "metadata": {},
   "outputs": [],
   "source": [
    "import json\n",
    "\n",
    "import bz2\n",
    "import regex\n",
    "from tqdm import tqdm_notebook\n",
    "\n",
    "from scipy import sparse"
   ]
  },
  {
   "cell_type": "code",
   "execution_count": 2,
   "metadata": {},
   "outputs": [
    {
     "name": "stdout",
     "output_type": "stream",
     "text": [
      "Populating the interactive namespace from numpy and matplotlib\n"
     ]
    }
   ],
   "source": [
    "import pandas as pd\n",
    "import numpy as np\n",
    "import nltk\n",
    "import matplotlib.pyplot as plt\n",
    "import seaborn as sns\n",
    "%matplotlib inline\n",
    "%pylab inline"
   ]
  },
  {
   "cell_type": "code",
   "execution_count": 3,
   "metadata": {},
   "outputs": [
    {
     "data": {
      "application/vnd.jupyter.widget-view+json": {
       "model_id": "8e855d1febe54081859f6dd438c9f9bd",
       "version_major": 2,
       "version_minor": 0
      },
      "text/plain": [
       "HBox(children=(IntProgress(value=1, bar_style='info', max=1), HTML(value='')))"
      ]
     },
     "metadata": {},
     "output_type": "display_data"
    },
    {
     "name": "stdout",
     "output_type": "stream",
     "text": [
      "\n"
     ]
    }
   ],
   "source": [
    "responses = []\n",
    "with open('banki_responses.json', 'r') as thefile:\n",
    "    for row in tqdm_notebook(thefile):\n",
    "        resp = json.loads(row)\n",
    "        if not resp['rating_not_checked'] and (len(resp['text'].split()) > 0):\n",
    "            responses.append(resp)"
   ]
  },
  {
   "cell_type": "markdown",
   "metadata": {},
   "source": [
    "#  Домашнее задание по NLP # 1 [100 баллов]\n",
    "## Классификация по тональности \n",
    "\n",
    "В этом домашнем задании вам предстоит классифицировать по тональности отзывы на банки с сайта banki.ru.\n",
    "\n",
    "Данные содержат непосредственно тексты отзывов, некоторую дополнительную информацию, а также оценку по шкале от 1 до 5. \n",
    "\n",
    "Тексты хранятся в json-ах в массиве responses.\n",
    "\n",
    "Посмотрим на пример отзыва:"
   ]
  },
  {
   "cell_type": "code",
   "execution_count": 4,
   "metadata": {},
   "outputs": [
    {
     "data": {
      "text/plain": [
       "{'city': 'г. Саратов',\n",
       " 'rating_not_checked': False,\n",
       " 'title': 'Карта ко вкладу',\n",
       " 'num_comments': 0,\n",
       " 'bank_license': 'лицензия № 880',\n",
       " 'author': 'ronnichka',\n",
       " 'bank_name': 'Югра',\n",
       " 'datetime': '2015-06-03 20:56:57',\n",
       " 'text': 'Здравствуйте! Хотела написать, что мне месяц не выдают карту ко вкладу, ссылаясь на \"нам же их из Самары везут\" (на секундочку 5 часов езды от нашего города). Но! Прочитала, что людям 3,5 месяцев не выдают карту, и поняла, что у меня все хорошо, пока что. И подарок мне дали, и кулер в отделении есть. Так что я, конечно, готова ждать. Правда хотелось бы не очень долго.',\n",
       " 'rating_grade': 3}"
      ]
     },
     "execution_count": 4,
     "metadata": {},
     "output_type": "execute_result"
    }
   ],
   "source": [
    "responses[99]"
   ]
  },
  {
   "cell_type": "markdown",
   "metadata": {},
   "source": [
    "# Часть 1. Анализ текстов [40/100]\n",
    "\n",
    "1. Посчитайте количество отзывов в разных городах и на разные банки\n",
    "2. Постройте гистограмы длин слов в символах и в словах\n",
    "3. Найдите 10 самых частых:\n",
    "    * слов\n",
    "    * слов без стоп-слов\n",
    "    * лемм \n",
    "    * существительных\n",
    "4. Постройте кривые Ципфа и Хипса\n",
    "5. Ответьте на следующие вопросы:\n",
    "    * какое слово встречается чаще, \"сотрудник\" или \"клиент\"?\n",
    "    * сколько раз встречается слова \"мошенничество\" и \"доверие\"?\n",
    "6. В поле \"rating_grade\" записана оценка отзыва по шкале от 1 до 5. Используйте меру $tf-idf$, для того, чтобы найти ключевые слова и биграмы для положительных отзывов (с оценкой 5) и отрицательных отзывов (с оценкой 1)"
   ]
  },
  {
   "cell_type": "code",
   "execution_count": 5,
   "metadata": {},
   "outputs": [],
   "source": [
    "df = pd.DataFrame(responses)"
   ]
  },
  {
   "cell_type": "code",
   "execution_count": 6,
   "metadata": {},
   "outputs": [
    {
     "data": {
      "text/html": [
       "<div>\n",
       "<style scoped>\n",
       "    .dataframe tbody tr th:only-of-type {\n",
       "        vertical-align: middle;\n",
       "    }\n",
       "\n",
       "    .dataframe tbody tr th {\n",
       "        vertical-align: top;\n",
       "    }\n",
       "\n",
       "    .dataframe thead th {\n",
       "        text-align: right;\n",
       "    }\n",
       "</style>\n",
       "<table border=\"1\" class=\"dataframe\">\n",
       "  <thead>\n",
       "    <tr style=\"text-align: right;\">\n",
       "      <th></th>\n",
       "      <th>author</th>\n",
       "      <th>bank_license</th>\n",
       "      <th>bank_name</th>\n",
       "      <th>city</th>\n",
       "      <th>datetime</th>\n",
       "      <th>num_comments</th>\n",
       "      <th>rating_grade</th>\n",
       "      <th>rating_not_checked</th>\n",
       "      <th>text</th>\n",
       "      <th>title</th>\n",
       "    </tr>\n",
       "  </thead>\n",
       "  <tbody>\n",
       "    <tr>\n",
       "      <th>0</th>\n",
       "      <td>uhnov1</td>\n",
       "      <td>лицензия № 2562</td>\n",
       "      <td>Бинбанк</td>\n",
       "      <td>г. Москва</td>\n",
       "      <td>2015-06-08 12:50:54</td>\n",
       "      <td>0</td>\n",
       "      <td>NaN</td>\n",
       "      <td>False</td>\n",
       "      <td>Добрый день! Я не являюсь клиентом банка и пор...</td>\n",
       "      <td>Жалоба</td>\n",
       "    </tr>\n",
       "    <tr>\n",
       "      <th>1</th>\n",
       "      <td>Foryou</td>\n",
       "      <td>лицензия № 1481</td>\n",
       "      <td>Сбербанк России</td>\n",
       "      <td>г. Новосибирск</td>\n",
       "      <td>2015-06-08 11:09:57</td>\n",
       "      <td>0</td>\n",
       "      <td>NaN</td>\n",
       "      <td>False</td>\n",
       "      <td>Доброго дня! Являюсь держателем зарплатной кар...</td>\n",
       "      <td>Не могу пользоваться услугой Сбербанк он-лайн</td>\n",
       "    </tr>\n",
       "    <tr>\n",
       "      <th>2</th>\n",
       "      <td>Vladimir84</td>\n",
       "      <td>лицензия № 2562</td>\n",
       "      <td>Бинбанк</td>\n",
       "      <td>г. Москва</td>\n",
       "      <td>2015-06-05 20:14:28</td>\n",
       "      <td>1</td>\n",
       "      <td>NaN</td>\n",
       "      <td>False</td>\n",
       "      <td>Здравствуйте!  Дублирую свое заявление от 03.0...</td>\n",
       "      <td>Двойное списание за один товар.</td>\n",
       "    </tr>\n",
       "    <tr>\n",
       "      <th>3</th>\n",
       "      <td>643609</td>\n",
       "      <td>лицензия № 1481</td>\n",
       "      <td>Сбербанк России</td>\n",
       "      <td>г. Ставрополь</td>\n",
       "      <td>2015-06-05 13:51:01</td>\n",
       "      <td>2</td>\n",
       "      <td>NaN</td>\n",
       "      <td>False</td>\n",
       "      <td>Добрый день!! Я открыл расчетный счет в СберБа...</td>\n",
       "      <td>Меняют проценты комиссии  не предупредив и не ...</td>\n",
       "    </tr>\n",
       "    <tr>\n",
       "      <th>4</th>\n",
       "      <td>anfisa-2003</td>\n",
       "      <td>лицензия № 2766</td>\n",
       "      <td>ОТП Банк</td>\n",
       "      <td>г. Челябинск</td>\n",
       "      <td>2015-06-05 10:58:12</td>\n",
       "      <td>1</td>\n",
       "      <td>NaN</td>\n",
       "      <td>False</td>\n",
       "      <td>04.03.2015 г. взяла кредит в вашем банке, заяв...</td>\n",
       "      <td>Верните денежные средства за страховку</td>\n",
       "    </tr>\n",
       "  </tbody>\n",
       "</table>\n",
       "</div>"
      ],
      "text/plain": [
       "        author     bank_license        bank_name            city  \\\n",
       "0       uhnov1  лицензия № 2562          Бинбанк       г. Москва   \n",
       "1       Foryou  лицензия № 1481  Сбербанк России  г. Новосибирск   \n",
       "2   Vladimir84  лицензия № 2562          Бинбанк       г. Москва   \n",
       "3       643609  лицензия № 1481  Сбербанк России   г. Ставрополь   \n",
       "4  anfisa-2003  лицензия № 2766         ОТП Банк    г. Челябинск   \n",
       "\n",
       "              datetime  num_comments  rating_grade  rating_not_checked  \\\n",
       "0  2015-06-08 12:50:54             0           NaN               False   \n",
       "1  2015-06-08 11:09:57             0           NaN               False   \n",
       "2  2015-06-05 20:14:28             1           NaN               False   \n",
       "3  2015-06-05 13:51:01             2           NaN               False   \n",
       "4  2015-06-05 10:58:12             1           NaN               False   \n",
       "\n",
       "                                                text  \\\n",
       "0  Добрый день! Я не являюсь клиентом банка и пор...   \n",
       "1  Доброго дня! Являюсь держателем зарплатной кар...   \n",
       "2  Здравствуйте!  Дублирую свое заявление от 03.0...   \n",
       "3  Добрый день!! Я открыл расчетный счет в СберБа...   \n",
       "4  04.03.2015 г. взяла кредит в вашем банке, заяв...   \n",
       "\n",
       "                                               title  \n",
       "0                                             Жалоба  \n",
       "1      Не могу пользоваться услугой Сбербанк он-лайн  \n",
       "2                    Двойное списание за один товар.  \n",
       "3  Меняют проценты комиссии  не предупредив и не ...  \n",
       "4             Верните денежные средства за страховку  "
      ]
     },
     "execution_count": 6,
     "metadata": {},
     "output_type": "execute_result"
    }
   ],
   "source": [
    "df.head()"
   ]
  },
  {
   "cell_type": "code",
   "execution_count": 100,
   "metadata": {},
   "outputs": [
    {
     "data": {
      "text/plain": [
       "                        1223\n",
       "Претензия                364\n",
       "Кредитная карта          317\n",
       "Жалоба                   286\n",
       "Благодарность            248\n",
       "Звонки из банка          203\n",
       "Банкомат съел деньги     176\n",
       "Name: title, dtype: int64"
      ]
     },
     "execution_count": 100,
     "metadata": {},
     "output_type": "execute_result"
    }
   ],
   "source": [
    "df['title'].value_counts()[:7]"
   ]
  },
  {
   "cell_type": "markdown",
   "metadata": {},
   "source": [
    "### 1. Посчитайте количество отзывов в разных городах и на разные банки"
   ]
  },
  {
   "cell_type": "code",
   "execution_count": 7,
   "metadata": {},
   "outputs": [
    {
     "data": {
      "text/plain": [
       "153499"
      ]
     },
     "execution_count": 7,
     "metadata": {},
     "output_type": "execute_result"
    }
   ],
   "source": [
    "len(df)"
   ]
  },
  {
   "cell_type": "code",
   "execution_count": 8,
   "metadata": {},
   "outputs": [
    {
     "data": {
      "text/plain": [
       "г. Москва             55354\n",
       "г. Санкт-Петербург    14342\n",
       "г. Екатеринбург        2337\n",
       "г. Новосибирск         2300\n",
       "г. Нижний Новгород     1976\n",
       "г. Ростов-на-Дону      1891\n",
       "г. Самара              1731\n",
       "г. Челябинск           1507\n",
       "г. Казань              1440\n",
       "г. Краснодар           1262\n",
       "Name: city, dtype: int64"
      ]
     },
     "execution_count": 8,
     "metadata": {},
     "output_type": "execute_result"
    }
   ],
   "source": [
    "df['city'].value_counts()[:10]"
   ]
  },
  {
   "cell_type": "code",
   "execution_count": 9,
   "metadata": {},
   "outputs": [
    {
     "data": {
      "text/plain": [
       "1536"
      ]
     },
     "execution_count": 9,
     "metadata": {},
     "output_type": "execute_result"
    }
   ],
   "source": [
    "len(df['text'][10])"
   ]
  },
  {
   "cell_type": "code",
   "execution_count": 10,
   "metadata": {},
   "outputs": [
    {
     "data": {
      "text/plain": [
       "Сбербанк России              26327\n",
       "Альфа-Банк                   10224\n",
       "ВТБ 24                        8185\n",
       "Русский Стандарт              7943\n",
       "Хоум Кредит Банк              7549\n",
       "Тинькофф Банк                 5387\n",
       "Национальный Банк «Траст»     4607\n",
       "Ренессанс Кредит              3849\n",
       "Связной Банк                  3775\n",
       "ОТП Банк                      3237\n",
       "Name: bank_name, dtype: int64"
      ]
     },
     "execution_count": 10,
     "metadata": {},
     "output_type": "execute_result"
    }
   ],
   "source": [
    "df['bank_name'].value_counts()[:10]"
   ]
  },
  {
   "cell_type": "markdown",
   "metadata": {},
   "source": [
    "### 2. Постройте гистограмы длин слов в символах и в словах.\n",
    "### *Прим.: Вероятно, имеется ввиду гистограммы тесктов в символах и в словах.*"
   ]
  },
  {
   "cell_type": "markdown",
   "metadata": {},
   "source": [
    "### *В символах.*"
   ]
  },
  {
   "cell_type": "code",
   "execution_count": 11,
   "metadata": {},
   "outputs": [
    {
     "data": {
      "text/plain": [
       "(0, 8000)"
      ]
     },
     "execution_count": 11,
     "metadata": {},
     "output_type": "execute_result"
    },
    {
     "data": {
      "image/png": "[encoded data removed]",
      "text/plain": [
       "<Figure size 432x288 with 1 Axes>"
      ]
     },
     "metadata": {
      "needs_background": "light"
     },
     "output_type": "display_data"
    }
   ],
   "source": [
    "df['text'].apply(len).hist(bins=150)\n",
    "\n",
    "plt.xlim(0, 8000)"
   ]
  },
  {
   "cell_type": "markdown",
   "metadata": {},
   "source": [
    "### *В словах. Для начала проведем токенизацию.*"
   ]
  },
  {
   "cell_type": "code",
   "execution_count": 12,
   "metadata": {},
   "outputs": [],
   "source": [
    "import re\n",
    "regex = re.compile(\"[А-Яа-я]+\")\n",
    "\n",
    "def words_only(text, regex=regex):\n",
    "    try:\n",
    "        return \" \".join(regex.findall(text))\n",
    "    except:\n",
    "        return \"\"\n",
    "\n",
    "\n",
    "df['text'] = df.text.apply(lambda x: x.lower())\n",
    "df['words_only'] = df.text.apply(words_only)"
   ]
  },
  {
   "cell_type": "code",
   "execution_count": 13,
   "metadata": {},
   "outputs": [],
   "source": [
    "df['tokenized_sents'] = df.words_only.apply(lambda x: x.split(' '))"
   ]
  },
  {
   "cell_type": "code",
   "execution_count": 14,
   "metadata": {},
   "outputs": [],
   "source": [
    "df['tokenized_sents_len'] = df['tokenized_sents'].apply(len)"
   ]
  },
  {
   "cell_type": "code",
   "execution_count": 15,
   "metadata": {},
   "outputs": [
    {
     "data": {
      "text/plain": [
       "(0, 1000)"
      ]
     },
     "execution_count": 15,
     "metadata": {},
     "output_type": "execute_result"
    },
    {
     "data": {
      "image/png": "[encoded data removed]",
      "text/plain": [
       "<Figure size 432x288 with 1 Axes>"
      ]
     },
     "metadata": {
      "needs_background": "light"
     },
     "output_type": "display_data"
    }
   ],
   "source": [
    "df['tokenized_sents_len'].hist(bins=100)\n",
    "\n",
    "plt.xlim(0, 1000)"
   ]
  },
  {
   "cell_type": "markdown",
   "metadata": {},
   "source": [
    "### И в том и в другом случае мы получаем эксп. распределение."
   ]
  },
  {
   "cell_type": "markdown",
   "metadata": {},
   "source": [
    "### 3. Найдите 10 самых частых:\n",
    "        \n",
    "* слов\n",
    "* слов без стоп-слов\n",
    "* лемм \n",
    "* существительных"
   ]
  },
  {
   "cell_type": "code",
   "execution_count": 16,
   "metadata": {},
   "outputs": [],
   "source": [
    "from collections import Counter"
   ]
  },
  {
   "cell_type": "code",
   "execution_count": 17,
   "metadata": {},
   "outputs": [],
   "source": [
    "def counter(how):\n",
    "    cnt = Counter()\n",
    "    n_types = []\n",
    "    n_tokens = []\n",
    "    tokens = []\n",
    "    for index, row in tqdm_notebook(df.iterrows(), total = len(df)):\n",
    "        tokens = row[how].split()\n",
    "        cnt.update(tokens)\n",
    "        n_types.append(len(cnt))\n",
    "        n_tokens.append(sum(cnt.values()))\n",
    "    for i in cnt.most_common(10):\n",
    "        print(i)"
   ]
  },
  {
   "cell_type": "code",
   "execution_count": 18,
   "metadata": {},
   "outputs": [
    {
     "data": {
      "application/vnd.jupyter.widget-view+json": {
       "model_id": "13082b68313d47a688faad01e59beddb",
       "version_major": 2,
       "version_minor": 0
      },
      "text/plain": [
       "HBox(children=(IntProgress(value=0, max=153499), HTML(value='')))"
      ]
     },
     "metadata": {},
     "output_type": "display_data"
    },
    {
     "name": "stdout",
     "output_type": "stream",
     "text": [
      "\n",
      "('в', 1330550)\n",
      "('и', 1058997)\n",
      "('не', 855335)\n",
      "('на', 707935)\n",
      "('что', 640057)\n",
      "('я', 577500)\n",
      "('с', 464037)\n",
      "('по', 372769)\n",
      "('мне', 320958)\n",
      "('банка', 275906)\n"
     ]
    }
   ],
   "source": [
    "counter('words_only')"
   ]
  },
  {
   "cell_type": "markdown",
   "metadata": {},
   "source": [
    "### Как видно, основные слова это предлоги и слово \"банк\", так как тексты о банках. Избавимся от слоп-слов."
   ]
  },
  {
   "cell_type": "code",
   "execution_count": 19,
   "metadata": {},
   "outputs": [],
   "source": [
    "from nltk.corpus import stopwords\n",
    "sw = stopwords.words('russian') + ['т', 'д', 'это']"
   ]
  },
  {
   "cell_type": "code",
   "execution_count": 20,
   "metadata": {},
   "outputs": [],
   "source": [
    "def  remove_stopwords(text, mystopwords = sw):\n",
    "    try:\n",
    "        return \" \".join([token for token in text.split() if not token in mystopwords])\n",
    "    except:\n",
    "        return \"\""
   ]
  },
  {
   "cell_type": "code",
   "execution_count": 21,
   "metadata": {},
   "outputs": [],
   "source": [
    "df['words_only_without_sw']= df['words_only'].apply(remove_stopwords) "
   ]
  },
  {
   "cell_type": "code",
   "execution_count": 22,
   "metadata": {},
   "outputs": [
    {
     "data": {
      "application/vnd.jupyter.widget-view+json": {
       "model_id": "ddb8b540060c4f61ad16538fb18b5302",
       "version_major": 2,
       "version_minor": 0
      },
      "text/plain": [
       "HBox(children=(IntProgress(value=0, max=153499), HTML(value='')))"
      ]
     },
     "metadata": {},
     "output_type": "display_data"
    },
    {
     "name": "stdout",
     "output_type": "stream",
     "text": [
      "\n",
      "('банка', 275906)\n",
      "('банк', 215426)\n",
      "('деньги', 131201)\n",
      "('карту', 105829)\n",
      "('карты', 101821)\n",
      "('кредит', 81136)\n",
      "('день', 76552)\n",
      "('банке', 72169)\n",
      "('заявление', 70423)\n",
      "('очень', 66824)\n"
     ]
    }
   ],
   "source": [
    "counter('words_only_without_sw')"
   ]
  },
  {
   "cell_type": "markdown",
   "metadata": {},
   "source": [
    "### Теперь лемматизация"
   ]
  },
  {
   "cell_type": "code",
   "execution_count": 23,
   "metadata": {},
   "outputs": [],
   "source": [
    "from pymorphy2 import MorphAnalyzer\n",
    "\n",
    "pm2 = MorphAnalyzer()\n",
    "\n",
    "\n",
    "def lemmatize(text, mystem=pm2):\n",
    "    try:\n",
    "        return ' '.join([pm2.parse(word)[0].normal_form for word in text.split()])\n",
    "    except:\n",
    "        return \" \""
   ]
  },
  {
   "cell_type": "markdown",
   "metadata": {},
   "source": [
    "### Возьмем первые 1000 текстов, так как текстов слишком много."
   ]
  },
  {
   "cell_type": "code",
   "execution_count": 24,
   "metadata": {},
   "outputs": [],
   "source": [
    "df['lemmas'] = df['words_only_without_sw'][:1000].apply(lemmatize) "
   ]
  },
  {
   "cell_type": "code",
   "execution_count": 25,
   "metadata": {},
   "outputs": [],
   "source": [
    "df['lemmas'] = df['lemmas'].fillna('')"
   ]
  },
  {
   "cell_type": "code",
   "execution_count": 26,
   "metadata": {},
   "outputs": [
    {
     "data": {
      "application/vnd.jupyter.widget-view+json": {
       "model_id": "5b3c37f329544cd8a7b57c2173989a02",
       "version_major": 2,
       "version_minor": 0
      },
      "text/plain": [
       "HBox(children=(IntProgress(value=0, max=153499), HTML(value='')))"
      ]
     },
     "metadata": {},
     "output_type": "display_data"
    },
    {
     "name": "stdout",
     "output_type": "stream",
     "text": [
      "\n",
      "('банка', 2366)\n",
      "('карта', 1801)\n",
      "('банк', 1713)\n",
      "('год', 1068)\n",
      "('кредит', 937)\n",
      "('мой', 895)\n",
      "('который', 865)\n",
      "('деньга', 853)\n",
      "('вклад', 817)\n",
      "('день', 811)\n"
     ]
    }
   ],
   "source": [
    " counter('lemmas')"
   ]
  },
  {
   "cell_type": "markdown",
   "metadata": {},
   "source": [
    "### Как видно, есть проблема того, что отличает леммы \"банка\" и \"банк\", хотя это одно и тоже слово в нашем контексте."
   ]
  },
  {
   "cell_type": "markdown",
   "metadata": {},
   "source": [
    "### 4. Постройте кривые Ципфа и Хипса"
   ]
  },
  {
   "cell_type": "code",
   "execution_count": 27,
   "metadata": {},
   "outputs": [
    {
     "data": {
      "application/vnd.jupyter.widget-view+json": {
       "model_id": "fd3f0f4c6bec4293bf544afc93a12734",
       "version_major": 2,
       "version_minor": 0
      },
      "text/plain": [
       "HBox(children=(IntProgress(value=0, max=153499), HTML(value='')))"
      ]
     },
     "metadata": {},
     "output_type": "display_data"
    },
    {
     "name": "stdout",
     "output_type": "stream",
     "text": [
      "\n"
     ]
    }
   ],
   "source": [
    "cnt = Counter()\n",
    "n_types = []\n",
    "n_tokens = []\n",
    "tokens = []\n",
    "for index, row in tqdm_notebook(df.iterrows(), total = len(df)):\n",
    "    tokens = row['words_only'].split()\n",
    "    cnt.update(tokens)\n",
    "    n_types.append(len(cnt))\n",
    "    n_tokens.append(sum(list(cnt.values())))"
   ]
  },
  {
   "cell_type": "markdown",
   "metadata": {},
   "source": [
    "### Кривая Ципфа."
   ]
  },
  {
   "cell_type": "code",
   "execution_count": 28,
   "metadata": {},
   "outputs": [
    {
     "data": {
      "image/png": "[encoded data removed]",
      "text/plain": [
       "<Figure size 432x288 with 1 Axes>"
      ]
     },
     "metadata": {
      "needs_background": "light"
     },
     "output_type": "display_data"
    }
   ],
   "source": [
    "freqs = list(cnt.values())\n",
    "freqs = sorted(freqs, reverse = True)\n",
    "\n",
    "fig, ax = plt.subplots()\n",
    "ax.plot(freqs[:300], range(300))\n",
    "plt.show()"
   ]
  },
  {
   "cell_type": "markdown",
   "metadata": {},
   "source": [
    "### Кривая Хипса"
   ]
  },
  {
   "cell_type": "code",
   "execution_count": 29,
   "metadata": {},
   "outputs": [
    {
     "data": {
      "image/png": "[encoded data removed]",
      "text/plain": [
       "<Figure size 432x288 with 1 Axes>"
      ]
     },
     "metadata": {
      "needs_background": "light"
     },
     "output_type": "display_data"
    }
   ],
   "source": [
    "fig, ax = plt.subplots()\n",
    "ax.plot(n_tokens, n_types)\n",
    "plt.show()"
   ]
  },
  {
   "cell_type": "code",
   "execution_count": 30,
   "metadata": {},
   "outputs": [
    {
     "data": {
      "application/vnd.jupyter.widget-view+json": {
       "model_id": "b7b0f7a38367465195868a5dbbf6bec3",
       "version_major": 2,
       "version_minor": 0
      },
      "text/plain": [
       "HBox(children=(IntProgress(value=0, max=265248), HTML(value='')))"
      ]
     },
     "metadata": {},
     "output_type": "display_data"
    },
    {
     "name": "stdout",
     "output_type": "stream",
     "text": [
      "\n"
     ]
    }
   ],
   "source": [
    "client_count = 0\n",
    "emp_count = 0\n",
    "fr_count = 0\n",
    "tr_count = 0\n",
    "for key, value in tqdm_notebook(cnt.items()):\n",
    "    if lemmatize(key) == 'сотрудник':\n",
    "        emp_count += value\n",
    "    elif lemmatize(key) == 'клиент':\n",
    "        client_count += value\n",
    "    elif lemmatize(key) == 'мошенничество':\n",
    "        fr_count += value\n",
    "    elif lemmatize(key) == 'доверие':\n",
    "        tr_count += value"
   ]
  },
  {
   "cell_type": "code",
   "execution_count": 31,
   "metadata": {},
   "outputs": [
    {
     "name": "stdout",
     "output_type": "stream",
     "text": [
      "Количество упоминаний клиента: 136893, сотрудника: 134168\n"
     ]
    }
   ],
   "source": [
    "print('Количество упоминаний клиента: {}, сотрудника: {}'.format(client_count, emp_count))"
   ]
  },
  {
   "cell_type": "code",
   "execution_count": 32,
   "metadata": {},
   "outputs": [
    {
     "name": "stdout",
     "output_type": "stream",
     "text": [
      "Количество упоминаний слово мошенничество: 3244, слово доверие: 2108\n"
     ]
    }
   ],
   "source": [
    "print('Количество упоминаний слово мошенничество: {}, слово доверие: {}'.format(fr_count, tr_count))"
   ]
  },
  {
   "cell_type": "markdown",
   "metadata": {},
   "source": [
    "### 6. В поле \"rating_grade\" записана оценка отзыва по шкале от 1 до 5. Используйте меру $tf-idf$, для того, чтобы найти ключевые слова и биграмы для положительных отзывов (с оценкой 5) и отрицательных отзывов (с оценкой 1)"
   ]
  },
  {
   "cell_type": "code",
   "execution_count": 40,
   "metadata": {},
   "outputs": [],
   "source": [
    "tokens_with_rat_1 = []\n",
    "tokens_with_rat_5 = []\n",
    "for i in df[df['rating_grade'] == 1]['lemmas']:\n",
    "    tokens_with_rat_1 += i.split()\n",
    "for i in df[df['rating_grade'] == 5]['lemmas']:\n",
    "    tokens_with_rat_5 += i.split()"
   ]
  },
  {
   "cell_type": "code",
   "execution_count": 89,
   "metadata": {},
   "outputs": [],
   "source": [
    "from sklearn.feature_extraction.text import TfidfVectorizer\n",
    "import numpy as np\n",
    "\n",
    "def tfidf(tokens_list, N_min, N_max):\n",
    "    tfidf = TfidfVectorizer(analyzer='word', ngram_range=(N_min, N_max), min_df = 0)\n",
    "    tfidf_matrix =  tfidf.fit_transform([' '.join(tokens_list)])\n",
    "    feature_names = tfidf.get_feature_names() \n",
    "    tfidf_ranking = []\n",
    "    dense = tfidf_matrix.todense()\n",
    "\n",
    "    text = dense.tolist()[0]\n",
    "    phrase_scores = [pair for pair in zip(range(0, len(text)), text) if pair[1] > 0]\n",
    "    sorted_phrase_scores = sorted(phrase_scores, key=lambda t: t[1] * -1)\n",
    "    phrases = []\n",
    "    for phrase, score in [(feature_names[word_id], score) for (word_id, score) in sorted_phrase_scores][:40]:\n",
    "        tfidf_ranking.append(phrase)\n",
    "    return tfidf_ranking"
   ]
  },
  {
   "cell_type": "code",
   "execution_count": 90,
   "metadata": {},
   "outputs": [
    {
     "data": {
      "text/html": [
       "<div>\n",
       "<style scoped>\n",
       "    .dataframe tbody tr th:only-of-type {\n",
       "        vertical-align: middle;\n",
       "    }\n",
       "\n",
       "    .dataframe tbody tr th {\n",
       "        vertical-align: top;\n",
       "    }\n",
       "\n",
       "    .dataframe thead th {\n",
       "        text-align: right;\n",
       "    }\n",
       "</style>\n",
       "<table border=\"1\" class=\"dataframe\">\n",
       "  <thead>\n",
       "    <tr style=\"text-align: right;\">\n",
       "      <th></th>\n",
       "      <th>tf-idf</th>\n",
       "    </tr>\n",
       "  </thead>\n",
       "  <tbody>\n",
       "    <tr>\n",
       "      <th>0</th>\n",
       "      <td>банка</td>\n",
       "    </tr>\n",
       "    <tr>\n",
       "      <th>1</th>\n",
       "      <td>карта</td>\n",
       "    </tr>\n",
       "    <tr>\n",
       "      <th>2</th>\n",
       "      <td>банк</td>\n",
       "    </tr>\n",
       "    <tr>\n",
       "      <th>3</th>\n",
       "      <td>деньга</td>\n",
       "    </tr>\n",
       "    <tr>\n",
       "      <th>4</th>\n",
       "      <td>отделение</td>\n",
       "    </tr>\n",
       "    <tr>\n",
       "      <th>5</th>\n",
       "      <td>год</td>\n",
       "    </tr>\n",
       "    <tr>\n",
       "      <th>6</th>\n",
       "      <td>сотрудник</td>\n",
       "    </tr>\n",
       "    <tr>\n",
       "      <th>7</th>\n",
       "      <td>день</td>\n",
       "    </tr>\n",
       "    <tr>\n",
       "      <th>8</th>\n",
       "      <td>который</td>\n",
       "    </tr>\n",
       "    <tr>\n",
       "      <th>9</th>\n",
       "      <td>мой</td>\n",
       "    </tr>\n",
       "  </tbody>\n",
       "</table>\n",
       "</div>"
      ],
      "text/plain": [
       "      tf-idf\n",
       "0      банка\n",
       "1      карта\n",
       "2       банк\n",
       "3     деньга\n",
       "4  отделение\n",
       "5        год\n",
       "6  сотрудник\n",
       "7       день\n",
       "8    который\n",
       "9        мой"
      ]
     },
     "execution_count": 90,
     "metadata": {},
     "output_type": "execute_result"
    }
   ],
   "source": [
    "rankings = pd.DataFrame({'tf-idf': tfidf(tokens_with_rat_1, 1, 1)})\n",
    "rankings.head(10)"
   ]
  },
  {
   "cell_type": "code",
   "execution_count": 92,
   "metadata": {},
   "outputs": [
    {
     "data": {
      "text/html": [
       "<div>\n",
       "<style scoped>\n",
       "    .dataframe tbody tr th:only-of-type {\n",
       "        vertical-align: middle;\n",
       "    }\n",
       "\n",
       "    .dataframe tbody tr th {\n",
       "        vertical-align: top;\n",
       "    }\n",
       "\n",
       "    .dataframe thead th {\n",
       "        text-align: right;\n",
       "    }\n",
       "</style>\n",
       "<table border=\"1\" class=\"dataframe\">\n",
       "  <thead>\n",
       "    <tr style=\"text-align: right;\">\n",
       "      <th></th>\n",
       "      <th>tf-idf</th>\n",
       "    </tr>\n",
       "  </thead>\n",
       "  <tbody>\n",
       "    <tr>\n",
       "      <th>0</th>\n",
       "      <td>сотрудник банка</td>\n",
       "    </tr>\n",
       "    <tr>\n",
       "      <th>1</th>\n",
       "      <td>отделение банка</td>\n",
       "    </tr>\n",
       "    <tr>\n",
       "      <th>2</th>\n",
       "      <td>денежный средство</td>\n",
       "    </tr>\n",
       "    <tr>\n",
       "      <th>3</th>\n",
       "      <td>горячий линия</td>\n",
       "    </tr>\n",
       "    <tr>\n",
       "      <th>4</th>\n",
       "      <td>кредитный карта</td>\n",
       "    </tr>\n",
       "    <tr>\n",
       "      <th>5</th>\n",
       "      <td>написать заявление</td>\n",
       "    </tr>\n",
       "    <tr>\n",
       "      <th>6</th>\n",
       "      <td>альфа банк</td>\n",
       "    </tr>\n",
       "    <tr>\n",
       "      <th>7</th>\n",
       "      <td>дебетовый карта</td>\n",
       "    </tr>\n",
       "    <tr>\n",
       "      <th>8</th>\n",
       "      <td>тысяча рубль</td>\n",
       "    </tr>\n",
       "    <tr>\n",
       "      <th>9</th>\n",
       "      <td>добрый день</td>\n",
       "    </tr>\n",
       "  </tbody>\n",
       "</table>\n",
       "</div>"
      ],
      "text/plain": [
       "               tf-idf\n",
       "0     сотрудник банка\n",
       "1     отделение банка\n",
       "2   денежный средство\n",
       "3       горячий линия\n",
       "4     кредитный карта\n",
       "5  написать заявление\n",
       "6          альфа банк\n",
       "7     дебетовый карта\n",
       "8        тысяча рубль\n",
       "9         добрый день"
      ]
     },
     "execution_count": 92,
     "metadata": {},
     "output_type": "execute_result"
    }
   ],
   "source": [
    "rankings = pd.DataFrame({'tf-idf': tfidf(tokens_with_rat_1, 2, 2)})\n",
    "rankings.head(10)"
   ]
  },
  {
   "cell_type": "code",
   "execution_count": 91,
   "metadata": {},
   "outputs": [
    {
     "data": {
      "text/html": [
       "<div>\n",
       "<style scoped>\n",
       "    .dataframe tbody tr th:only-of-type {\n",
       "        vertical-align: middle;\n",
       "    }\n",
       "\n",
       "    .dataframe tbody tr th {\n",
       "        vertical-align: top;\n",
       "    }\n",
       "\n",
       "    .dataframe thead th {\n",
       "        text-align: right;\n",
       "    }\n",
       "</style>\n",
       "<table border=\"1\" class=\"dataframe\">\n",
       "  <thead>\n",
       "    <tr style=\"text-align: right;\">\n",
       "      <th></th>\n",
       "      <th>tf-idf</th>\n",
       "    </tr>\n",
       "  </thead>\n",
       "  <tbody>\n",
       "    <tr>\n",
       "      <th>0</th>\n",
       "      <td>карта</td>\n",
       "    </tr>\n",
       "    <tr>\n",
       "      <th>1</th>\n",
       "      <td>банка</td>\n",
       "    </tr>\n",
       "    <tr>\n",
       "      <th>2</th>\n",
       "      <td>банк</td>\n",
       "    </tr>\n",
       "    <tr>\n",
       "      <th>3</th>\n",
       "      <td>очень</td>\n",
       "    </tr>\n",
       "    <tr>\n",
       "      <th>4</th>\n",
       "      <td>вклад</td>\n",
       "    </tr>\n",
       "    <tr>\n",
       "      <th>5</th>\n",
       "      <td>клиент</td>\n",
       "    </tr>\n",
       "    <tr>\n",
       "      <th>6</th>\n",
       "      <td>который</td>\n",
       "    </tr>\n",
       "    <tr>\n",
       "      <th>7</th>\n",
       "      <td>документ</td>\n",
       "    </tr>\n",
       "    <tr>\n",
       "      <th>8</th>\n",
       "      <td>дать</td>\n",
       "    </tr>\n",
       "    <tr>\n",
       "      <th>9</th>\n",
       "      <td>отделение</td>\n",
       "    </tr>\n",
       "  </tbody>\n",
       "</table>\n",
       "</div>"
      ],
      "text/plain": [
       "      tf-idf\n",
       "0      карта\n",
       "1      банка\n",
       "2       банк\n",
       "3      очень\n",
       "4      вклад\n",
       "5     клиент\n",
       "6    который\n",
       "7   документ\n",
       "8       дать\n",
       "9  отделение"
      ]
     },
     "execution_count": 91,
     "metadata": {},
     "output_type": "execute_result"
    }
   ],
   "source": [
    "rankings = pd.DataFrame({'tf-idf': tfidf(tokens_with_rat_5, 1, 1)})\n",
    "rankings.head(10)"
   ]
  },
  {
   "cell_type": "code",
   "execution_count": 93,
   "metadata": {},
   "outputs": [
    {
     "data": {
      "text/html": [
       "<div>\n",
       "<style scoped>\n",
       "    .dataframe tbody tr th:only-of-type {\n",
       "        vertical-align: middle;\n",
       "    }\n",
       "\n",
       "    .dataframe tbody tr th {\n",
       "        vertical-align: top;\n",
       "    }\n",
       "\n",
       "    .dataframe thead th {\n",
       "        text-align: right;\n",
       "    }\n",
       "</style>\n",
       "<table border=\"1\" class=\"dataframe\">\n",
       "  <thead>\n",
       "    <tr style=\"text-align: right;\">\n",
       "      <th></th>\n",
       "      <th>tf-idf</th>\n",
       "    </tr>\n",
       "  </thead>\n",
       "  <tbody>\n",
       "    <tr>\n",
       "      <th>0</th>\n",
       "      <td>сч тот</td>\n",
       "    </tr>\n",
       "    <tr>\n",
       "      <th>1</th>\n",
       "      <td>отделение банка</td>\n",
       "    </tr>\n",
       "    <tr>\n",
       "      <th>2</th>\n",
       "      <td>сбербанк онлайн</td>\n",
       "    </tr>\n",
       "    <tr>\n",
       "      <th>3</th>\n",
       "      <td>сотрудник банка</td>\n",
       "    </tr>\n",
       "    <tr>\n",
       "      <th>4</th>\n",
       "      <td>вклад доходный</td>\n",
       "    </tr>\n",
       "    <tr>\n",
       "      <th>5</th>\n",
       "      <td>год назад</td>\n",
       "    </tr>\n",
       "    <tr>\n",
       "      <th>6</th>\n",
       "      <td>горячий линия</td>\n",
       "    </tr>\n",
       "    <tr>\n",
       "      <th>7</th>\n",
       "      <td>дебетовый карта</td>\n",
       "    </tr>\n",
       "    <tr>\n",
       "      <th>8</th>\n",
       "      <td>занять минута</td>\n",
       "    </tr>\n",
       "    <tr>\n",
       "      <th>9</th>\n",
       "      <td>интернет банка</td>\n",
       "    </tr>\n",
       "  </tbody>\n",
       "</table>\n",
       "</div>"
      ],
      "text/plain": [
       "            tf-idf\n",
       "0           сч тот\n",
       "1  отделение банка\n",
       "2  сбербанк онлайн\n",
       "3  сотрудник банка\n",
       "4   вклад доходный\n",
       "5        год назад\n",
       "6    горячий линия\n",
       "7  дебетовый карта\n",
       "8    занять минута\n",
       "9   интернет банка"
      ]
     },
     "execution_count": 93,
     "metadata": {},
     "output_type": "execute_result"
    }
   ],
   "source": [
    "rankings = pd.DataFrame({'tf-idf': tfidf(tokens_with_rat_5, 2, 2)})\n",
    "rankings.head(10)"
   ]
  },
  {
   "cell_type": "markdown",
   "metadata": {},
   "source": [
    "## Часть 2. Тематическое моделирование [20/100]\n",
    "\n",
    "1. Постройте несколько тематических моделей коллекции документов с разным числом тем. Приведите примеры понятных (интерпретируемых) тем.\n",
    "2. Найдите темы, в которых упомянуты конкретные банки (Сбербанк, ВТБ, другой банк). Можете ли вы их прокомментировать / объяснить?\n",
    "\n",
    "Эта часть задания может быть сделана с использованием gensim. "
   ]
  },
  {
   "cell_type": "code",
   "execution_count": 105,
   "metadata": {},
   "outputs": [
    {
     "data": {
      "text/plain": [
       "Претензия               364\n",
       "Кредитная карта         317\n",
       "Жалоба                  286\n",
       "Благодарность           248\n",
       "Звонки из банка         203\n",
       "Банкомат съел деньги    176\n",
       "Name: title, dtype: int64"
      ]
     },
     "execution_count": 105,
     "metadata": {},
     "output_type": "execute_result"
    }
   ],
   "source": [
    "df['title'].value_counts()[1:7]"
   ]
  },
  {
   "cell_type": "code",
   "execution_count": 120,
   "metadata": {},
   "outputs": [],
   "source": [
    "from gensim.corpora import *\n",
    "texts = [df[:15000].lemmas.iloc[i].split() for i in range(len(df[:15000]))]\n",
    "dictionary = Dictionary(texts)\n",
    "corpus = [dictionary.doc2bow(text) for text in texts]"
   ]
  },
  {
   "cell_type": "code",
   "execution_count": 121,
   "metadata": {},
   "outputs": [],
   "source": [
    "from gensim.models import  *\n",
    "from gensim import similarities\n",
    "\n",
    "tfidf = TfidfModel(corpus)\n",
    "corpus_tfidf = tfidf[corpus]\n",
    "\n",
    "index = similarities.MatrixSimilarity(corpus_tfidf)\n",
    "sims = index[corpus_tfidf]"
   ]
  },
  {
   "cell_type": "code",
   "execution_count": 150,
   "metadata": {},
   "outputs": [],
   "source": [
    "lsi = lsimodel.LsiModel(corpus=corpus_tfidf, id2word=dictionary, num_topics=6)"
   ]
  },
  {
   "cell_type": "code",
   "execution_count": 151,
   "metadata": {},
   "outputs": [
    {
     "data": {
      "text/plain": [
       "[(0,\n",
       "  '0.327*\"банка\" + 0.303*\"карта\" + 0.239*\"банк\" + 0.166*\"год\" + 0.166*\"кредит\" + 0.145*\"деньга\" + 0.144*\"вклад\" + 0.138*\"мой\" + 0.129*\"день\" + 0.128*\"который\"'),\n",
       " (1,\n",
       "  '-0.615*\"вклад\" + 0.437*\"карта\" + -0.242*\"ставка\" + -0.196*\"пополнение\" + -0.187*\"условие\" + -0.169*\"договор\" + -0.152*\"банк\" + -0.095*\"процент\" + -0.091*\"вкладчик\" + -0.087*\"банка\"'),\n",
       " (2,\n",
       "  '-0.506*\"карта\" + 0.318*\"кредит\" + -0.254*\"вклад\" + 0.219*\"звонок\" + 0.208*\"номер\" + 0.176*\"ваш\" + 0.169*\"телефон\" + -0.132*\"деньга\" + 0.127*\"сотрудник\" + 0.115*\"звонить\"'),\n",
       " (3,\n",
       "  '-0.436*\"кредит\" + 0.272*\"номер\" + 0.232*\"карта\" + 0.229*\"звонок\" + -0.221*\"страховка\" + 0.210*\"телефон\" + -0.198*\"сумма\" + -0.165*\"страхование\" + -0.133*\"договор\" + 0.128*\"вклад\"'),\n",
       " (4,\n",
       "  '0.436*\"карта\" + -0.425*\"деньга\" + 0.285*\"кредит\" + 0.177*\"кредитный\" + -0.175*\"счёт\" + -0.153*\"банкомат\" + -0.144*\"сбербанк\" + -0.142*\"день\" + -0.139*\"средство\" + -0.117*\"отделение\"'),\n",
       " (5,\n",
       "  '0.280*\"сумма\" + 0.270*\"рубль\" + -0.227*\"отделение\" + -0.177*\"банка\" + 0.174*\"средство\" + 0.173*\"счёт\" + -0.167*\"офис\" + 0.144*\"год\" + 0.136*\"задолженность\" + -0.135*\"работать\"')]"
      ]
     },
     "execution_count": 151,
     "metadata": {},
     "output_type": "execute_result"
    }
   ],
   "source": [
    "lsi.show_topics(10)"
   ]
  },
  {
   "cell_type": "markdown",
   "metadata": {},
   "source": [
    "### Таким образом, тема №1 касается вкладов. Тема №2, вероятно, кредитов. В теме №4 есть упоминание конкретного банка - сбербанка, вероятно там тоже идет речь о кредитах."
   ]
  },
  {
   "cell_type": "code",
   "execution_count": 143,
   "metadata": {},
   "outputs": [
    {
     "name": "stderr",
     "output_type": "stream",
     "text": [
      "C:\\Users\\Arsenii\\Anaconda3\\lib\\site-packages\\gensim\\models\\ldamodel.py:821: RuntimeWarning: divide by zero encountered in double_scalars\n",
      "  perwordbound = self.bound(chunk, subsample_ratio=subsample_ratio) / (subsample_ratio * corpus_words)\n"
     ]
    }
   ],
   "source": [
    "lda = ldamodel.LdaModel(corpus=corpus, id2word=dictionary, num_topics=3,\n",
    "                        alpha='auto', eta='auto', iterations = 200, passes = 3)"
   ]
  },
  {
   "cell_type": "code",
   "execution_count": 144,
   "metadata": {},
   "outputs": [
    {
     "data": {
      "text/plain": [
       "[(0,\n",
       "  '0.017*\"банка\" + 0.012*\"карта\" + 0.012*\"банк\" + 0.008*\"кредит\" + 0.008*\"год\" + 0.007*\"мой\" + 0.006*\"день\" + 0.006*\"деньга\" + 0.006*\"который\" + 0.006*\"сотрудник\"'),\n",
       " (1,\n",
       "  '0.000*\"инвестрастбанк\" + 0.000*\"монета\" + 0.000*\"арбитраж\" + 0.000*\"отливать\" + 0.000*\"камерун\" + 0.000*\"герб\" + 0.000*\"настолько\" + 0.000*\"мпс\" + 0.000*\"проба\" + 0.000*\"зодиак\"'),\n",
       " (2,\n",
       "  '0.018*\"вклад\" + 0.011*\"банка\" + 0.010*\"карта\" + 0.010*\"банк\" + 0.006*\"условие\" + 0.005*\"ставка\" + 0.005*\"пополнение\" + 0.005*\"год\" + 0.005*\"договор\" + 0.004*\"процент\"')]"
      ]
     },
     "execution_count": 144,
     "metadata": {},
     "output_type": "execute_result"
    }
   ],
   "source": [
    "lda.show_topics(15)"
   ]
  },
  {
   "cell_type": "code",
   "execution_count": 145,
   "metadata": {},
   "outputs": [
    {
     "name": "stderr",
     "output_type": "stream",
     "text": [
      "C:\\Users\\Arsenii\\Anaconda3\\lib\\site-packages\\pyLDAvis\\_prepare.py:257: FutureWarning: Sorting because non-concatenation axis is not aligned. A future version\n",
      "of pandas will change to not sort by default.\n",
      "\n",
      "To accept the future behavior, pass 'sort=False'.\n",
      "\n",
      "To retain the current behavior and silence the warning, pass 'sort=True'.\n",
      "\n",
      "  return pd.concat([default_term_info] + list(topic_dfs))\n"
     ]
    },
    {
     "data": {
      "text/html": [
       "\n",
       "<link rel=\"stylesheet\" type=\"text/css\" href=\"https://cdn.rawgit.com/bmabey/pyLDAvis/files/ldavis.v1.0.0.css\">\n",
       "\n",
       "\n",
       "<div id=\"ldavis_el1696826799835549924831103508\"></div>\n",
       "<script type=\"text/javascript\">\n",
       "\n",
       "var ldavis_el1696826799835549924831103508_data = {\"mdsDat\": {\"x\": [-0.11128163498994355, -0.00644988087095737, 0.11773151586090086], \"y\": [-0.0, -0.0, -0.0], \"topics\": [1, 2, 3], \"cluster\": [1, 1, 1], \"Freq\": [87.61548614501953, 12.265575408935547, 0.11893662065267563]}, \"tinfo\": {\"Category\": [\"Default\", \"Default\", \"Default\", \"Default\", \"Default\", \"Default\", \"Default\", \"Default\", \"Default\", \"Default\", \"Default\", \"Default\", \"Default\", \"Default\", \"Default\", \"Default\", \"Default\", \"Default\", \"Default\", \"Default\", \"Default\", \"Default\", \"Default\", \"Default\", \"Default\", \"Default\", \"Default\", \"Default\", \"Default\", \"Default\", \"Topic1\", \"Topic1\", \"Topic1\", \"Topic1\", \"Topic1\", \"Topic1\", \"Topic1\", \"Topic1\", \"Topic1\", \"Topic1\", \"Topic1\", \"Topic1\", \"Topic1\", \"Topic1\", \"Topic1\", \"Topic1\", \"Topic1\", \"Topic1\", \"Topic1\", \"Topic1\", \"Topic1\", \"Topic1\", \"Topic1\", \"Topic1\", \"Topic1\", \"Topic1\", \"Topic1\", \"Topic1\", \"Topic1\", \"Topic1\", \"Topic1\", \"Topic1\", \"Topic1\", \"Topic1\", \"Topic1\", \"Topic1\", \"Topic1\", \"Topic1\", \"Topic1\", \"Topic1\", \"Topic1\", \"Topic1\", \"Topic1\", \"Topic1\", \"Topic1\", \"Topic1\", \"Topic1\", \"Topic1\", \"Topic1\", \"Topic1\", \"Topic1\", \"Topic1\", \"Topic1\", \"Topic1\", \"Topic1\", \"Topic1\", \"Topic1\", \"Topic1\", \"Topic1\", \"Topic1\", \"Topic1\", \"Topic1\", \"Topic1\", \"Topic1\", \"Topic1\", \"Topic1\", \"Topic1\", \"Topic1\", \"Topic1\", \"Topic1\", \"Topic2\", \"Topic2\", \"Topic2\", \"Topic2\", \"Topic2\", \"Topic2\", \"Topic2\", \"Topic2\", \"Topic2\", \"Topic2\", \"Topic2\", \"Topic2\", \"Topic2\", \"Topic2\", \"Topic2\", \"Topic2\", \"Topic2\", \"Topic2\", \"Topic2\", \"Topic2\", \"Topic2\", \"Topic2\", \"Topic2\", \"Topic2\", \"Topic2\", \"Topic2\", \"Topic2\", \"Topic2\", \"Topic2\", \"Topic2\", \"Topic2\", \"Topic2\", \"Topic2\", \"Topic2\", \"Topic2\", \"Topic2\", \"Topic2\", \"Topic2\", \"Topic2\", \"Topic2\", \"Topic2\", \"Topic2\", \"Topic2\", \"Topic2\", \"Topic2\", \"Topic2\", \"Topic2\", \"Topic2\", \"Topic2\", \"Topic2\", \"Topic2\", \"Topic2\", \"Topic2\", \"Topic2\", \"Topic2\", \"Topic2\", \"Topic2\", \"Topic2\", \"Topic2\", \"Topic2\", \"Topic2\", \"Topic2\", \"Topic2\", \"Topic2\", \"Topic2\", \"Topic2\", \"Topic2\", \"Topic2\", \"Topic2\", \"Topic2\", \"Topic2\", \"Topic2\", \"Topic2\", \"Topic3\", \"Topic3\", \"Topic3\", \"Topic3\", \"Topic3\", \"Topic3\", \"Topic3\", \"Topic3\", \"Topic3\", \"Topic3\", \"Topic3\", \"Topic3\", \"Topic3\", \"Topic3\", \"Topic3\", \"Topic3\", \"Topic3\", \"Topic3\", \"Topic3\", \"Topic3\", \"Topic3\", \"Topic3\", \"Topic3\", \"Topic3\", \"Topic3\", \"Topic3\", \"Topic3\", \"Topic3\", \"Topic3\", \"Topic3\", \"Topic3\", \"Topic3\", \"Topic3\", \"Topic3\", \"Topic3\", \"Topic3\", \"Topic3\", \"Topic3\", \"Topic3\", \"Topic3\", \"Topic3\", \"Topic3\", \"Topic3\", \"Topic3\", \"Topic3\", \"Topic3\"], \"Freq\": [356.0, 1439.0, 1373.0, 1953.0, 194.0, 420.0, 182.0, 122.0, 484.0, 888.0, 629.0, 550.0, 716.0, 83.0, 712.0, 467.0, 492.0, 315.0, 347.0, 223.0, 320.0, 306.0, 220.0, 91.0, 170.0, 282.0, 167.0, 359.0, 91.0, 86.0, 400.1607971191406, 851.2847290039062, 462.9767761230469, 187.31044006347656, 128.66241455078125, 86.23406219482422, 104.87723541259766, 107.4964599609375, 87.68343353271484, 160.29100036621094, 143.1869659423828, 57.91227722167969, 348.00518798828125, 111.28184509277344, 109.46513366699219, 59.39302062988281, 54.936309814453125, 47.741058349609375, 45.93663024902344, 81.40492248535156, 67.99971008300781, 44.024879455566406, 366.5849304199219, 56.32769775390625, 40.41286087036133, 40.41338348388672, 37.641998291015625, 69.3897705078125, 64.08556365966797, 97.6032943725586, 330.56756591796875, 381.62109375, 280.85296630859375, 619.3810424804688, 142.53321838378906, 163.93182373046875, 266.5749206542969, 758.9268188476562, 292.2127380371094, 122.2081527709961, 148.6001434326172, 148.1782989501953, 501.5047302246094, 668.31298828125, 422.0630187988281, 265.0616149902344, 1797.349365234375, 422.2179260253906, 484.85174560546875, 230.4767608642578, 294.8409118652344, 220.49627685546875, 821.0902099609375, 660.904541015625, 240.38966369628906, 1232.6051025390625, 1287.9788818359375, 659.6697387695312, 348.278076171875, 572.9425048828125, 393.96484375, 341.3108215332031, 450.9046936035156, 497.51800537109375, 424.21771240234375, 427.5482482910156, 340.02056884765625, 314.1736755371094, 330.6782531738281, 353.0564270019531, 9.208563804626465, 68.27609252929688, 5.80509090423584, 269.9041442871094, 5.0854597091674805, 4.745721817016602, 22.84723663330078, 4.384053707122803, 4.012232303619385, 4.007619380950928, 3.9583640098571777, 3.641789674758911, 8.63191032409668, 3.636104106903076, 7.341883659362793, 3.608994245529175, 15.620441436767578, 80.69834899902344, 3.2707531452178955, 28.35149383544922, 5.079636096954346, 5.067103385925293, 3.519556999206543, 3.2155237197875977, 3.210519313812256, 2.899139881134033, 4.973885536193848, 2.884035348892212, 2.881704807281494, 2.8721184730529785, 6.71553897857666, 22.181623458862305, 3.459075927734375, 84.58013916015625, 26.246862411499023, 21.916738510131836, 13.663021087646484, 27.206371307373047, 17.628028869628906, 10.708942413330078, 61.219791412353516, 19.084192276000977, 8.722062110900879, 8.476682662963867, 27.855712890625, 13.035360336303711, 151.55308532714844, 67.14849090576172, 141.2211456298828, 18.2856388092041, 23.61585807800293, 156.40159606933594, 17.77614974975586, 23.473264694213867, 56.85090255737305, 67.36933135986328, 56.61720275878906, 52.82747268676758, 56.99562072753906, 52.047752380371094, 42.983768463134766, 41.52069854736328, 34.641868591308594, 34.60759353637695, 30.20763397216797, 32.891151428222656, 31.449649810791016, 28.25505256652832, 33.468597412109375, 29.02219581604004, 28.79290008544922, 27.813161849975586, 28.18501853942871, 0.06345383077859879, 0.021518727764487267, 0.021517958492040634, 0.021517518907785416, 0.01908322237432003, 0.019082272425293922, 0.01780112273991108, 0.01780073158442974, 0.017800725996494293, 0.017800679430365562, 0.017800668254494667, 0.017800582572817802, 0.017800530418753624, 0.017800459638237953, 0.017800452187657356, 0.01780032552778721, 0.01780031993985176, 0.017800290137529373, 0.01780022867023945, 0.01780014857649803, 0.01780012436211109, 0.015328878536820412, 0.015329058282077312, 0.015328873880207539, 0.01532893255352974, 0.015328926965594292, 0.015328923240303993, 0.015329002402722836, 0.01532900519669056, 0.01532899308949709, 0.01968700997531414, 0.0191552322357893, 0.019670560956001282, 0.01962588168680668, 0.019602905958890915, 0.021799854934215546, 0.015329139307141304, 0.015329131856560707, 0.017630748450756073, 0.02487150765955448, 0.019118817523121834, 0.021024180576205254, 0.020863469690084457, 0.018706893548369408, 0.018341941758990288, 0.01793185994029045], \"Term\": [\"\\u0432\\u043a\\u043b\\u0430\\u0434\", \"\\u043a\\u0430\\u0440\\u0442\\u0430\", \"\\u0431\\u0430\\u043d\\u043a\", \"\\u0431\\u0430\\u043d\\u043a\\u0430\", \"\\u0443\\u0441\\u043b\\u043e\\u0432\\u0438\\u0435\", \"\\u0434\\u043e\\u0433\\u043e\\u0432\\u043e\\u0440\", \"\\u043f\\u0440\\u043e\\u0446\\u0435\\u043d\\u0442\", \"\\u0441\\u0442\\u0430\\u0432\\u043a\\u0430\", \"\\u0441\\u0432\\u043e\\u0439\", \"\\u0433\\u043e\\u0434\", \"\\u043a\\u043b\\u0438\\u0435\\u043d\\u0442\", \"\\u0441\\u0443\\u043c\\u043c\\u0430\", \"\\u043a\\u043e\\u0442\\u043e\\u0440\\u044b\\u0439\", \"\\u043f\\u043e\\u043f\\u043e\\u043b\\u043d\\u0435\\u043d\\u0438\\u0435\", \"\\u0434\\u0435\\u043d\\u044c\\u0433\\u0430\", \"\\u043e\\u0442\\u0434\\u0435\\u043b\\u0435\\u043d\\u0438\\u0435\", \"\\u0441\\u0447\\u0451\\u0442\", \"\\u043c\\u0430\\u0439\", \"\\u0442\\u0430\\u043a\\u043e\\u0439\", \"\\u0441\\u0440\\u043e\\u043a\", \"\\u043e\\u0434\\u0438\\u043d\", \"\\u043e\\u0444\\u0438\\u0441\", \"\\u0434\\u0440\\u0443\\u0433\\u043e\\u0439\", \"\\u043e\\u0442\\u043a\\u0440\\u044b\\u0442\\u044c\", \"\\u043e\\u0431\\u0441\\u043b\\u0443\\u0436\\u0438\\u0432\\u0430\\u043d\\u0438\\u0435\", \"\\u0431\\u044b\\u0442\\u044c\", \"\\u0441\\u0430\\u0439\\u0442\", \"\\u043f\\u043e\\u043b\\u0443\\u0447\\u0438\\u0442\\u044c\", \"\\u0431\\u0430\\u043d\\u043a\\u043e\\u0432\\u0441\\u043a\\u0438\\u0439\", \"\\u043f\\u043e\\u0440\\u044f\\u0434\\u043e\\u043a\", \"\\u043f\\u043b\\u0430\\u0442\\u0451\\u0436\", \"\\u043a\\u0440\\u0435\\u0434\\u0438\\u0442\", \"\\u043a\\u0440\\u0435\\u0434\\u0438\\u0442\\u043d\\u044b\\u0439\", \"\\u0437\\u0430\\u0434\\u043e\\u043b\\u0436\\u0435\\u043d\\u043d\\u043e\\u0441\\u0442\\u044c\", \"\\u043f\\u043e\\u0433\\u0430\\u0448\\u0435\\u043d\\u0438\\u0435\", \"\\u043f\\u0435\\u0440\\u0441\\u043e\\u043d\\u0430\\u043b\\u044c\\u043d\\u044b\\u0439\", \"\\u0430\\u043b\\u044c\\u0444\\u0430\", \"\\u043f\\u0440\\u043e\\u0441\\u0440\\u043e\\u0447\\u043a\\u0430\", \"\\u043f\\u043e\\u0433\\u0430\\u0441\\u0438\\u0442\\u044c\", \"\\u0434\\u043e\\u043b\\u0433\", \"\\u0441\\u043b\\u0443\\u0436\\u0431\\u0430\", \"\\u043e\\u043e\\u043e\", \"\\u0437\\u0432\\u043e\\u043d\\u043e\\u043a\", \"\\u0442\\u0440\\u0435\\u0431\\u043e\\u0432\\u0430\\u0442\\u044c\", \"\\u043b\\u0438\\u043c\\u0438\\u0442\", \"\\u0440\\u0430\\u0441\\u0441\\u043c\\u043e\\u0442\\u0440\\u0435\\u043d\\u0438\\u0435\", \"\\u0440\\u0435\\u043a\\u0432\\u0438\\u0437\\u0438\\u0442\", \"\\u043f\\u0440\\u043e\\u0441\\u0440\\u043e\\u0447\\u0438\\u0442\\u044c\", \"\\u0432\\u0437\\u044b\\u0441\\u043a\\u0430\\u043d\\u0438\\u0435\", \"\\u0432\\u044b\\u043f\\u0438\\u0441\\u043a\\u0430\", \"\\u0440\\u0430\\u0437\\u0433\\u043e\\u0432\\u043e\\u0440\", \"\\u0434\\u043e\\u043b\\u0436\\u043d\\u0438\\u043a\", \"\\u0442\\u0435\\u043b\\u0435\\u0444\\u043e\\u043d\", \"\\u0443\\u0442\\u0440\\u043e\", \"\\u0432\\u043e\\u0441\\u0442\\u043e\\u0447\\u043d\\u044b\\u0439\", \"\\u0430\\u0433\\u0435\\u043d\\u0442\\u0441\\u0442\\u0432\\u043e\", \"\\u043a\\u043e\\u043b\\u043b\\u0435\\u043a\\u0442\\u043e\\u0440\\u0441\\u043a\\u0438\\u0439\", \"\\u0441\\u043e\\u0433\\u043b\\u0430\\u0441\\u0438\\u0435\", \"\\u043a\\u043e\\u043f\\u0438\\u044f\", \"\\u043c\\u0435\\u043d\\u0435\\u0434\\u0436\\u0435\\u0440\", \"\\u0437\\u0432\\u043e\\u043d\\u0438\\u0442\\u044c\", \"\\u043d\\u043e\\u043c\\u0435\\u0440\", \"\\u0434\\u043e\\u043a\\u0443\\u043c\\u0435\\u043d\\u0442\", \"\\u0441\\u043e\\u0442\\u0440\\u0443\\u0434\\u043d\\u0438\\u043a\", \"\\u043f\\u0435\\u0440\\u0435\\u0432\\u043e\\u0434\", \"\\u043e\\u043f\\u043b\\u0430\\u0442\\u0430\", \"\\u043f\\u0440\\u043e\\u0441\\u0438\\u0442\\u044c\", \"\\u043c\\u043e\\u0439\", \"\\u0441\\u0431\\u0435\\u0440\\u0431\\u0430\\u043d\\u043a\", \"\\u0441\\u0442\\u0440\\u0430\\u0445\\u043e\\u0432\\u0430\\u043d\\u0438\\u0435\", \"\\u043e\\u043f\\u043b\\u0430\\u0442\\u0438\\u0442\\u044c\", \"\\u043e\\u0431\\u0440\\u0430\\u0449\\u0435\\u043d\\u0438\\u0435\", \"\\u0434\\u0430\\u0442\\u044c\", \"\\u0434\\u0435\\u043d\\u044c\", \"\\u0432\\u0430\\u0448\", \"\\u0441\\u043c\\u0441\", \"\\u0431\\u0430\\u043d\\u043a\\u0430\", \"\\u0437\\u0430\\u044f\\u0432\\u043b\\u0435\\u043d\\u0438\\u0435\", \"\\u0440\\u0443\\u0431\\u043b\\u044c\", \"\\u043e\\u0431\\u0440\\u0430\\u0442\\u0438\\u0442\\u044c\\u0441\\u044f\", \"\\u043f\\u0440\\u043e\\u0431\\u043b\\u0435\\u043c\\u0430\", \"\\u0440\\u0430\\u0431\\u043e\\u0442\\u0430\", \"\\u0433\\u043e\\u0434\", \"\\u0434\\u0435\\u043d\\u044c\\u0433\\u0430\", \"\\u0438\\u043d\\u0444\\u043e\\u0440\\u043c\\u0430\\u0446\\u0438\\u044f\", \"\\u0431\\u0430\\u043d\\u043a\", \"\\u043a\\u0430\\u0440\\u0442\\u0430\", \"\\u043a\\u043e\\u0442\\u043e\\u0440\\u044b\\u0439\", \"\\u0432\\u0440\\u0435\\u043c\\u044f\", \"\\u043a\\u043b\\u0438\\u0435\\u043d\\u0442\", \"\\u0441\\u043a\\u0430\\u0437\\u0430\\u0442\\u044c\", \"\\u0432\\u043e\\u043f\\u0440\\u043e\\u0441\", \"\\u0441\\u0447\\u0451\\u0442\", \"\\u0441\\u0443\\u043c\\u043c\\u0430\", \"\\u043e\\u0442\\u0434\\u0435\\u043b\\u0435\\u043d\\u0438\\u0435\", \"\\u0441\\u0432\\u043e\\u0439\", \"\\u043c\\u043e\\u0447\\u044c\", \"\\u043e\\u0442\\u0432\\u0435\\u0442\", \"\\u043f\\u043e\\u043b\\u0443\\u0447\\u0438\\u0442\\u044c\", \"\\u0434\\u043e\\u0433\\u043e\\u0432\\u043e\\u0440\", \"\\u043f\\u0440\\u0438\\u043c\\u0435\\u043d\\u044f\\u0442\\u044c\\u0441\\u044f\", \"\\u043f\\u043e\\u043f\\u043e\\u043b\\u043d\\u0435\\u043d\\u0438\\u0435\", \"\\u0443\\u043d\\u0438\\u0444\\u0438\\u043a\\u0430\\u0446\\u0438\\u044f\", \"\\u0432\\u043a\\u043b\\u0430\\u0434\", \"\\u043c\\u0435\\u0442\\u0440\\u043e\\u0431\\u0430\\u043d\\u043a\", \"\\u0443\\u043d\\u0438\\u0444\\u0438\\u0446\\u0438\\u0440\\u043e\\u0432\\u0430\\u0442\\u044c\", \"\\u043e\\u0434\\u043d\\u043e\\u0441\\u0442\\u043e\\u0440\\u043e\\u043d\\u043d\\u0438\\u0439\", \"\\u0442\\u043f\\u0434\", \"\\u0442\\u0438\\u043d\\u044c\\u043a\\u043e\\u0432\\u044b\", \"\\u0431\\u0430\\u043b\\u0442\\u0438\\u043a\\u0430\", \"\\u043a\\u0430\\u043f\\u0438\\u0442\\u0430\\u043b\\u0438\\u0437\\u0430\\u0446\\u0438\\u044f\", \"\\u0432\\u0432\\u043e\\u0434\\u0438\\u0442\\u044c\\u0441\\u044f\", \"\\u0431\\u0430\\u043b\\u043b\", \"\\u0437\\u0430\\u0432\\u0438\\u0441\\u0438\\u043c\\u043e\\u0441\\u0442\\u044c\", \"\\u0442\\u0430\\u0440\\u0438\\u0444\\u043d\\u044b\\u0439\", \"\\u043a\\u043b\\u044e\\u0447\\u0435\\u0432\\u043e\\u0439\", \"\\u0438\\u044e\\u043b\\u044c\", \"\\u0441\\u0442\\u0430\\u0432\\u043a\\u0430\", \"\\u0445\\u0430\\u0440\\u0430\\u043a\\u0442\\u0435\\u0440\\u0438\\u0441\\u0442\\u0438\\u043a\\u0430\", \"\\u0432\\u043a\\u043b\\u0430\\u0434\\u0447\\u0438\\u043a\", \"\\u0437\\u0430\\u043a\\u043b\\u044e\\u0447\\u0451\\u043d\\u043d\\u044b\\u0439\", \"\\u0444\\u043e\\u0440\\u0443\\u043c\", \"\\u0442\\u0431\", \"\\u0437\\u0430\\u043f\\u0440\\u0430\\u0432\\u043a\\u0430\", \"\\u043c\\u043e\\u043c\\u0435\\u043d\\u0442\\u0443\\u043c\", \"\\u043b\\u0435\\u0441\\u0435\\u043d\\u043a\\u0430\", \"\\u0440\\u0430\\u0437\\u043c\\u0435\\u0449\\u0435\\u043d\\u0438\\u0435\", \"\\u043f\\u0440\\u043e\\u043c\\u043e\\u043a\\u043e\\u0434\", \"\\u0434\\u043e\\u0445\\u043e\\u0434\\u043d\\u043e\\u0441\\u0442\\u044c\", \"\\u0441\\u0443\\u0434\\u0430\\u0440\\u044b\\u043d\\u044f\", \"\\u0442\\u043a\\u0441\", \"\\u043f\\u043e\\u043f\\u043e\\u043b\\u043d\\u044f\\u0442\\u044c\", \"\\u043a\\u0438\\u043d\\u0443\\u0442\\u044c\", \"\\u0443\\u0441\\u043b\\u043e\\u0432\\u0438\\u0435\", \"\\u0434\\u0435\\u043f\\u043e\\u0437\\u0438\\u0442\", \"\\u043f\\u0440\\u043e\\u0446\\u0435\\u043d\\u0442\\u043d\\u044b\\u0439\", \"\\u0434\\u043e\\u043b\\u043b\\u0430\\u0440\", \"\\u0438\\u0437\\u043c\\u0435\\u043d\\u0435\\u043d\\u0438\\u0435\", \"\\u0442\\u0438\\u043d\\u044c\\u043a\\u043e\\u0444\\u0444\", \"\\u043d\\u043e\\u0432\\u043e\\u0441\\u0442\\u044c\", \"\\u043f\\u0440\\u043e\\u0446\\u0435\\u043d\\u0442\", \"\\u043e\\u0442\\u043a\\u0440\\u044b\\u0442\\u044b\\u0439\", \"\\u0441\\u043d\\u0438\\u0437\\u0438\\u0442\\u044c\", \"\\u0441\\u043d\\u0438\\u0436\\u0435\\u043d\\u0438\\u0435\", \"\\u043e\\u0442\\u043a\\u0440\\u044b\\u0442\\u044c\", \"\\u0434\\u0435\\u043a\\u0430\\u0431\\u0440\\u044c\", \"\\u043a\\u0430\\u0440\\u0442\\u0430\", \"\\u0434\\u043e\\u0433\\u043e\\u0432\\u043e\\u0440\", \"\\u0431\\u0430\\u043d\\u043a\", \"\\u0433\\u043e\\u0434\\u043e\\u0432\\u043e\\u0439\", \"\\u043f\\u043e\\u0440\\u044f\\u0434\\u043e\\u043a\", \"\\u0431\\u0430\\u043d\\u043a\\u0430\", \"\\u043e\\u0442\\u043a\\u0440\\u044b\\u0442\\u0438\\u0435\", \"\\u0431\\u0430\\u043d\\u043a\\u043e\\u0432\\u0441\\u043a\\u0438\\u0439\", \"\\u0441\\u0432\\u043e\\u0439\", \"\\u0433\\u043e\\u0434\", \"\\u043a\\u043b\\u0438\\u0435\\u043d\\u0442\", \"\\u0441\\u0443\\u043c\\u043c\\u0430\", \"\\u043a\\u043e\\u0442\\u043e\\u0440\\u044b\\u0439\", \"\\u0434\\u0435\\u043d\\u044c\\u0433\\u0430\", \"\\u043e\\u0442\\u0434\\u0435\\u043b\\u0435\\u043d\\u0438\\u0435\", \"\\u0441\\u0447\\u0451\\u0442\", \"\\u043c\\u0430\\u0439\", \"\\u0442\\u0430\\u043a\\u043e\\u0439\", \"\\u0441\\u0440\\u043e\\u043a\", \"\\u043e\\u0434\\u0438\\u043d\", \"\\u043e\\u0444\\u0438\\u0441\", \"\\u0434\\u0440\\u0443\\u0433\\u043e\\u0439\", \"\\u0434\\u0435\\u043d\\u044c\", \"\\u043f\\u043e\\u043b\\u0443\\u0447\\u0438\\u0442\\u044c\", \"\\u0441\\u043a\\u0430\\u0437\\u0430\\u0442\\u044c\", \"\\u0431\\u044b\\u0442\\u044c\", \"\\u043c\\u043e\\u0439\", \"\\u0438\\u043d\\u0432\\u0435\\u0441\\u0442\\u0440\\u0430\\u0441\\u0442\\u0431\\u0430\\u043d\\u043a\", \"\\u043e\\u0442\\u043b\\u0438\\u0432\\u0430\\u0442\\u044c\", \"\\u043a\\u0430\\u043c\\u0435\\u0440\\u0443\\u043d\", \"\\u0433\\u0435\\u0440\\u0431\", \"\\u043c\\u0430\\u0441\\u043b\\u043e\\u0432\", \"\\u043c\\u043e\\u0442\\u0438\\u0432\\u0438\\u0440\\u043e\\u0432\\u0430\\u043d\\u043d\\u044b\\u0439\", \"\\u0440\\u043e\\u0434\\u0438\\u0442\\u044c\\u0441\\u044f\", \"\\u0448\\u043b\\u0451\\u043d\\u0441\\u043a\\u0438\\u0439\", \"\\u0442\\u044c\\u0441\\u044f\", \"\\u043f\\u043e\\u043a\\u043e\\u0440\\u0438\\u0442\\u044c\", \"\\u043d\\u0430\\u0431\\u0435\\u0440\", \"\\u0441\\u0441\\u044f\", \"\\u044f\\u0440\\u0438\\u043d\\u0430\", \"\\u0434\\u0438\\u0432\", \"\\u043b\\u0435\\u043b\\u0435\\u044f\\u0442\\u044c\", \"\\u043e\\u0442\\u0440\\u0430\\u0434\\u0430\", \"\\u043f\\u043e\\u0432\\u0435\\u0440\\u044c\", \"\\u043e\\u0442\\u043d\", \"\\u0441\\u043a\\u0440\\u0443\\u043f\\u0443\\u043b\", \"\\u0440\\u0430\\u0437\\u0433\\u0440\\u0430\", \"\\u043f\\u043e\\u0439\\u043c\\u0430\", \"\\u043f\\u0440\\u0435\\u0434\\u043d\\u0430\\u043c\\u0435\\u0440\\u0435\\u043d\\u043d\\u044b\\u0439\", \"\\u0434\\u043e\\u0432\\u043d\\u043e\\u0441\\u0438\\u0442\\u044c\", \"\\u043f\\u043e\\u043d\\u0438\\u0436\\u0435\\u043d\\u043d\\u044b\\u0439\", \"\\u0441\\u043a\\u0430\\u0442\\u0438\\u0442\\u044c\\u0441\\u044f\", \"\\u043f\\u0440\\u0438\\u0441\\u0442\\u043e\\u0438\\u0442\\u044c\", \"\\u0440\\u0435\\u0436\", \"\\u0440\\u043e\\u0441\\u0438\\u043d\\u0442\\u0435\\u0440\\u0431\\u0430\\u043d\\u043a\", \"\\u043f\\u043e\\u0437\\u0438\\u0442\\u0438\\u0432\\u043d\\u043e\", \"\\u0438\\u0433\\u0440\\u0430\\u0442\\u044c\\u0441\\u044f\", \"\\u043f\\u0440\\u043e\\u0431\\u0430\", \"\\u043e\\u0431\\u043e\\u0441\\u043d\\u043e\\u0432\\u0430\\u043d\\u0438\\u0435\", \"\\u0437\\u043e\\u0434\\u0438\\u0430\\u043a\", \"\\u0441\\u0435\\u0440\\u0435\\u0431\\u0440\\u044f\\u043d\\u044b\\u0439\", \"\\u043a\\u0430\\u0442\\u0430\\u043b\\u043e\\u0433\", \"\\u0430\\u0440\\u0431\\u0438\\u0442\\u0440\\u0430\\u0436\", \"\\u0436\\u0430\\u0442\\u044c\", \"\\u0432\\u044b\\u043a\\u043b\\u0430\\u0434\\u044b\\u0432\\u0430\\u0442\\u044c\", \"\\u0445\\u0432\\u0430\\u043b\\u0438\\u0442\\u044c\", \"\\u043c\\u043e\\u043d\\u0435\\u0442\\u0430\", \"\\u0440\\u044b\\u0431\\u0430\", \"\\u043d\\u0430\\u0441\\u0442\\u043e\\u043b\\u044c\\u043a\\u043e\", \"\\u043c\\u043f\\u0441\", \"\\u043e\\u0431\\u043c\\u0435\\u043d\\u044f\\u0442\\u044c\", \"\\u043a\\u0430\\u0440\\u0442\\u0430\", \"\\u0440\\u0430\\u0441\\u0442\\u0438\"], \"Total\": [356.0, 1439.0, 1373.0, 1953.0, 194.0, 420.0, 182.0, 122.0, 484.0, 888.0, 629.0, 550.0, 716.0, 83.0, 712.0, 467.0, 492.0, 315.0, 347.0, 223.0, 320.0, 306.0, 220.0, 91.0, 170.0, 282.0, 167.0, 359.0, 91.0, 86.0, 402.7370300292969, 857.9467163085938, 466.61358642578125, 189.03567504882812, 129.8573760986328, 87.0522232055664, 105.98577117919922, 108.66504669189453, 88.66068267822266, 162.12261962890625, 144.83544921875, 58.61482238769531, 352.6314697265625, 112.78292083740234, 110.95431518554688, 60.21257781982422, 55.725406646728516, 48.45389938354492, 46.63333511352539, 82.67866516113281, 69.09934997558594, 44.74816131591797, 372.63909912109375, 57.29133987426758, 41.1058349609375, 41.10708236694336, 38.335838317871094, 70.67135620117188, 65.27132415771484, 99.41427612304688, 337.3808898925781, 390.52783203125, 287.191650390625, 639.5323486328125, 145.1970977783203, 167.25416564941406, 273.5119934082031, 787.1284790039062, 300.31494140625, 124.51161193847656, 151.79150390625, 151.53280639648438, 519.6980590820312, 701.7980346679688, 439.9317932128906, 273.7164611816406, 1953.768310546875, 441.51202392578125, 509.75201416015625, 237.8412322998047, 306.7401428222656, 227.4060516357422, 888.4765625, 712.9683837890625, 249.3249053955078, 1373.8433837890625, 1439.55029296875, 716.6815185546875, 369.1077880859375, 629.5759887695312, 422.7735900878906, 362.3500061035156, 492.4411926269531, 550.3613891601562, 467.21710205078125, 484.41497802734375, 365.2846984863281, 331.6624450683594, 359.716064453125, 420.2206726074219, 10.904525756835938, 83.63414764404297, 7.651423931121826, 356.0033874511719, 6.879148483276367, 6.461090087890625, 31.21058464050293, 6.079573631286621, 5.70752477645874, 5.714484691619873, 5.784812927246094, 5.337075233459473, 12.666803359985352, 5.344254493713379, 10.896302223205566, 5.3817009925842285, 23.50581169128418, 122.37175750732422, 4.965866565704346, 43.33094024658203, 7.802403450012207, 7.816568374633789, 5.510282039642334, 5.042098045349121, 5.048959732055664, 4.594548225402832, 7.952517986297607, 4.616205215454102, 4.6175150871276855, 4.631490707397461, 10.90030574798584, 37.731163024902344, 5.6007208824157715, 194.09339904785156, 53.81820297241211, 44.59265899658203, 26.411741256713867, 59.79576873779297, 36.19919967651367, 20.652257919311523, 182.6947021484375, 46.950416564941406, 17.147933959960938, 16.590164184570312, 91.11088562011719, 31.953914642333984, 1439.55029296875, 420.2206726074219, 1373.8433837890625, 56.44383239746094, 86.3468017578125, 1953.768310546875, 55.35615539550781, 91.15990447998047, 484.41497802734375, 888.4765625, 629.5759887695312, 550.3613891601562, 716.6815185546875, 712.9683837890625, 467.21710205078125, 492.4411926269531, 315.37078857421875, 347.58843994140625, 223.23252868652344, 320.7371826171875, 306.26806640625, 220.61578369140625, 701.7980346679688, 359.716064453125, 422.7735900878906, 282.15533447265625, 787.1284790039062, 3.5797457695007324, 2.6097311973571777, 2.6098124980926514, 2.6098597049713135, 2.8701722621917725, 2.8702757358551025, 3.0067503452301025, 3.00679349899292, 3.0067944526672363, 3.0067989826202393, 3.006800413131714, 3.006809949874878, 3.0068156719207764, 3.0068233013153076, 3.0068247318267822, 3.006838321685791, 3.006838798522949, 3.0068421363830566, 3.0068488121032715, 3.0068576335906982, 3.0068604946136475, 2.738631248474121, 2.738663911819458, 2.7386317253112793, 2.7386486530303955, 2.7386488914489746, 2.738649368286133, 2.738675117492676, 2.738675355911255, 2.738676071166992, 3.7227537631988525, 3.601365089416504, 3.7245802879333496, 3.7295377254486084, 3.7320854663848877, 4.413057327270508, 2.738715887069702, 2.7387166023254395, 3.791259527206421, 8.693564414978027, 4.690865516662598, 7.489658355712891, 11.900697708129883, 5.120854377746582, 1439.55029296875, 6.988245964050293], \"loglift\": [30.0, 29.0, 28.0, 27.0, 26.0, 25.0, 24.0, 23.0, 22.0, 21.0, 20.0, 19.0, 18.0, 17.0, 16.0, 15.0, 14.0, 13.0, 12.0, 11.0, 10.0, 9.0, 8.0, 7.0, 6.0, 5.0, 4.0, 3.0, 2.0, 1.0, 0.1257999986410141, 0.12439999729394913, 0.12439999729394913, 0.12300000339746475, 0.12300000339746475, 0.12280000001192093, 0.1216999962925911, 0.12139999866485596, 0.12110000103712082, 0.120899997651577, 0.12080000340938568, 0.12020000070333481, 0.11900000274181366, 0.11879999935626984, 0.11869999766349792, 0.1185000017285347, 0.11800000071525574, 0.11739999800920486, 0.11720000207424164, 0.11670000106096268, 0.11620000004768372, 0.11590000241994858, 0.11580000072717667, 0.1151999980211258, 0.1151999980211258, 0.1151999980211258, 0.11389999836683273, 0.11389999836683273, 0.11389999836683273, 0.11379999667406082, 0.11180000007152557, 0.10909999907016754, 0.10989999771118164, 0.10019999742507935, 0.1137000024318695, 0.11209999769926071, 0.10649999976158142, 0.09570000320672989, 0.10490000247955322, 0.11349999904632568, 0.11100000143051147, 0.10980000346899033, 0.0966000035405159, 0.08330000191926956, 0.09070000052452087, 0.10010000318288803, 0.04879999905824661, 0.08749999850988388, 0.08209999650716782, 0.10080000013113022, 0.09260000288486481, 0.10140000283718109, 0.053300000727176666, 0.05640000104904175, 0.09570000320672989, 0.02370000071823597, 0.020999999716877937, 0.049300000071525574, 0.07410000264644623, 0.03799999877810478, 0.06159999966621399, 0.07240000367164612, 0.04410000145435333, 0.031300000846385956, 0.0357000008225441, 0.007300000172108412, 0.060499999672174454, 0.07800000160932541, 0.04800000041723251, -0.04190000146627426, 1.9292999505996704, 1.8954999446868896, 1.8221999406814575, 1.8214999437332153, 1.7963000535964966, 1.7898000478744507, 1.7863999605178833, 1.771399974822998, 1.74590003490448, 1.7436000108718872, 1.718999981880188, 1.7161999940872192, 1.714900016784668, 1.7132999897003174, 1.7035000324249268, 1.698799967765808, 1.6897000074386597, 1.6820000410079956, 1.680799961090088, 1.6742000579833984, 1.6691999435424805, 1.6648999452590942, 1.6500999927520752, 1.6484999656677246, 1.6455999612808228, 1.6378999948501587, 1.62909996509552, 1.628000020980835, 1.6268999576568604, 1.6204999685287476, 1.6139999628067017, 1.567199945449829, 1.6165000200271606, 1.267699956893921, 1.3803000450134277, 1.388100028038025, 1.4392999410629272, 1.3108999729156494, 1.3788000345230103, 1.44159996509552, 1.0049999952316284, 1.198099970817566, 1.4223999977111816, 1.426900029182434, 0.9132999777793884, 1.20169997215271, -0.15279999375343323, 0.2644999921321869, -0.17669999599456787, 0.9711999893188477, 0.8019000291824341, -0.42669999599456787, 0.9624000191688538, 0.741599977016449, -0.04410000145435333, -0.48089998960494995, -0.31040000915527344, -0.2451999932527542, -0.4332999885082245, -0.5188999772071838, -0.28760001063346863, -0.3747999966144562, -0.11029999703168869, -0.2085999995470047, 0.09830000251531601, -0.17900000512599945, -0.1776999980211258, 0.04320000112056732, -0.9447000026702881, -0.4189000129699707, -0.5882999897003174, -0.21860000491142273, -1.2311999797821045, 2.7016000747680664, 1.9363000392913818, 1.9362000226974487, 1.9362000226974487, 1.7209999561309814, 1.720900058746338, 1.6050000190734863, 1.6049000024795532, 1.6049000024795532, 1.6049000024795532, 1.6049000024795532, 1.6049000024795532, 1.6049000024795532, 1.6049000024795532, 1.6049000024795532, 1.6049000024795532, 1.6049000024795532, 1.6049000024795532, 1.6049000024795532, 1.6049000024795532, 1.6049000024795532, 1.5489000082015991, 1.5489000082015991, 1.5489000082015991, 1.5489000082015991, 1.5489000082015991, 1.5489000082015991, 1.5489000082015991, 1.5489000082015991, 1.5489000082015991, 1.4921000003814697, 1.4977999925613403, 1.4907000064849854, 1.4871000051498413, 1.4852999448776245, 1.4239000082015991, 1.548799991607666, 1.548799991607666, 1.3634999990463257, 0.8776999711990356, 1.231600046157837, 0.8586999773979187, 0.3880000114440918, 1.1222000122070312, -4.536300182342529, 0.7688999772071838], \"logprob\": [30.0, 29.0, 28.0, 27.0, 26.0, 25.0, 24.0, 23.0, 22.0, 21.0, 20.0, 19.0, 18.0, 17.0, 16.0, 15.0, 14.0, 13.0, 12.0, 11.0, 10.0, 9.0, 8.0, 7.0, 6.0, 5.0, 4.0, 3.0, 2.0, 1.0, -5.571199893951416, -4.816299915313721, -5.4253997802734375, -6.3302998542785645, -6.705900192260742, -7.105999946594238, -6.910299777984619, -6.8856000900268555, -7.089399814605713, -6.486100196838379, -6.598899841308594, -7.504199981689453, -5.710899829864502, -6.85099983215332, -6.867499828338623, -7.478899955749512, -7.5569000244140625, -7.697299957275391, -7.735799789428711, -7.163599967956543, -7.343599796295166, -7.778299808502197, -5.658899784088135, -7.531899929046631, -7.863900184631348, -7.863900184631348, -7.934999942779541, -7.323299884796143, -7.402900218963623, -6.9822001457214355, -5.76230001449585, -5.61870002746582, -5.925300121307373, -5.134399890899658, -6.603499889373779, -6.463600158691406, -5.977399826049805, -4.93120002746582, -5.8856000900268555, -6.757400035858154, -6.561800003051758, -6.564700126647949, -5.3454999923706055, -5.058300018310547, -5.517899990081787, -5.983099937438965, -4.068999767303467, -5.517600059509277, -5.379199981689453, -6.122900009155273, -5.8765997886657715, -6.167200088500977, -4.852499961853027, -5.069499969482422, -6.0808000564575195, -4.446199893951416, -4.402299880981445, -5.071300029754639, -5.710100173950195, -5.212299823760986, -5.5868000984191895, -5.730299949645996, -5.4517998695373535, -5.353499889373779, -5.512800216674805, -5.505000114440918, -5.734099864959717, -5.8130998611450195, -5.761899948120117, -5.696499824523926, -7.376800060272217, -5.3734002113342285, -7.838200092315674, -3.9988999366760254, -7.9704999923706055, -8.03969955444336, -6.468100070953369, -8.118900299072266, -8.207599639892578, -8.208700180053711, -8.221099853515625, -8.304400444030762, -7.441500186920166, -8.305999755859375, -7.603300094604492, -8.31350040435791, -6.848299980163574, -5.206200122833252, -8.41189956665039, -6.252200126647949, -7.971700191497803, -7.9741997718811035, -8.338600158691406, -8.428899765014648, -8.430500030517578, -8.532500267028809, -7.992700099945068, -8.537699699401855, -8.53849983215332, -8.541899681091309, -7.692500114440918, -6.497700214385986, -8.355899810791016, -5.159200191497803, -6.329400062561035, -6.509699821472168, -6.9822001457214355, -6.293499946594238, -6.727399826049805, -7.225800037384033, -5.482500076293945, -6.648099899291992, -7.431099891662598, -7.45959997177124, -6.269899845123291, -7.029300212860107, -4.576000213623047, -5.389999866485596, -4.646599769592285, -6.690800189971924, -6.434999942779541, -4.54449987411499, -6.719099998474121, -6.441100120544434, -5.55649995803833, -5.38670015335083, -5.5605998039245605, -5.629899978637695, -5.553899765014648, -5.644800186157227, -5.836100101470947, -5.870699882507324, -6.0518999099731445, -6.052800178527832, -6.188799858093262, -6.103700160980225, -6.148499965667725, -6.2555999755859375, -6.086299896240234, -6.228899955749512, -6.236800193786621, -6.271399974822998, -6.2581000328063965, -7.718400001525879, -8.799799919128418, -8.799799919128418, -8.799799919128418, -8.919899940490723, -8.920000076293945, -8.989500045776367, -8.989500045776367, -8.989500045776367, -8.989500045776367, -8.989500045776367, -8.989500045776367, -8.989500045776367, -8.989500045776367, -8.989500045776367, -8.989500045776367, -8.989500045776367, -8.989500045776367, -8.989500045776367, -8.989500045776367, -8.989500045776367, -9.138999938964844, -9.138999938964844, -9.138999938964844, -9.138999938964844, -9.138999938964844, -9.138999938964844, -9.138999938964844, -9.138999938964844, -9.138999938964844, -8.888799667358398, -8.916099548339844, -8.889599800109863, -8.891900062561035, -8.892999649047852, -8.786800384521484, -9.138999938964844, -9.138999938964844, -8.999099731445312, -8.654999732971191, -8.918000221252441, -8.822999954223633, -8.830699920654297, -8.939800262451172, -8.959500312805176, -8.982099533081055]}, \"token.table\": {\"Topic\": [1, 2, 1, 2, 1, 2, 1, 2, 1, 2, 1, 2, 1, 2, 1, 2, 1, 2, 1, 2, 1, 2, 1, 2, 1, 2, 1, 2, 1, 2, 1, 2, 1, 2, 1, 2, 1, 2, 1, 2, 1, 2, 1, 2, 1, 2, 1, 2, 1, 2, 1, 2, 1, 2, 1, 2, 1, 2, 1, 2, 1, 2, 1, 2, 1, 2, 1, 2, 1, 2, 1, 2, 1, 2, 1, 2, 1, 2, 1, 2, 1, 2, 1, 2, 1, 2, 1, 2, 1, 2, 1, 2, 1, 2, 1, 2, 1, 2, 1, 2, 1, 2, 1, 2, 1, 2, 1, 2, 1, 2, 1, 2, 1, 2, 1, 2, 1, 2, 1, 2, 1, 2, 1, 2, 1, 2, 1, 2, 1, 2, 1, 2, 1, 2, 1, 2, 1, 2, 1, 2, 1, 2, 1, 2, 1, 2, 1, 2, 1, 2, 1, 2, 1, 2, 1, 2, 1, 2, 1, 2, 1, 2, 1, 2, 1, 2, 1, 2, 1, 2, 1, 2, 1, 2, 1, 2, 1, 2, 1, 2, 1, 2, 1, 2, 1, 2, 1, 2, 1, 2, 1, 2, 1, 2, 1, 2, 1, 2, 1, 2, 1, 2, 1, 2, 1, 2, 1, 2, 1, 2, 1, 2, 1, 2, 1, 2, 1, 2, 1, 2, 1, 2, 1, 2, 1, 2, 1, 2, 1, 2, 1, 2, 1, 2, 1, 2, 1, 2, 1, 2, 1, 2, 1, 2, 1, 2, 1, 2, 1, 2, 1, 2, 1, 2, 1, 2, 1, 2, 1, 2, 1, 2, 1, 2, 1, 2, 1, 2, 1, 2, 1, 2, 1, 2, 1, 2, 1, 2, 1, 2, 1, 2, 1, 2, 1, 2, 1, 2, 1, 2, 1, 2, 1, 2, 1, 2, 1, 2, 1, 2, 1, 2, 1, 2, 1, 2, 1, 2, 1, 2, 1, 2, 1, 2, 1, 2, 1, 2, 1, 2, 1, 2, 1, 2, 1, 2, 1, 2, 1, 2, 1, 2, 1, 2, 1, 2, 1, 2, 1, 2, 1, 2, 1, 2, 1, 2, 1, 2], \"Freq\": [0.973068356513977, 0.024326708167791367, 0.990699052810669, 0.009435229003429413, 0.9064010977745056, 0.2266002744436264, 0.31578606367111206, 0.7105186581611633, 0.34998780488967896, 0.6999756097793579, 0.8974822163581848, 0.10263178497552872, 0.919761061668396, 0.07984570413827896, 0.7459419965744019, 0.2523038983345032, 0.900213360786438, 0.09923611581325531, 0.9592396020889282, 0.04091543331742287, 0.37473708391189575, 0.7494741678237915, 0.9864188432693481, 0.021443888545036316, 0.24157074093818665, 0.7584197521209717, 0.346172958612442, 0.6461895108222961, 0.9410790801048279, 0.05795501545071602, 0.9730978608131409, 0.024327445775270462, 0.94281405210495, 0.05689394846558571, 0.7302690744400024, 0.3651345372200012, 0.97969651222229, 0.012095018289983273, 0.7663246989250183, 0.38316234946250916, 0.9240536093711853, 0.07540997862815857, 0.6732356548309326, 0.31890109181404114, 0.9659454822540283, 0.03463549539446831, 0.594606339931488, 0.4068359136581421, 0.9518408179283142, 0.047022074460983276, 0.9271098375320435, 0.07293450832366943, 0.520270049571991, 0.48310792446136475, 0.6651538014411926, 0.3325769007205963, 0.7302830815315247, 0.36514154076576233, 0.8400348424911499, 0.1594400405883789, 0.9784407019615173, 0.02089197188615799, 0.9869073033332825, 0.01233634166419506, 0.983280599117279, 0.022347286343574524, 0.49220535159111023, 0.5300672650337219, 0.43313339352607727, 0.6497001051902771, 0.8702912926673889, 0.12691748142242432, 0.7302692532539368, 0.3651346266269684, 0.3742336630821228, 0.7484673261642456, 0.989231288433075, 0.010580013506114483, 0.38449689745903015, 0.6408281922340393, 0.3966602683067322, 0.5949904322624207, 0.9558063745498657, 0.04303393512964249, 0.9810869693756104, 0.020748063921928406, 0.9868659973144531, 0.014179108664393425, 0.8054598569869995, 0.2684866189956665, 0.7302798628807068, 0.3651399314403534, 0.5518785119056702, 0.45153695344924927, 0.8380483388900757, 0.2793494462966919, 0.9625993967056274, 0.03609747812151909, 0.34034135937690735, 0.6806827187538147, 0.766338586807251, 0.3831692934036255, 0.3457328677177429, 0.6914657354354858, 0.8947238922119141, 0.10558853298425674, 0.8038401007652283, 0.26794669032096863, 0.3570968806743622, 0.5356453061103821, 0.910136342048645, 0.09053712338209152, 0.3716297149658203, 0.7432594299316406, 0.9912395477294922, 0.026085251942276955, 0.9805224537849426, 0.015320663340389729, 0.9209111332893372, 0.07953323423862457, 0.9919030666351318, 0.008159014396369457, 0.9922557473182678, 0.008572403341531754, 0.6651535034179688, 0.3325767517089844, 0.43529850244522095, 0.6529477834701538, 0.9823862910270691, 0.009012718684971333, 0.8910146951675415, 0.11098047345876694, 0.6968222856521606, 0.3484111428260803, 0.9857739210128784, 0.020117834210395813, 0.29073366522789, 0.7268341183662415, 0.964264452457428, 0.03557233884930611, 0.39612120389938354, 0.5941817760467529, 0.9202209115028381, 0.11502761393785477, 0.6967971920967102, 0.3483985960483551, 0.930780827999115, 0.06843976676464081, 0.9243155717849731, 0.0840286836028099, 0.6651588678359985, 0.33257943391799927, 0.8011046051979065, 0.13351744413375854, 0.4842085540294647, 0.5326294302940369, 0.9781633019447327, 0.023045731708407402, 0.7811196446418762, 0.19527991116046906, 0.5553449988365173, 0.27767249941825867, 0.9670316576957703, 0.029431398957967758, 0.9766861796379089, 0.01979769393801689, 0.851622998714447, 0.15270480513572693, 0.8979314565658569, 0.10288798063993454, 0.25632330775260925, 0.7369294762611389, 0.9895107746124268, 0.017060531303286552, 0.9805436134338379, 0.017936773598194122, 0.9816096425056458, 0.019763952121138573, 0.9467456936836243, 0.0512569323182106, 0.9075010418891907, 0.09203430265188217, 0.6864638328552246, 0.32516708970069885, 0.5963738560676575, 0.4046822488307953, 0.6914651393890381, 0.3073178231716156, 0.7663624286651611, 0.38318121433258057, 0.6651496291160583, 0.3325748145580292, 0.66515052318573, 0.332575261592865, 0.8979062438011169, 0.10121852159500122, 0.9848681688308716, 0.020661570131778717, 0.9879127144813538, 0.011487357318401337, 0.9932039380073547, 0.007449029479175806, 0.6651504039764404, 0.3325752019882202, 0.9925481677055359, 0.01127895712852478, 0.9933975338935852, 0.007700756192207336, 0.7302800416946411, 0.36514002084732056, 0.6651455760002136, 0.3325727880001068, 0.6651592254638672, 0.3325796127319336, 0.9201701879501343, 0.08061914145946503, 0.7302916646003723, 0.36514583230018616, 0.17935258150100708, 0.8130649924278259, 0.4240526556968689, 0.5830724239349365, 0.7296159267425537, 0.27794891595840454, 0.7302918434143066, 0.3651459217071533, 0.18341007828712463, 0.8253453969955444, 0.7302871346473694, 0.3651435673236847, 0.8058550953865051, 0.2686183452606201, 0.9617260694503784, 0.03912106156349182, 0.4332562983036041, 0.6498844623565674, 0.9761912226676941, 0.025593027472496033, 0.9906323552131653, 0.020638173446059227, 0.984677255153656, 0.009202591143548489, 0.66230708360672, 0.3338903486728668, 0.515779972076416, 0.4933547377586365, 0.9674324989318848, 0.03078194335103035, 0.9840903282165527, 0.014471916481852531, 0.6651462316513062, 0.3325731158256531, 0.37723901867866516, 0.6287316679954529, 0.9798617362976074, 0.016607826575636864, 0.4292922616004944, 0.5723897218704224, 0.7302870154380798, 0.3651435077190399, 0.9869824647903442, 0.01794513687491417, 0.6651699542999268, 0.3325849771499634, 0.7302801012992859, 0.36514005064964294, 0.9514430165290833, 0.049043454229831696, 0.852721095085144, 0.213180273771286, 0.8536338210105896, 0.1432672142982483, 0.9723125696182251, 0.026638701558113098, 0.8835399746894836, 0.11766770482063293, 0.804389238357544, 0.26812973618507385, 0.9319409132003784, 0.06859463453292847, 0.7302871942520142, 0.3651435971260071, 0.6651481986045837, 0.33257409930229187, 0.9873273372650146, 0.013808773830533028, 0.9681551456451416, 0.032880742102861404, 0.48221343755722046, 0.48221343755722046, 0.4665285050868988, 0.5248445868492126, 0.9763503074645996, 0.014150004833936691, 0.9678947329521179, 0.031272850930690765, 0.864569365978241, 0.1343890130519867, 0.6651567816734314, 0.3325783908367157, 0.3432164490222931, 0.6619174480438232, 0.9798282980918884, 0.01606275886297226, 0.4318264126777649, 0.647739589214325, 0.9048599600791931, 0.09630036354064941, 0.9158453941345215, 0.0852893739938736, 0.9004902243614197, 0.10069379955530167, 0.36709702014923096, 0.6424197554588318, 0.36295783519744873, 0.7259156703948975, 0.9848671555519104, 0.016101369634270668, 0.35041460394859314, 0.7008292078971863, 0.5248734951019287, 0.4972485601902008, 0.366962194442749, 0.6421838402748108, 0.32897043228149414, 0.6579408645629883, 0.9841915965080261, 0.008866590447723866, 0.6651601791381836, 0.3325800895690918, 0.26138925552368164, 0.7841677665710449, 0.30954527854919434, 0.7738631963729858, 0.5615853071212769, 0.4379335045814514, 0.9774601459503174, 0.017454644665122032, 0.3838001489639282, 0.6396669149398804, 0.4027494490146637, 0.6041241884231567, 0.5275291800498962, 0.2637645900249481, 0.6651604175567627, 0.33258020877838135, 0.6651555299758911, 0.33257776498794556], \"Term\": [\"\\u0430\\u0433\\u0435\\u043d\\u0442\\u0441\\u0442\\u0432\\u043e\", \"\\u0430\\u0433\\u0435\\u043d\\u0442\\u0441\\u0442\\u0432\\u043e\", \"\\u0430\\u043b\\u044c\\u0444\\u0430\", \"\\u0430\\u043b\\u044c\\u0444\\u0430\", \"\\u0430\\u0440\\u0431\\u0438\\u0442\\u0440\\u0430\\u0436\", \"\\u0430\\u0440\\u0431\\u0438\\u0442\\u0440\\u0430\\u0436\", \"\\u0431\\u0430\\u043b\\u043b\", \"\\u0431\\u0430\\u043b\\u043b\", \"\\u0431\\u0430\\u043b\\u0442\\u0438\\u043a\\u0430\", \"\\u0431\\u0430\\u043b\\u0442\\u0438\\u043a\\u0430\", \"\\u0431\\u0430\\u043d\\u043a\", \"\\u0431\\u0430\\u043d\\u043a\", \"\\u0431\\u0430\\u043d\\u043a\\u0430\", \"\\u0431\\u0430\\u043d\\u043a\\u0430\", \"\\u0431\\u0430\\u043d\\u043a\\u043e\\u0432\\u0441\\u043a\\u0438\\u0439\", \"\\u0431\\u0430\\u043d\\u043a\\u043e\\u0432\\u0441\\u043a\\u0438\\u0439\", \"\\u0431\\u044b\\u0442\\u044c\", \"\\u0431\\u044b\\u0442\\u044c\", \"\\u0432\\u0430\\u0448\", \"\\u0432\\u0430\\u0448\", \"\\u0432\\u0432\\u043e\\u0434\\u0438\\u0442\\u044c\\u0441\\u044f\", \"\\u0432\\u0432\\u043e\\u0434\\u0438\\u0442\\u044c\\u0441\\u044f\", \"\\u0432\\u0437\\u044b\\u0441\\u043a\\u0430\\u043d\\u0438\\u0435\", \"\\u0432\\u0437\\u044b\\u0441\\u043a\\u0430\\u043d\\u0438\\u0435\", \"\\u0432\\u043a\\u043b\\u0430\\u0434\", \"\\u0432\\u043a\\u043b\\u0430\\u0434\", \"\\u0432\\u043a\\u043b\\u0430\\u0434\\u0447\\u0438\\u043a\", \"\\u0432\\u043a\\u043b\\u0430\\u0434\\u0447\\u0438\\u043a\", \"\\u0432\\u043e\\u043f\\u0440\\u043e\\u0441\", \"\\u0432\\u043e\\u043f\\u0440\\u043e\\u0441\", \"\\u0432\\u043e\\u0441\\u0442\\u043e\\u0447\\u043d\\u044b\\u0439\", \"\\u0432\\u043e\\u0441\\u0442\\u043e\\u0447\\u043d\\u044b\\u0439\", \"\\u0432\\u0440\\u0435\\u043c\\u044f\", \"\\u0432\\u0440\\u0435\\u043c\\u044f\", \"\\u0432\\u044b\\u043a\\u043b\\u0430\\u0434\\u044b\\u0432\\u0430\\u0442\\u044c\", \"\\u0432\\u044b\\u043a\\u043b\\u0430\\u0434\\u044b\\u0432\\u0430\\u0442\\u044c\", \"\\u0432\\u044b\\u043f\\u0438\\u0441\\u043a\\u0430\", \"\\u0432\\u044b\\u043f\\u0438\\u0441\\u043a\\u0430\", \"\\u0433\\u0435\\u0440\\u0431\", \"\\u0433\\u0435\\u0440\\u0431\", \"\\u0433\\u043e\\u0434\", \"\\u0433\\u043e\\u0434\", \"\\u0433\\u043e\\u0434\\u043e\\u0432\\u043e\\u0439\", \"\\u0433\\u043e\\u0434\\u043e\\u0432\\u043e\\u0439\", \"\\u0434\\u0430\\u0442\\u044c\", \"\\u0434\\u0430\\u0442\\u044c\", \"\\u0434\\u0435\\u043a\\u0430\\u0431\\u0440\\u044c\", \"\\u0434\\u0435\\u043a\\u0430\\u0431\\u0440\\u044c\", \"\\u0434\\u0435\\u043d\\u044c\", \"\\u0434\\u0435\\u043d\\u044c\", \"\\u0434\\u0435\\u043d\\u044c\\u0433\\u0430\", \"\\u0434\\u0435\\u043d\\u044c\\u0433\\u0430\", \"\\u0434\\u0435\\u043f\\u043e\\u0437\\u0438\\u0442\", \"\\u0434\\u0435\\u043f\\u043e\\u0437\\u0438\\u0442\", \"\\u0434\\u0438\\u0432\", \"\\u0434\\u0438\\u0432\", \"\\u0434\\u043e\\u0432\\u043d\\u043e\\u0441\\u0438\\u0442\\u044c\", \"\\u0434\\u043e\\u0432\\u043d\\u043e\\u0441\\u0438\\u0442\\u044c\", \"\\u0434\\u043e\\u0433\\u043e\\u0432\\u043e\\u0440\", \"\\u0434\\u043e\\u0433\\u043e\\u0432\\u043e\\u0440\", \"\\u0434\\u043e\\u043a\\u0443\\u043c\\u0435\\u043d\\u0442\", \"\\u0434\\u043e\\u043a\\u0443\\u043c\\u0435\\u043d\\u0442\", \"\\u0434\\u043e\\u043b\\u0433\", \"\\u0434\\u043e\\u043b\\u0433\", \"\\u0434\\u043e\\u043b\\u0436\\u043d\\u0438\\u043a\", \"\\u0434\\u043e\\u043b\\u0436\\u043d\\u0438\\u043a\", \"\\u0434\\u043e\\u043b\\u043b\\u0430\\u0440\", \"\\u0434\\u043e\\u043b\\u043b\\u0430\\u0440\", \"\\u0434\\u043e\\u0445\\u043e\\u0434\\u043d\\u043e\\u0441\\u0442\\u044c\", \"\\u0434\\u043e\\u0445\\u043e\\u0434\\u043d\\u043e\\u0441\\u0442\\u044c\", \"\\u0434\\u0440\\u0443\\u0433\\u043e\\u0439\", \"\\u0434\\u0440\\u0443\\u0433\\u043e\\u0439\", \"\\u0436\\u0430\\u0442\\u044c\", \"\\u0436\\u0430\\u0442\\u044c\", \"\\u0437\\u0430\\u0432\\u0438\\u0441\\u0438\\u043c\\u043e\\u0441\\u0442\\u044c\", \"\\u0437\\u0430\\u0432\\u0438\\u0441\\u0438\\u043c\\u043e\\u0441\\u0442\\u044c\", \"\\u0437\\u0430\\u0434\\u043e\\u043b\\u0436\\u0435\\u043d\\u043d\\u043e\\u0441\\u0442\\u044c\", \"\\u0437\\u0430\\u0434\\u043e\\u043b\\u0436\\u0435\\u043d\\u043d\\u043e\\u0441\\u0442\\u044c\", \"\\u0437\\u0430\\u043a\\u043b\\u044e\\u0447\\u0451\\u043d\\u043d\\u044b\\u0439\", \"\\u0437\\u0430\\u043a\\u043b\\u044e\\u0447\\u0451\\u043d\\u043d\\u044b\\u0439\", \"\\u0437\\u0430\\u043f\\u0440\\u0430\\u0432\\u043a\\u0430\", \"\\u0437\\u0430\\u043f\\u0440\\u0430\\u0432\\u043a\\u0430\", \"\\u0437\\u0430\\u044f\\u0432\\u043b\\u0435\\u043d\\u0438\\u0435\", \"\\u0437\\u0430\\u044f\\u0432\\u043b\\u0435\\u043d\\u0438\\u0435\", \"\\u0437\\u0432\\u043e\\u043d\\u0438\\u0442\\u044c\", \"\\u0437\\u0432\\u043e\\u043d\\u0438\\u0442\\u044c\", \"\\u0437\\u0432\\u043e\\u043d\\u043e\\u043a\", \"\\u0437\\u0432\\u043e\\u043d\\u043e\\u043a\", \"\\u0437\\u043e\\u0434\\u0438\\u0430\\u043a\", \"\\u0437\\u043e\\u0434\\u0438\\u0430\\u043a\", \"\\u0438\\u0433\\u0440\\u0430\\u0442\\u044c\\u0441\\u044f\", \"\\u0438\\u0433\\u0440\\u0430\\u0442\\u044c\\u0441\\u044f\", \"\\u0438\\u0437\\u043c\\u0435\\u043d\\u0435\\u043d\\u0438\\u0435\", \"\\u0438\\u0437\\u043c\\u0435\\u043d\\u0435\\u043d\\u0438\\u0435\", \"\\u0438\\u043d\\u0432\\u0435\\u0441\\u0442\\u0440\\u0430\\u0441\\u0442\\u0431\\u0430\\u043d\\u043a\", \"\\u0438\\u043d\\u0432\\u0435\\u0441\\u0442\\u0440\\u0430\\u0441\\u0442\\u0431\\u0430\\u043d\\u043a\", \"\\u0438\\u043d\\u0444\\u043e\\u0440\\u043c\\u0430\\u0446\\u0438\\u044f\", \"\\u0438\\u043d\\u0444\\u043e\\u0440\\u043c\\u0430\\u0446\\u0438\\u044f\", \"\\u0438\\u044e\\u043b\\u044c\", \"\\u0438\\u044e\\u043b\\u044c\", \"\\u043a\\u0430\\u043c\\u0435\\u0440\\u0443\\u043d\", \"\\u043a\\u0430\\u043c\\u0435\\u0440\\u0443\\u043d\", \"\\u043a\\u0430\\u043f\\u0438\\u0442\\u0430\\u043b\\u0438\\u0437\\u0430\\u0446\\u0438\\u044f\", \"\\u043a\\u0430\\u043f\\u0438\\u0442\\u0430\\u043b\\u0438\\u0437\\u0430\\u0446\\u0438\\u044f\", \"\\u043a\\u0430\\u0440\\u0442\\u0430\", \"\\u043a\\u0430\\u0440\\u0442\\u0430\", \"\\u043a\\u0430\\u0442\\u0430\\u043b\\u043e\\u0433\", \"\\u043a\\u0430\\u0442\\u0430\\u043b\\u043e\\u0433\", \"\\u043a\\u0438\\u043d\\u0443\\u0442\\u044c\", \"\\u043a\\u0438\\u043d\\u0443\\u0442\\u044c\", \"\\u043a\\u043b\\u0438\\u0435\\u043d\\u0442\", \"\\u043a\\u043b\\u0438\\u0435\\u043d\\u0442\", \"\\u043a\\u043b\\u044e\\u0447\\u0435\\u0432\\u043e\\u0439\", \"\\u043a\\u043b\\u044e\\u0447\\u0435\\u0432\\u043e\\u0439\", \"\\u043a\\u043e\\u043b\\u043b\\u0435\\u043a\\u0442\\u043e\\u0440\\u0441\\u043a\\u0438\\u0439\", \"\\u043a\\u043e\\u043b\\u043b\\u0435\\u043a\\u0442\\u043e\\u0440\\u0441\\u043a\\u0438\\u0439\", \"\\u043a\\u043e\\u043f\\u0438\\u044f\", \"\\u043a\\u043e\\u043f\\u0438\\u044f\", \"\\u043a\\u043e\\u0442\\u043e\\u0440\\u044b\\u0439\", \"\\u043a\\u043e\\u0442\\u043e\\u0440\\u044b\\u0439\", \"\\u043a\\u0440\\u0435\\u0434\\u0438\\u0442\", \"\\u043a\\u0440\\u0435\\u0434\\u0438\\u0442\", \"\\u043a\\u0440\\u0435\\u0434\\u0438\\u0442\\u043d\\u044b\\u0439\", \"\\u043a\\u0440\\u0435\\u0434\\u0438\\u0442\\u043d\\u044b\\u0439\", \"\\u043b\\u0435\\u043b\\u0435\\u044f\\u0442\\u044c\", \"\\u043b\\u0435\\u043b\\u0435\\u044f\\u0442\\u044c\", \"\\u043b\\u0435\\u0441\\u0435\\u043d\\u043a\\u0430\", \"\\u043b\\u0435\\u0441\\u0435\\u043d\\u043a\\u0430\", \"\\u043b\\u0438\\u043c\\u0438\\u0442\", \"\\u043b\\u0438\\u043c\\u0438\\u0442\", \"\\u043c\\u0430\\u0439\", \"\\u043c\\u0430\\u0439\", \"\\u043c\\u0430\\u0441\\u043b\\u043e\\u0432\", \"\\u043c\\u0430\\u0441\\u043b\\u043e\\u0432\", \"\\u043c\\u0435\\u043d\\u0435\\u0434\\u0436\\u0435\\u0440\", \"\\u043c\\u0435\\u043d\\u0435\\u0434\\u0436\\u0435\\u0440\", \"\\u043c\\u0435\\u0442\\u0440\\u043e\\u0431\\u0430\\u043d\\u043a\", \"\\u043c\\u0435\\u0442\\u0440\\u043e\\u0431\\u0430\\u043d\\u043a\", \"\\u043c\\u043e\\u0439\", \"\\u043c\\u043e\\u0439\", \"\\u043c\\u043e\\u043c\\u0435\\u043d\\u0442\\u0443\\u043c\", \"\\u043c\\u043e\\u043c\\u0435\\u043d\\u0442\\u0443\\u043c\", \"\\u043c\\u043e\\u043d\\u0435\\u0442\\u0430\", \"\\u043c\\u043e\\u043d\\u0435\\u0442\\u0430\", \"\\u043c\\u043e\\u0442\\u0438\\u0432\\u0438\\u0440\\u043e\\u0432\\u0430\\u043d\\u043d\\u044b\\u0439\", \"\\u043c\\u043e\\u0442\\u0438\\u0432\\u0438\\u0440\\u043e\\u0432\\u0430\\u043d\\u043d\\u044b\\u0439\", \"\\u043c\\u043e\\u0447\\u044c\", \"\\u043c\\u043e\\u0447\\u044c\", \"\\u043c\\u043f\\u0441\", \"\\u043c\\u043f\\u0441\", \"\\u043d\\u0430\\u0431\\u0435\\u0440\", \"\\u043d\\u0430\\u0431\\u0435\\u0440\", \"\\u043d\\u0430\\u0441\\u0442\\u043e\\u043b\\u044c\\u043a\\u043e\", \"\\u043d\\u0430\\u0441\\u0442\\u043e\\u043b\\u044c\\u043a\\u043e\", \"\\u043d\\u043e\\u0432\\u043e\\u0441\\u0442\\u044c\", \"\\u043d\\u043e\\u0432\\u043e\\u0441\\u0442\\u044c\", \"\\u043d\\u043e\\u043c\\u0435\\u0440\", \"\\u043d\\u043e\\u043c\\u0435\\u0440\", \"\\u043e\\u0431\\u043c\\u0435\\u043d\\u044f\\u0442\\u044c\", \"\\u043e\\u0431\\u043c\\u0435\\u043d\\u044f\\u0442\\u044c\", \"\\u043e\\u0431\\u043e\\u0441\\u043d\\u043e\\u0432\\u0430\\u043d\\u0438\\u0435\", \"\\u043e\\u0431\\u043e\\u0441\\u043d\\u043e\\u0432\\u0430\\u043d\\u0438\\u0435\", \"\\u043e\\u0431\\u0440\\u0430\\u0442\\u0438\\u0442\\u044c\\u0441\\u044f\", \"\\u043e\\u0431\\u0440\\u0430\\u0442\\u0438\\u0442\\u044c\\u0441\\u044f\", \"\\u043e\\u0431\\u0440\\u0430\\u0449\\u0435\\u043d\\u0438\\u0435\", \"\\u043e\\u0431\\u0440\\u0430\\u0449\\u0435\\u043d\\u0438\\u0435\", \"\\u043e\\u0431\\u0441\\u043b\\u0443\\u0436\\u0438\\u0432\\u0430\\u043d\\u0438\\u0435\", \"\\u043e\\u0431\\u0441\\u043b\\u0443\\u0436\\u0438\\u0432\\u0430\\u043d\\u0438\\u0435\", \"\\u043e\\u0434\\u0438\\u043d\", \"\\u043e\\u0434\\u0438\\u043d\", \"\\u043e\\u0434\\u043d\\u043e\\u0441\\u0442\\u043e\\u0440\\u043e\\u043d\\u043d\\u0438\\u0439\", \"\\u043e\\u0434\\u043d\\u043e\\u0441\\u0442\\u043e\\u0440\\u043e\\u043d\\u043d\\u0438\\u0439\", \"\\u043e\\u043e\\u043e\", \"\\u043e\\u043e\\u043e\", \"\\u043e\\u043f\\u043b\\u0430\\u0442\\u0430\", \"\\u043e\\u043f\\u043b\\u0430\\u0442\\u0430\", \"\\u043e\\u043f\\u043b\\u0430\\u0442\\u0438\\u0442\\u044c\", \"\\u043e\\u043f\\u043b\\u0430\\u0442\\u0438\\u0442\\u044c\", \"\\u043e\\u0442\\u0432\\u0435\\u0442\", \"\\u043e\\u0442\\u0432\\u0435\\u0442\", \"\\u043e\\u0442\\u0434\\u0435\\u043b\\u0435\\u043d\\u0438\\u0435\", \"\\u043e\\u0442\\u0434\\u0435\\u043b\\u0435\\u043d\\u0438\\u0435\", \"\\u043e\\u0442\\u043a\\u0440\\u044b\\u0442\\u0438\\u0435\", \"\\u043e\\u0442\\u043a\\u0440\\u044b\\u0442\\u0438\\u0435\", \"\\u043e\\u0442\\u043a\\u0440\\u044b\\u0442\\u044b\\u0439\", \"\\u043e\\u0442\\u043a\\u0440\\u044b\\u0442\\u044b\\u0439\", \"\\u043e\\u0442\\u043a\\u0440\\u044b\\u0442\\u044c\", \"\\u043e\\u0442\\u043a\\u0440\\u044b\\u0442\\u044c\", \"\\u043e\\u0442\\u043b\\u0438\\u0432\\u0430\\u0442\\u044c\", \"\\u043e\\u0442\\u043b\\u0438\\u0432\\u0430\\u0442\\u044c\", \"\\u043e\\u0442\\u043d\", \"\\u043e\\u0442\\u043d\", \"\\u043e\\u0442\\u0440\\u0430\\u0434\\u0430\", \"\\u043e\\u0442\\u0440\\u0430\\u0434\\u0430\", \"\\u043e\\u0444\\u0438\\u0441\", \"\\u043e\\u0444\\u0438\\u0441\", \"\\u043f\\u0435\\u0440\\u0435\\u0432\\u043e\\u0434\", \"\\u043f\\u0435\\u0440\\u0435\\u0432\\u043e\\u0434\", \"\\u043f\\u0435\\u0440\\u0441\\u043e\\u043d\\u0430\\u043b\\u044c\\u043d\\u044b\\u0439\", \"\\u043f\\u0435\\u0440\\u0441\\u043e\\u043d\\u0430\\u043b\\u044c\\u043d\\u044b\\u0439\", \"\\u043f\\u043b\\u0430\\u0442\\u0451\\u0436\", \"\\u043f\\u043b\\u0430\\u0442\\u0451\\u0436\", \"\\u043f\\u043e\\u0432\\u0435\\u0440\\u044c\", \"\\u043f\\u043e\\u0432\\u0435\\u0440\\u044c\", \"\\u043f\\u043e\\u0433\\u0430\\u0441\\u0438\\u0442\\u044c\", \"\\u043f\\u043e\\u0433\\u0430\\u0441\\u0438\\u0442\\u044c\", \"\\u043f\\u043e\\u0433\\u0430\\u0448\\u0435\\u043d\\u0438\\u0435\", \"\\u043f\\u043e\\u0433\\u0430\\u0448\\u0435\\u043d\\u0438\\u0435\", \"\\u043f\\u043e\\u0437\\u0438\\u0442\\u0438\\u0432\\u043d\\u043e\", \"\\u043f\\u043e\\u0437\\u0438\\u0442\\u0438\\u0432\\u043d\\u043e\", \"\\u043f\\u043e\\u0439\\u043c\\u0430\", \"\\u043f\\u043e\\u0439\\u043c\\u0430\", \"\\u043f\\u043e\\u043a\\u043e\\u0440\\u0438\\u0442\\u044c\", \"\\u043f\\u043e\\u043a\\u043e\\u0440\\u0438\\u0442\\u044c\", \"\\u043f\\u043e\\u043b\\u0443\\u0447\\u0438\\u0442\\u044c\", \"\\u043f\\u043e\\u043b\\u0443\\u0447\\u0438\\u0442\\u044c\", \"\\u043f\\u043e\\u043d\\u0438\\u0436\\u0435\\u043d\\u043d\\u044b\\u0439\", \"\\u043f\\u043e\\u043d\\u0438\\u0436\\u0435\\u043d\\u043d\\u044b\\u0439\", \"\\u043f\\u043e\\u043f\\u043e\\u043b\\u043d\\u0435\\u043d\\u0438\\u0435\", \"\\u043f\\u043e\\u043f\\u043e\\u043b\\u043d\\u0435\\u043d\\u0438\\u0435\", \"\\u043f\\u043e\\u043f\\u043e\\u043b\\u043d\\u044f\\u0442\\u044c\", \"\\u043f\\u043e\\u043f\\u043e\\u043b\\u043d\\u044f\\u0442\\u044c\", \"\\u043f\\u043e\\u0440\\u044f\\u0434\\u043e\\u043a\", \"\\u043f\\u043e\\u0440\\u044f\\u0434\\u043e\\u043a\", \"\\u043f\\u0440\\u0435\\u0434\\u043d\\u0430\\u043c\\u0435\\u0440\\u0435\\u043d\\u043d\\u044b\\u0439\", \"\\u043f\\u0440\\u0435\\u0434\\u043d\\u0430\\u043c\\u0435\\u0440\\u0435\\u043d\\u043d\\u044b\\u0439\", \"\\u043f\\u0440\\u0438\\u043c\\u0435\\u043d\\u044f\\u0442\\u044c\\u0441\\u044f\", \"\\u043f\\u0440\\u0438\\u043c\\u0435\\u043d\\u044f\\u0442\\u044c\\u0441\\u044f\", \"\\u043f\\u0440\\u0438\\u0441\\u0442\\u043e\\u0438\\u0442\\u044c\", \"\\u043f\\u0440\\u0438\\u0441\\u0442\\u043e\\u0438\\u0442\\u044c\", \"\\u043f\\u0440\\u043e\\u0431\\u0430\", \"\\u043f\\u0440\\u043e\\u0431\\u0430\", \"\\u043f\\u0440\\u043e\\u0431\\u043b\\u0435\\u043c\\u0430\", \"\\u043f\\u0440\\u043e\\u0431\\u043b\\u0435\\u043c\\u0430\", \"\\u043f\\u0440\\u043e\\u043c\\u043e\\u043a\\u043e\\u0434\", \"\\u043f\\u0440\\u043e\\u043c\\u043e\\u043a\\u043e\\u0434\", \"\\u043f\\u0440\\u043e\\u0441\\u0438\\u0442\\u044c\", \"\\u043f\\u0440\\u043e\\u0441\\u0438\\u0442\\u044c\", \"\\u043f\\u0440\\u043e\\u0441\\u0440\\u043e\\u0447\\u0438\\u0442\\u044c\", \"\\u043f\\u0440\\u043e\\u0441\\u0440\\u043e\\u0447\\u0438\\u0442\\u044c\", \"\\u043f\\u0440\\u043e\\u0441\\u0440\\u043e\\u0447\\u043a\\u0430\", \"\\u043f\\u0440\\u043e\\u0441\\u0440\\u043e\\u0447\\u043a\\u0430\", \"\\u043f\\u0440\\u043e\\u0446\\u0435\\u043d\\u0442\", \"\\u043f\\u0440\\u043e\\u0446\\u0435\\u043d\\u0442\", \"\\u043f\\u0440\\u043e\\u0446\\u0435\\u043d\\u0442\\u043d\\u044b\\u0439\", \"\\u043f\\u0440\\u043e\\u0446\\u0435\\u043d\\u0442\\u043d\\u044b\\u0439\", \"\\u0440\\u0430\\u0431\\u043e\\u0442\\u0430\", \"\\u0440\\u0430\\u0431\\u043e\\u0442\\u0430\", \"\\u0440\\u0430\\u0437\\u0433\\u043e\\u0432\\u043e\\u0440\", \"\\u0440\\u0430\\u0437\\u0433\\u043e\\u0432\\u043e\\u0440\", \"\\u0440\\u0430\\u0437\\u0433\\u0440\\u0430\", \"\\u0440\\u0430\\u0437\\u0433\\u0440\\u0430\", \"\\u0440\\u0430\\u0437\\u043c\\u0435\\u0449\\u0435\\u043d\\u0438\\u0435\", \"\\u0440\\u0430\\u0437\\u043c\\u0435\\u0449\\u0435\\u043d\\u0438\\u0435\", \"\\u0440\\u0430\\u0441\\u0441\\u043c\\u043e\\u0442\\u0440\\u0435\\u043d\\u0438\\u0435\", \"\\u0440\\u0430\\u0441\\u0441\\u043c\\u043e\\u0442\\u0440\\u0435\\u043d\\u0438\\u0435\", \"\\u0440\\u0430\\u0441\\u0442\\u0438\", \"\\u0440\\u0430\\u0441\\u0442\\u0438\", \"\\u0440\\u0435\\u0436\", \"\\u0440\\u0435\\u0436\", \"\\u0440\\u0435\\u043a\\u0432\\u0438\\u0437\\u0438\\u0442\", \"\\u0440\\u0435\\u043a\\u0432\\u0438\\u0437\\u0438\\u0442\", \"\\u0440\\u043e\\u0434\\u0438\\u0442\\u044c\\u0441\\u044f\", \"\\u0440\\u043e\\u0434\\u0438\\u0442\\u044c\\u0441\\u044f\", \"\\u0440\\u043e\\u0441\\u0438\\u043d\\u0442\\u0435\\u0440\\u0431\\u0430\\u043d\\u043a\", \"\\u0440\\u043e\\u0441\\u0438\\u043d\\u0442\\u0435\\u0440\\u0431\\u0430\\u043d\\u043a\", \"\\u0440\\u0443\\u0431\\u043b\\u044c\", \"\\u0440\\u0443\\u0431\\u043b\\u044c\", \"\\u0440\\u044b\\u0431\\u0430\", \"\\u0440\\u044b\\u0431\\u0430\", \"\\u0441\\u0430\\u0439\\u0442\", \"\\u0441\\u0430\\u0439\\u0442\", \"\\u0441\\u0431\\u0435\\u0440\\u0431\\u0430\\u043d\\u043a\", \"\\u0441\\u0431\\u0435\\u0440\\u0431\\u0430\\u043d\\u043a\", \"\\u0441\\u0432\\u043e\\u0439\", \"\\u0441\\u0432\\u043e\\u0439\", \"\\u0441\\u0435\\u0440\\u0435\\u0431\\u0440\\u044f\\u043d\\u044b\\u0439\", \"\\u0441\\u0435\\u0440\\u0435\\u0431\\u0440\\u044f\\u043d\\u044b\\u0439\", \"\\u0441\\u043a\\u0430\\u0437\\u0430\\u0442\\u044c\", \"\\u0441\\u043a\\u0430\\u0437\\u0430\\u0442\\u044c\", \"\\u0441\\u043a\\u0430\\u0442\\u0438\\u0442\\u044c\\u0441\\u044f\", \"\\u0441\\u043a\\u0430\\u0442\\u0438\\u0442\\u044c\\u0441\\u044f\", \"\\u0441\\u043a\\u0440\\u0443\\u043f\\u0443\\u043b\", \"\\u0441\\u043a\\u0440\\u0443\\u043f\\u0443\\u043b\", \"\\u0441\\u043b\\u0443\\u0436\\u0431\\u0430\", \"\\u0441\\u043b\\u0443\\u0436\\u0431\\u0430\", \"\\u0441\\u043c\\u0441\", \"\\u0441\\u043c\\u0441\", \"\\u0441\\u043d\\u0438\\u0436\\u0435\\u043d\\u0438\\u0435\", \"\\u0441\\u043d\\u0438\\u0436\\u0435\\u043d\\u0438\\u0435\", \"\\u0441\\u043d\\u0438\\u0437\\u0438\\u0442\\u044c\", \"\\u0441\\u043d\\u0438\\u0437\\u0438\\u0442\\u044c\", \"\\u0441\\u043e\\u0433\\u043b\\u0430\\u0441\\u0438\\u0435\", \"\\u0441\\u043e\\u0433\\u043b\\u0430\\u0441\\u0438\\u0435\", \"\\u0441\\u043e\\u0442\\u0440\\u0443\\u0434\\u043d\\u0438\\u043a\", \"\\u0441\\u043e\\u0442\\u0440\\u0443\\u0434\\u043d\\u0438\\u043a\", \"\\u0441\\u0440\\u043e\\u043a\", \"\\u0441\\u0440\\u043e\\u043a\", \"\\u0441\\u0441\\u044f\", \"\\u0441\\u0441\\u044f\", \"\\u0441\\u0442\\u0430\\u0432\\u043a\\u0430\", \"\\u0441\\u0442\\u0430\\u0432\\u043a\\u0430\", \"\\u0441\\u0442\\u0440\\u0430\\u0445\\u043e\\u0432\\u0430\\u043d\\u0438\\u0435\", \"\\u0441\\u0442\\u0440\\u0430\\u0445\\u043e\\u0432\\u0430\\u043d\\u0438\\u0435\", \"\\u0441\\u0443\\u0434\\u0430\\u0440\\u044b\\u043d\\u044f\", \"\\u0441\\u0443\\u0434\\u0430\\u0440\\u044b\\u043d\\u044f\", \"\\u0441\\u0443\\u043c\\u043c\\u0430\", \"\\u0441\\u0443\\u043c\\u043c\\u0430\", \"\\u0441\\u0447\\u0451\\u0442\", \"\\u0441\\u0447\\u0451\\u0442\", \"\\u0442\\u0430\\u043a\\u043e\\u0439\", \"\\u0442\\u0430\\u043a\\u043e\\u0439\", \"\\u0442\\u0430\\u0440\\u0438\\u0444\\u043d\\u044b\\u0439\", \"\\u0442\\u0430\\u0440\\u0438\\u0444\\u043d\\u044b\\u0439\", \"\\u0442\\u0431\", \"\\u0442\\u0431\", \"\\u0442\\u0435\\u043b\\u0435\\u0444\\u043e\\u043d\", \"\\u0442\\u0435\\u043b\\u0435\\u0444\\u043e\\u043d\", \"\\u0442\\u0438\\u043d\\u044c\\u043a\\u043e\\u0432\\u044b\", \"\\u0442\\u0438\\u043d\\u044c\\u043a\\u043e\\u0432\\u044b\", \"\\u0442\\u0438\\u043d\\u044c\\u043a\\u043e\\u0444\\u0444\", \"\\u0442\\u0438\\u043d\\u044c\\u043a\\u043e\\u0444\\u0444\", \"\\u0442\\u043a\\u0441\", \"\\u0442\\u043a\\u0441\", \"\\u0442\\u043f\\u0434\", \"\\u0442\\u043f\\u0434\", \"\\u0442\\u0440\\u0435\\u0431\\u043e\\u0432\\u0430\\u0442\\u044c\", \"\\u0442\\u0440\\u0435\\u0431\\u043e\\u0432\\u0430\\u0442\\u044c\", \"\\u0442\\u044c\\u0441\\u044f\", \"\\u0442\\u044c\\u0441\\u044f\", \"\\u0443\\u043d\\u0438\\u0444\\u0438\\u043a\\u0430\\u0446\\u0438\\u044f\", \"\\u0443\\u043d\\u0438\\u0444\\u0438\\u043a\\u0430\\u0446\\u0438\\u044f\", \"\\u0443\\u043d\\u0438\\u0444\\u0438\\u0446\\u0438\\u0440\\u043e\\u0432\\u0430\\u0442\\u044c\", \"\\u0443\\u043d\\u0438\\u0444\\u0438\\u0446\\u0438\\u0440\\u043e\\u0432\\u0430\\u0442\\u044c\", \"\\u0443\\u0441\\u043b\\u043e\\u0432\\u0438\\u0435\", \"\\u0443\\u0441\\u043b\\u043e\\u0432\\u0438\\u0435\", \"\\u0443\\u0442\\u0440\\u043e\", \"\\u0443\\u0442\\u0440\\u043e\", \"\\u0444\\u043e\\u0440\\u0443\\u043c\", \"\\u0444\\u043e\\u0440\\u0443\\u043c\", \"\\u0445\\u0430\\u0440\\u0430\\u043a\\u0442\\u0435\\u0440\\u0438\\u0441\\u0442\\u0438\\u043a\\u0430\", \"\\u0445\\u0430\\u0440\\u0430\\u043a\\u0442\\u0435\\u0440\\u0438\\u0441\\u0442\\u0438\\u043a\\u0430\", \"\\u0445\\u0432\\u0430\\u043b\\u0438\\u0442\\u044c\", \"\\u0445\\u0432\\u0430\\u043b\\u0438\\u0442\\u044c\", \"\\u0448\\u043b\\u0451\\u043d\\u0441\\u043a\\u0438\\u0439\", \"\\u0448\\u043b\\u0451\\u043d\\u0441\\u043a\\u0438\\u0439\", \"\\u044f\\u0440\\u0438\\u043d\\u0430\", \"\\u044f\\u0440\\u0438\\u043d\\u0430\"]}, \"R\": 30, \"lambda.step\": 0.01, \"plot.opts\": {\"xlab\": \"PC1\", \"ylab\": \"PC2\"}, \"topic.order\": [1, 3, 2]};\n",
       "\n",
       "function LDAvis_load_lib(url, callback){\n",
       "  var s = document.createElement('script');\n",
       "  s.src = url;\n",
       "  s.async = true;\n",
       "  s.onreadystatechange = s.onload = callback;\n",
       "  s.onerror = function(){console.warn(\"failed to load library \" + url);};\n",
       "  document.getElementsByTagName(\"head\")[0].appendChild(s);\n",
       "}\n",
       "\n",
       "if(typeof(LDAvis) !== \"undefined\"){\n",
       "   // already loaded: just create the visualization\n",
       "   !function(LDAvis){\n",
       "       new LDAvis(\"#\" + \"ldavis_el1696826799835549924831103508\", ldavis_el1696826799835549924831103508_data);\n",
       "   }(LDAvis);\n",
       "}else if(typeof define === \"function\" && define.amd){\n",
       "   // require.js is available: use it to load d3/LDAvis\n",
       "   require.config({paths: {d3: \"https://cdnjs.cloudflare.com/ajax/libs/d3/3.5.5/d3.min\"}});\n",
       "   require([\"d3\"], function(d3){\n",
       "      window.d3 = d3;\n",
       "      LDAvis_load_lib(\"https://cdn.rawgit.com/bmabey/pyLDAvis/files/ldavis.v1.0.0.js\", function(){\n",
       "        new LDAvis(\"#\" + \"ldavis_el1696826799835549924831103508\", ldavis_el1696826799835549924831103508_data);\n",
       "      });\n",
       "    });\n",
       "}else{\n",
       "    // require.js not available: dynamically load d3 & LDAvis\n",
       "    LDAvis_load_lib(\"https://cdnjs.cloudflare.com/ajax/libs/d3/3.5.5/d3.min.js\", function(){\n",
       "         LDAvis_load_lib(\"https://cdn.rawgit.com/bmabey/pyLDAvis/files/ldavis.v1.0.0.js\", function(){\n",
       "                 new LDAvis(\"#\" + \"ldavis_el1696826799835549924831103508\", ldavis_el1696826799835549924831103508_data);\n",
       "            })\n",
       "         });\n",
       "}\n",
       "</script>"
      ],
      "text/plain": [
       "<IPython.core.display.HTML object>"
      ]
     },
     "execution_count": 145,
     "metadata": {},
     "output_type": "execute_result"
    }
   ],
   "source": [
    "import pyLDAvis.gensim as gensimvis\n",
    "import pyLDAvis\n",
    "vis_data = gensimvis.prepare(lda, corpus, dictionary)\n",
    "pyLDAvis.display(vis_data)"
   ]
  },
  {
   "cell_type": "markdown",
   "metadata": {},
   "source": [
    "### Тут мы имеем 3 темы - вклады, кредиты, карты."
   ]
  },
  {
   "cell_type": "code",
   "execution_count": null,
   "metadata": {},
   "outputs": [],
   "source": []
  },
  {
   "cell_type": "markdown",
   "metadata": {},
   "source": [
    "## Часть 3. Классификация текстов [40/100]\n",
    "\n",
    "Сформулируем для простоты задачу бинарной классификации: будем классифицировать на два класса, то есть, различать резко отрицательные отзывы (с оценкой 1) и положительные отзывы (с оценкой 5). \n",
    "\n",
    "1.  Составьте обучающее и тестовое множество: выберите из всего набора данных N1 отзывов с оценкой 1 и N2 отзывов с оценкой 5 (значение N1 и N2 – на ваше усмотрение). Используйте ```sklearn.model_selection.train_test_split``` для разделения множества отобранных документов на обучающее и тестовое. \n",
    "2. Используйте любой известный вам алгоритм классификации текстов для решения задачи и получите baseline. Сравните разные варианты векторизации текста: использование только униграм, пар или троек слов или с использованием символьных $n$-грам. \n",
    "3. Сравните, как изменяется качество решения задачи при использовании скрытых тем в качестве признаков:\n",
    "* 1-ый вариант: $tf-idf$ преобразование (```sklearn.feature_extraction.text.TfidfTransformer```) и сингулярное разложение (оно же – латентый семантический анализ) (```sklearn.decomposition.TruncatedSVD```), \n",
    "* 2-ой вариант: тематические модели LDA (```sklearn.decomposition.LatentDirichletAllocation```). \n",
    "\n",
    "Используйте accuracy и F-measure для оценки качества классификации. \n",
    "\n",
    "Ниже написан примерный Pipeline для классификации текстов. \n",
    "\n",
    "Эта часть задания может быть сделана с использованием sklearn. "
   ]
  },
  {
   "cell_type": "code",
   "execution_count": 356,
   "metadata": {},
   "outputs": [],
   "source": [
    "df_ = df[(df['rating_grade']==1) | (df['rating_grade']==5)][:5000]"
   ]
  },
  {
   "cell_type": "code",
   "execution_count": 357,
   "metadata": {},
   "outputs": [],
   "source": [
    "df_ = df_.drop(['city', 'author', 'bank_license', 'datetime', 'rating_not_checked', 'title', 'words_only', 'tokenized_sents', 'text'], axis=1)"
   ]
  },
  {
   "cell_type": "code",
   "execution_count": 358,
   "metadata": {},
   "outputs": [],
   "source": [
    "df_ = pd.get_dummies(df_, columns=['bank_name'])"
   ]
  },
  {
   "cell_type": "code",
   "execution_count": 359,
   "metadata": {},
   "outputs": [],
   "source": [
    "from sklearn.feature_extraction.text import CountVectorizer\n",
    "\n",
    "vectorizer = CountVectorizer()\n",
    "X = vectorizer.fit_transform(df_['words_only_without_sw']).toarray()\n",
    "\n",
    "df_['rating_grade'] = df_['rating_grade'].map({1: 0, 5: 1})\n",
    "y = df_['rating_grade'].astype(int)"
   ]
  },
  {
   "cell_type": "code",
   "execution_count": 360,
   "metadata": {},
   "outputs": [
    {
     "data": {
      "text/plain": [
       "(5000, 52417)"
      ]
     },
     "execution_count": 360,
     "metadata": {},
     "output_type": "execute_result"
    }
   ],
   "source": [
    "from sklearn.feature_extraction.text import TfidfTransformer\n",
    "\n",
    "X = TfidfTransformer().fit_transform(X)\n",
    "X.shape"
   ]
  },
  {
   "cell_type": "code",
   "execution_count": 361,
   "metadata": {},
   "outputs": [],
   "source": [
    "feature_names = vectorizer.get_feature_names()"
   ]
  },
  {
   "cell_type": "code",
   "execution_count": 362,
   "metadata": {},
   "outputs": [],
   "source": [
    "X = pd.DataFrame(X.toarray())"
   ]
  },
  {
   "cell_type": "code",
   "execution_count": 363,
   "metadata": {},
   "outputs": [],
   "source": [
    "columns = X.columns"
   ]
  },
  {
   "cell_type": "code",
   "execution_count": 365,
   "metadata": {},
   "outputs": [],
   "source": [
    "from sklearn.model_selection import train_test_split\n",
    "\n",
    "\n",
    "X_train, X_test, y_train, y_test = train_test_split(X, y, test_size=0.3, random_state=22)"
   ]
  },
  {
   "cell_type": "code",
   "execution_count": 366,
   "metadata": {},
   "outputs": [],
   "source": [
    "from sklearn.ensemble import GradientBoostingClassifier, RandomForestClassifier\n",
    "import xgboost"
   ]
  },
  {
   "cell_type": "code",
   "execution_count": 324,
   "metadata": {},
   "outputs": [],
   "source": [
    "clf = xgboost.XGBClassifier(\n",
    "                    max_depth=5,\n",
    "                    n_jobs=-1,\n",
    "                    n_estimators=101,\n",
    "                    min_samples_split=200,\n",
    "                    learning_rate=0.079,\n",
    "                    max_features='log2',\n",
    "                    subsample=0.6578947368421052\n",
    ")"
   ]
  },
  {
   "cell_type": "code",
   "execution_count": 367,
   "metadata": {},
   "outputs": [],
   "source": [
    "clf = RandomForestClassifier(n_jobs=-1)"
   ]
  },
  {
   "cell_type": "code",
   "execution_count": 368,
   "metadata": {},
   "outputs": [
    {
     "name": "stderr",
     "output_type": "stream",
     "text": [
      "C:\\Users\\Arsenii\\Anaconda3\\lib\\site-packages\\sklearn\\ensemble\\forest.py:246: FutureWarning: The default value of n_estimators will change from 10 in version 0.20 to 100 in 0.22.\n",
      "  \"10 in version 0.20 to 100 in 0.22.\", FutureWarning)\n"
     ]
    },
    {
     "data": {
      "text/plain": [
       "RandomForestClassifier(bootstrap=True, class_weight=None, criterion='gini',\n",
       "            max_depth=None, max_features='auto', max_leaf_nodes=None,\n",
       "            min_impurity_decrease=0.0, min_impurity_split=None,\n",
       "            min_samples_leaf=1, min_samples_split=2,\n",
       "            min_weight_fraction_leaf=0.0, n_estimators=10, n_jobs=-1,\n",
       "            oob_score=False, random_state=None, verbose=0,\n",
       "            warm_start=False)"
      ]
     },
     "execution_count": 368,
     "metadata": {},
     "output_type": "execute_result"
    }
   ],
   "source": [
    "clf.fit(X=X_train, y=y_train)"
   ]
  },
  {
   "cell_type": "code",
   "execution_count": 369,
   "metadata": {},
   "outputs": [],
   "source": [
    "y_train_predict = clf.predict(X_train)\n",
    "y_test_predict = clf.predict(X_test)"
   ]
  },
  {
   "cell_type": "code",
   "execution_count": 370,
   "metadata": {},
   "outputs": [],
   "source": [
    "from sklearn.metrics import accuracy_score, f1_score, roc_auc_score"
   ]
  },
  {
   "cell_type": "code",
   "execution_count": 371,
   "metadata": {},
   "outputs": [
    {
     "data": {
      "text/plain": [
       "0.898"
      ]
     },
     "execution_count": 371,
     "metadata": {},
     "output_type": "execute_result"
    }
   ],
   "source": [
    "accuracy_score(y_test, y_test_predict)"
   ]
  },
  {
   "cell_type": "code",
   "execution_count": 372,
   "metadata": {},
   "outputs": [
    {
     "data": {
      "text/plain": [
       "0.5405405405405406"
      ]
     },
     "execution_count": 372,
     "metadata": {},
     "output_type": "execute_result"
    }
   ],
   "source": [
    "f1_score(y_test, y_test_predict)"
   ]
  },
  {
   "cell_type": "code",
   "execution_count": null,
   "metadata": {},
   "outputs": [],
   "source": []
  }
 ],
 "metadata": {
  "kernelspec": {
   "display_name": "Python 3",
   "language": "python",
   "name": "python3"
  },
  "language_info": {
   "codemirror_mode": {
    "name": "ipython",
    "version": 3
   },
   "file_extension": ".py",
   "mimetype": "text/x-python",
   "name": "python",
   "nbconvert_exporter": "python",
   "pygments_lexer": "ipython3",
   "version": "3.7.3"
  }
 },
 "nbformat": 4,
 "nbformat_minor": 2
}
