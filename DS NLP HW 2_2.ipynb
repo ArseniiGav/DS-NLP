{
 "cells": [
  {
   "cell_type": "code",
   "execution_count": 1,
   "metadata": {},
   "outputs": [],
   "source": [
    "import json\n",
    "\n",
    "import bz2\n",
    "import regex\n",
    "from tqdm import tqdm\n",
    "from scipy import sparse"
   ]
  },
  {
   "cell_type": "code",
   "execution_count": 2,
   "metadata": {},
   "outputs": [],
   "source": [
    "import warnings\n",
    "warnings.filterwarnings('ignore')"
   ]
  },
  {
   "cell_type": "code",
   "execution_count": 3,
   "metadata": {},
   "outputs": [
    {
     "name": "stdout",
     "output_type": "stream",
     "text": [
      "Populating the interactive namespace from numpy and matplotlib\n"
     ]
    }
   ],
   "source": [
    "import pandas as pd\n",
    "import numpy as np\n",
    "import nltk\n",
    "import matplotlib.pyplot as plt\n",
    "import seaborn as sns\n",
    "%matplotlib inline\n",
    "%pylab inline"
   ]
  },
  {
   "cell_type": "markdown",
   "metadata": {},
   "source": [
    "#  Домашнее задание по NLP # 2 [100 баллов] \n",
    "## Анализ тональности твитов\n",
    "\n",
    "Данные для задания – [коллекция русскоязычных твитов](http://study.mokoron.com/), среди которых есть заведомо отрицательные и заведомо положительные. Ваша задача - научиться как можно лучше отделять заведомо положительные от заведомо отрицательных.\n",
    "\n",
    "Загрузите 2 csv файла: [с положительными твитами](https://www.dropbox.com/s/fnpq3z4bcnoktiv/positive.csv?dl=0) и [с отрицательными](https://www.dropbox.com/s/fnpq3z4bcnoktiv/positive.csv?dl=0)"
   ]
  },
  {
   "cell_type": "markdown",
   "metadata": {},
   "source": [
    "## Часть 1. Обучение модели word2vec [40 баллов]\n",
    "\n",
    "0. Объедините положительные и отрицательные твиты в один массив\n",
    "1. Разбейте всю коллекцию отзывов на предложения. Лемматизируйте все слова. \n",
    "2. Обучите по коллекции предложений word2vec\n",
    "3. Приведите несколько удачных и неудачных примеров решения стандартных тестов для word2vec:\n",
    "    * тест на определение ближайших слов\n",
    "    * тест на аналогии (мужчина – король : женщина – королева)\n",
    "    * тест на определение лишнего слова.\n",
    "    \n",
    "4. Постройте визуализацию TSNE для топ-100 (или топ-500) слов и найдите осмысленные кластеры слов \n",
    "\n",
    "Ссылка на примеры визуализаций: https://towardsdatascience.com/game-of-thrones-word-embeddings-does-r-l-j-part-2-30290b1c0b4b"
   ]
  },
  {
   "cell_type": "markdown",
   "metadata": {},
   "source": [
    "База данных состоит из 12 столбцов:\n",
    "\n",
    "- id: уникальный номер сообщения в системе twitter;\n",
    "- tdate: дата публикации сообщения (твита);\n",
    "- tmane: имя пользователя, опубликовавшего сообщение;\n",
    "- ttext:  текст сообщения (твита);\n",
    "- ttype: поле в котором в дальнейшем будет указано к кому классу относится твит (положительный, отрицательный, нейтральный);\n",
    "- trep: количество реплаев к данному сообщению. В настоящий момент API твиттера не отдает эту информацию;\n",
    "- trtw: число ретвитов\n",
    "- tfav: число сколько раз данное сообщение было добавлено в избранное другими пользователями;\n",
    "- tstcount: число всех сообщений пользователя в сети twitter;\n",
    "- tfol: количество фоловеров пользователя (тех людей, которые читают пользователя);\n",
    "- tfrien: количество друзей пользователя (те люди, которых читает пользователь);\n",
    "- listcount: количество листов-подписок в которые добавлен твиттер-пользователь."
   ]
  },
  {
   "cell_type": "code",
   "execution_count": 4,
   "metadata": {},
   "outputs": [],
   "source": [
    "columns = ['id', 'tdate', 'tmane', 'ttext', 'ttype', 'trep', 'tfav', 'trtw', 'tstcount', 'tfol', 'tfrien', 'listcount']"
   ]
  },
  {
   "cell_type": "code",
   "execution_count": 5,
   "metadata": {},
   "outputs": [],
   "source": [
    "negative = pd.read_csv('negative.csv', sep=';', encoding='utf-8', error_bad_lines=False, names=columns)"
   ]
  },
  {
   "cell_type": "code",
   "execution_count": 6,
   "metadata": {},
   "outputs": [],
   "source": [
    "positive = pd.read_csv('positive.csv', sep=';', encoding='utf-8', error_bad_lines=False, names=columns)"
   ]
  },
  {
   "cell_type": "code",
   "execution_count": 7,
   "metadata": {},
   "outputs": [
    {
     "data": {
      "text/html": [
       "<div>\n",
       "<style scoped>\n",
       "    .dataframe tbody tr th:only-of-type {\n",
       "        vertical-align: middle;\n",
       "    }\n",
       "\n",
       "    .dataframe tbody tr th {\n",
       "        vertical-align: top;\n",
       "    }\n",
       "\n",
       "    .dataframe thead th {\n",
       "        text-align: right;\n",
       "    }\n",
       "</style>\n",
       "<table border=\"1\" class=\"dataframe\">\n",
       "  <thead>\n",
       "    <tr style=\"text-align: right;\">\n",
       "      <th></th>\n",
       "      <th>id</th>\n",
       "      <th>tdate</th>\n",
       "      <th>tmane</th>\n",
       "      <th>ttext</th>\n",
       "      <th>ttype</th>\n",
       "      <th>trep</th>\n",
       "      <th>tfav</th>\n",
       "      <th>trtw</th>\n",
       "      <th>tstcount</th>\n",
       "      <th>tfol</th>\n",
       "      <th>tfrien</th>\n",
       "      <th>listcount</th>\n",
       "    </tr>\n",
       "  </thead>\n",
       "  <tbody>\n",
       "    <tr>\n",
       "      <th>0</th>\n",
       "      <td>408906762813579264</td>\n",
       "      <td>1386325944</td>\n",
       "      <td>dugarchikbellko</td>\n",
       "      <td>на работе был полный пиддес :| и так каждое за...</td>\n",
       "      <td>-1</td>\n",
       "      <td>0</td>\n",
       "      <td>0</td>\n",
       "      <td>0</td>\n",
       "      <td>8064</td>\n",
       "      <td>111</td>\n",
       "      <td>94</td>\n",
       "      <td>2</td>\n",
       "    </tr>\n",
       "    <tr>\n",
       "      <th>1</th>\n",
       "      <td>408906818262687744</td>\n",
       "      <td>1386325957</td>\n",
       "      <td>nugemycejela</td>\n",
       "      <td>Коллеги сидят рубятся в Urban terror, а я из-з...</td>\n",
       "      <td>-1</td>\n",
       "      <td>0</td>\n",
       "      <td>0</td>\n",
       "      <td>0</td>\n",
       "      <td>26</td>\n",
       "      <td>42</td>\n",
       "      <td>39</td>\n",
       "      <td>0</td>\n",
       "    </tr>\n",
       "    <tr>\n",
       "      <th>2</th>\n",
       "      <td>408906858515398656</td>\n",
       "      <td>1386325966</td>\n",
       "      <td>4post21</td>\n",
       "      <td>@elina_4post как говорят обещаного три года жд...</td>\n",
       "      <td>-1</td>\n",
       "      <td>0</td>\n",
       "      <td>0</td>\n",
       "      <td>0</td>\n",
       "      <td>718</td>\n",
       "      <td>49</td>\n",
       "      <td>249</td>\n",
       "      <td>0</td>\n",
       "    </tr>\n",
       "    <tr>\n",
       "      <th>3</th>\n",
       "      <td>408906914437685248</td>\n",
       "      <td>1386325980</td>\n",
       "      <td>Poliwake</td>\n",
       "      <td>Желаю хорошего полёта и удачной посадки,я буду...</td>\n",
       "      <td>-1</td>\n",
       "      <td>0</td>\n",
       "      <td>0</td>\n",
       "      <td>0</td>\n",
       "      <td>10628</td>\n",
       "      <td>207</td>\n",
       "      <td>200</td>\n",
       "      <td>0</td>\n",
       "    </tr>\n",
       "    <tr>\n",
       "      <th>4</th>\n",
       "      <td>408906914723295232</td>\n",
       "      <td>1386325980</td>\n",
       "      <td>capyvixowe</td>\n",
       "      <td>Обновил за каким-то лешим surf, теперь не рабо...</td>\n",
       "      <td>-1</td>\n",
       "      <td>0</td>\n",
       "      <td>0</td>\n",
       "      <td>0</td>\n",
       "      <td>35</td>\n",
       "      <td>17</td>\n",
       "      <td>34</td>\n",
       "      <td>0</td>\n",
       "    </tr>\n",
       "  </tbody>\n",
       "</table>\n",
       "</div>"
      ],
      "text/plain": [
       "                   id       tdate            tmane  \\\n",
       "0  408906762813579264  1386325944  dugarchikbellko   \n",
       "1  408906818262687744  1386325957     nugemycejela   \n",
       "2  408906858515398656  1386325966          4post21   \n",
       "3  408906914437685248  1386325980         Poliwake   \n",
       "4  408906914723295232  1386325980       capyvixowe   \n",
       "\n",
       "                                               ttext  ttype  trep  tfav  trtw  \\\n",
       "0  на работе был полный пиддес :| и так каждое за...     -1     0     0     0   \n",
       "1  Коллеги сидят рубятся в Urban terror, а я из-з...     -1     0     0     0   \n",
       "2  @elina_4post как говорят обещаного три года жд...     -1     0     0     0   \n",
       "3  Желаю хорошего полёта и удачной посадки,я буду...     -1     0     0     0   \n",
       "4  Обновил за каким-то лешим surf, теперь не рабо...     -1     0     0     0   \n",
       "\n",
       "   tstcount  tfol  tfrien  listcount  \n",
       "0      8064   111      94          2  \n",
       "1        26    42      39          0  \n",
       "2       718    49     249          0  \n",
       "3     10628   207     200          0  \n",
       "4        35    17      34          0  "
      ]
     },
     "execution_count": 7,
     "metadata": {},
     "output_type": "execute_result"
    }
   ],
   "source": [
    "negative.head()"
   ]
  },
  {
   "cell_type": "code",
   "execution_count": 8,
   "metadata": {},
   "outputs": [
    {
     "data": {
      "text/html": [
       "<div>\n",
       "<style scoped>\n",
       "    .dataframe tbody tr th:only-of-type {\n",
       "        vertical-align: middle;\n",
       "    }\n",
       "\n",
       "    .dataframe tbody tr th {\n",
       "        vertical-align: top;\n",
       "    }\n",
       "\n",
       "    .dataframe thead th {\n",
       "        text-align: right;\n",
       "    }\n",
       "</style>\n",
       "<table border=\"1\" class=\"dataframe\">\n",
       "  <thead>\n",
       "    <tr style=\"text-align: right;\">\n",
       "      <th></th>\n",
       "      <th>id</th>\n",
       "      <th>tdate</th>\n",
       "      <th>tmane</th>\n",
       "      <th>ttext</th>\n",
       "      <th>ttype</th>\n",
       "      <th>trep</th>\n",
       "      <th>tfav</th>\n",
       "      <th>trtw</th>\n",
       "      <th>tstcount</th>\n",
       "      <th>tfol</th>\n",
       "      <th>tfrien</th>\n",
       "      <th>listcount</th>\n",
       "    </tr>\n",
       "  </thead>\n",
       "  <tbody>\n",
       "    <tr>\n",
       "      <th>0</th>\n",
       "      <td>408906692374446080</td>\n",
       "      <td>1386325927</td>\n",
       "      <td>pleease_shut_up</td>\n",
       "      <td>@first_timee хоть я и школота, но поверь, у на...</td>\n",
       "      <td>1</td>\n",
       "      <td>0</td>\n",
       "      <td>0</td>\n",
       "      <td>0</td>\n",
       "      <td>7569</td>\n",
       "      <td>62</td>\n",
       "      <td>61</td>\n",
       "      <td>0</td>\n",
       "    </tr>\n",
       "    <tr>\n",
       "      <th>1</th>\n",
       "      <td>408906692693221377</td>\n",
       "      <td>1386325927</td>\n",
       "      <td>alinakirpicheva</td>\n",
       "      <td>Да, все-таки он немного похож на него. Но мой ...</td>\n",
       "      <td>1</td>\n",
       "      <td>0</td>\n",
       "      <td>0</td>\n",
       "      <td>0</td>\n",
       "      <td>11825</td>\n",
       "      <td>59</td>\n",
       "      <td>31</td>\n",
       "      <td>2</td>\n",
       "    </tr>\n",
       "    <tr>\n",
       "      <th>2</th>\n",
       "      <td>408906695083954177</td>\n",
       "      <td>1386325927</td>\n",
       "      <td>EvgeshaRe</td>\n",
       "      <td>RT @KatiaCheh: Ну ты идиотка) я испугалась за ...</td>\n",
       "      <td>1</td>\n",
       "      <td>0</td>\n",
       "      <td>1</td>\n",
       "      <td>0</td>\n",
       "      <td>1273</td>\n",
       "      <td>26</td>\n",
       "      <td>27</td>\n",
       "      <td>0</td>\n",
       "    </tr>\n",
       "    <tr>\n",
       "      <th>3</th>\n",
       "      <td>408906695356973056</td>\n",
       "      <td>1386325927</td>\n",
       "      <td>ikonnikova_21</td>\n",
       "      <td>RT @digger2912: \"Кто то в углу сидит и погибае...</td>\n",
       "      <td>1</td>\n",
       "      <td>0</td>\n",
       "      <td>1</td>\n",
       "      <td>0</td>\n",
       "      <td>1549</td>\n",
       "      <td>19</td>\n",
       "      <td>17</td>\n",
       "      <td>0</td>\n",
       "    </tr>\n",
       "    <tr>\n",
       "      <th>4</th>\n",
       "      <td>408906761416867842</td>\n",
       "      <td>1386325943</td>\n",
       "      <td>JumpyAlex</td>\n",
       "      <td>@irina_dyshkant Вот что значит страшилка :D\\nН...</td>\n",
       "      <td>1</td>\n",
       "      <td>0</td>\n",
       "      <td>0</td>\n",
       "      <td>0</td>\n",
       "      <td>597</td>\n",
       "      <td>16</td>\n",
       "      <td>23</td>\n",
       "      <td>1</td>\n",
       "    </tr>\n",
       "  </tbody>\n",
       "</table>\n",
       "</div>"
      ],
      "text/plain": [
       "                   id       tdate            tmane  \\\n",
       "0  408906692374446080  1386325927  pleease_shut_up   \n",
       "1  408906692693221377  1386325927  alinakirpicheva   \n",
       "2  408906695083954177  1386325927        EvgeshaRe   \n",
       "3  408906695356973056  1386325927    ikonnikova_21   \n",
       "4  408906761416867842  1386325943        JumpyAlex   \n",
       "\n",
       "                                               ttext  ttype  trep  tfav  trtw  \\\n",
       "0  @first_timee хоть я и школота, но поверь, у на...      1     0     0     0   \n",
       "1  Да, все-таки он немного похож на него. Но мой ...      1     0     0     0   \n",
       "2  RT @KatiaCheh: Ну ты идиотка) я испугалась за ...      1     0     1     0   \n",
       "3  RT @digger2912: \"Кто то в углу сидит и погибае...      1     0     1     0   \n",
       "4  @irina_dyshkant Вот что значит страшилка :D\\nН...      1     0     0     0   \n",
       "\n",
       "   tstcount  tfol  tfrien  listcount  \n",
       "0      7569    62      61          0  \n",
       "1     11825    59      31          2  \n",
       "2      1273    26      27          0  \n",
       "3      1549    19      17          0  \n",
       "4       597    16      23          1  "
      ]
     },
     "execution_count": 8,
     "metadata": {},
     "output_type": "execute_result"
    }
   ],
   "source": [
    "positive.head()"
   ]
  },
  {
   "cell_type": "markdown",
   "metadata": {},
   "source": [
    "### 0. Объедините положительные и отрицательные твиты в один массив"
   ]
  },
  {
   "cell_type": "code",
   "execution_count": 9,
   "metadata": {},
   "outputs": [],
   "source": [
    "df = pd.concat([positive, negative])"
   ]
  },
  {
   "cell_type": "code",
   "execution_count": 10,
   "metadata": {},
   "outputs": [],
   "source": [
    "df = df.reset_index().drop(columns=['index'])"
   ]
  },
  {
   "cell_type": "code",
   "execution_count": 11,
   "metadata": {},
   "outputs": [],
   "source": [
    "import sklearn.utils\n",
    "df = sklearn.utils.shuffle(df)"
   ]
  },
  {
   "cell_type": "markdown",
   "metadata": {},
   "source": [
    "### 1. Разбейте всю коллекцию отзывов на предложения. Лемматизируйте все слова. "
   ]
  },
  {
   "cell_type": "code",
   "execution_count": 12,
   "metadata": {},
   "outputs": [],
   "source": [
    "import re\n",
    "regex = re.compile(\"[А-Яа-я]+\")\n",
    "\n",
    "def words_only(text, regex=regex):\n",
    "    try:\n",
    "        return regex.findall(text)\n",
    "    except:\n",
    "        return \"\"\n",
    "\n",
    "\n",
    "df['ttext'] = df.ttext.apply(lambda x: x.lower())\n",
    "df['words_only'] = df.ttext.apply(words_only)"
   ]
  },
  {
   "cell_type": "code",
   "execution_count": 13,
   "metadata": {},
   "outputs": [],
   "source": [
    "from nltk.corpus import stopwords\n",
    "sw = stopwords.words('russian') + ['это', 'наш' , 'тыс', 'млн', 'млрд', 'также',  'т', 'д', 'сч', 'хотя']"
   ]
  },
  {
   "cell_type": "code",
   "execution_count": 14,
   "metadata": {},
   "outputs": [],
   "source": [
    "def remove_stopwords(text, mystopwords = sw):\n",
    "    try:\n",
    "        return [token for token in text if not token in mystopwords]\n",
    "    except:\n",
    "        return \"\""
   ]
  },
  {
   "cell_type": "code",
   "execution_count": 15,
   "metadata": {},
   "outputs": [],
   "source": [
    "df['words_only_without_sw']= df['words_only'].apply(remove_stopwords) "
   ]
  },
  {
   "cell_type": "code",
   "execution_count": 16,
   "metadata": {},
   "outputs": [],
   "source": [
    "from pymorphy2 import MorphAnalyzer\n",
    "\n",
    "pm2 = MorphAnalyzer()\n",
    "\n",
    "\n",
    "def lemmatize(text, mystem=pm2):\n",
    "    try:\n",
    "        return [pm2.parse(word)[0].normal_form for word in text]\n",
    "    except:\n",
    "        return \" \""
   ]
  },
  {
   "cell_type": "code",
   "execution_count": 17,
   "metadata": {},
   "outputs": [],
   "source": [
    "df['lemmas'] = df['words_only_without_sw'].apply(lemmatize) "
   ]
  },
  {
   "cell_type": "code",
   "execution_count": 18,
   "metadata": {},
   "outputs": [],
   "source": [
    "df.to_csv('df_twit_lemmas.csv', encoding='utf-8', index=False)"
   ]
  },
  {
   "cell_type": "code",
   "execution_count": 19,
   "metadata": {},
   "outputs": [
    {
     "data": {
      "text/html": [
       "<div>\n",
       "<style scoped>\n",
       "    .dataframe tbody tr th:only-of-type {\n",
       "        vertical-align: middle;\n",
       "    }\n",
       "\n",
       "    .dataframe tbody tr th {\n",
       "        vertical-align: top;\n",
       "    }\n",
       "\n",
       "    .dataframe thead th {\n",
       "        text-align: right;\n",
       "    }\n",
       "</style>\n",
       "<table border=\"1\" class=\"dataframe\">\n",
       "  <thead>\n",
       "    <tr style=\"text-align: right;\">\n",
       "      <th></th>\n",
       "      <th>lemmas</th>\n",
       "    </tr>\n",
       "  </thead>\n",
       "  <tbody>\n",
       "    <tr>\n",
       "      <th>143892</th>\n",
       "      <td>[уснуть, автобус, провтыкать, остановка, зашиб...</td>\n",
       "    </tr>\n",
       "    <tr>\n",
       "      <th>219386</th>\n",
       "      <td>[число, метр, платон, право]</td>\n",
       "    </tr>\n",
       "    <tr>\n",
       "      <th>90214</th>\n",
       "      <td>[жёлтый, луна, уровень, крыша, посмотреть, окно]</td>\n",
       "    </tr>\n",
       "    <tr>\n",
       "      <th>222569</th>\n",
       "      <td>[обувь, новый, купить, пятка, кровь, натереть]</td>\n",
       "    </tr>\n",
       "    <tr>\n",
       "      <th>164526</th>\n",
       "      <td>[конец, четверть, беда, зарабатывать, оценка, ...</td>\n",
       "    </tr>\n",
       "  </tbody>\n",
       "</table>\n",
       "</div>"
      ],
      "text/plain": [
       "                                                   lemmas\n",
       "143892  [уснуть, автобус, провтыкать, остановка, зашиб...\n",
       "219386                       [число, метр, платон, право]\n",
       "90214    [жёлтый, луна, уровень, крыша, посмотреть, окно]\n",
       "222569     [обувь, новый, купить, пятка, кровь, натереть]\n",
       "164526  [конец, четверть, беда, зарабатывать, оценка, ..."
      ]
     },
     "execution_count": 19,
     "metadata": {},
     "output_type": "execute_result"
    }
   ],
   "source": [
    "df[['lemmas']].head()"
   ]
  },
  {
   "cell_type": "code",
   "execution_count": 20,
   "metadata": {},
   "outputs": [
    {
     "name": "stderr",
     "output_type": "stream",
     "text": [
      "C:\\Users\\Arsenii\\Anaconda3\\lib\\site-packages\\gensim\\utils.py:1197: UserWarning: detected Windows; aliasing chunkize to chunkize_serial\n",
      "  warnings.warn(\"detected Windows; aliasing chunkize to chunkize_serial\")\n"
     ]
    }
   ],
   "source": [
    "from gensim.models import Word2Vec"
   ]
  },
  {
   "cell_type": "markdown",
   "metadata": {},
   "source": [
    "### 2. Обучите по коллекции предложений word2vec"
   ]
  },
  {
   "cell_type": "code",
   "execution_count": 21,
   "metadata": {},
   "outputs": [],
   "source": [
    "model = Word2Vec(df.lemmas, size=100, window=3, min_count=20, workers=4)"
   ]
  },
  {
   "cell_type": "code",
   "execution_count": 22,
   "metadata": {},
   "outputs": [
    {
     "name": "stderr",
     "output_type": "stream",
     "text": [
      "C:\\Users\\Arsenii\\Anaconda3\\lib\\site-packages\\smart_open\\smart_open_lib.py:398: UserWarning: This function is deprecated, use smart_open.open instead. See the migration notes for details: https://github.com/RaRe-Technologies/smart_open/blob/master/README.rst#migrating-to-the-new-open-function\n",
      "  'See the migration notes for details: %s' % _MIGRATION_NOTES_URL\n"
     ]
    }
   ],
   "source": [
    "model.save(\"word2v_twit.model\")"
   ]
  },
  {
   "cell_type": "code",
   "execution_count": 23,
   "metadata": {},
   "outputs": [
    {
     "name": "stderr",
     "output_type": "stream",
     "text": [
      "C:\\Users\\Arsenii\\Anaconda3\\lib\\site-packages\\smart_open\\smart_open_lib.py:398: UserWarning: This function is deprecated, use smart_open.open instead. See the migration notes for details: https://github.com/RaRe-Technologies/smart_open/blob/master/README.rst#migrating-to-the-new-open-function\n",
      "  'See the migration notes for details: %s' % _MIGRATION_NOTES_URL\n"
     ]
    }
   ],
   "source": [
    "model = Word2Vec.load(\"word2v_twit.model\")"
   ]
  },
  {
   "cell_type": "markdown",
   "metadata": {},
   "source": [
    "### 3. Приведите несколько удачных и неудачных примеров решения стандартных тестов для word2vec."
   ]
  },
  {
   "cell_type": "code",
   "execution_count": 24,
   "metadata": {},
   "outputs": [
    {
     "data": {
      "text/plain": [
       "[('шк', 0.8591850399971008),\n",
       " ('колледж', 0.8097853660583496),\n",
       " ('универ', 0.739445686340332),\n",
       " ('учёба', 0.7242656946182251),\n",
       " ('треня', 0.7223893404006958),\n",
       " ('репетитор', 0.7220944762229919),\n",
       " ('музыкалка', 0.7167025208473206),\n",
       " ('репетиция', 0.7081418037414551),\n",
       " ('никуда', 0.6994667649269104),\n",
       " ('тренировка', 0.6868067979812622)]"
      ]
     },
     "execution_count": 24,
     "metadata": {},
     "output_type": "execute_result"
    }
   ],
   "source": [
    "model.most_similar(\"школа\")"
   ]
  },
  {
   "cell_type": "code",
   "execution_count": 25,
   "metadata": {},
   "outputs": [
    {
     "data": {
      "text/plain": [
       "[('далёкий', 0.5923976898193359),\n",
       " ('поп', 0.5874745845794678),\n",
       " ('щ', 0.5867449045181274),\n",
       " ('приложить', 0.5820604562759399),\n",
       " ('посуда', 0.5745445489883423),\n",
       " ('мяч', 0.5702961683273315),\n",
       " ('пацан', 0.5694011449813843),\n",
       " ('ру', 0.5693413019180298),\n",
       " ('бабка', 0.5587953329086304),\n",
       " ('ппц', 0.5562995076179504)]"
      ]
     },
     "execution_count": 25,
     "metadata": {},
     "output_type": "execute_result"
    }
   ],
   "source": [
    "model.most_similar(\"ум\")"
   ]
  },
  {
   "cell_type": "code",
   "execution_count": 26,
   "metadata": {},
   "outputs": [
    {
     "data": {
      "text/plain": [
       "[('надежда', 0.7624943256378174),\n",
       " ('дежурство', 0.6928868889808655),\n",
       " ('мучение', 0.6735677719116211),\n",
       " ('казалось', 0.6696842312812805),\n",
       " ('надолго', 0.6660622954368591),\n",
       " ('энергия', 0.66511070728302),\n",
       " ('минутка', 0.6634714603424072),\n",
       " ('смыть', 0.660553514957428),\n",
       " ('финансовый', 0.6575322151184082),\n",
       " ('расслабиться', 0.6562843322753906)]"
      ]
     },
     "execution_count": 26,
     "metadata": {},
     "output_type": "execute_result"
    }
   ],
   "source": [
    "model.most_similar(positive=[\"соцсеть\",\"время\"], negative=[\"твиттер\"])"
   ]
  },
  {
   "cell_type": "markdown",
   "metadata": {},
   "source": [
    "**Неудачный пример:**"
   ]
  },
  {
   "cell_type": "code",
   "execution_count": 27,
   "metadata": {},
   "outputs": [
    {
     "data": {
      "text/plain": [
       "[('снизу', 0.9204174280166626),\n",
       " ('квадрат', 0.8945657014846802),\n",
       " ('слюни', 0.892627477645874),\n",
       " ('тереть', 0.8920769691467285),\n",
       " ('упор', 0.8901880979537964),\n",
       " ('справа', 0.8871051073074341),\n",
       " ('мария', 0.8869766592979431),\n",
       " ('копипаста', 0.8868688941001892),\n",
       " ('стрелка', 0.8851778507232666),\n",
       " ('увеличить', 0.8833971619606018)]"
      ]
     },
     "execution_count": 27,
     "metadata": {},
     "output_type": "execute_result"
    }
   ],
   "source": [
    "model.most_similar(positive=[\"король\",\"женщина\"], negative=[\"мужчина\"])"
   ]
  },
  {
   "cell_type": "code",
   "execution_count": 28,
   "metadata": {},
   "outputs": [
    {
     "data": {
      "text/plain": [
       "'работа'"
      ]
     },
     "execution_count": 28,
     "metadata": {},
     "output_type": "execute_result"
    }
   ],
   "source": [
    "model.doesnt_match(\"город церковь кремль река работа\".split())"
   ]
  },
  {
   "cell_type": "code",
   "execution_count": 29,
   "metadata": {},
   "outputs": [
    {
     "data": {
      "text/plain": [
       "'твиттер'"
      ]
     },
     "execution_count": 29,
     "metadata": {},
     "output_type": "execute_result"
    }
   ],
   "source": [
    "model.doesnt_match(\"твиттер радость гулять жить смеяться\".split())"
   ]
  },
  {
   "cell_type": "markdown",
   "metadata": {},
   "source": [
    "### 4. Постройте визуализацию TSNE для топ-100 (или топ-500) слов и найдите осмысленные кластеры слов"
   ]
  },
  {
   "cell_type": "code",
   "execution_count": 30,
   "metadata": {},
   "outputs": [],
   "source": [
    "from nltk import FreqDist"
   ]
  },
  {
   "cell_type": "code",
   "execution_count": 31,
   "metadata": {},
   "outputs": [
    {
     "name": "stderr",
     "output_type": "stream",
     "text": [
      "100%|██████████████████████████████████████████████████████████████████████| 226834/226834 [00:02<00:00, 108390.79it/s]\n"
     ]
    }
   ],
   "source": [
    "top_words = []\n",
    "\n",
    "fd = FreqDist()\n",
    "for text in tqdm(df.lemmas):\n",
    "    fd.update(text)\n",
    "for i in fd.most_common(1000):\n",
    "    top_words.append(i[0])"
   ]
  },
  {
   "cell_type": "code",
   "execution_count": 32,
   "metadata": {},
   "outputs": [],
   "source": [
    "top_words_vec_1 = model[top_words[:500]]\n",
    "top_words_vec_2 = model[top_words[:100]]"
   ]
  },
  {
   "cell_type": "code",
   "execution_count": 33,
   "metadata": {},
   "outputs": [],
   "source": [
    "from sklearn.manifold import TSNE"
   ]
  },
  {
   "cell_type": "code",
   "execution_count": 34,
   "metadata": {},
   "outputs": [],
   "source": [
    "tsne = TSNE(n_components=2, random_state=0)\n",
    "\n",
    "top_words_tsne_1 = tsne.fit_transform(top_words_vec_1)\n",
    "top_words_tsne_2 = tsne.fit_transform(top_words_vec_2)"
   ]
  },
  {
   "cell_type": "code",
   "execution_count": 35,
   "metadata": {},
   "outputs": [
    {
     "data": {
      "text/html": [
       "\n",
       "    <div class=\"bk-root\">\n",
       "        <a href=\"https://bokeh.pydata.org\" target=\"_blank\" class=\"bk-logo bk-logo-small bk-logo-notebook\"></a>\n",
       "        <span id=\"1001\">Loading BokehJS ...</span>\n",
       "    </div>"
      ]
     },
     "metadata": {},
     "output_type": "display_data"
    },
    {
     "data": {
      "application/javascript": [
       "\n",
       "(function(root) {\n",
       "  function now() {\n",
       "    return new Date();\n",
       "  }\n",
       "\n",
       "  var force = true;\n",
       "\n",
       "  if (typeof (root._bokeh_onload_callbacks) === \"undefined\" || force === true) {\n",
       "    root._bokeh_onload_callbacks = [];\n",
       "    root._bokeh_is_loading = undefined;\n",
       "  }\n",
       "\n",
       "  var JS_MIME_TYPE = 'application/javascript';\n",
       "  var HTML_MIME_TYPE = 'text/html';\n",
       "  var EXEC_MIME_TYPE = 'application/vnd.bokehjs_exec.v0+json';\n",
       "  var CLASS_NAME = 'output_bokeh rendered_html';\n",
       "\n",
       "  /**\n",
       "   * Render data to the DOM node\n",
       "   */\n",
       "  function render(props, node) {\n",
       "    var script = document.createElement(\"script\");\n",
       "    node.appendChild(script);\n",
       "  }\n",
       "\n",
       "  /**\n",
       "   * Handle when an output is cleared or removed\n",
       "   */\n",
       "  function handleClearOutput(event, handle) {\n",
       "    var cell = handle.cell;\n",
       "\n",
       "    var id = cell.output_area._bokeh_element_id;\n",
       "    var server_id = cell.output_area._bokeh_server_id;\n",
       "    // Clean up Bokeh references\n",
       "    if (id != null && id in Bokeh.index) {\n",
       "      Bokeh.index[id].model.document.clear();\n",
       "      delete Bokeh.index[id];\n",
       "    }\n",
       "\n",
       "    if (server_id !== undefined) {\n",
       "      // Clean up Bokeh references\n",
       "      var cmd = \"from bokeh.io.state import curstate; print(curstate().uuid_to_server['\" + server_id + \"'].get_sessions()[0].document.roots[0]._id)\";\n",
       "      cell.notebook.kernel.execute(cmd, {\n",
       "        iopub: {\n",
       "          output: function(msg) {\n",
       "            var id = msg.content.text.trim();\n",
       "            if (id in Bokeh.index) {\n",
       "              Bokeh.index[id].model.document.clear();\n",
       "              delete Bokeh.index[id];\n",
       "            }\n",
       "          }\n",
       "        }\n",
       "      });\n",
       "      // Destroy server and session\n",
       "      var cmd = \"import bokeh.io.notebook as ion; ion.destroy_server('\" + server_id + \"')\";\n",
       "      cell.notebook.kernel.execute(cmd);\n",
       "    }\n",
       "  }\n",
       "\n",
       "  /**\n",
       "   * Handle when a new output is added\n",
       "   */\n",
       "  function handleAddOutput(event, handle) {\n",
       "    var output_area = handle.output_area;\n",
       "    var output = handle.output;\n",
       "\n",
       "    // limit handleAddOutput to display_data with EXEC_MIME_TYPE content only\n",
       "    if ((output.output_type != \"display_data\") || (!output.data.hasOwnProperty(EXEC_MIME_TYPE))) {\n",
       "      return\n",
       "    }\n",
       "\n",
       "    var toinsert = output_area.element.find(\".\" + CLASS_NAME.split(' ')[0]);\n",
       "\n",
       "    if (output.metadata[EXEC_MIME_TYPE][\"id\"] !== undefined) {\n",
       "      toinsert[toinsert.length - 1].firstChild.textContent = output.data[JS_MIME_TYPE];\n",
       "      // store reference to embed id on output_area\n",
       "      output_area._bokeh_element_id = output.metadata[EXEC_MIME_TYPE][\"id\"];\n",
       "    }\n",
       "    if (output.metadata[EXEC_MIME_TYPE][\"server_id\"] !== undefined) {\n",
       "      var bk_div = document.createElement(\"div\");\n",
       "      bk_div.innerHTML = output.data[HTML_MIME_TYPE];\n",
       "      var script_attrs = bk_div.children[0].attributes;\n",
       "      for (var i = 0; i < script_attrs.length; i++) {\n",
       "        toinsert[toinsert.length - 1].firstChild.setAttribute(script_attrs[i].name, script_attrs[i].value);\n",
       "      }\n",
       "      // store reference to server id on output_area\n",
       "      output_area._bokeh_server_id = output.metadata[EXEC_MIME_TYPE][\"server_id\"];\n",
       "    }\n",
       "  }\n",
       "\n",
       "  function register_renderer(events, OutputArea) {\n",
       "\n",
       "    function append_mime(data, metadata, element) {\n",
       "      // create a DOM node to render to\n",
       "      var toinsert = this.create_output_subarea(\n",
       "        metadata,\n",
       "        CLASS_NAME,\n",
       "        EXEC_MIME_TYPE\n",
       "      );\n",
       "      this.keyboard_manager.register_events(toinsert);\n",
       "      // Render to node\n",
       "      var props = {data: data, metadata: metadata[EXEC_MIME_TYPE]};\n",
       "      render(props, toinsert[toinsert.length - 1]);\n",
       "      element.append(toinsert);\n",
       "      return toinsert\n",
       "    }\n",
       "\n",
       "    /* Handle when an output is cleared or removed */\n",
       "    events.on('clear_output.CodeCell', handleClearOutput);\n",
       "    events.on('delete.Cell', handleClearOutput);\n",
       "\n",
       "    /* Handle when a new output is added */\n",
       "    events.on('output_added.OutputArea', handleAddOutput);\n",
       "\n",
       "    /**\n",
       "     * Register the mime type and append_mime function with output_area\n",
       "     */\n",
       "    OutputArea.prototype.register_mime_type(EXEC_MIME_TYPE, append_mime, {\n",
       "      /* Is output safe? */\n",
       "      safe: true,\n",
       "      /* Index of renderer in `output_area.display_order` */\n",
       "      index: 0\n",
       "    });\n",
       "  }\n",
       "\n",
       "  // register the mime type if in Jupyter Notebook environment and previously unregistered\n",
       "  if (root.Jupyter !== undefined) {\n",
       "    var events = require('base/js/events');\n",
       "    var OutputArea = require('notebook/js/outputarea').OutputArea;\n",
       "\n",
       "    if (OutputArea.prototype.mime_types().indexOf(EXEC_MIME_TYPE) == -1) {\n",
       "      register_renderer(events, OutputArea);\n",
       "    }\n",
       "  }\n",
       "\n",
       "  \n",
       "  if (typeof (root._bokeh_timeout) === \"undefined\" || force === true) {\n",
       "    root._bokeh_timeout = Date.now() + 5000;\n",
       "    root._bokeh_failed_load = false;\n",
       "  }\n",
       "\n",
       "  var NB_LOAD_WARNING = {'data': {'text/html':\n",
       "     \"<div style='background-color: #fdd'>\\n\"+\n",
       "     \"<p>\\n\"+\n",
       "     \"BokehJS does not appear to have successfully loaded. If loading BokehJS from CDN, this \\n\"+\n",
       "     \"may be due to a slow or bad network connection. Possible fixes:\\n\"+\n",
       "     \"</p>\\n\"+\n",
       "     \"<ul>\\n\"+\n",
       "     \"<li>re-rerun `output_notebook()` to attempt to load from CDN again, or</li>\\n\"+\n",
       "     \"<li>use INLINE resources instead, as so:</li>\\n\"+\n",
       "     \"</ul>\\n\"+\n",
       "     \"<code>\\n\"+\n",
       "     \"from bokeh.resources import INLINE\\n\"+\n",
       "     \"output_notebook(resources=INLINE)\\n\"+\n",
       "     \"</code>\\n\"+\n",
       "     \"</div>\"}};\n",
       "\n",
       "  function display_loaded() {\n",
       "    var el = document.getElementById(\"1001\");\n",
       "    if (el != null) {\n",
       "      el.textContent = \"BokehJS is loading...\";\n",
       "    }\n",
       "    if (root.Bokeh !== undefined) {\n",
       "      if (el != null) {\n",
       "        el.textContent = \"BokehJS \" + root.Bokeh.version + \" successfully loaded.\";\n",
       "      }\n",
       "    } else if (Date.now() < root._bokeh_timeout) {\n",
       "      setTimeout(display_loaded, 100)\n",
       "    }\n",
       "  }\n",
       "\n",
       "\n",
       "  function run_callbacks() {\n",
       "    try {\n",
       "      root._bokeh_onload_callbacks.forEach(function(callback) { callback() });\n",
       "    }\n",
       "    finally {\n",
       "      delete root._bokeh_onload_callbacks\n",
       "    }\n",
       "    console.info(\"Bokeh: all callbacks have finished\");\n",
       "  }\n",
       "\n",
       "  function load_libs(js_urls, callback) {\n",
       "    root._bokeh_onload_callbacks.push(callback);\n",
       "    if (root._bokeh_is_loading > 0) {\n",
       "      console.log(\"Bokeh: BokehJS is being loaded, scheduling callback at\", now());\n",
       "      return null;\n",
       "    }\n",
       "    if (js_urls == null || js_urls.length === 0) {\n",
       "      run_callbacks();\n",
       "      return null;\n",
       "    }\n",
       "    console.log(\"Bokeh: BokehJS not loaded, scheduling load and callback at\", now());\n",
       "    root._bokeh_is_loading = js_urls.length;\n",
       "    for (var i = 0; i < js_urls.length; i++) {\n",
       "      var url = js_urls[i];\n",
       "      var s = document.createElement('script');\n",
       "      s.src = url;\n",
       "      s.async = false;\n",
       "      s.onreadystatechange = s.onload = function() {\n",
       "        root._bokeh_is_loading--;\n",
       "        if (root._bokeh_is_loading === 0) {\n",
       "          console.log(\"Bokeh: all BokehJS libraries loaded\");\n",
       "          run_callbacks()\n",
       "        }\n",
       "      };\n",
       "      s.onerror = function() {\n",
       "        console.warn(\"failed to load library \" + url);\n",
       "      };\n",
       "      console.log(\"Bokeh: injecting script tag for BokehJS library: \", url);\n",
       "      document.getElementsByTagName(\"head\")[0].appendChild(s);\n",
       "    }\n",
       "  };var element = document.getElementById(\"1001\");\n",
       "  if (element == null) {\n",
       "    console.log(\"Bokeh: ERROR: autoload.js configured with elementid '1001' but no matching script tag was found. \")\n",
       "    return false;\n",
       "  }\n",
       "\n",
       "  var js_urls = [\"https://cdn.pydata.org/bokeh/release/bokeh-1.0.4.min.js\", \"https://cdn.pydata.org/bokeh/release/bokeh-widgets-1.0.4.min.js\", \"https://cdn.pydata.org/bokeh/release/bokeh-tables-1.0.4.min.js\", \"https://cdn.pydata.org/bokeh/release/bokeh-gl-1.0.4.min.js\"];\n",
       "\n",
       "  var inline_js = [\n",
       "    function(Bokeh) {\n",
       "      Bokeh.set_log_level(\"info\");\n",
       "    },\n",
       "    \n",
       "    function(Bokeh) {\n",
       "      \n",
       "    },\n",
       "    function(Bokeh) {\n",
       "      console.log(\"Bokeh: injecting CSS: https://cdn.pydata.org/bokeh/release/bokeh-1.0.4.min.css\");\n",
       "      Bokeh.embed.inject_css(\"https://cdn.pydata.org/bokeh/release/bokeh-1.0.4.min.css\");\n",
       "      console.log(\"Bokeh: injecting CSS: https://cdn.pydata.org/bokeh/release/bokeh-widgets-1.0.4.min.css\");\n",
       "      Bokeh.embed.inject_css(\"https://cdn.pydata.org/bokeh/release/bokeh-widgets-1.0.4.min.css\");\n",
       "      console.log(\"Bokeh: injecting CSS: https://cdn.pydata.org/bokeh/release/bokeh-tables-1.0.4.min.css\");\n",
       "      Bokeh.embed.inject_css(\"https://cdn.pydata.org/bokeh/release/bokeh-tables-1.0.4.min.css\");\n",
       "    }\n",
       "  ];\n",
       "\n",
       "  function run_inline_js() {\n",
       "    \n",
       "    if ((root.Bokeh !== undefined) || (force === true)) {\n",
       "      for (var i = 0; i < inline_js.length; i++) {\n",
       "        inline_js[i].call(root, root.Bokeh);\n",
       "      }if (force === true) {\n",
       "        display_loaded();\n",
       "      }} else if (Date.now() < root._bokeh_timeout) {\n",
       "      setTimeout(run_inline_js, 100);\n",
       "    } else if (!root._bokeh_failed_load) {\n",
       "      console.log(\"Bokeh: BokehJS failed to load within specified timeout.\");\n",
       "      root._bokeh_failed_load = true;\n",
       "    } else if (force !== true) {\n",
       "      var cell = $(document.getElementById(\"1001\")).parents('.cell').data().cell;\n",
       "      cell.output_area.append_execute_result(NB_LOAD_WARNING)\n",
       "    }\n",
       "\n",
       "  }\n",
       "\n",
       "  if (root._bokeh_is_loading === 0) {\n",
       "    console.log(\"Bokeh: BokehJS loaded, going straight to plotting\");\n",
       "    run_inline_js();\n",
       "  } else {\n",
       "    load_libs(js_urls, function() {\n",
       "      console.log(\"Bokeh: BokehJS plotting callback run at\", now());\n",
       "      run_inline_js();\n",
       "    });\n",
       "  }\n",
       "}(window));"
      ],
      "application/vnd.bokehjs_load.v0+json": "\n(function(root) {\n  function now() {\n    return new Date();\n  }\n\n  var force = true;\n\n  if (typeof (root._bokeh_onload_callbacks) === \"undefined\" || force === true) {\n    root._bokeh_onload_callbacks = [];\n    root._bokeh_is_loading = undefined;\n  }\n\n  \n\n  \n  if (typeof (root._bokeh_timeout) === \"undefined\" || force === true) {\n    root._bokeh_timeout = Date.now() + 5000;\n    root._bokeh_failed_load = false;\n  }\n\n  var NB_LOAD_WARNING = {'data': {'text/html':\n     \"<div style='background-color: #fdd'>\\n\"+\n     \"<p>\\n\"+\n     \"BokehJS does not appear to have successfully loaded. If loading BokehJS from CDN, this \\n\"+\n     \"may be due to a slow or bad network connection. Possible fixes:\\n\"+\n     \"</p>\\n\"+\n     \"<ul>\\n\"+\n     \"<li>re-rerun `output_notebook()` to attempt to load from CDN again, or</li>\\n\"+\n     \"<li>use INLINE resources instead, as so:</li>\\n\"+\n     \"</ul>\\n\"+\n     \"<code>\\n\"+\n     \"from bokeh.resources import INLINE\\n\"+\n     \"output_notebook(resources=INLINE)\\n\"+\n     \"</code>\\n\"+\n     \"</div>\"}};\n\n  function display_loaded() {\n    var el = document.getElementById(\"1001\");\n    if (el != null) {\n      el.textContent = \"BokehJS is loading...\";\n    }\n    if (root.Bokeh !== undefined) {\n      if (el != null) {\n        el.textContent = \"BokehJS \" + root.Bokeh.version + \" successfully loaded.\";\n      }\n    } else if (Date.now() < root._bokeh_timeout) {\n      setTimeout(display_loaded, 100)\n    }\n  }\n\n\n  function run_callbacks() {\n    try {\n      root._bokeh_onload_callbacks.forEach(function(callback) { callback() });\n    }\n    finally {\n      delete root._bokeh_onload_callbacks\n    }\n    console.info(\"Bokeh: all callbacks have finished\");\n  }\n\n  function load_libs(js_urls, callback) {\n    root._bokeh_onload_callbacks.push(callback);\n    if (root._bokeh_is_loading > 0) {\n      console.log(\"Bokeh: BokehJS is being loaded, scheduling callback at\", now());\n      return null;\n    }\n    if (js_urls == null || js_urls.length === 0) {\n      run_callbacks();\n      return null;\n    }\n    console.log(\"Bokeh: BokehJS not loaded, scheduling load and callback at\", now());\n    root._bokeh_is_loading = js_urls.length;\n    for (var i = 0; i < js_urls.length; i++) {\n      var url = js_urls[i];\n      var s = document.createElement('script');\n      s.src = url;\n      s.async = false;\n      s.onreadystatechange = s.onload = function() {\n        root._bokeh_is_loading--;\n        if (root._bokeh_is_loading === 0) {\n          console.log(\"Bokeh: all BokehJS libraries loaded\");\n          run_callbacks()\n        }\n      };\n      s.onerror = function() {\n        console.warn(\"failed to load library \" + url);\n      };\n      console.log(\"Bokeh: injecting script tag for BokehJS library: \", url);\n      document.getElementsByTagName(\"head\")[0].appendChild(s);\n    }\n  };var element = document.getElementById(\"1001\");\n  if (element == null) {\n    console.log(\"Bokeh: ERROR: autoload.js configured with elementid '1001' but no matching script tag was found. \")\n    return false;\n  }\n\n  var js_urls = [\"https://cdn.pydata.org/bokeh/release/bokeh-1.0.4.min.js\", \"https://cdn.pydata.org/bokeh/release/bokeh-widgets-1.0.4.min.js\", \"https://cdn.pydata.org/bokeh/release/bokeh-tables-1.0.4.min.js\", \"https://cdn.pydata.org/bokeh/release/bokeh-gl-1.0.4.min.js\"];\n\n  var inline_js = [\n    function(Bokeh) {\n      Bokeh.set_log_level(\"info\");\n    },\n    \n    function(Bokeh) {\n      \n    },\n    function(Bokeh) {\n      console.log(\"Bokeh: injecting CSS: https://cdn.pydata.org/bokeh/release/bokeh-1.0.4.min.css\");\n      Bokeh.embed.inject_css(\"https://cdn.pydata.org/bokeh/release/bokeh-1.0.4.min.css\");\n      console.log(\"Bokeh: injecting CSS: https://cdn.pydata.org/bokeh/release/bokeh-widgets-1.0.4.min.css\");\n      Bokeh.embed.inject_css(\"https://cdn.pydata.org/bokeh/release/bokeh-widgets-1.0.4.min.css\");\n      console.log(\"Bokeh: injecting CSS: https://cdn.pydata.org/bokeh/release/bokeh-tables-1.0.4.min.css\");\n      Bokeh.embed.inject_css(\"https://cdn.pydata.org/bokeh/release/bokeh-tables-1.0.4.min.css\");\n    }\n  ];\n\n  function run_inline_js() {\n    \n    if ((root.Bokeh !== undefined) || (force === true)) {\n      for (var i = 0; i < inline_js.length; i++) {\n        inline_js[i].call(root, root.Bokeh);\n      }if (force === true) {\n        display_loaded();\n      }} else if (Date.now() < root._bokeh_timeout) {\n      setTimeout(run_inline_js, 100);\n    } else if (!root._bokeh_failed_load) {\n      console.log(\"Bokeh: BokehJS failed to load within specified timeout.\");\n      root._bokeh_failed_load = true;\n    } else if (force !== true) {\n      var cell = $(document.getElementById(\"1001\")).parents('.cell').data().cell;\n      cell.output_area.append_execute_result(NB_LOAD_WARNING)\n    }\n\n  }\n\n  if (root._bokeh_is_loading === 0) {\n    console.log(\"Bokeh: BokehJS loaded, going straight to plotting\");\n    run_inline_js();\n  } else {\n    load_libs(js_urls, function() {\n      console.log(\"Bokeh: BokehJS plotting callback run at\", now());\n      run_inline_js();\n    });\n  }\n}(window));"
     },
     "metadata": {},
     "output_type": "display_data"
    },
    {
     "name": "stderr",
     "output_type": "stream",
     "text": [
      "BokehUserWarning: ColumnDataSource's columns must be of the same length. Current lengths: ('names', 1000), ('x1', 500), ('x2', 500)\n"
     ]
    },
    {
     "data": {
      "text/html": [
       "\n",
       "\n",
       "\n",
       "\n",
       "\n",
       "\n",
       "  <div class=\"bk-root\" id=\"3f7cecdb-62f3-41ae-b813-6b9f5f5a5ecb\" data-root-id=\"1003\"></div>\n"
      ]
     },
     "metadata": {},
     "output_type": "display_data"
    },
    {
     "data": {
      "application/javascript": [
       "(function(root) {\n",
       "  function embed_document(root) {\n",
       "    \n",
       "  var docs_json = {\"352d8cb8-3ff9-437e-ba3c-289b3c0fc591\":{\"roots\":{\"references\":[{\"attributes\":{\"below\":[{\"id\":\"1013\",\"type\":\"LinearAxis\"}],\"left\":[{\"id\":\"1018\",\"type\":\"LinearAxis\"}],\"renderers\":[{\"id\":\"1013\",\"type\":\"LinearAxis\"},{\"id\":\"1017\",\"type\":\"Grid\"},{\"id\":\"1018\",\"type\":\"LinearAxis\"},{\"id\":\"1022\",\"type\":\"Grid\"},{\"id\":\"1036\",\"type\":\"GlyphRenderer\"},{\"id\":\"1038\",\"type\":\"LabelSet\"}],\"title\":{\"id\":\"1002\",\"type\":\"Title\"},\"toolbar\":{\"id\":\"1027\",\"type\":\"Toolbar\"},\"toolbar_location\":\"above\",\"x_range\":{\"id\":\"1005\",\"type\":\"DataRange1d\"},\"x_scale\":{\"id\":\"1009\",\"type\":\"LinearScale\"},\"y_range\":{\"id\":\"1007\",\"type\":\"DataRange1d\"},\"y_scale\":{\"id\":\"1011\",\"type\":\"LinearScale\"}},\"id\":\"1003\",\"subtype\":\"Figure\",\"type\":\"Plot\"},{\"attributes\":{},\"id\":\"1014\",\"type\":\"BasicTicker\"},{\"attributes\":{\"plot\":null,\"text\":\"word2vec T-SNE for most common words\"},\"id\":\"1002\",\"type\":\"Title\"},{\"attributes\":{},\"id\":\"1041\",\"type\":\"BasicTickFormatter\"},{\"attributes\":{\"callback\":null},\"id\":\"1007\",\"type\":\"DataRange1d\"},{\"attributes\":{},\"id\":\"1043\",\"type\":\"BasicTickFormatter\"},{\"attributes\":{\"plot\":{\"id\":\"1003\",\"subtype\":\"Figure\",\"type\":\"Plot\"},\"ticker\":{\"id\":\"1014\",\"type\":\"BasicTicker\"}},\"id\":\"1017\",\"type\":\"Grid\"},{\"attributes\":{},\"id\":\"1009\",\"type\":\"LinearScale\"},{\"attributes\":{},\"id\":\"1045\",\"type\":\"Selection\"},{\"attributes\":{\"formatter\":{\"id\":\"1041\",\"type\":\"BasicTickFormatter\"},\"plot\":{\"id\":\"1003\",\"subtype\":\"Figure\",\"type\":\"Plot\"},\"ticker\":{\"id\":\"1019\",\"type\":\"BasicTicker\"}},\"id\":\"1018\",\"type\":\"LinearAxis\"},{\"attributes\":{},\"id\":\"1011\",\"type\":\"LinearScale\"},{\"attributes\":{},\"id\":\"1046\",\"type\":\"UnionRenderers\"},{\"attributes\":{},\"id\":\"1019\",\"type\":\"BasicTicker\"},{\"attributes\":{\"dimension\":1,\"plot\":{\"id\":\"1003\",\"subtype\":\"Figure\",\"type\":\"Plot\"},\"ticker\":{\"id\":\"1019\",\"type\":\"BasicTicker\"}},\"id\":\"1022\",\"type\":\"Grid\"},{\"attributes\":{\"formatter\":{\"id\":\"1043\",\"type\":\"BasicTickFormatter\"},\"plot\":{\"id\":\"1003\",\"subtype\":\"Figure\",\"type\":\"Plot\"},\"ticker\":{\"id\":\"1014\",\"type\":\"BasicTicker\"}},\"id\":\"1013\",\"type\":\"LinearAxis\"},{\"attributes\":{\"fill_alpha\":{\"value\":0.1},\"fill_color\":{\"value\":\"#1f77b4\"},\"line_alpha\":{\"value\":0.1},\"line_color\":{\"value\":\"#1f77b4\"},\"size\":{\"units\":\"screen\",\"value\":8},\"x\":{\"field\":\"x1\"},\"y\":{\"field\":\"x2\"}},\"id\":\"1035\",\"type\":\"Scatter\"},{\"attributes\":{\"plot\":{\"id\":\"1003\",\"subtype\":\"Figure\",\"type\":\"Plot\"},\"source\":{\"id\":\"1032\",\"type\":\"ColumnDataSource\"},\"text\":{\"field\":\"names\"},\"text_align\":\"center\",\"text_color\":{\"value\":\"#555555\"},\"text_font_size\":{\"value\":\"8pt\"},\"x\":{\"field\":\"x1\"},\"y\":{\"field\":\"x2\"},\"y_offset\":{\"value\":6}},\"id\":\"1038\",\"type\":\"LabelSet\"},{\"attributes\":{},\"id\":\"1023\",\"type\":\"PanTool\"},{\"attributes\":{},\"id\":\"1024\",\"type\":\"WheelZoomTool\"},{\"attributes\":{},\"id\":\"1025\",\"type\":\"ResetTool\"},{\"attributes\":{},\"id\":\"1026\",\"type\":\"SaveTool\"},{\"attributes\":{\"callback\":null,\"data\":{\"names\":[\"\\u0445\\u043e\\u0442\\u0435\\u0442\\u044c\",\"\\u0434\\u0435\\u043d\\u044c\",\"\\u0442\\u0430\\u043a\\u043e\\u0439\",\"\\u0441\\u0435\\u0433\\u043e\\u0434\\u043d\\u044f\",\"\\u043e\\u0447\\u0435\\u043d\\u044c\",\"\\u0431\\u044b\\u0442\\u044c\",\"\\u0433\\u043e\\u0434\",\"\\u0442\\u044b\",\"\\u043e\\u0434\\u0438\\u043d\",\"\\u043f\\u0440\\u043e\\u0441\\u0442\\u043e\",\"\\u043c\\u043e\\u0439\",\"\\u043c\\u043e\\u0447\\u044c\",\"\\u0447\\u0435\\u043b\\u043e\\u0432\\u0435\\u043a\",\"\\u0437\\u043d\\u0430\\u0442\\u044c\",\"\\u0432\\u0435\\u0441\\u044c\",\"\\u043b\\u044e\\u0431\\u0438\\u0442\\u044c\",\"\\u0437\\u0430\\u0432\\u0442\\u0440\\u0430\",\"\\u0432\\u0441\",\"\\u0441\\u0430\\u043c\\u044b\\u0439\",\"\\u0432\\u043e\\u043e\\u0431\\u0449\\u0435\",\"\\u0441\\u0432\\u043e\\u0439\",\"\\u0434\\u0435\\u043b\\u0430\\u0442\\u044c\",\"\\u0445\\u043e\\u0440\\u043e\\u0448\\u0438\\u0439\",\"\\u0441\\u043f\\u0430\\u0441\\u0438\\u0431\\u043e\",\"\\u043d\\u043e\\u0432\\u044b\\u0439\",\"\\u0431\\u043b\\u0438\\u043d\",\"\\u043f\\u043e\\u0447\\u0435\\u043c\\u0443\",\"\\u0441\\u043a\\u0430\\u0437\\u0430\\u0442\\u044c\",\"\\u0434\\u0443\\u043c\\u0430\\u0442\\u044c\",\"\\u0441\\u043c\\u043e\\u0442\\u0440\\u0435\\u0442\\u044c\",\"\\u043a\\u043e\\u0442\\u043e\\u0440\\u044b\\u0439\",\"\\u0432\\u0440\\u0435\\u043c\\u044f\",\"\\u0441\\u043f\\u0430\\u0442\\u044c\",\"\\u0434\\u043e\\u043c\",\"\\u0438\\u0434\\u0442\\u0438\",\"\\u0441\\u0438\\u0434\\u0435\\u0442\\u044c\",\"\\u0434\\u0440\\u0443\\u0433\",\"\\u0443\\u0442\\u0440\\u043e\",\"\\u043f\\u0438\\u0441\\u0430\\u0442\\u044c\",\"\\u0436\\u0438\\u0437\\u043d\\u044c\",\"\\u0441\\u0434\\u0435\\u043b\\u0430\\u0442\\u044c\",\"\\u043d\\u0430\\u0448\",\"\\u0448\\u043a\\u043e\\u043b\\u0430\",\"\\u043d\\u0430\\u0441\\u0442\\u0440\\u043e\\u0435\\u043d\\u0438\\u0435\",\"\\u0433\\u043e\\u0432\\u043e\\u0440\\u0438\\u0442\\u044c\",\"\\u043c\\u0430\\u043c\\u0430\",\"\\u0442\\u043e\\u0442\",\"\\u043a\\u0430\\u043a\\u043e\\u0439\",\"\\u0436\\u0434\\u0430\\u0442\\u044c\",\"\\u0435\\u0449\",\"\\u0431\\u043e\\u043b\\u0435\\u0442\\u044c\",\"\\u043b\\u044e\\u0431\\u0438\\u043c\\u044b\\u0439\",\"\\u043d\\u0430\\u043f\\u0438\\u0441\\u0430\\u0442\\u044c\",\"\\u0442\\u0432\\u043e\\u0439\",\"\\u043a\\u0442\\u043e\",\"\\u0445\\u043e\\u0442\\u0435\\u0442\\u044c\\u0441\\u044f\",\"\\u0440\\u0430\\u0431\\u043e\\u0442\\u0430\",\"\\u043f\\u043e\\u0439\\u0442\\u0438\",\"\\u0432\\u0438\\u0434\\u0435\\u0442\\u044c\",\"\\u043d\\u043e\\u0447\\u044c\",\"\\u043f\\u043e\\u0441\\u043c\\u043e\\u0442\\u0440\\u0435\\u0442\\u044c\",\"\\u043f\\u043e\\u043a\\u0430\",\"\\u043d\\u0438\\u043a\\u0442\\u043e\",\"\\u0445\",\"\\u0434\\u0432\\u0430\",\"\\u043f\\u043e\\u0441\\u043b\\u0435\\u0434\\u043d\\u0438\\u0439\",\"\\u0441\\u0442\\u0430\\u0442\\u044c\",\"\\u0434\\u043e\\u0431\\u0440\\u044b\\u0439\",\"\\u043f\\u043e\\u043d\\u044f\\u0442\\u044c\",\"\\u043c\\u0435\\u0442\\u0440\",\"\\u0434\\u0435\\u043b\\u043e\",\"\\u043a\\u0443\\u043f\\u0438\\u0442\\u044c\",\"\\u043c\\u044b\",\"\\u043f\\u043e\\u043d\\u0438\\u043c\\u0430\\u0442\\u044c\",\"\\u043d\\u0430\\u0439\\u0442\\u0438\",\"\\u043d\\u0435\\u0434\\u0435\\u043b\\u044f\",\"\\u043a\\u0430\\u0436\\u0434\\u044b\\u0439\",\"\\u043d\\u0440\\u0430\\u0432\\u0438\\u0442\\u044c\\u0441\\u044f\",\"\\u0441\\u043a\\u0443\\u0447\\u0430\\u0442\\u044c\",\"\\u0447\\u0430\\u0441\",\"\\u0441\\u043a\\u043e\\u0440\\u043e\",\"\\u043d\\u0443\\u0436\\u043d\\u043e\",\"\\u0434\\u0430\\u0432\\u0430\\u0442\\u044c\",\"\\u0443\\u0440\\u043e\\u043a\",\"\\u0432\\u0447\\u0435\\u0440\\u0430\",\"\\u0437\\u0430\\u0431\\u044b\\u0442\\u044c\",\"\\u0447\\u0438\\u0442\\u0430\\u0442\\u044c\",\"\\u0441\\u043d\\u0435\\u0433\",\"\\u043f\\u043b\\u043e\\u0445\\u043e\",\"\\u0440\\u0430\\u0431\\u043e\\u0442\\u0430\\u0442\\u044c\",\"\\u0444\\u0438\\u043b\\u044c\\u043c\",\"\\u043e\\u0441\\u0442\\u0430\\u0442\\u044c\\u0441\\u044f\",\"\\u0432\\u0435\\u0447\\u0435\\u0440\",\"\\u0445\\u043e\\u0434\\u0438\\u0442\\u044c\",\"\\u043d\\u0430\\u0434\\u0435\\u044f\\u0442\\u044c\\u0441\\u044f\",\"\\u0434\\u043e\\u043c\\u043e\\u0439\",\"\\u0430\\u0445\\u0438\",\"\\u043f\\u0430\\u0440\\u0430\",\"\\u0442\\u0435\\u043b\\u0435\\u0444\\u043e\\u043d\",\"\\u0441\\u043e\\u043d\",\"\\u0436\\u0438\\u0442\\u044c\",\"\\u0436\\u0430\\u043b\\u044c\",\"\\u043d\\u043e\\u0440\\u043c\\u0430\\u043b\\u044c\\u043d\\u044b\\u0439\",\"\\u043d\\u0433\",\"\\u043f\\u0440\\u0430\\u0432\\u0434\\u0430\",\"\\u044d\\u0442\\u043e\\u0442\",\"\\u043d\\u0443\\u0436\\u043d\\u044b\\u0439\",\"\\u0431\\u043b\\u044f\",\"\\u0434\\u0430\\u0442\\u044c\",\"\\u0441\\u0430\\u043c\",\"\\u043b\\u0438\\u0442\\u0440\",\"\\u0440\\u0430\\u0432\\u043d\\u043e\",\"\\u0441\\u043b\\u043e\\u0432\\u043e\",\"\\u0447\\u0438\\u0441\\u043b\\u043e\",\"\\u0430\\u0445\\u0430\\u0445\",\"\\u0432\\u0440\\u043e\\u0434\\u0435\",\"\\u0434\\u0440\\u0443\\u0433\\u043e\\u0439\",\"\\u044f\",\"\\u0440\\u0443\\u043a\\u0430\",\"\\u0443\\u043b\\u0438\\u0446\\u0430\",\"\\u0435\",\"\\u0442\\u0430\\u043a\\u0438\",\"\\u0443\\u0432\\u0438\\u0434\\u0435\\u0442\\u044c\",\"\\u043f\\u043e\\u0440\\u0430\",\"\\u043a\\u0430\\u0436\\u0435\\u0442\\u0441\\u044f\",\"\\u043f\\u0440\\u0438\\u0432\\u0435\\u0442\",\"\\u0444\\u043e\\u0442\\u043a\\u0430\",\"\\u0442\\u0432\\u0438\\u0442\",\"\\u043f\\u043e\\u043c\\u043d\\u0438\\u0442\\u044c\",\"\\u043d\\u0430\\u0447\\u0430\\u0442\\u044c\",\"\\u043a\\u0440\\u0443\\u0442\\u043e\",\"\\u043c\\u0438\\u043d\\u0443\\u0442\\u0430\",\"\\u0440\\u043e\\u0436\\u0434\\u0435\\u043d\\u0438\\u0435\",\"\\u043c\\u0435\\u0441\\u0442\\u043e\",\"\\u043f\\u0430\\u0440\\u0435\\u043d\\u044c\",\"\\u0434\\u043e\\u043b\\u0436\\u043d\\u044b\\u0439\",\"\\u0438\\u0433\\u0440\\u0430\\u0442\\u044c\",\"\\u0441\\u043d\\u043e\\u0432\\u0430\",\"\\u0433\\u043e\\u043b\\u043e\\u0432\\u0430\",\"\\u043d\\u043e\\u0432\\u043e\\u0433\\u043e\\u0434\\u043d\\u0438\\u0439\",\"\\u0431\\u043e\\u043b\\u044c\\u0448\\u043e\\u0439\",\"\\u0434\\u0430\\u0432\\u043d\\u043e\",\"\\u0434\\u0435\\u0432\\u0443\\u0448\\u043a\\u0430\",\"\\u0435\\u0445\\u0430\\u0442\\u044c\",\"\\u0440\\u0435\\u0448\\u0438\\u0442\\u044c\",\"\\u0442\\u043e\\u0447\\u043d\\u043e\",\"\\u043f\\u0440\\u0438\\u0435\\u0445\\u0430\\u0442\\u044c\",\"\\u0432\\u044b\\u0445\\u043e\\u0434\\u043d\\u043e\\u0439\",\"\\u0440\\u0430\\u043d\\u043d\\u0438\\u0439\",\"\\u043a\\u043e\\u043c\\u0430\",\"\\u043f\\u043e\\u0434\\u0430\\u0440\\u043e\\u043a\",\"\\u0437\",\"\\u0432\\u044b\\u0439\\u0442\\u0438\",\"\\u0441\\u0440\\u0430\\u0437\\u0443\",\"\\u0431\\u043e\\u0433\",\"\\u043a\\u043b\\u0430\\u0441\\u0441\",\"\\u043a\\u0441\\u0442\\u0430\\u0442\\u0438\",\"\\u043d\\u043e\\u0432\\u043e\\u0435\",\"\\u0433\\u043b\\u0430\\u0437\",\"\\u0431\\u043e\\u044f\\u0442\\u044c\\u0441\\u044f\",\"\\u0431\",\"\\u043b\\u0430\\u0434\\u043d\\u044b\\u0439\",\"\\u043b\\u0435\\u043d\\u0442\\u0430\",\"\\u043c\\u0430\\u043b\\u0435\\u043d\\u044c\\u043a\\u0438\\u0439\",\"\\u0432\\u043e\\u043f\\u0440\\u043e\\u0441\",\"\\u0447\\u0443\\u0432\\u0441\\u0442\\u0432\\u043e\\u0432\\u0430\\u0442\\u044c\",\"\\u043b\\u044e\\u0431\\u043e\\u0432\\u044c\",\"\\u0434\\u0435\\u043d\\u044c\\u0433\\u0430\",\"\\u0433\\u043e\\u0440\\u043e\\u0434\",\"\\u0432\\u0437\\u044f\\u0442\\u044c\",\"\\u0433\\u043b\\u0430\\u0432\\u043d\\u044b\\u0439\",\"\\u043d\\u0435\\u043d\\u0430\\u0432\\u0438\\u0434\\u0435\\u0442\\u044c\",\"\\u043a\\u043e\\u043d\\u0435\\u0446\",\"\\u0441\\u043a\\u043e\\u043b\\u044c\\u043a\\u043e\",\"\\u043f\\u043e\\u043b\\u043e\\u0432\\u0438\\u043d\\u0430\",\"\\u0437\\u0438\\u043c\\u0430\",\"\\u0441\\u043b\\u0443\\u0448\\u0430\\u0442\\u044c\",\"\\u0431\\u044b\\u0432\\u0430\\u0442\\u044c\",\"\\u043f\\u0440\\u043e\\u0441\\u0442\\u0438\\u0442\\u044c\",\"\\u0441\\u043c\\u043e\\u0447\\u044c\",\"\\u043d\\u0430\\u0432\\u0435\\u0440\\u043d\\u043e\\u0435\",\"\\u0435\\u0434\\u0430\",\"\\u0431\\u043b\\u044f\\u0442\\u044c\",\"\\u043f\\u043e\\u043d\\u0440\\u0430\\u0432\\u0438\\u0442\\u044c\\u0441\\u044f\",\"\\u0441\\u0442\\u043e\\u043b\\u044c\\u043a\\u043e\",\"\\u0441\\u0438\\u043b\\u044c\\u043d\\u043e\",\"\\u043f\\u0440\\u0438\\u0448\\u043b\\u044b\\u0439\",\"\\u043f\\u0430\\u043f\\u0430\",\"\\u0447\\u0435\",\"\\u044d\\u0442\\u043e\",\"\\u043c\\u0435\\u0441\\u044f\\u0446\",\"\\u043c\\u0430\\u043b\\u043e\",\"\\u043f\\u0440\\u044f\\u043c\",\"\\u0432\\u0430\\u0448\",\"\\u043c\\u0438\\u0440\",\"\\u0434\\u0435\\u0432\\u043e\\u0447\\u043a\\u0430\",\"\\u043f\\u0440\\u0438\\u0439\\u0442\\u0438\",\"\\u0430\\u0445\\u0430\\u0445\\u0438\",\"\\u0440\\u0435\\u0431\\u0451\\u043d\\u043e\\u043a\",\"\\u043a\\u0440\\u0443\\u0442\\u043e\\u0439\",\"\\u043c\\u043e\\u043c\\u0435\\u043d\\u0442\",\"\\u0432\\u043a\",\"\\u043d\\u043e\\u0440\\u043c\\u0430\",\"\\u0437\\u043d\\u0430\\u0447\\u0438\\u0442\",\"\\u043a\\u0440\\u0430\\u0441\\u0438\\u0432\\u044b\\u0439\",\"\\u043f\\u043e\\u043b\\u0443\\u0447\\u0438\\u0442\\u044c\\u0441\\u044f\",\"\\u0438\\u0431\\u043e\",\"\\u043d\\u043e\\u0433\\u0430\",\"\\u0440\\u0443\\u0441\\u0441\\u043a\\u0438\\u0439\",\"\\u043f\\u0440\\u043e\\u0441\\u043d\\u0443\\u0442\\u044c\\u0441\\u044f\",\"\\u0438\\u043d\\u0442\\u0435\\u0440\\u0435\\u0441\\u043d\\u043e\",\"\\u043f\\u0438\\u0437\\u0434\\u0435\\u0446\",\"\\u043c\\u0443\\u0437\\u044b\\u043a\\u0430\",\"\\u0436\\u0430\\u043b\\u043a\\u043e\",\"\\u044d\\u043a\\u0437\\u0430\\u043c\\u0435\\u043d\",\"\\u043e\\u0431\\u0438\\u0434\\u043d\\u044b\\u0439\",\"\\u044d\\u0445\",\"\\u0443\\u0441\\u043f\\u0435\\u0442\\u044c\",\"\\u0438\\u0441\\u0442\\u043e\\u0440\\u0438\\u044f\",\"\\u0433\\u0443\\u043b\\u044f\\u0442\\u044c\",\"\\u0443\\u0437\\u043d\\u0430\\u0442\\u044c\",\"\\u0447\\u0443\\u0432\\u0441\\u0442\\u0432\\u043e\",\"\\u0440\\u043e\\u0441\\u0441\\u0438\\u044f\",\"\\u0441\\u0447\\u0430\\u0441\\u0442\\u0438\\u0435\",\"\\u043f\\u0440\\u0438\\u044f\\u0442\\u043d\\u043e\",\"\\u0447\\u0430\\u0441\\u044b\",\"\\u0437\\u0430\\u043a\\u043e\\u043d\\u0447\\u0438\\u0442\\u044c\\u0441\\u044f\",\"\\u0440\\u0435\\u0431\\u044f\\u0442\\u0430\",\"\\u043e\\u0439\",\"\\u043f\\u0440\\u0430\\u0437\\u0434\\u043d\\u0438\\u043a\",\"\\u043f\\u0440\\u0438\\u0439\\u0442\\u0438\\u0441\\u044c\",\"\\u0449\\u0430\\u0441\",\"\\u0441\\u0435\\u0440\\u0438\\u044f\",\"\\u0432\\u0441\\u043f\\u043e\\u043c\\u043d\\u0438\\u0442\\u044c\",\"\\u0443\\u0439\\u0442\\u0438\",\"\\u0443\\u0447\\u0438\\u0442\\u044c\",\"\\u043f\\u043e\\u043b\\u0443\\u0447\\u0438\\u0442\\u044c\",\"\\u043d\\u0435\\u043c\\u043d\\u043e\\u0433\\u043e\",\"\\u0441\\u043a\\u0443\\u0447\\u043d\\u043e\",\"\\u0444\\u043e\\u0442\\u043e\",\"\\u0441\\u0445\\u043e\\u0434\\u0438\\u0442\\u044c\",\"\\u0443\\u0436\\u0430\\u0441\\u043d\\u043e\",\"\\u0434\\u043e\\u043b\\u0433\\u043e\",\"\\u043e\\u0442\\u043b\\u0438\\u0447\\u043d\\u044b\\u0439\",\"\\u043f\\u0440\\u043e\\u0439\\u0442\\u0438\",\"\\u043f\\u0440\\u043e\\u0431\\u043b\\u0435\\u043c\\u0430\",\"\\u043f\\u0435\\u0441\\u043d\\u044f\",\"\\u0438\\u0433\\u0440\\u0430\",\"\\u0443\\u0441\\u0442\\u0430\\u0442\\u044c\",\"\\u043f\\u043e\\u0435\\u0445\\u0430\\u0442\\u044c\",\"\\u0431\\u043e\\u043b\\u044c\",\"\\u043f\\u043b\\u043e\\u0445\\u043e\\u0439\",\"\\u043c\\u0438\\u043b\\u044b\\u0439\",\"\\u043f\\u043e\\u0441\\u0442\\u0430\\u0432\\u0438\\u0442\\u044c\",\"\\u043f\\u043e\\u0434\\u0440\\u0443\\u0433\\u0430\",\"\\u0441\\u0442\\u043e\\u0438\\u0442\\u044c\",\"\\u043a\\u0430\\u043d\\u0438\\u043a\\u0443\\u043b\\u044b\",\"\\u043d\\u0430\\u0447\\u0438\\u043d\\u0430\\u0442\\u044c\",\"\\u0437\\u0430\\u0442\\u043e\",\"\\u043f\\u043e\\u043c\\u043e\\u0447\\u044c\",\"\\u0437\\u0430\\u0431\\u043e\\u043b\\u0435\\u0442\\u044c\",\"\\u0443\\u0447\\u0438\\u0442\\u044c\\u0441\\u044f\",\"\\u043f\\u0438\\u0442\\u044c\",\"\\u0430\\u0433\\u0430\",\"\\u0434\\u043d\\u0451\\u043c\",\"\\u0439\",\"\\u0445\\u043e\\u043b\\u043e\\u0434\\u043d\\u044b\\u0439\",\"\\u0445\\u0432\\u0430\\u0442\\u0430\\u0442\\u044c\",\"\\u0438\\u043c\\u0435\\u043d\\u043d\\u043e\",\"\\u043a\\u043b\\u0430\\u0441\\u0441\\u043d\\u044b\\u0439\",\"\\u0432\\u043c\\u0435\\u0441\\u0442\\u0435\",\"\\u0438\\u043d\\u0442\\u0435\\u0440\\u043d\\u0435\\u0442\",\"\\u043e\\u043d\\u043e\",\"\\u0441\\u043b\\u0438\\u0448\\u043a\\u043e\\u043c\",\"\\u0432\\u0435\\u0440\\u0438\\u0442\\u044c\",\"\\u043f\\u0443\\u0441\\u0442\\u044c\",\"\\u0440\",\"\\u043f\\u043e\\u0433\\u043e\\u0434\\u0430\",\"\\u0438\\u043d\\u0442\\u0435\\u0440\\u0435\\u0441\\u043d\\u044b\\u0439\",\"\\u043c\\u0430\\u0448\\u0438\\u043d\\u0430\",\"\\u0440\\u044f\\u0434\",\"\\u0442\\u0432\\u0438\\u0442\\u0442\\u0435\\u0440\\u0435\\u0442\\u044c\",\"\\u0443\\u043c\\u0435\\u0442\\u044c\",\"\\u043e\\u0444\\u0438\\u0433\\u0435\\u043d\\u043d\\u044b\\u0439\",\"\\u043f\\u0440\\u0435\\u043a\\u0440\\u0430\\u0441\\u043d\\u044b\\u0439\",\"\\u0433\\u0440\\u0443\\u043f\\u043f\\u0430\",\"\\u043f\\u043b\\u0430\\u043a\\u0430\\u0442\\u044c\",\"\\u0441\\u0447\\u0430\\u0441\\u0442\\u043b\\u0438\\u0432\\u044b\\u0439\",\"\\u043e\\u0442\\u043b\\u0438\\u0447\\u043d\\u043e\",\"\\u043f\\u043e\\u0445\\u043e\\u0434\",\"\\u0436\\u0435\\u043b\\u0430\\u043d\\u0438\\u0435\",\"\\u043f\\u044f\\u0442\\u043d\\u0438\\u0446\\u0430\",\"\\u043f\\u043e\\u044d\\u0442\\u043e\\u043c\\u0443\",\"\\u0432\\u0438\\u0434\\u0435\\u043e\",\"\\u043f\\u043e\\u0448\\u043b\\u044b\\u0439\",\"\\u0443\\u043c\\u0435\\u0440\\u0435\\u0442\\u044c\",\"\\u043d\\u0438\\u043a\\u0430\\u043a\",\"\\u0434\\u043e\\u0440\\u043e\\u0433\\u043e\\u0439\",\"\\u043a\",\"\\u0441\\u0434\\u0430\\u0442\\u044c\",\"\\u0440\\u043e\\u0434\\u0438\\u0442\\u0435\\u043b\\u044c\",\"\\u043f\\u043e\\u043b\\u043d\\u044b\\u0439\",\"\\u043f\\u0440\\u0438\\u0445\\u043e\\u0434\\u0438\\u0442\\u044c\",\"\\u043c\\u043e\\u0441\\u043a\\u0432\\u0430\",\"\\u0437\\u043d\\u0430\\u0435\\u0448\\u044c\",\"\\u043d\\u043e\\u0432\\u043e\\u0441\\u0442\\u044c\",\"\\u0432\\u0441\\u0442\\u0430\\u0442\\u044c\",\"\\u0431\\u044b\\u0441\\u0442\\u0440\\u043e\",\"\\u043f\\u043e\\u043d\\u0435\\u0434\\u0435\\u043b\\u044c\\u043d\\u0438\\u043a\",\"\\u0433\\u043e\\u043b\\u043e\\u0441\",\"\\u043f\\u043e\\u0434\\u0443\\u043c\\u0430\\u0442\\u044c\",\"\\u0431\\u0440\\u0430\\u0442\",\"\\u043c\\u044b\\u0441\\u043b\\u044c\",\"\\u0443\\u0442\\u0440\\u043e\\u043c\",\"\\u0443\\u0436\\u0430\\u0441\\u043d\\u044b\\u0439\",\"\\u043c\\u0430\\u0433\\u0430\\u0437\\u0438\\u043d\",\"\\u0442\\u0438\\u043f\",\"\\u0441\\u043e\\u0431\\u0438\\u0440\\u0430\\u0442\\u044c\\u0441\\u044f\",\"\\u043a\\u0430\\u043f\\u0435\\u0446\",\"\\u043d\\u0430\\u0447\\u0430\\u0442\\u044c\\u0441\\u044f\",\"\\u0441\\u0443\\u043a\",\"\\u0435\\u0441\\u0442\\u044c\",\"\\u043f\\u043e\\u0436\\u0430\\u043b\\u0443\\u0439\\u0441\\u0442\\u0430\",\"\\u043d\\u0430\\u0437\\u0430\\u0434\",\"\\u0431\\u0435\\u0441\\u0438\\u0442\\u044c\",\"\\u043d\\u0435\\u0442\\u0443\",\"\\u0433\\u043e\\u0432\\u043e\\u0440\\u044f\\u0442\",\"\\u043e\\u0441\\u043e\\u0431\\u0435\\u043d\\u043d\\u043e\",\"\\u043a\\u043e\\u043d\\u0446\\u0435\\u0440\\u0442\",\"\\u043b\\u0438\\u0446\\u043e\",\"\\u043a\\u043e\\u0442\",\"\\u043a\\u043d\\u0438\\u0433\\u0430\",\"\\u0432\\u044b\\u0445\\u043e\\u0434\\u0438\\u0442\\u044c\",\"\\u0443\\u0434\\u0430\\u0447\\u0430\",\"\\u0442\\u0435\\u043c\\u0430\",\"\\u0447\\u0443\\u0432\\u0430\\u043a\",\"\\u043e\\u0445\",\"\\u0437\\u0430\\u0439\\u0442\\u0438\",\"\\u0434\\u0430\\u043b\\u0451\\u043a\\u0438\\u0439\",\"\\u0432\\u0435\\u0441\\u0435\\u043b\\u043e\",\"\\u0433\\u0440\\u0443\\u0441\\u0442\\u043d\\u043e\",\"\\u043f\\u043e\\u0434\\u0430\\u0440\\u0438\\u0442\\u044c\",\"\\u0441\\u0435\\u0437\\u043e\\u043d\",\"\\u043f\\u043b\\u0430\\u043d\",\"\\u043b\\u0438\\u0448\\u044c\",\"\\u0440\\u0430\\u0437\",\"\\u0432\\u0441\\u0442\\u0430\\u0432\\u0430\\u0442\\u044c\",\"\\u0434\\u0443\\u0448\\u0430\",\"\\u0441\\u0435\\u0440\\u0438\\u0430\\u043b\",\"\\u0446\\u0435\\u043b\\u044b\\u0439\",\"\\u043f\\u044b\\u0442\\u0430\\u0442\\u044c\\u0441\\u044f\",\"\\u043e\\u0431\\u043e\\u0436\\u0430\\u0442\\u044c\",\"\\u0432\\u044b\\u0441\\u043f\\u0430\\u0442\\u044c\\u0441\\u044f\",\"\\u0441\\u0435\\u0439\",\"\\u0441\\u043a\\u043e\\u0440\\u0435\\u0435\",\"\\u0441\\u043b\\u0435\\u0434\\u0443\\u044e\\u0449\\u0438\\u0439\",\"\\u0442\\u0443\\u0434\\u0430\",\"\\u043e\\u043a\\u043d\\u043e\",\"\\u0440\\u0435\\u0430\\u043b\\u044c\\u043d\\u043e\",\"\\u0441\\u0443\\u0431\\u0431\\u043e\\u0442\\u0430\",\"\\u0433\\u043e\\u0442\\u043e\\u0432\\u044b\\u0439\",\"\\u0434\\u0440\",\"\\u043d\\u0435\\u0447\\u0435\\u0433\\u043e\",\"\\u0441\\u0435\\u0440\\u0434\\u0446\\u0435\",\"\\u043f\\u043e\\u043b\\u0443\\u0447\\u0430\\u0442\\u044c\\u0441\\u044f\",\"\\u0438\\u0441\\u043a\\u0430\\u0442\\u044c\",\"\\u0443\\u0436\\u0430\\u0441\",\"\\u0436\\u0435\\u043d\\u0449\\u0438\\u043d\\u0430\",\"\\u043b\\u0435\\u043d\\u044c\",\"\\u0430\\u0430\\u0430\",\"\\u0436\\u043e\\u043f\\u0430\",\"\\u043d\\u0438\\u043a\\u0430\\u043a\\u043e\\u0439\",\"\\u0443\\u0431\\u0438\\u0442\\u044c\",\"\\u0441\\u0442\\u0440\\u0430\\u0448\\u043d\\u043e\",\"\\u043c\\u0430\\u043b\\u044c\\u0447\\u0438\\u043a\",\"\\u043c\\u043e\\u0440\\u043e\\u0437\",\"\\u0437\\u0430\\u0445\\u043e\\u0434\\u0438\\u0442\\u044c\",\"\\u043f\\u043e\\u0437\\u0434\\u0440\\u0430\\u0432\\u043b\\u044f\\u0442\\u044c\",\"\\u0442\\u0432\\u0438\\u0442\\u0442\\u0435\\u0440\",\"\\u0442\\u0432\\u0438\",\"\\u0434\\u0435\\u043a\\u0430\\u0431\\u0440\\u044c\",\"\\u0441\\u0432\\u0435\\u0442\",\"\\u043c\\u043e\\u043b\\u043e\\u0434\\u0435\\u0446\",\"\\u0443\\u0435\\u0445\\u0430\\u0442\\u044c\",\"\\u043d\\u0430\\u0447\\u0430\\u043b\\u043e\",\"\\u0440\\u0430\\u0434\\u0430\",\"\\u0441\\u0435\\u0441\\u0441\\u0438\\u044f\",\"\\u043f\\u0440\\u0438\\u044f\\u0442\\u043d\\u044b\\u0439\",\"\\u0441\\u0438\\u043b\\u0430\",\"\\u043c\\u0443\\u0436\\u0438\\u043a\",\"\\u0437\\u0430\\u0447\\u0451\\u0442\",\"\\u0432\\u0438\\u0434\\u0438\\u043c\\u043e\",\"\\u0432\\u0435\\u0440\\u043d\\u0443\\u0442\\u044c\\u0441\\u044f\",\"\\u0445\\u0443\\u0434\\u043e\\u0439\",\"\\u043e\\u0431\\u0449\\u0430\\u0442\\u044c\\u0441\\u044f\",\"\\u0431\\u043e\\u043b\\u044c\\u043d\\u043e\",\"\\u0430\\u043d\\u0433\\u043b\\u0438\\u0439\\u0441\\u043a\\u0438\\u0439\",\"\\u0445\\u0430\\u0445\",\"\\u043f\\u043e\\u0437\\u0432\\u043e\\u043d\\u0438\\u0442\\u044c\",\"\\u0440\\u0430\\u043d\\u043e\",\"\\u043e\\u0431\\u044b\\u0447\\u043d\\u043e\",\"\\u0441\\u043b\\u044b\\u0448\\u0430\\u0442\\u044c\",\"\\u0443\\u0441\\u043d\\u0443\\u0442\\u044c\",\"\\u0432\\u0440\\u043e\\u043c\\u0430\\u0439\\u0434\\u0430\\u043d\",\"\\u0440\\u0430\\u0441\\u0441\\u043a\\u0430\\u0437\\u0430\\u0442\\u044c\",\"\\u043a\\u043e\\u0440\\u043e\\u0447\\u0435\",\"\\u043a\\u043e\\u043c\\u043f\",\"\\u0445\\u0432\\u0430\\u0442\\u0438\\u0442\\u044c\",\"\\u0441\\u0447\\u0438\\u0442\\u0430\\u0442\\u044c\",\"\\u0443\\u0447\\u0451\\u0431\\u0430\",\"\\u0431\\u0440\\u0430\\u0442\\u044c\",\"\\u0430\\u0436\",\"\\u043f\\u043e\\u0442\\u0435\\u0440\\u044f\\u0442\\u044c\",\"\\u043b\\u0435\\u0442\\u043e\",\"\\u0447\\u0435\\u0440\\u0442\\u0430\",\"\\u043f\\u0435\\u0440\\u0432\\u043e\\u0435\",\"\\u0441\\u043e\\u0441\\u043a\\u0443\\u0447\\u0438\\u0442\\u044c\\u0441\\u044f\",\"\\u0437\\u0432\\u043e\\u043d\\u0438\\u0442\\u044c\",\"\\u0445\\u0434\",\"\\u043e\\u043a\\u0430\\u0437\\u044b\\u0432\\u0430\\u0442\\u044c\\u0441\\u044f\",\"\\u043b\\u0438\\u0431\\u043e\",\"\\u0438\\u043c\\u0435\\u0442\\u044c\",\"\\u043f\\u043e\\u043f\\u0430\\u0441\\u0442\\u044c\",\"\\u0442\\u0443\\u043f\\u043e\\u0439\",\"\\u043f\\u0435\\u0447\\u0430\\u043b\\u044c\",\"\\u043f\\u0440\\u043e\\u0432\\u0435\\u0441\\u0442\\u0438\",\"\\u0437\\u0430\\u043c\\u0435\\u0442\\u0438\\u0442\\u044c\",\"\\u0430\\u0445\\u0430\\u0445\\u0430\\u0445\",\"\\u043f\\u0435\\u0441\\u043d\\u044c\",\"\\u043a\\u0440\\u043e\\u043c\\u0435\",\"\\u0434\\u0435\\u0442\\u0441\\u0442\\u0432\\u043e\",\"\\u043c\\u0443\\u0436\\u0447\\u0438\\u043d\\u0430\",\"\\u0447\\u043e\",\"\\u043b\\u0435\\u0436\\u0430\\u0442\\u044c\",\"\\u0451\\u043b\\u043a\\u0430\",\"\\u043d\\u043e\\u0447\\u044c\\u044e\",\"\\u0441\\u0442\\u0440\\u0430\\u043d\\u0430\",\"\\u0431\\u0430\\u0431\\u0443\\u0448\\u043a\\u0430\",\"\\u043f\\u0440\\u0430\\u0432\\u0438\\u043b\\u044c\\u043d\\u043e\",\"\\u0443\\u0445\\u043e\\u0434\\u0438\\u0442\\u044c\",\"\\u043f\\u0440\\u043e\\u0447\\u0438\\u0442\\u0430\\u0442\\u044c\",\"\\u0436\\u0435\\u043b\\u0430\\u0442\\u044c\",\"\\u043a\\u0443\\u0447\\u0430\",\"\\u043f\\u0440\\u043e\\u0441\\u0438\\u0442\\u044c\",\"\\u0447\\u0435\\u0441\\u0442\\u043d\\u043e\",\"\\u0432\\u0435\\u0447\\u0435\\u0440\\u043e\\u043c\",\"\\u043e\\u043a\\u0430\\u0437\\u0430\\u0442\\u044c\\u0441\\u044f\",\"\\u0431\\u0438\\u043b\\u0435\\u0442\",\"\\u0433\\u043e\\u043b\\u043e\\u0432\",\"\\u0442\\u0440\\u0438\",\"\\u0441\\u043f\\u043e\\u043a\\u043e\\u0439\\u043d\\u044b\\u0439\",\"\\u0442\\u0435\\u043c\\u043f\\u0435\\u0440\\u0430\\u0442\\u0443\\u0440\\u0430\",\"\\u0440\\u0430\\u0434\\u043e\\u0432\\u0430\\u0442\\u044c\",\"\\u0432\\u043e\\u043b\\u043e\\u0441\",\"\\u043e\\u0442\\u0432\\u0435\\u0447\\u0430\\u0442\\u044c\",\"\\u043e\\u0431\\u0449\\u0438\\u0439\",\"\\u043f\\u043e\\u0445\\u043e\\u0436\\u0435\",\"\\u043a\\u043e\\u0444\\u0435\",\"\\u043f\\u043e\\u0441\\u043b\\u0430\\u0442\\u044c\",\"\\u043e\\u0442\\u0432\\u0435\\u0442\\u0438\\u0442\\u044c\",\"\\u0447\\u0430\\u0441\\u0442\\u044c\",\"\\u043d\\u0430\\u0434\\u043e\\u0435\\u0441\\u0442\\u044c\",\"\\u0441\\u0442\\u043e\\u044f\\u0442\\u044c\",\"\\u0434\\u043e\\u0440\\u043e\\u0433\\u0430\",\"\\u043d\\u0430\\u0432\\u0435\\u0440\\u043d\\u043e\",\"\\u043d\\u0435\\u0441\\u043a\\u043e\\u043b\\u044c\\u043a\\u043e\",\"\\u043d\\u0430\\u0440\\u043e\\u0434\",\"\\u0441\\u043a\\u043e\\u0440\\u044b\\u0439\",\"\\u0432\\u043c\\u0435\\u0441\\u0442\\u043e\",\"\\u0441\\u043c\\u044b\\u0441\\u043b\",\"\\u0443\\u0440\\u0430\",\"\\u043f\\u043e\\u0433\\u0443\\u043b\\u044f\\u0442\\u044c\",\"\\u0441\\u0430\\u0439\\u0442\",\"\\u0432\\u0441\\u044f\\u043a\\u0438\\u0439\",\"\\u0441\\u0442\\u0430\\u0440\\u044b\\u0439\",\"\\u0432\\u0430\\u0436\\u043d\\u044b\\u0439\",\"\\u0441\\u043d\\u0430\\u0447\\u0430\\u043b\\u0430\",\"\\u043b\\u043e\\u0445\",\"\\u043a\\u0430\\u0440\\u0442\\u0438\\u043d\\u043a\\u0430\",\"\\u043a\\u0438\\u043d\\u043e\",\"\\u0431\\u044b\\u0441\\u0442\\u0440\\u044b\\u0439\",\"\\u043f\\u0435\\u0442\\u044c\",\"\\u043f\\u0440\\u043e\\u0448\\u043b\\u044b\\u0439\",\"\\u044f\\u043d\\u0432\\u0430\\u0440\\u044c\",\"\\u043f\\u0435\\u0440\\u0435\\u0441\\u0442\\u0430\\u0442\\u044c\",\"\\u0432\\u0438\\u0434\",\"\\u043f\\u0440\\u043e\\u043f\\u0443\\u0441\\u0442\\u0438\\u0442\\u044c\",\"\\u0441\\u0442\\u0430\\u0432\\u0438\\u0442\\u044c\",\"\\u0443\\u043f\\u0430\\u0441\\u0442\\u044c\",\"\\u0447\\u0430\\u044f\\u0442\\u044c\",\"\\u043a\\u0432\\u0430\\u0440\\u0442\\u0438\\u0440\\u0430\",\"\\u0434\\u043e\\u0431\\u0440\\u043e\",\"\\u043b\\u0435\\u0447\\u044c\",\"\\u043e\\u0442\\u0432\\u0435\\u0442\",\"\\u043e\\u0431\\u0435\\u0449\\u0430\\u0442\\u044c\",\"\\u0440\\u0430\\u0434\\u043e\\u0441\\u0442\\u044c\",\"\\u043f\\u043e\\u044f\\u0432\\u0438\\u0442\\u044c\\u0441\\u044f\",\"\\u0441\\u0442\\u043e\\u0440\\u043e\\u043d\\u0430\",\"\\u0433\\u043e\\u0442\\u043e\\u0432\\u0438\\u0442\\u044c\\u0441\\u044f\",\"\\u043f\\u0440\\u0430\\u0432\\u043e\",\"\\u043f\\u043e\\u0441\\u0442\\u043e\\u044f\\u043d\\u043d\\u043e\",\"\\u0440\\u043e\\u0434\\u043d\\u043e\\u0439\",\"\\u0431\\u043e\\u043b\\u044c\\u043d\\u0438\\u0446\\u0430\",\"\\u0437\\u0430\\u043c\\u0435\\u0447\\u0430\\u0442\\u0435\\u043b\\u044c\\u043d\\u044b\\u0439\",\"\\u043d\\u0430\\u0441\\u0442\\u043e\\u044f\\u0449\\u0438\\u0439\",\"\\u0433\\u043e\\u0432\\u043d\\u043e\",\"\\u0442\\u0430\\u043d\\u0435\\u0446\",\"\\u043f\\u043e\\u043a\\u0430\\u0437\\u0430\\u0442\\u044c\",\"\\u043d\\u0430\\u0441\\u0442\\u044f\",\"\\u0436\\u0438\\u0432\\u043e\\u0439\",\"\\u043f\\u0440\\u0438\\u0434\\u0443\\u043c\\u0430\\u0442\\u044c\",\"\\u0431\\u0435\\u0434\\u043d\\u044b\\u0439\",\"\\u0441\\u0435\\u0441\\u0442\\u0440\\u0430\",\"\\u0435\\u0434\\u0438\\u043d\\u0441\\u0442\\u0432\\u0435\\u043d\\u043d\\u044b\\u0439\",\"\\u0441\\u0442\\u0440\\u0430\\u043d\\u0438\\u0446\\u0430\",\"\\u0433\\u043e\",\"\\u043f\\u043b\\u0430\\u0442\\u0430\",\"\\u0441\\u043b\\u0443\\u0447\\u0430\\u0439\",\"\\u043a\\u0430\\u0442\\u043e\\u043a\",\"\\u0441\\u043f\\u0430\\u0441\\u0442\\u044c\",\"\\u043f\\u043e\\u0433\\u043e\\u0432\\u043e\\u0440\\u0438\\u0442\\u044c\",\"\\u043e\\u043a\",\"\\u0430\\u0432\\u0442\\u043e\\u0431\\u0443\\u0441\",\"\\u0437\\u043d\\u0430\\u043a\\u043e\\u043c\\u044b\\u0439\",\"\\u043d\\u043e\\u043c\\u0435\\u0440\",\"\\u043d\\u0435\\u043a\\u043e\\u0442\\u043e\\u0440\\u044b\\u0439\",\"\\u0441\\u0443\\u043f\\u0435\\u0440\",\"\\u0441\\u043e\\u0431\\u0430\\u043a\\u0430\",\"\\u0441\\u043f\\u0440\\u043e\\u0441\\u0438\\u0442\\u044c\",\"\\u043c\\u0435\\u0447\\u0442\\u0430\",\"\\u043e\\u0449\\u0443\\u0449\\u0435\\u043d\\u0438\\u0435\",\"\\u0437\\u0430\\u0431\\u0440\\u0430\\u0442\\u044c\",\"\\u0437\\u0430\\u043d\\u0438\\u043c\\u0430\\u0442\\u044c\\u0441\\u044f\",\"\\u043e\\u0433\\u0440\\u043e\\u043c\\u043d\\u044b\\u0439\",\"\\u043e\\u043d\\u0438\",\"\\u043f\\u043e\\u0445\\u043e\\u0436\\u0438\\u0439\",\"\\u0445\\u0438\\u043c\\u0438\\u044f\",\"\\u043a\\u043e\\u043c\\u043d\\u0430\\u0442\\u0430\",\"\\u043c\\u043e\",\"\\u0441\\u0435\\u0431\\u044f\",\"\\u0434\\u0430\\u0430\",\"\\u0441\\u043d\\u0438\\u0442\\u044c\\u0441\\u044f\",\"\\u0443\\u043c\",\"\\u043e\\u0441\\u0442\\u0430\\u043b\\u044c\\u043d\\u043e\\u0439\",\"\\u0431\\u0435\\u0433\\u0430\\u0442\\u044c\",\"\\u043f\\u0438\\u0441\\u044c\\u043c\\u043e\",\"\\u0441\\u043c\\u0435\\u0448\\u043d\\u043e\",\"\\u0440\\u0430\\u0437\\u043d\\u044b\\u0439\",\"\\u0433\\u043e\\u0442\\u043e\\u0432\\u0438\\u0442\\u044c\",\"\\u043a\\u0438\\u043d\\u0443\\u0442\\u044c\",\"\\u043a\\u0443\\u0440\\u0441\",\"\\u0434\\u0435\\u0439\\u0441\\u0442\\u0432\\u0438\\u0442\\u0435\\u043b\\u044c\\u043d\\u043e\",\"\\u0437\\u0432\\u0430\\u0442\\u044c\",\"\\u0441\\u0442\\u0440\\u0430\\u0448\\u043d\\u044b\\u0439\",\"\\u043f\\u0435\\u0447\\u0430\\u043b\\u044c\\u043d\\u043e\",\"\\u0430\\u0430\\u0430\\u0430\",\"\\u0441\\u043b\\u0435\\u0437\\u0430\",\"\\u0447\\u0430\\u0441\\u0442\\u043e\",\"\\u043f\\u044f\\u0442\\u044c\",\"\\u0432\\u0441\\u043f\\u043e\\u043c\\u0438\\u043d\\u0430\\u0442\\u044c\",\"\\u0438\\u043c\\u044f\",\"\\u0441\\u043e\\u043e\\u0431\\u0449\\u0435\\u043d\\u0438\\u0435\",\"\\u043f\\u043e\\u043f\\u0440\\u043e\\u0431\\u043e\\u0432\\u0430\\u0442\\u044c\",\"\\u043f\\u0440\\u0435\\u0434\\u0441\\u0442\\u0430\\u0432\\u043b\\u044f\\u0442\\u044c\",\"\\u043d\\u0430\\u0447\\u0438\\u043d\\u0430\\u0442\\u044c\\u0441\\u044f\",\"\\u0441\\u0442\\u0440\\u0430\\u043d\\u043d\\u044b\\u0439\",\"\\u0441\\u043b\\u0430\\u0434\\u043a\\u043e\\u0435\",\"\\u0436\\u0435\\u043d\\u0430\",\"\\u0438\\u0434\\u0438\\u043e\\u0442\",\"\\u043f\\u043e\\u043a\\u0443\\u043f\\u0430\\u0442\\u044c\",\"\\u0438\\u0441\\u043f\\u043e\\u0440\\u0442\\u0438\\u0442\\u044c\",\"\\u0441\\u0442\\u0440\\u0430\\u043d\\u043d\\u043e\",\"\\u0434\\u043e\\u0436\\u0434\\u044c\",\"\\u0448\\u043e\\u043a\",\"\\u043b\\u043e\\u043b\\u0430\",\"\\u043f\\u0440\\u043e\\u0438\\u0441\\u0445\\u043e\\u0434\\u0438\\u0442\\u044c\",\"\\u0432\\u0435\\u0441\\u0451\\u043b\\u044b\\u0439\",\"\\u0440\\u0430\\u0431\\u043e\\u0447\\u0438\\u0439\",\"\\u0441\\u0435\\u043c\\u044c\\u044f\",\"\\u0433\\u043e\\u0441\\u0442\\u044c\",\"\\u0431\\u0435\\u0437\\u0443\\u043c\\u043d\\u043e\",\"\\u0432\\u0441\\u0442\\u0440\\u0435\\u0442\\u0438\\u0442\\u044c\",\"\\u043d\\u043e\\u0441\",\"\\u043e\\u0442\\u043a\\u0440\\u044b\\u0442\\u044c\",\"\\u043a\\u0443\\u0448\\u0430\\u0442\\u044c\",\"\\u0441\\u0442\\u0430\\u043d\\u043e\\u0432\\u0438\\u0442\\u044c\\u0441\\u044f\",\"\\u043e\\u0431\\u0440\\u0430\\u0442\\u043d\\u043e\",\"\\u0442\\u0440\\u0435\\u043d\\u0438\\u0440\\u043e\\u0432\\u043a\\u0430\",\"\\u043f\\u043e\\u043d\\u044f\\u0442\\u043d\\u043e\",\"\\u043f\\u0440\\u0438\\u0441\\u043b\\u0430\\u0442\\u044c\",\"\\u043e\\u0431\\u044f\\u0437\\u0430\\u0442\\u0435\\u043b\\u044c\\u043d\\u043e\",\"\\u0432\\u0435\\u0440\\u043d\\u0443\\u0442\\u044c\",\"\\u0444\\u0438\\u0433\\u043d\\u044f\",\"\\u043e\\u0434\\u043d\\u043e\\u043a\\u043b\\u0430\\u0441\\u0441\\u043d\\u0438\\u043a\",\"\\u0432\\u0435\\u0449\\u0438\\u0439\",\"\\u0441\\u0430\\u0448\\u0430\",\"\\u0434\\u0443\\u0440\\u0430\",\"\\u043f\\u0440\\u043e\\u0441\\u0442\\u043e\\u0439\",\"\\u0432\\u0430\\u0449\\u0438\\u0439\",\"\\u0444\\u0438\\u0437\\u0438\\u043a\\u0430\",\"\\u0438\\u0442\\u043e\\u0433\",\"\\u0433\\u043e\\u0440\\u043b\\u043e\",\"\\u0432\\u0441\\u0442\\u0440\\u0435\\u0447\\u0430\",\"\\u043c\\u0443\\u0436\",\"\\u0447\\u0451\\u0440\\u043d\\u044b\\u0439\",\"\\u0437\\u0440\\u044f\",\"\\u0443\\u0435\\u0437\\u0436\\u0430\\u0442\\u044c\",\"\\u043e\\u0441\\u0442\\u0430\\u0432\\u0430\\u0442\\u044c\\u0441\\u044f\",\"\\u0444\\u043e\\u0442\\u043e\\u0433\\u0440\\u0430\\u0444\\u0438\\u044f\",\"\\u0432\\u0435\\u0437\\u0434\\u0435\",\"\\u043c\\u0430\\u0439\\u0434\\u0430\\u043d\",\"\\u044f\\u0437\\u044b\\u043a\",\"\\u043e\\u043e\\u043e\",\"\\u0441\\u0434\\u0430\\u0432\\u0430\\u0442\\u044c\",\"\\u0432\\u0441\\u0442\\u0440\\u0435\\u0442\\u0438\\u0442\\u044c\\u0441\\u044f\",\"\\u043c\\u043e\\u0437\\u0433\",\"\\u043a\\u0440\\u043e\\u0432\\u0430\\u0442\\u044c\",\"\\u043a\\u043e\\u043d\\u0442\\u0440\\u043e\\u043b\\u044c\\u043d\\u044b\\u0439\",\"\\u0440\\u0435\\u0442\\u0432\\u0438\\u0442\",\"\\u043b\\u044e\\u0431\\u043e\\u0439\",\"\\u0441\\u043e\\u0441\\u0442\\u043e\\u044f\\u043d\\u0438\\u0435\",\"\\u043c\\u0438\\u043b\\u043e\",\"\\u0441\\u043e\\u0436\\u0430\\u043b\\u0435\\u043d\\u0438\\u0435\",\"\\u0434\\u043e\\u0441\\u0442\\u0430\\u0442\\u044c\",\"\\u0443\\u043a\\u0440\\u0430\\u0438\\u043d\\u0430\",\"\\u0441\\u043b\\u043e\\u0436\\u043d\\u043e\",\"\\u0436\\u0440\\u0430\\u0442\\u044c\",\"\\u0440\\u0430\\u0437\\u0433\\u043e\\u0432\\u0430\\u0440\\u0438\\u0432\\u0430\\u0442\\u044c\",\"\\u043f\\u043e\\u043c\\u043e\\u0449\\u044c\",\"\\u043f\\u043e\\u043a\\u0430\\u0437\\u044b\\u0432\\u0430\\u0442\\u044c\",\"\\u0432\\u044b\\u0437\\u0434\\u043e\\u0440\\u0430\\u0432\\u043b\\u0438\\u0432\\u0430\\u0442\\u044c\",\"\\u043f\\u0440\\u044f\\u043c\\u043e\",\"\\u0432\\u043e\\u0441\\u043a\\u0440\\u0435\\u0441\\u0435\\u043d\\u0438\\u0435\",\"\\u043e\\u0441\\u0442\\u0430\\u0432\\u0438\\u0442\\u044c\",\"\\u0441\\u043b\\u0443\\u0447\\u0438\\u0442\\u044c\\u0441\\u044f\",\"\\u043f\\u0440\\u043e\\u0445\\u043e\\u0434\\u0438\\u0442\\u044c\",\"\\u0431\\u043b\",\"\\u0443\\u043d\\u0438\\u0432\\u0435\\u0440\",\"\\u0440\\u0443\\u0431\\u043b\\u044c\",\"\\u0441\\u043f\\u0440\\u0430\\u0448\\u0438\\u0432\\u0430\\u0442\\u044c\",\"\\u043d\\u0430\\u0445\\u0443\\u0439\",\"\\u0435\\u0437\\u0434\\u0438\\u0442\\u044c\",\"\\u0440\\u0430\\u0434\",\"\\u043f\\u043e\\u0432\\u043e\\u0434\",\"\\u0430\\u043b\\u0433\\u0435\\u0431\\u0440\\u0430\",\"\\u0432\\u043a\\u0443\\u0441\\u043d\\u044b\\u0439\",\"\\u043f\\u0440\\u043e\\u0431\\u043a\\u0430\",\"\\u0438\\u0434\\u0435\\u044f\",\"\\u043a\\u0440\\u0430\\u0441\\u043d\\u044b\\u0439\",\"\\u043f\\u043e\\u043c\\u043e\\u0433\\u0430\\u0442\\u044c\",\"\\u0442\\u0441\\u044f\",\"\\u0441\\u043c\\u0435\\u044f\\u0442\\u044c\\u0441\\u044f\",\"\\u043d\\u0430\\u0437\\u044b\\u0432\\u0430\\u0442\\u044c\",\"\\u043e\\u0442\\u0434\\u0430\\u0442\\u044c\",\"\\u0430\\u0445\",\"\\u0448\\u0438\\u043a\\u0430\\u0440\\u043d\\u044b\\u0439\",\"\\u0432\\u0438\\u0434\\u043d\\u043e\",\"\\u043f\\u0440\\u0438\\u043a\\u043e\\u043b\\u044c\\u043d\\u044b\\u0439\",\"\\u043a\\u043b\\u0430\\u0441\\u0441\\u043d\\u043e\",\"\\u043f\\u043e\\u0437\\u0434\\u043d\\u043e\",\"\\u0443\\u0434\\u0430\\u043b\\u0438\\u0442\\u044c\",\"\\u0433\\u043e\\u0441\\u043f\\u043e\\u0434\\u044c\",\"\\u0447\\u0442\\u043e\",\"\\u0445\\u0443\\u0439\",\"\\u0434\\u0430\\u0430\\u0430\",\"\\u0441\\u043a\\u0438\\u043d\\u0443\\u0442\\u044c\",\"\\u043f\\u043e\\u0437\\u0434\\u0440\\u0430\\u0432\\u0438\\u0442\\u044c\",\"\\u0448\\u043a\",\"\\u043d\\u0430\\u0443\\u0448\\u043d\\u0438\\u043a\",\"\\u0432\\u0435\\u0437\\u0442\\u0438\",\"\\u043f\\u0430\\u043b\\u0435\\u0446\",\"\\u043f\\u0440\\u043e\\u0441\\u043f\\u0430\\u0442\\u044c\",\"\\u043f\\u0440\\u043e\\u0442\\u0438\\u0432\",\"\\u0434\\u0430\\u043b\\u0435\\u043a\\u043e\",\"\\u0441\\u044a\\u0435\\u0441\\u0442\\u044c\",\"\\u043f\\u0440\\u043e\\u0448\\u043b\\u043e\\u0435\",\"\\u0441\\u0442\\u043e\\u043b\",\"\\u0441\\u0442\\u044b\\u0434\\u043d\\u043e\",\"\\u043e\\u0442\\u043f\\u0440\\u0430\\u0432\\u0438\\u0442\\u044c\",\"\\u043f\\u0440\\u0438\\u0435\\u0437\\u0436\\u0430\\u0442\\u044c\",\"\\u043d\\u0430\\u0441\\u0442\\u043e\\u043b\\u044c\\u043a\\u043e\",\"\\u0441\\u0435\\u0433\\u043e\\u0434\\u043d\\u044f\\u0448\\u043d\\u0438\\u0439\",\"\\u0440\\u0430\\u0434\\u0438\",\"\\u043f\\u043e\\u0441\\u0442\",\"\\u043f\\u043b\\u0430\\u0442\\u044c\\u0435\",\"\\u0432\\u043e\\u0437\\u043c\\u043e\\u0436\\u043d\\u043e\",\"\\u0441\\u0438\\u043b\\u044c\\u043d\\u044b\\u0439\",\"\\u0447\\u0438\\u0442\\u0430\\u0442\\u0435\\u043b\\u044c\",\"\\u0431\\u0430\\u0431\\u0430\",\"\\u043a\\u043e\\u0439\",\"\\u0440\\u0430\\u0434\\u043e\\u0432\\u0430\\u0442\\u044c\\u0441\\u044f\",\"\\u043e\\u0446\\u0435\\u043d\\u043a\\u0430\",\"\\u043c\\u0435\\u0442\\u0440\\u043e\",\"\\u043d\\u0438\\u043a\\u0443\\u0434\\u0430\",\"\\u0441\\u0442\\u0430\\u0440\\u043e\\u0435\",\"\\u043d\\u0430\\u0437\\u044b\\u0432\\u0430\\u0442\\u044c\\u0441\\u044f\",\"\\u0442\\u043e\\u043a\",\"\\u043b\\u043e\\u0436\\u0438\\u0442\\u044c\\u0441\\u044f\",\"\\u043e\\u0447\",\"\\u043a\\u0430\\u0442\\u044f\",\"\\u043d\\u0435\\u0434\\u0430\\u0432\\u043d\\u043e\",\"\\u0432\\u043e\\u0434\\u0430\",\"\\u0432\\u044b\\u0433\\u043b\\u044f\\u0434\\u0435\\u0442\\u044c\",\"\\u0443\\u0447\\u0438\\u0442\\u0435\\u043b\\u044c\",\"\\u043f\\u0435\\u0440\\u0435\\u0436\\u0438\\u0432\\u0430\\u0442\\u044c\",\"\\u0441\\u043b\\u043e\\u043c\\u0430\\u0442\\u044c\",\"\\u0432\\u0435\\u0441\\u0442\\u0438\",\"\\u043d\\u0435\\u043c\\u043e\\u0439\",\"\\u0432\\u043e\\u043a\\u0440\\u0443\\u0433\",\"\\u043f\\u0438\\u0442\\u0435\\u0440\",\"\\u043c\\u044b\\u0442\\u044c\",\"\\u043e\\u0447\\u0435\\u0440\\u0435\\u0434\\u043d\\u043e\\u0439\",\"\\u0442\\u0430\\u043d\\u0446\\u0435\\u0432\\u0430\\u0442\\u044c\",\"\\u0432\\u044b\\u043f\\u0438\\u0442\\u044c\",\"\\u0432\\u044b\",\"\\u0442\\u0435\\u043f\\u043b\\u043e\",\"\\u043f\\u0443\\u0442\\u0438\\u043d\",\"\\u043e\\u0448\\u0438\\u0431\\u043a\\u0430\",\"\\u0446\\u0432\\u0435\\u0442\\u0430\",\"\\u043a\\u0440\\u0430\\u0441\\u0438\\u0432\\u043e\",\"\\u043f\\u043e\\u0434\\u043d\\u044f\\u0442\\u044c\",\"\\u043e\\u0442\\u043d\\u043e\\u0448\\u0435\\u043d\\u0438\\u0435\",\"\\u043f\\u043e\\u043f\\u0440\\u043e\\u0441\\u0438\\u0442\\u044c\",\"\\u0440\\u0430\\u0441\\u0441\\u043a\\u0430\\u0437\\u044b\\u0432\\u0430\\u0442\\u044c\",\"\\u0447\\u0443\\u0434\\u043e\",\"\\u043e\\u043e\",\"\\u043c\\u0435\\u0447\\u0442\\u0430\\u0442\\u044c\",\"\\u0434\\u0435\\u0434\",\"\\u043d\\u0430\\u043f\\u0440\\u0438\\u043c\\u0435\\u0440\",\"\\u0432\\u043e\\u043b\\u0433\\u043e\\u0433\\u0440\\u0430\\u0434\",\"\\u0434\\u043e\\u0436\\u0434\\u0430\\u0442\\u044c\\u0441\\u044f\",\"\\u0441\\u043e\\u0441\\u0435\\u0434\",\"\\u0448\\u0443\\u0442\\u043a\\u0430\",\"\\u0432\\u0447\\u0435\\u0440\\u0430\\u0448\\u043d\\u0438\\u0439\",\"\\u0434\\u043d\",\"\\u043f\\u0440\\u043e\\u0441\\u044b\\u043f\\u0430\\u0442\\u044c\\u0441\\u044f\",\"\\u043f\\u0430\\u0446\\u0430\\u043d\",\"\\u0444\\u0443\",\"\\u043e\\u0436\\u0438\\u0434\\u0430\\u0442\\u044c\",\"\\u0440\\u0438\\u0441\\u043e\\u0432\\u0430\\u0442\\u044c\",\"\\u0437\\u043b\\u043e\\u0439\",\"\\u0437\\u0430\\u0431\\u044b\\u0432\\u0430\\u0442\\u044c\",\"\\u0443\\u0432\\u044b\",\"\\u043f\\u043f\\u0446\",\"\\u0431\\u0440\\u043e\\u0441\\u0438\\u0442\\u044c\",\"\\u043f\\u043e\\u0432\\u0435\\u0437\\u0442\\u0438\",\"\\u0436\\u0435\\u0441\\u0442\\u044c\",\"\\u043a\\u0438\\u0435\\u0432\",\"\\u0442\\u044f\\u0436\\u0435\\u043b\\u043e\",\"\\u043a\\u043e\\u043d\\u0442\\u0430\\u043a\\u0442\",\"\\u0442\\u0451\\u043f\\u043b\\u044b\\u0439\",\"\\u0440\\u0436\\u0430\\u0442\\u044c\",\"\\u043f\\u043e\\u0435\\u0441\\u0442\\u044c\",\"\\u0432\\u043a\\u043b\\u044e\\u0447\\u0438\\u0442\\u044c\",\"\\u0434\\u0443\\u0448\\u0438\\u0442\\u044c\",\"\\u043a\\u0430\\u0442\\u0430\\u0442\\u044c\\u0441\\u044f\",\"\\u0442\\u0438\",\"\\u0441\\u043e\\u0433\\u043b\\u0430\\u0441\\u043d\\u044b\\u0439\",\"\\u0440\\u0430\\u0437\\u0433\\u043e\\u0432\\u043e\\u0440\",\"\\u043e\\u043b\\u0438\\u043c\\u043f\\u0438\\u0430\\u0434\\u0430\",\"\\u0441\\u043e\\u0431\\u0440\\u0430\\u0442\\u044c\\u0441\\u044f\",\"\\u043a\\u043e\\u0448\\u043a\\u0430\",\"\\u043c\\u0430\\u043b\\u0435\\u043d\\u044c\\u043a\\u0430\\u044f\",\"\\u0441\\u043d\\u0435\\u0436\\u043e\\u043a\",\"\\u0443\\u043b\\u044b\\u0431\\u0430\\u0442\\u044c\\u0441\\u044f\",\"\\u0448\\u0430\\u043f\\u043a\\u0430\",\"\\u043e\\u0442\\u0434\\u044b\\u0445\\u0430\\u0442\\u044c\",\"\\u0443\\u043c\\u043d\\u044b\\u0439\",\"\\u0432\\u0430\\u0440\\u0438\\u0430\\u043d\\u0442\",\"\\u043a\\u043e\\u043c\\u043f\\u0430\\u043d\\u0438\\u044f\",\"\\u043f\\u0440\\u043e\\u043f\\u0430\\u0441\\u0442\\u044c\",\"\\u0441\\u0438\\u0442\\u0443\\u0430\\u0446\\u0438\\u044f\",\"\\u0432\\u044b\\u0443\\u0447\\u0438\\u0442\\u044c\",\"\\u0430\\u0445\\u0430\\u0445\\u0430\\u0445\\u0438\",\"\\u0445\\u0430\",\"\\u0438\\u0437\\u0432\\u0438\\u043d\\u0438\\u0442\\u044c\",\"\\u043f\\u0440\\u0438\\u0441\\u043d\\u0438\\u0442\\u044c\\u0441\\u044f\",\"\\u043d\\u0430\\u0437\\u0432\\u0430\\u0442\\u044c\",\"\\u0445\\u0440\\u0435\\u043d\",\"\\u043e\\u0442\\u043a\\u0443\\u0434\\u0430\",\"\\u0440\\u0435\\u043a\\u043b\\u0430\\u043c\\u0430\",\"\\u0445\\u0443\\u0439\\u043d\\u044f\",\"\\u0434\\u0435\\u0440\\u0436\\u0430\\u0442\\u044c\",\"\\u043f\\u0437\\u0434\\u0446\\u0430\",\"\\u0433\\u0440\\u0443\\u0441\\u0442\\u043d\\u044b\\u0439\",\"\\u0432\\u0440\\u0430\\u0447\",\"\\u043c\\u0438\\u043d\\u044c\",\"\\u043f\\u043e\\u0441\\u043b\\u0443\\u0448\\u0430\\u0442\\u044c\",\"\\u043a\\u0440\\u043e\\u0432\\u044c\",\"\\u043d\\u0435\\u0443\\u0436\\u0435\\u043b\\u0438\",\"\\u0436\\u0443\\u0439\\u043a\",\"\\u0437\\u0430\\u0441\\u0442\\u0430\\u0432\\u0438\\u0442\\u044c\",\"\\u0432\\u0435\\u0447\\u043d\\u043e\",\"\\u043f\\u043b\\u0430\\u0447\",\"\\u0441\\u0442\\u0430\\u0442\\u0443\\u0441\",\"\\u0430\\u0439\\u0444\\u043e\\u043d\",\"\\u0444\\u0443\\u0442\\u0431\\u043e\\u043b\",\"\\u0441\\u043f\\u0438\\u0441\\u043e\\u043a\",\"\\u043f\\u0430\\u043c\\u044f\\u0442\\u044c\",\"\\u0443\\u043c\\u0438\\u0440\\u0430\\u0442\\u044c\",\"\\u0441\\u044e\\u0434\\u0430\",\"\\u043f\\u043e\\u0441\\u043f\\u0430\\u0442\\u044c\",\"\\u0444\\u0440\\u0430\\u0437\\u0430\",\"\\u0441\\u0435\\u0442\\u044c\",\"\\u0448\\u043e\",\"\\u0437\\u0430\\u0432\\u0438\\u0434\\u043e\\u0432\\u0430\\u0442\\u044c\",\"\\u043d\\u044c\",\"\\u0443\\u0445\\u043e\",\"\\u0430\\u043b\\u044c\\u0431\\u043e\\u043c\",\"\\u0443\\u043b\\u044b\\u0431\\u043a\\u0430\",\"\\u0431\\u043e\\u043b\\u044c\\u043d\\u043e\\u0439\",\"\\u043a\\u0440\\u0430\\u0441\\u043e\\u0442\\u0430\",\"\\u0432\\u0438\\u043d\\u043e\\u0432\\u0430\\u0442\\u044b\\u0439\",\"\\u043f\\u0438\\u0432\\u043e\",\"\\u0441\\u0442\\u0430\\u0440\\u0430\\u0442\\u044c\\u0441\\u044f\",\"\\u0441\\u0443\\u0442\\u043a\\u0438\",\"\\u0441\\u0443\\u0434\\u0438\\u0442\\u044c\",\"\\u0437\\u0438\\u043c\\u043d\\u0438\\u0439\",\"\\u0437\\u0430\\u0433\\u0430\\u0434\\u0430\\u0442\\u044c\",\"\\u0430\\u0430\\u0430\\u0430\\u0430\",\"\\u043f\\u0440\\u0435\\u043a\\u0440\\u0430\\u0441\\u043d\\u043e\",\"\\u043f\\u0440\\u0438\\u043d\\u0435\\u0441\\u0442\\u0438\",\"\\u0448\\u0442\\u0443\\u043a\\u0430\",\"\\u043a\\u043e\\u043c\\u0430\\u043d\\u0434\\u0430\",\"\\u0433\\u0435\\u043e\\u043c\\u0435\\u0442\\u0440\\u0438\\u044f\",\"\\u043f\\u043e\\u0447\\u0438\\u0442\\u0430\\u0442\\u044c\",\"\\u0441\\u043b\\u043e\\u0436\\u043d\\u044b\\u0439\",\"\\u0449\\u0430\",\"\\u043c\\u043d\\u043e\\u0433\\u0438\\u0439\",\"\\u043f\\u043e\\u0438\\u0433\\u0440\\u0430\\u0442\\u044c\",\"\\u043c\\u0430\\u0442\\u044c\",\"\\u0441\\u0441\\u044b\\u043b\\u043a\\u0430\",\"\\u043b\\u0451\\u0433\\u043a\\u0438\\u0439\",\"\\u0437\\u0431\\u0441\",\"\\u0446\\u0435\\u043d\\u0442\\u0440\",\"\\u0437\\u043d\\u0430\\u0435\\u0442\\u0435\",\"\\u0445\\u0440\\u0435\\u043d\\u043e\\u0432\\u044b\\u0439\",\"\\u043f\\u043e\\u0437\\u0438\\u0442\\u0438\\u0432\",\"\\u0442\\u0435\\u043b\\u043e\",\"\\u0437\\u0430\\u043a\\u0440\\u044b\\u0442\\u044c\",\"\\u043e\\u0433\\u043e\",\"\\u0434\\u043e\\u0431\\u0430\\u0432\\u0438\\u0442\\u044c\",\"\\u043e\\u0447\\u0435\\u0440\\u0435\\u0434\\u044c\",\"\\u0438\\u043d\\u0430\\u0447\\u0435\",\"\\u043a\\u043b\\u0443\\u0431\",\"\\u0444\\u0438\\u0433\\u0430\",\"\\u0434\\u0430\\u0448\\u0430\",\"\\u0437\\u0434\\u043e\\u0440\\u043e\\u0432\\u043e\",\"\\u043f\\u043e\\u0434\\u0440\\u044f\\u0434\",\"\\u043a\\u043e\\u043d\\u0447\\u0438\\u0442\\u044c\\u0441\\u044f\",\"\\u0436\\u0438\\u0432\\u043e\\u0442\",\"\\u043a\\u0443\\u0440\\u0438\\u0442\\u044c\",\"\\u0432\\u043f\\u0435\\u0440\\u0432\\u044b\\u0435\",\"\\u043e\\u0431\\u0430\",\"\\u043c\\u0435\\u043d\\u0430\",\"\\u043f\\u043e\\u0441\\u0438\\u0434\\u0435\\u0442\\u044c\",\"\\u0440\\u0442\",\"\\u0434\\u0435\\u0440\\u0436\\u0430\\u0442\\u044c\\u0441\\u044f\",\"\\u0437\\u0434\\u043e\\u0440\\u043e\\u0432\\u044c\\u0435\",\"\\u0441\\u043b\\u0443\\u0447\\u0430\\u0439\\u043d\\u043e\",\"\\u043f\\u0440\\u0438\\u0432\\u044b\\u043a\\u043d\\u0443\\u0442\\u044c\",\"\\u043b\\u0435\\u0442\\u043e\\u043c\",\"\\u0440\\u0435\\u0448\\u0430\\u0442\\u044c\",\"\\u0431\\u0435\\u043b\\u044b\\u0439\",\"\\u0441\\u0432\\u043e\\u0431\\u043e\\u0434\\u043d\\u044b\\u0439\",\"\\u043e\\u0431\\u044b\\u0447\\u043d\\u044b\\u0439\",\"\\u0445\\u0437\",\"\\u0441\\u0440\\u043e\\u0447\\u043d\\u043e\",\"\\u0448\\u0435\\u0440\\u043b\\u043e\\u043a\",\"\\u0432\\u044b\\u0431\\u043e\\u0440\",\"\\u0442\\u043e\\u0436\",\"\\u0431\\u043b\\u0438\\u0437\\u043a\\u0438\\u0439\",\"\\u0437\\u0430\\u0445\\u043e\\u0442\\u0435\\u0442\\u044c\",\"\\u0431\\u0435\\u0434\\u0430\",\"\\u044d\\u043c\\u043e\\u0446\\u0438\\u044f\",\"\\u0447\\u0435\\u0442\\u0432\\u0435\\u0440\\u0433\",\"\\u0441\\u043e\\u043b\\u043d\\u0446\\u0435\",\"\\u043c\\u043e\\u043b\\u043e\\u0434\\u0451\\u0436\\u043a\\u0430\",\"\\u0437\\u0430\\u043a\\u043e\\u043d\\u0447\\u0438\\u0442\\u044c\",\"\\u0440\\u0435\\u0437\\u0443\\u043b\\u044c\\u0442\\u0430\\u0442\",\"\\u0442\\u0443\\u043f\\u043e\",\"\\u0441\\u0443\\u0434\\u044c\\u0431\\u0430\",\"\\u043f\\u0438\\u0437\\u0434\\u0430\",\"\\u0432\\u0441\\u0442\\u0440\\u0435\\u0447\\u0430\\u0442\\u044c\",\"\\u043c\\u0435\\u043d\\u044f\\u0442\\u044c\",\"\\u0441\\u043d\\u0438\\u043c\\u0430\\u0442\\u044c\",\"\\u0441\\u043f\\u043e\\u043a\\u043e\\u0439\\u043d\\u043e\",\"\\u0441\\u0435\\u0441\\u0442\\u044c\",\"\\u0443\\u0441\\u0442\\u0440\\u043e\\u0438\\u0442\\u044c\",\"\\u0437\\u0430\\u043b\",\"\\u043a\\u0430\",\"\\u0431\\u0438\\u043e\\u043b\\u043e\\u0433\\u0438\\u044f\",\"\\u0441\\u043a\\u0430\\u0447\\u0430\\u0442\\u044c\",\"\\u043c\\u043d\\u0435\\u043d\\u0438\\u0435\",\"\\u043d\\u0430\\u0437\\u0432\\u0430\\u043d\\u0438\\u0435\",\"\\u043a\\u0430\\u0440\\u043e\\u0447\\u0438\\u0439\",\"\\u0443\\u0434\\u0430\\u0442\\u044c\\u0441\\u044f\",\"\\u0437\\u0443\\u0431\",\"\\u043f\\u043e\\u0447\\u0442\\u0430\",\"\\u043e\\u0442\\u0434\\u043e\\u0445\\u043d\\u0443\\u0442\\u044c\",\"\\u043f\\u0440\\u0438\\u0445\\u043e\\u0434\\u0438\\u0442\\u044c\\u0441\\u044f\",\"\\u043f\\u0440\\u0438\\u0447\\u0438\\u043d\\u0430\",\"\\u0432\\u044b\\u0431\\u0440\\u0430\\u0442\\u044c\",\"\\u043f\\u0440\\u043e\\u0432\\u043e\\u0434\\u0438\\u0442\\u044c\",\"\\u043f\\u043e\\u043b\\u044c\\u0437\\u043e\\u0432\\u0430\\u0442\\u044c\\u0441\\u044f\",\"\\u043a\\u0430\\u0440\\u0442\\u0430\",\"\\u043f\\u043e\\u043b\\u0443\\u0447\\u0430\\u0442\\u044c\",\"\\u0437\\u0430\\u0431\\u0438\\u0442\\u044c\",\"\\u043b\\u0438\\u0447\\u043d\\u044b\\u0439\",\"\\u0445\\u0440\\u0435\\u043d\\u044c\",\"\\u0440\\u0435\\u0434\\u043a\\u043e\",\"\\u0438\\u0434\\u0430\",\"\\u0441\\u043d\\u044f\\u0442\\u044c\",\"\\u0442\\u0440\\u0443\\u0434\\u043d\\u043e\",\"\\u0433\\u0440\\u0443\\u0441\\u0442\\u044c\",\"\\u0432\\u0438\\u043a\\u0430\",\"\\u0438\\u0434\\u0435\\u0430\\u043b\\u044c\\u043d\\u044b\\u0439\",\"\\u0442\\u0435\\u0441\\u0442\",\"\\u0432\\u043d\\u0438\\u043c\\u0430\\u043d\\u0438\\u0435\",\"\\u043c\\u043e\\u043b\\u0447\\u0430\\u0442\\u044c\",\"\\u0432\\u044b\\u0438\\u0433\\u0440\\u0430\\u0442\\u044c\",\"\\u0443\\u0441\\u043b\\u044b\\u0448\\u0430\\u0442\\u044c\",\"\\u043e\\u0442\\u043c\\u0435\\u0447\\u0430\\u0442\\u044c\",\"\\u0434\\u0430\\u0440\\u0438\\u0442\\u044c\",\"\\u043b\\u044e\\u0431\\u0438\\u043c\",\"\\u0448\\u043e\\u043a\\u043e\\u043b\\u0430\\u0434\\u043a\\u0430\",\"\\u0437\\u0432\\u043e\\u043d\\u043e\\u043a\",\"\\u043b\\u0435\\u0442\\u0435\\u0442\\u044c\",\"\\u0446\\u0435\\u043d\\u0430\",\"\\u0432\\u043e\\u0437\\u043c\\u043e\\u0436\\u043d\\u043e\\u0441\\u0442\\u044c\",\"\\u0441\\u0442\\u0440\\u0430\\u0434\\u0430\\u0442\\u044c\",\"\\u043d\\u043e\\u0443\\u0442\",\"\\u043d\\u0430\\u043f\\u043e\\u043c\\u043d\\u0438\\u0442\\u044c\",\"\\u043e\\u0433\\u043e\\u043d\\u044c\",\"\\u0442\\u044f\\u0436\\u0451\\u043b\\u044b\\u0439\",\"\\u0434\\u0435\\u0442\\u0441\\u043a\\u0438\\u0439\",\"\\u0438\\u0433\\u0440\\u0443\\u0448\\u043a\\u0430\",\"\\u0430\\u0445\\u0430\\u0445\\u0445\\u0430\",\"\\u0442\\u0432\",\"\\u043f\\u0438\\u043f\\u0435\\u0446\",\"\\u043f\\u0430\\u0434\\u0430\\u0442\\u044c\",\"\\u0447\\u0435\\u0442\\u0430\",\"\\u043f\\u0440\\u0435\\u0434\\u043b\\u0430\\u0433\\u0430\\u0442\\u044c\",\"\\u0441\\u0435\\u043a\\u0441\",\"\\u0441\\u043c\\u0435\\u0448\\u043d\\u043e\\u0439\",\"\\u0431\\u043b\\u0438\\u0438\\u043d\\u0430\",\"\\u043f\\u0440\\u043e\\u0434\\u043e\\u043b\\u0436\\u0430\\u0442\\u044c\",\"\\u043e\\u043d\",\"\\u043a\\u043e\\u0448\\u043c\\u0430\\u0440\",\"\\u043f\\u043e\\u0437\\u0434\\u0440\\u0430\\u0432\\u043b\\u0435\\u043d\\u0438\\u0435\",\"\\u0440\\u0430\\u0437\\u0431\\u0443\\u0434\\u0438\\u0442\\u044c\",\"\\u0441\\u043a\\u0430\",\"\\u0430\\u0445\\u0430\\u0445\\u0430\\u0445\\u0430\\u0445\",\"\\u043e\\u0431\\u0435\\u0434\",\"\\u0441\\u043a\\u0430\\u0439\\u043f\",\"\\u043f\\u0440\\u0435\\u0434\\u0441\\u0442\\u0430\\u0432\\u0438\\u0442\\u044c\",\"\\u043f\\u043b\\u044e\\u0441\",\"\\u0441\\u0440\\u0435\\u0434\\u0430\",\"\\u0437\\u0430\\u043d\\u044f\\u0442\\u044b\\u0439\",\"\\u0445\\u043c\",\"\\u043e\\u0443\",\"\\u043f\\u0440\\u043e\\u0433\\u0440\\u0430\\u043c\\u043c\\u0430\",\"\\u0432\\u043a\\u0443\\u0441\",\"\\u043e\\u043a\\u043e\\u043b\\u043e\",\"\\u0437\\u0438\\u043c\\u043e\\u0439\",\"\\u0448\",\"\\u0432\\u0435\\u0441\",\"\\u0432\\u044b\\u0441\\u043e\\u043a\\u0438\\u0439\",\"\\u043a\\u043e\\u043d\\u0444\\u0435\\u0442\\u0430\",\"\\u0430\\u0430\",\"\\u0448\\u044c\",\"\\u0441\\u043b\\u0430\\u0432\\u0430\",\"\\u043a\\u0438\\u0434\\u0430\\u0442\\u044c\",\"\\u043f\\u043e\\u0445\\u0443\\u0439\",\"\\u043c\\u0438\\u043d\\u0443\\u0441\",\"\\u0444\\u0430\\u043a\\u0442\",\"\\u0442\\u0438\\u043f\\u043e\",\"\\u0434\\u0432\\u0435\\u0440\\u044c\",\"\\u0443\\u0441\\u043f\\u0435\\u0432\\u0430\\u0442\\u044c\",\"\\u0432\\u043e\\u0443\",\"\\u0446\\u0435\\u043b\\u043e\\u0435\",\"\\u0443\\u0432\\u0438\\u0434\\u0435\\u0442\\u044c\\u0441\\u044f\",\"\\u0443\\u0434\\u0430\\u0447\\u043d\\u044b\\u0439\",\"\\u0432\\u043f\\u0435\\u0440\\u0435\\u0434\\u0438\",\"\\u043e\\u0441\\u043e\\u0431\\u043e\",\"\\u043d\\u0430\\u043e\\u0431\\u043e\\u0440\\u043e\\u0442\",\"\\u0440\\u043e\\u0441\\u0441\\u0438\\u0439\\u0441\\u043a\\u0438\\u0439\",\"\\u043b\\u044e\\u0431\\u0430\",\"\\u043c\\u043c\\u043c\",\"\\u0441\\u043c\\u0435\\u0445\",\"\\u0441\\u0435\\u0440\\u044b\\u0439\",\"\\u043e\\u0431\\u0438\\u0434\\u0435\\u0442\\u044c\\u0441\\u044f\",\"\\u043f\\u0440\\u0438\\u0434\",\"\\u043b\\u043a\\u0430\",\"\\u043f\\u0443\\u0442\\u044c\",\"\\u0441\\u043e\\u0431\\u0440\\u0430\\u0442\\u044c\",\"\\u043e\\u0442\\u043f\\u0443\\u0441\\u0442\\u0438\\u0442\\u044c\",\"\\u043f\\u043e\\u043b\\u043d\\u043e\\u0441\\u0442\\u044c\\u044e\",\"\\u043a\\u0430\\u043d\\u0430\\u043b\",\"\\u0442\\u0432\\u0438\\u0442\\u0442\\u0435\\u0440\\u0441\\u043a\\u0438\\u0439\"],\"x1\":{\"__ndarray__\":\"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\",\"dtype\":\"float32\",\"shape\":[500]},\"x2\":{\"__ndarray__\":\"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\",\"dtype\":\"float32\",\"shape\":[500]}},\"selected\":{\"id\":\"1045\",\"type\":\"Selection\"},\"selection_policy\":{\"id\":\"1046\",\"type\":\"UnionRenderers\"}},\"id\":\"1032\",\"type\":\"ColumnDataSource\"},{\"attributes\":{\"active_drag\":\"auto\",\"active_inspect\":\"auto\",\"active_multi\":null,\"active_scroll\":\"auto\",\"active_tap\":\"auto\",\"tools\":[{\"id\":\"1023\",\"type\":\"PanTool\"},{\"id\":\"1024\",\"type\":\"WheelZoomTool\"},{\"id\":\"1025\",\"type\":\"ResetTool\"},{\"id\":\"1026\",\"type\":\"SaveTool\"}]},\"id\":\"1027\",\"type\":\"Toolbar\"},{\"attributes\":{\"callback\":null},\"id\":\"1005\",\"type\":\"DataRange1d\"},{\"attributes\":{\"fill_color\":{\"value\":\"#1f77b4\"},\"line_color\":{\"value\":\"#1f77b4\"},\"size\":{\"units\":\"screen\",\"value\":8},\"x\":{\"field\":\"x1\"},\"y\":{\"field\":\"x2\"}},\"id\":\"1034\",\"type\":\"Scatter\"},{\"attributes\":{\"data_source\":{\"id\":\"1032\",\"type\":\"ColumnDataSource\"},\"glyph\":{\"id\":\"1034\",\"type\":\"Scatter\"},\"hover_glyph\":null,\"muted_glyph\":null,\"nonselection_glyph\":{\"id\":\"1035\",\"type\":\"Scatter\"},\"selection_glyph\":null,\"view\":{\"id\":\"1037\",\"type\":\"CDSView\"}},\"id\":\"1036\",\"type\":\"GlyphRenderer\"},{\"attributes\":{\"source\":{\"id\":\"1032\",\"type\":\"ColumnDataSource\"}},\"id\":\"1037\",\"type\":\"CDSView\"}],\"root_ids\":[\"1003\"]},\"title\":\"Bokeh Application\",\"version\":\"1.0.4\"}};\n",
       "  var render_items = [{\"docid\":\"352d8cb8-3ff9-437e-ba3c-289b3c0fc591\",\"roots\":{\"1003\":\"3f7cecdb-62f3-41ae-b813-6b9f5f5a5ecb\"}}];\n",
       "  root.Bokeh.embed.embed_items_notebook(docs_json, render_items);\n",
       "\n",
       "  }\n",
       "  if (root.Bokeh !== undefined) {\n",
       "    embed_document(root);\n",
       "  } else {\n",
       "    var attempts = 0;\n",
       "    var timer = setInterval(function(root) {\n",
       "      if (root.Bokeh !== undefined) {\n",
       "        embed_document(root);\n",
       "        clearInterval(timer);\n",
       "      }\n",
       "      attempts++;\n",
       "      if (attempts > 100) {\n",
       "        console.log(\"Bokeh: ERROR: Unable to run BokehJS code because BokehJS library is missing\");\n",
       "        clearInterval(timer);\n",
       "      }\n",
       "    }, 10, root)\n",
       "  }\n",
       "})(window);"
      ],
      "application/vnd.bokehjs_exec.v0+json": ""
     },
     "metadata": {
      "application/vnd.bokehjs_exec.v0+json": {
       "id": "1003"
      }
     },
     "output_type": "display_data"
    }
   ],
   "source": [
    "from bokeh.models import ColumnDataSource, LabelSet\n",
    "from bokeh.plotting import figure, show, output_file\n",
    "from bokeh.io import output_notebook\n",
    "output_notebook()\n",
    "\n",
    "p = figure(tools=\"pan,wheel_zoom,reset,save\",\n",
    "           toolbar_location=\"above\",\n",
    "           title=\"word2vec T-SNE for most common words\")\n",
    "\n",
    "source = ColumnDataSource(data=dict(x1=top_words_tsne_1[:,0],\n",
    "                                    x2=top_words_tsne_1[:,1],\n",
    "                                    names=top_words))\n",
    "\n",
    "p.scatter(x=\"x1\", y=\"x2\", size=8, source=source)\n",
    "\n",
    "labels = LabelSet(x=\"x1\", y=\"x2\", text=\"names\", y_offset=6,\n",
    "                  text_font_size=\"8pt\", text_color=\"#555555\",\n",
    "                  source=source, text_align='center')\n",
    "p.add_layout(labels)\n",
    "\n",
    "show(p)"
   ]
  },
  {
   "cell_type": "code",
   "execution_count": 36,
   "metadata": {},
   "outputs": [
    {
     "name": "stderr",
     "output_type": "stream",
     "text": [
      "BokehUserWarning: ColumnDataSource's columns must be of the same length. Current lengths: ('names', 1000), ('x1', 100), ('x2', 100)\n"
     ]
    },
    {
     "data": {
      "text/html": [
       "\n",
       "\n",
       "\n",
       "\n",
       "\n",
       "\n",
       "  <div class=\"bk-root\" id=\"9588a446-0bb7-459e-be82-c72d3175d535\" data-root-id=\"1090\"></div>\n"
      ]
     },
     "metadata": {},
     "output_type": "display_data"
    },
    {
     "data": {
      "application/javascript": [
       "(function(root) {\n",
       "  function embed_document(root) {\n",
       "    \n",
       "  var docs_json = {\"eae5dd64-a8c9-4527-a9bc-1818297e52d0\":{\"roots\":{\"references\":[{\"attributes\":{\"below\":[{\"id\":\"1100\",\"type\":\"LinearAxis\"}],\"left\":[{\"id\":\"1105\",\"type\":\"LinearAxis\"}],\"renderers\":[{\"id\":\"1100\",\"type\":\"LinearAxis\"},{\"id\":\"1104\",\"type\":\"Grid\"},{\"id\":\"1105\",\"type\":\"LinearAxis\"},{\"id\":\"1109\",\"type\":\"Grid\"},{\"id\":\"1123\",\"type\":\"GlyphRenderer\"},{\"id\":\"1125\",\"type\":\"LabelSet\"}],\"title\":{\"id\":\"1089\",\"type\":\"Title\"},\"toolbar\":{\"id\":\"1114\",\"type\":\"Toolbar\"},\"toolbar_location\":\"above\",\"x_range\":{\"id\":\"1092\",\"type\":\"DataRange1d\"},\"x_scale\":{\"id\":\"1096\",\"type\":\"LinearScale\"},\"y_range\":{\"id\":\"1094\",\"type\":\"DataRange1d\"},\"y_scale\":{\"id\":\"1098\",\"type\":\"LinearScale\"}},\"id\":\"1090\",\"subtype\":\"Figure\",\"type\":\"Plot\"},{\"attributes\":{},\"id\":\"1112\",\"type\":\"ResetTool\"},{\"attributes\":{},\"id\":\"1096\",\"type\":\"LinearScale\"},{\"attributes\":{\"callback\":null},\"id\":\"1094\",\"type\":\"DataRange1d\"},{\"attributes\":{\"active_drag\":\"auto\",\"active_inspect\":\"auto\",\"active_multi\":null,\"active_scroll\":\"auto\",\"active_tap\":\"auto\",\"tools\":[{\"id\":\"1110\",\"type\":\"PanTool\"},{\"id\":\"1111\",\"type\":\"WheelZoomTool\"},{\"id\":\"1112\",\"type\":\"ResetTool\"},{\"id\":\"1113\",\"type\":\"SaveTool\"}]},\"id\":\"1114\",\"type\":\"Toolbar\"},{\"attributes\":{},\"id\":\"1098\",\"type\":\"LinearScale\"},{\"attributes\":{},\"id\":\"1135\",\"type\":\"BasicTickFormatter\"},{\"attributes\":{\"formatter\":{\"id\":\"1135\",\"type\":\"BasicTickFormatter\"},\"plot\":{\"id\":\"1090\",\"subtype\":\"Figure\",\"type\":\"Plot\"},\"ticker\":{\"id\":\"1106\",\"type\":\"BasicTicker\"}},\"id\":\"1105\",\"type\":\"LinearAxis\"},{\"attributes\":{\"formatter\":{\"id\":\"1137\",\"type\":\"BasicTickFormatter\"},\"plot\":{\"id\":\"1090\",\"subtype\":\"Figure\",\"type\":\"Plot\"},\"ticker\":{\"id\":\"1101\",\"type\":\"BasicTicker\"}},\"id\":\"1100\",\"type\":\"LinearAxis\"},{\"attributes\":{\"plot\":null,\"text\":\"word2vec T-SNE for most common words\"},\"id\":\"1089\",\"type\":\"Title\"},{\"attributes\":{\"plot\":{\"id\":\"1090\",\"subtype\":\"Figure\",\"type\":\"Plot\"},\"ticker\":{\"id\":\"1101\",\"type\":\"BasicTicker\"}},\"id\":\"1104\",\"type\":\"Grid\"},{\"attributes\":{\"source\":{\"id\":\"1119\",\"type\":\"ColumnDataSource\"}},\"id\":\"1124\",\"type\":\"CDSView\"},{\"attributes\":{\"data_source\":{\"id\":\"1119\",\"type\":\"ColumnDataSource\"},\"glyph\":{\"id\":\"1121\",\"type\":\"Scatter\"},\"hover_glyph\":null,\"muted_glyph\":null,\"nonselection_glyph\":{\"id\":\"1122\",\"type\":\"Scatter\"},\"selection_glyph\":null,\"view\":{\"id\":\"1124\",\"type\":\"CDSView\"}},\"id\":\"1123\",\"type\":\"GlyphRenderer\"},{\"attributes\":{\"fill_alpha\":{\"value\":0.1},\"fill_color\":{\"value\":\"#1f77b4\"},\"line_alpha\":{\"value\":0.1},\"line_color\":{\"value\":\"#1f77b4\"},\"size\":{\"units\":\"screen\",\"value\":8},\"x\":{\"field\":\"x1\"},\"y\":{\"field\":\"x2\"}},\"id\":\"1122\",\"type\":\"Scatter\"},{\"attributes\":{\"fill_color\":{\"value\":\"#1f77b4\"},\"line_color\":{\"value\":\"#1f77b4\"},\"size\":{\"units\":\"screen\",\"value\":8},\"x\":{\"field\":\"x1\"},\"y\":{\"field\":\"x2\"}},\"id\":\"1121\",\"type\":\"Scatter\"},{\"attributes\":{},\"id\":\"1137\",\"type\":\"BasicTickFormatter\"},{\"attributes\":{},\"id\":\"1106\",\"type\":\"BasicTicker\"},{\"attributes\":{\"callback\":null},\"id\":\"1092\",\"type\":\"DataRange1d\"},{\"attributes\":{\"callback\":null,\"data\":{\"names\":[\"\\u0445\\u043e\\u0442\\u0435\\u0442\\u044c\",\"\\u0434\\u0435\\u043d\\u044c\",\"\\u0442\\u0430\\u043a\\u043e\\u0439\",\"\\u0441\\u0435\\u0433\\u043e\\u0434\\u043d\\u044f\",\"\\u043e\\u0447\\u0435\\u043d\\u044c\",\"\\u0431\\u044b\\u0442\\u044c\",\"\\u0433\\u043e\\u0434\",\"\\u0442\\u044b\",\"\\u043e\\u0434\\u0438\\u043d\",\"\\u043f\\u0440\\u043e\\u0441\\u0442\\u043e\",\"\\u043c\\u043e\\u0439\",\"\\u043c\\u043e\\u0447\\u044c\",\"\\u0447\\u0435\\u043b\\u043e\\u0432\\u0435\\u043a\",\"\\u0437\\u043d\\u0430\\u0442\\u044c\",\"\\u0432\\u0435\\u0441\\u044c\",\"\\u043b\\u044e\\u0431\\u0438\\u0442\\u044c\",\"\\u0437\\u0430\\u0432\\u0442\\u0440\\u0430\",\"\\u0432\\u0441\",\"\\u0441\\u0430\\u043c\\u044b\\u0439\",\"\\u0432\\u043e\\u043e\\u0431\\u0449\\u0435\",\"\\u0441\\u0432\\u043e\\u0439\",\"\\u0434\\u0435\\u043b\\u0430\\u0442\\u044c\",\"\\u0445\\u043e\\u0440\\u043e\\u0448\\u0438\\u0439\",\"\\u0441\\u043f\\u0430\\u0441\\u0438\\u0431\\u043e\",\"\\u043d\\u043e\\u0432\\u044b\\u0439\",\"\\u0431\\u043b\\u0438\\u043d\",\"\\u043f\\u043e\\u0447\\u0435\\u043c\\u0443\",\"\\u0441\\u043a\\u0430\\u0437\\u0430\\u0442\\u044c\",\"\\u0434\\u0443\\u043c\\u0430\\u0442\\u044c\",\"\\u0441\\u043c\\u043e\\u0442\\u0440\\u0435\\u0442\\u044c\",\"\\u043a\\u043e\\u0442\\u043e\\u0440\\u044b\\u0439\",\"\\u0432\\u0440\\u0435\\u043c\\u044f\",\"\\u0441\\u043f\\u0430\\u0442\\u044c\",\"\\u0434\\u043e\\u043c\",\"\\u0438\\u0434\\u0442\\u0438\",\"\\u0441\\u0438\\u0434\\u0435\\u0442\\u044c\",\"\\u0434\\u0440\\u0443\\u0433\",\"\\u0443\\u0442\\u0440\\u043e\",\"\\u043f\\u0438\\u0441\\u0430\\u0442\\u044c\",\"\\u0436\\u0438\\u0437\\u043d\\u044c\",\"\\u0441\\u0434\\u0435\\u043b\\u0430\\u0442\\u044c\",\"\\u043d\\u0430\\u0448\",\"\\u0448\\u043a\\u043e\\u043b\\u0430\",\"\\u043d\\u0430\\u0441\\u0442\\u0440\\u043e\\u0435\\u043d\\u0438\\u0435\",\"\\u0433\\u043e\\u0432\\u043e\\u0440\\u0438\\u0442\\u044c\",\"\\u043c\\u0430\\u043c\\u0430\",\"\\u0442\\u043e\\u0442\",\"\\u043a\\u0430\\u043a\\u043e\\u0439\",\"\\u0436\\u0434\\u0430\\u0442\\u044c\",\"\\u0435\\u0449\",\"\\u0431\\u043e\\u043b\\u0435\\u0442\\u044c\",\"\\u043b\\u044e\\u0431\\u0438\\u043c\\u044b\\u0439\",\"\\u043d\\u0430\\u043f\\u0438\\u0441\\u0430\\u0442\\u044c\",\"\\u0442\\u0432\\u043e\\u0439\",\"\\u043a\\u0442\\u043e\",\"\\u0445\\u043e\\u0442\\u0435\\u0442\\u044c\\u0441\\u044f\",\"\\u0440\\u0430\\u0431\\u043e\\u0442\\u0430\",\"\\u043f\\u043e\\u0439\\u0442\\u0438\",\"\\u0432\\u0438\\u0434\\u0435\\u0442\\u044c\",\"\\u043d\\u043e\\u0447\\u044c\",\"\\u043f\\u043e\\u0441\\u043c\\u043e\\u0442\\u0440\\u0435\\u0442\\u044c\",\"\\u043f\\u043e\\u043a\\u0430\",\"\\u043d\\u0438\\u043a\\u0442\\u043e\",\"\\u0445\",\"\\u0434\\u0432\\u0430\",\"\\u043f\\u043e\\u0441\\u043b\\u0435\\u0434\\u043d\\u0438\\u0439\",\"\\u0441\\u0442\\u0430\\u0442\\u044c\",\"\\u0434\\u043e\\u0431\\u0440\\u044b\\u0439\",\"\\u043f\\u043e\\u043d\\u044f\\u0442\\u044c\",\"\\u043c\\u0435\\u0442\\u0440\",\"\\u0434\\u0435\\u043b\\u043e\",\"\\u043a\\u0443\\u043f\\u0438\\u0442\\u044c\",\"\\u043c\\u044b\",\"\\u043f\\u043e\\u043d\\u0438\\u043c\\u0430\\u0442\\u044c\",\"\\u043d\\u0430\\u0439\\u0442\\u0438\",\"\\u043d\\u0435\\u0434\\u0435\\u043b\\u044f\",\"\\u043a\\u0430\\u0436\\u0434\\u044b\\u0439\",\"\\u043d\\u0440\\u0430\\u0432\\u0438\\u0442\\u044c\\u0441\\u044f\",\"\\u0441\\u043a\\u0443\\u0447\\u0430\\u0442\\u044c\",\"\\u0447\\u0430\\u0441\",\"\\u0441\\u043a\\u043e\\u0440\\u043e\",\"\\u043d\\u0443\\u0436\\u043d\\u043e\",\"\\u0434\\u0430\\u0432\\u0430\\u0442\\u044c\",\"\\u0443\\u0440\\u043e\\u043a\",\"\\u0432\\u0447\\u0435\\u0440\\u0430\",\"\\u0437\\u0430\\u0431\\u044b\\u0442\\u044c\",\"\\u0447\\u0438\\u0442\\u0430\\u0442\\u044c\",\"\\u0441\\u043d\\u0435\\u0433\",\"\\u043f\\u043b\\u043e\\u0445\\u043e\",\"\\u0440\\u0430\\u0431\\u043e\\u0442\\u0430\\u0442\\u044c\",\"\\u0444\\u0438\\u043b\\u044c\\u043c\",\"\\u043e\\u0441\\u0442\\u0430\\u0442\\u044c\\u0441\\u044f\",\"\\u0432\\u0435\\u0447\\u0435\\u0440\",\"\\u0445\\u043e\\u0434\\u0438\\u0442\\u044c\",\"\\u043d\\u0430\\u0434\\u0435\\u044f\\u0442\\u044c\\u0441\\u044f\",\"\\u0434\\u043e\\u043c\\u043e\\u0439\",\"\\u0430\\u0445\\u0438\",\"\\u043f\\u0430\\u0440\\u0430\",\"\\u0442\\u0435\\u043b\\u0435\\u0444\\u043e\\u043d\",\"\\u0441\\u043e\\u043d\",\"\\u0436\\u0438\\u0442\\u044c\",\"\\u0436\\u0430\\u043b\\u044c\",\"\\u043d\\u043e\\u0440\\u043c\\u0430\\u043b\\u044c\\u043d\\u044b\\u0439\",\"\\u043d\\u0433\",\"\\u043f\\u0440\\u0430\\u0432\\u0434\\u0430\",\"\\u044d\\u0442\\u043e\\u0442\",\"\\u043d\\u0443\\u0436\\u043d\\u044b\\u0439\",\"\\u0431\\u043b\\u044f\",\"\\u0434\\u0430\\u0442\\u044c\",\"\\u0441\\u0430\\u043c\",\"\\u043b\\u0438\\u0442\\u0440\",\"\\u0440\\u0430\\u0432\\u043d\\u043e\",\"\\u0441\\u043b\\u043e\\u0432\\u043e\",\"\\u0447\\u0438\\u0441\\u043b\\u043e\",\"\\u0430\\u0445\\u0430\\u0445\",\"\\u0432\\u0440\\u043e\\u0434\\u0435\",\"\\u0434\\u0440\\u0443\\u0433\\u043e\\u0439\",\"\\u044f\",\"\\u0440\\u0443\\u043a\\u0430\",\"\\u0443\\u043b\\u0438\\u0446\\u0430\",\"\\u0435\",\"\\u0442\\u0430\\u043a\\u0438\",\"\\u0443\\u0432\\u0438\\u0434\\u0435\\u0442\\u044c\",\"\\u043f\\u043e\\u0440\\u0430\",\"\\u043a\\u0430\\u0436\\u0435\\u0442\\u0441\\u044f\",\"\\u043f\\u0440\\u0438\\u0432\\u0435\\u0442\",\"\\u0444\\u043e\\u0442\\u043a\\u0430\",\"\\u0442\\u0432\\u0438\\u0442\",\"\\u043f\\u043e\\u043c\\u043d\\u0438\\u0442\\u044c\",\"\\u043d\\u0430\\u0447\\u0430\\u0442\\u044c\",\"\\u043a\\u0440\\u0443\\u0442\\u043e\",\"\\u043c\\u0438\\u043d\\u0443\\u0442\\u0430\",\"\\u0440\\u043e\\u0436\\u0434\\u0435\\u043d\\u0438\\u0435\",\"\\u043c\\u0435\\u0441\\u0442\\u043e\",\"\\u043f\\u0430\\u0440\\u0435\\u043d\\u044c\",\"\\u0434\\u043e\\u043b\\u0436\\u043d\\u044b\\u0439\",\"\\u0438\\u0433\\u0440\\u0430\\u0442\\u044c\",\"\\u0441\\u043d\\u043e\\u0432\\u0430\",\"\\u0433\\u043e\\u043b\\u043e\\u0432\\u0430\",\"\\u043d\\u043e\\u0432\\u043e\\u0433\\u043e\\u0434\\u043d\\u0438\\u0439\",\"\\u0431\\u043e\\u043b\\u044c\\u0448\\u043e\\u0439\",\"\\u0434\\u0430\\u0432\\u043d\\u043e\",\"\\u0434\\u0435\\u0432\\u0443\\u0448\\u043a\\u0430\",\"\\u0435\\u0445\\u0430\\u0442\\u044c\",\"\\u0440\\u0435\\u0448\\u0438\\u0442\\u044c\",\"\\u0442\\u043e\\u0447\\u043d\\u043e\",\"\\u043f\\u0440\\u0438\\u0435\\u0445\\u0430\\u0442\\u044c\",\"\\u0432\\u044b\\u0445\\u043e\\u0434\\u043d\\u043e\\u0439\",\"\\u0440\\u0430\\u043d\\u043d\\u0438\\u0439\",\"\\u043a\\u043e\\u043c\\u0430\",\"\\u043f\\u043e\\u0434\\u0430\\u0440\\u043e\\u043a\",\"\\u0437\",\"\\u0432\\u044b\\u0439\\u0442\\u0438\",\"\\u0441\\u0440\\u0430\\u0437\\u0443\",\"\\u0431\\u043e\\u0433\",\"\\u043a\\u043b\\u0430\\u0441\\u0441\",\"\\u043a\\u0441\\u0442\\u0430\\u0442\\u0438\",\"\\u043d\\u043e\\u0432\\u043e\\u0435\",\"\\u0433\\u043b\\u0430\\u0437\",\"\\u0431\\u043e\\u044f\\u0442\\u044c\\u0441\\u044f\",\"\\u0431\",\"\\u043b\\u0430\\u0434\\u043d\\u044b\\u0439\",\"\\u043b\\u0435\\u043d\\u0442\\u0430\",\"\\u043c\\u0430\\u043b\\u0435\\u043d\\u044c\\u043a\\u0438\\u0439\",\"\\u0432\\u043e\\u043f\\u0440\\u043e\\u0441\",\"\\u0447\\u0443\\u0432\\u0441\\u0442\\u0432\\u043e\\u0432\\u0430\\u0442\\u044c\",\"\\u043b\\u044e\\u0431\\u043e\\u0432\\u044c\",\"\\u0434\\u0435\\u043d\\u044c\\u0433\\u0430\",\"\\u0433\\u043e\\u0440\\u043e\\u0434\",\"\\u0432\\u0437\\u044f\\u0442\\u044c\",\"\\u0433\\u043b\\u0430\\u0432\\u043d\\u044b\\u0439\",\"\\u043d\\u0435\\u043d\\u0430\\u0432\\u0438\\u0434\\u0435\\u0442\\u044c\",\"\\u043a\\u043e\\u043d\\u0435\\u0446\",\"\\u0441\\u043a\\u043e\\u043b\\u044c\\u043a\\u043e\",\"\\u043f\\u043e\\u043b\\u043e\\u0432\\u0438\\u043d\\u0430\",\"\\u0437\\u0438\\u043c\\u0430\",\"\\u0441\\u043b\\u0443\\u0448\\u0430\\u0442\\u044c\",\"\\u0431\\u044b\\u0432\\u0430\\u0442\\u044c\",\"\\u043f\\u0440\\u043e\\u0441\\u0442\\u0438\\u0442\\u044c\",\"\\u0441\\u043c\\u043e\\u0447\\u044c\",\"\\u043d\\u0430\\u0432\\u0435\\u0440\\u043d\\u043e\\u0435\",\"\\u0435\\u0434\\u0430\",\"\\u0431\\u043b\\u044f\\u0442\\u044c\",\"\\u043f\\u043e\\u043d\\u0440\\u0430\\u0432\\u0438\\u0442\\u044c\\u0441\\u044f\",\"\\u0441\\u0442\\u043e\\u043b\\u044c\\u043a\\u043e\",\"\\u0441\\u0438\\u043b\\u044c\\u043d\\u043e\",\"\\u043f\\u0440\\u0438\\u0448\\u043b\\u044b\\u0439\",\"\\u043f\\u0430\\u043f\\u0430\",\"\\u0447\\u0435\",\"\\u044d\\u0442\\u043e\",\"\\u043c\\u0435\\u0441\\u044f\\u0446\",\"\\u043c\\u0430\\u043b\\u043e\",\"\\u043f\\u0440\\u044f\\u043c\",\"\\u0432\\u0430\\u0448\",\"\\u043c\\u0438\\u0440\",\"\\u0434\\u0435\\u0432\\u043e\\u0447\\u043a\\u0430\",\"\\u043f\\u0440\\u0438\\u0439\\u0442\\u0438\",\"\\u0430\\u0445\\u0430\\u0445\\u0438\",\"\\u0440\\u0435\\u0431\\u0451\\u043d\\u043e\\u043a\",\"\\u043a\\u0440\\u0443\\u0442\\u043e\\u0439\",\"\\u043c\\u043e\\u043c\\u0435\\u043d\\u0442\",\"\\u0432\\u043a\",\"\\u043d\\u043e\\u0440\\u043c\\u0430\",\"\\u0437\\u043d\\u0430\\u0447\\u0438\\u0442\",\"\\u043a\\u0440\\u0430\\u0441\\u0438\\u0432\\u044b\\u0439\",\"\\u043f\\u043e\\u043b\\u0443\\u0447\\u0438\\u0442\\u044c\\u0441\\u044f\",\"\\u0438\\u0431\\u043e\",\"\\u043d\\u043e\\u0433\\u0430\",\"\\u0440\\u0443\\u0441\\u0441\\u043a\\u0438\\u0439\",\"\\u043f\\u0440\\u043e\\u0441\\u043d\\u0443\\u0442\\u044c\\u0441\\u044f\",\"\\u0438\\u043d\\u0442\\u0435\\u0440\\u0435\\u0441\\u043d\\u043e\",\"\\u043f\\u0438\\u0437\\u0434\\u0435\\u0446\",\"\\u043c\\u0443\\u0437\\u044b\\u043a\\u0430\",\"\\u0436\\u0430\\u043b\\u043a\\u043e\",\"\\u044d\\u043a\\u0437\\u0430\\u043c\\u0435\\u043d\",\"\\u043e\\u0431\\u0438\\u0434\\u043d\\u044b\\u0439\",\"\\u044d\\u0445\",\"\\u0443\\u0441\\u043f\\u0435\\u0442\\u044c\",\"\\u0438\\u0441\\u0442\\u043e\\u0440\\u0438\\u044f\",\"\\u0433\\u0443\\u043b\\u044f\\u0442\\u044c\",\"\\u0443\\u0437\\u043d\\u0430\\u0442\\u044c\",\"\\u0447\\u0443\\u0432\\u0441\\u0442\\u0432\\u043e\",\"\\u0440\\u043e\\u0441\\u0441\\u0438\\u044f\",\"\\u0441\\u0447\\u0430\\u0441\\u0442\\u0438\\u0435\",\"\\u043f\\u0440\\u0438\\u044f\\u0442\\u043d\\u043e\",\"\\u0447\\u0430\\u0441\\u044b\",\"\\u0437\\u0430\\u043a\\u043e\\u043d\\u0447\\u0438\\u0442\\u044c\\u0441\\u044f\",\"\\u0440\\u0435\\u0431\\u044f\\u0442\\u0430\",\"\\u043e\\u0439\",\"\\u043f\\u0440\\u0430\\u0437\\u0434\\u043d\\u0438\\u043a\",\"\\u043f\\u0440\\u0438\\u0439\\u0442\\u0438\\u0441\\u044c\",\"\\u0449\\u0430\\u0441\",\"\\u0441\\u0435\\u0440\\u0438\\u044f\",\"\\u0432\\u0441\\u043f\\u043e\\u043c\\u043d\\u0438\\u0442\\u044c\",\"\\u0443\\u0439\\u0442\\u0438\",\"\\u0443\\u0447\\u0438\\u0442\\u044c\",\"\\u043f\\u043e\\u043b\\u0443\\u0447\\u0438\\u0442\\u044c\",\"\\u043d\\u0435\\u043c\\u043d\\u043e\\u0433\\u043e\",\"\\u0441\\u043a\\u0443\\u0447\\u043d\\u043e\",\"\\u0444\\u043e\\u0442\\u043e\",\"\\u0441\\u0445\\u043e\\u0434\\u0438\\u0442\\u044c\",\"\\u0443\\u0436\\u0430\\u0441\\u043d\\u043e\",\"\\u0434\\u043e\\u043b\\u0433\\u043e\",\"\\u043e\\u0442\\u043b\\u0438\\u0447\\u043d\\u044b\\u0439\",\"\\u043f\\u0440\\u043e\\u0439\\u0442\\u0438\",\"\\u043f\\u0440\\u043e\\u0431\\u043b\\u0435\\u043c\\u0430\",\"\\u043f\\u0435\\u0441\\u043d\\u044f\",\"\\u0438\\u0433\\u0440\\u0430\",\"\\u0443\\u0441\\u0442\\u0430\\u0442\\u044c\",\"\\u043f\\u043e\\u0435\\u0445\\u0430\\u0442\\u044c\",\"\\u0431\\u043e\\u043b\\u044c\",\"\\u043f\\u043b\\u043e\\u0445\\u043e\\u0439\",\"\\u043c\\u0438\\u043b\\u044b\\u0439\",\"\\u043f\\u043e\\u0441\\u0442\\u0430\\u0432\\u0438\\u0442\\u044c\",\"\\u043f\\u043e\\u0434\\u0440\\u0443\\u0433\\u0430\",\"\\u0441\\u0442\\u043e\\u0438\\u0442\\u044c\",\"\\u043a\\u0430\\u043d\\u0438\\u043a\\u0443\\u043b\\u044b\",\"\\u043d\\u0430\\u0447\\u0438\\u043d\\u0430\\u0442\\u044c\",\"\\u0437\\u0430\\u0442\\u043e\",\"\\u043f\\u043e\\u043c\\u043e\\u0447\\u044c\",\"\\u0437\\u0430\\u0431\\u043e\\u043b\\u0435\\u0442\\u044c\",\"\\u0443\\u0447\\u0438\\u0442\\u044c\\u0441\\u044f\",\"\\u043f\\u0438\\u0442\\u044c\",\"\\u0430\\u0433\\u0430\",\"\\u0434\\u043d\\u0451\\u043c\",\"\\u0439\",\"\\u0445\\u043e\\u043b\\u043e\\u0434\\u043d\\u044b\\u0439\",\"\\u0445\\u0432\\u0430\\u0442\\u0430\\u0442\\u044c\",\"\\u0438\\u043c\\u0435\\u043d\\u043d\\u043e\",\"\\u043a\\u043b\\u0430\\u0441\\u0441\\u043d\\u044b\\u0439\",\"\\u0432\\u043c\\u0435\\u0441\\u0442\\u0435\",\"\\u0438\\u043d\\u0442\\u0435\\u0440\\u043d\\u0435\\u0442\",\"\\u043e\\u043d\\u043e\",\"\\u0441\\u043b\\u0438\\u0448\\u043a\\u043e\\u043c\",\"\\u0432\\u0435\\u0440\\u0438\\u0442\\u044c\",\"\\u043f\\u0443\\u0441\\u0442\\u044c\",\"\\u0440\",\"\\u043f\\u043e\\u0433\\u043e\\u0434\\u0430\",\"\\u0438\\u043d\\u0442\\u0435\\u0440\\u0435\\u0441\\u043d\\u044b\\u0439\",\"\\u043c\\u0430\\u0448\\u0438\\u043d\\u0430\",\"\\u0440\\u044f\\u0434\",\"\\u0442\\u0432\\u0438\\u0442\\u0442\\u0435\\u0440\\u0435\\u0442\\u044c\",\"\\u0443\\u043c\\u0435\\u0442\\u044c\",\"\\u043e\\u0444\\u0438\\u0433\\u0435\\u043d\\u043d\\u044b\\u0439\",\"\\u043f\\u0440\\u0435\\u043a\\u0440\\u0430\\u0441\\u043d\\u044b\\u0439\",\"\\u0433\\u0440\\u0443\\u043f\\u043f\\u0430\",\"\\u043f\\u043b\\u0430\\u043a\\u0430\\u0442\\u044c\",\"\\u0441\\u0447\\u0430\\u0441\\u0442\\u043b\\u0438\\u0432\\u044b\\u0439\",\"\\u043e\\u0442\\u043b\\u0438\\u0447\\u043d\\u043e\",\"\\u043f\\u043e\\u0445\\u043e\\u0434\",\"\\u0436\\u0435\\u043b\\u0430\\u043d\\u0438\\u0435\",\"\\u043f\\u044f\\u0442\\u043d\\u0438\\u0446\\u0430\",\"\\u043f\\u043e\\u044d\\u0442\\u043e\\u043c\\u0443\",\"\\u0432\\u0438\\u0434\\u0435\\u043e\",\"\\u043f\\u043e\\u0448\\u043b\\u044b\\u0439\",\"\\u0443\\u043c\\u0435\\u0440\\u0435\\u0442\\u044c\",\"\\u043d\\u0438\\u043a\\u0430\\u043a\",\"\\u0434\\u043e\\u0440\\u043e\\u0433\\u043e\\u0439\",\"\\u043a\",\"\\u0441\\u0434\\u0430\\u0442\\u044c\",\"\\u0440\\u043e\\u0434\\u0438\\u0442\\u0435\\u043b\\u044c\",\"\\u043f\\u043e\\u043b\\u043d\\u044b\\u0439\",\"\\u043f\\u0440\\u0438\\u0445\\u043e\\u0434\\u0438\\u0442\\u044c\",\"\\u043c\\u043e\\u0441\\u043a\\u0432\\u0430\",\"\\u0437\\u043d\\u0430\\u0435\\u0448\\u044c\",\"\\u043d\\u043e\\u0432\\u043e\\u0441\\u0442\\u044c\",\"\\u0432\\u0441\\u0442\\u0430\\u0442\\u044c\",\"\\u0431\\u044b\\u0441\\u0442\\u0440\\u043e\",\"\\u043f\\u043e\\u043d\\u0435\\u0434\\u0435\\u043b\\u044c\\u043d\\u0438\\u043a\",\"\\u0433\\u043e\\u043b\\u043e\\u0441\",\"\\u043f\\u043e\\u0434\\u0443\\u043c\\u0430\\u0442\\u044c\",\"\\u0431\\u0440\\u0430\\u0442\",\"\\u043c\\u044b\\u0441\\u043b\\u044c\",\"\\u0443\\u0442\\u0440\\u043e\\u043c\",\"\\u0443\\u0436\\u0430\\u0441\\u043d\\u044b\\u0439\",\"\\u043c\\u0430\\u0433\\u0430\\u0437\\u0438\\u043d\",\"\\u0442\\u0438\\u043f\",\"\\u0441\\u043e\\u0431\\u0438\\u0440\\u0430\\u0442\\u044c\\u0441\\u044f\",\"\\u043a\\u0430\\u043f\\u0435\\u0446\",\"\\u043d\\u0430\\u0447\\u0430\\u0442\\u044c\\u0441\\u044f\",\"\\u0441\\u0443\\u043a\",\"\\u0435\\u0441\\u0442\\u044c\",\"\\u043f\\u043e\\u0436\\u0430\\u043b\\u0443\\u0439\\u0441\\u0442\\u0430\",\"\\u043d\\u0430\\u0437\\u0430\\u0434\",\"\\u0431\\u0435\\u0441\\u0438\\u0442\\u044c\",\"\\u043d\\u0435\\u0442\\u0443\",\"\\u0433\\u043e\\u0432\\u043e\\u0440\\u044f\\u0442\",\"\\u043e\\u0441\\u043e\\u0431\\u0435\\u043d\\u043d\\u043e\",\"\\u043a\\u043e\\u043d\\u0446\\u0435\\u0440\\u0442\",\"\\u043b\\u0438\\u0446\\u043e\",\"\\u043a\\u043e\\u0442\",\"\\u043a\\u043d\\u0438\\u0433\\u0430\",\"\\u0432\\u044b\\u0445\\u043e\\u0434\\u0438\\u0442\\u044c\",\"\\u0443\\u0434\\u0430\\u0447\\u0430\",\"\\u0442\\u0435\\u043c\\u0430\",\"\\u0447\\u0443\\u0432\\u0430\\u043a\",\"\\u043e\\u0445\",\"\\u0437\\u0430\\u0439\\u0442\\u0438\",\"\\u0434\\u0430\\u043b\\u0451\\u043a\\u0438\\u0439\",\"\\u0432\\u0435\\u0441\\u0435\\u043b\\u043e\",\"\\u0433\\u0440\\u0443\\u0441\\u0442\\u043d\\u043e\",\"\\u043f\\u043e\\u0434\\u0430\\u0440\\u0438\\u0442\\u044c\",\"\\u0441\\u0435\\u0437\\u043e\\u043d\",\"\\u043f\\u043b\\u0430\\u043d\",\"\\u043b\\u0438\\u0448\\u044c\",\"\\u0440\\u0430\\u0437\",\"\\u0432\\u0441\\u0442\\u0430\\u0432\\u0430\\u0442\\u044c\",\"\\u0434\\u0443\\u0448\\u0430\",\"\\u0441\\u0435\\u0440\\u0438\\u0430\\u043b\",\"\\u0446\\u0435\\u043b\\u044b\\u0439\",\"\\u043f\\u044b\\u0442\\u0430\\u0442\\u044c\\u0441\\u044f\",\"\\u043e\\u0431\\u043e\\u0436\\u0430\\u0442\\u044c\",\"\\u0432\\u044b\\u0441\\u043f\\u0430\\u0442\\u044c\\u0441\\u044f\",\"\\u0441\\u0435\\u0439\",\"\\u0441\\u043a\\u043e\\u0440\\u0435\\u0435\",\"\\u0441\\u043b\\u0435\\u0434\\u0443\\u044e\\u0449\\u0438\\u0439\",\"\\u0442\\u0443\\u0434\\u0430\",\"\\u043e\\u043a\\u043d\\u043e\",\"\\u0440\\u0435\\u0430\\u043b\\u044c\\u043d\\u043e\",\"\\u0441\\u0443\\u0431\\u0431\\u043e\\u0442\\u0430\",\"\\u0433\\u043e\\u0442\\u043e\\u0432\\u044b\\u0439\",\"\\u0434\\u0440\",\"\\u043d\\u0435\\u0447\\u0435\\u0433\\u043e\",\"\\u0441\\u0435\\u0440\\u0434\\u0446\\u0435\",\"\\u043f\\u043e\\u043b\\u0443\\u0447\\u0430\\u0442\\u044c\\u0441\\u044f\",\"\\u0438\\u0441\\u043a\\u0430\\u0442\\u044c\",\"\\u0443\\u0436\\u0430\\u0441\",\"\\u0436\\u0435\\u043d\\u0449\\u0438\\u043d\\u0430\",\"\\u043b\\u0435\\u043d\\u044c\",\"\\u0430\\u0430\\u0430\",\"\\u0436\\u043e\\u043f\\u0430\",\"\\u043d\\u0438\\u043a\\u0430\\u043a\\u043e\\u0439\",\"\\u0443\\u0431\\u0438\\u0442\\u044c\",\"\\u0441\\u0442\\u0440\\u0430\\u0448\\u043d\\u043e\",\"\\u043c\\u0430\\u043b\\u044c\\u0447\\u0438\\u043a\",\"\\u043c\\u043e\\u0440\\u043e\\u0437\",\"\\u0437\\u0430\\u0445\\u043e\\u0434\\u0438\\u0442\\u044c\",\"\\u043f\\u043e\\u0437\\u0434\\u0440\\u0430\\u0432\\u043b\\u044f\\u0442\\u044c\",\"\\u0442\\u0432\\u0438\\u0442\\u0442\\u0435\\u0440\",\"\\u0442\\u0432\\u0438\",\"\\u0434\\u0435\\u043a\\u0430\\u0431\\u0440\\u044c\",\"\\u0441\\u0432\\u0435\\u0442\",\"\\u043c\\u043e\\u043b\\u043e\\u0434\\u0435\\u0446\",\"\\u0443\\u0435\\u0445\\u0430\\u0442\\u044c\",\"\\u043d\\u0430\\u0447\\u0430\\u043b\\u043e\",\"\\u0440\\u0430\\u0434\\u0430\",\"\\u0441\\u0435\\u0441\\u0441\\u0438\\u044f\",\"\\u043f\\u0440\\u0438\\u044f\\u0442\\u043d\\u044b\\u0439\",\"\\u0441\\u0438\\u043b\\u0430\",\"\\u043c\\u0443\\u0436\\u0438\\u043a\",\"\\u0437\\u0430\\u0447\\u0451\\u0442\",\"\\u0432\\u0438\\u0434\\u0438\\u043c\\u043e\",\"\\u0432\\u0435\\u0440\\u043d\\u0443\\u0442\\u044c\\u0441\\u044f\",\"\\u0445\\u0443\\u0434\\u043e\\u0439\",\"\\u043e\\u0431\\u0449\\u0430\\u0442\\u044c\\u0441\\u044f\",\"\\u0431\\u043e\\u043b\\u044c\\u043d\\u043e\",\"\\u0430\\u043d\\u0433\\u043b\\u0438\\u0439\\u0441\\u043a\\u0438\\u0439\",\"\\u0445\\u0430\\u0445\",\"\\u043f\\u043e\\u0437\\u0432\\u043e\\u043d\\u0438\\u0442\\u044c\",\"\\u0440\\u0430\\u043d\\u043e\",\"\\u043e\\u0431\\u044b\\u0447\\u043d\\u043e\",\"\\u0441\\u043b\\u044b\\u0448\\u0430\\u0442\\u044c\",\"\\u0443\\u0441\\u043d\\u0443\\u0442\\u044c\",\"\\u0432\\u0440\\u043e\\u043c\\u0430\\u0439\\u0434\\u0430\\u043d\",\"\\u0440\\u0430\\u0441\\u0441\\u043a\\u0430\\u0437\\u0430\\u0442\\u044c\",\"\\u043a\\u043e\\u0440\\u043e\\u0447\\u0435\",\"\\u043a\\u043e\\u043c\\u043f\",\"\\u0445\\u0432\\u0430\\u0442\\u0438\\u0442\\u044c\",\"\\u0441\\u0447\\u0438\\u0442\\u0430\\u0442\\u044c\",\"\\u0443\\u0447\\u0451\\u0431\\u0430\",\"\\u0431\\u0440\\u0430\\u0442\\u044c\",\"\\u0430\\u0436\",\"\\u043f\\u043e\\u0442\\u0435\\u0440\\u044f\\u0442\\u044c\",\"\\u043b\\u0435\\u0442\\u043e\",\"\\u0447\\u0435\\u0440\\u0442\\u0430\",\"\\u043f\\u0435\\u0440\\u0432\\u043e\\u0435\",\"\\u0441\\u043e\\u0441\\u043a\\u0443\\u0447\\u0438\\u0442\\u044c\\u0441\\u044f\",\"\\u0437\\u0432\\u043e\\u043d\\u0438\\u0442\\u044c\",\"\\u0445\\u0434\",\"\\u043e\\u043a\\u0430\\u0437\\u044b\\u0432\\u0430\\u0442\\u044c\\u0441\\u044f\",\"\\u043b\\u0438\\u0431\\u043e\",\"\\u0438\\u043c\\u0435\\u0442\\u044c\",\"\\u043f\\u043e\\u043f\\u0430\\u0441\\u0442\\u044c\",\"\\u0442\\u0443\\u043f\\u043e\\u0439\",\"\\u043f\\u0435\\u0447\\u0430\\u043b\\u044c\",\"\\u043f\\u0440\\u043e\\u0432\\u0435\\u0441\\u0442\\u0438\",\"\\u0437\\u0430\\u043c\\u0435\\u0442\\u0438\\u0442\\u044c\",\"\\u0430\\u0445\\u0430\\u0445\\u0430\\u0445\",\"\\u043f\\u0435\\u0441\\u043d\\u044c\",\"\\u043a\\u0440\\u043e\\u043c\\u0435\",\"\\u0434\\u0435\\u0442\\u0441\\u0442\\u0432\\u043e\",\"\\u043c\\u0443\\u0436\\u0447\\u0438\\u043d\\u0430\",\"\\u0447\\u043e\",\"\\u043b\\u0435\\u0436\\u0430\\u0442\\u044c\",\"\\u0451\\u043b\\u043a\\u0430\",\"\\u043d\\u043e\\u0447\\u044c\\u044e\",\"\\u0441\\u0442\\u0440\\u0430\\u043d\\u0430\",\"\\u0431\\u0430\\u0431\\u0443\\u0448\\u043a\\u0430\",\"\\u043f\\u0440\\u0430\\u0432\\u0438\\u043b\\u044c\\u043d\\u043e\",\"\\u0443\\u0445\\u043e\\u0434\\u0438\\u0442\\u044c\",\"\\u043f\\u0440\\u043e\\u0447\\u0438\\u0442\\u0430\\u0442\\u044c\",\"\\u0436\\u0435\\u043b\\u0430\\u0442\\u044c\",\"\\u043a\\u0443\\u0447\\u0430\",\"\\u043f\\u0440\\u043e\\u0441\\u0438\\u0442\\u044c\",\"\\u0447\\u0435\\u0441\\u0442\\u043d\\u043e\",\"\\u0432\\u0435\\u0447\\u0435\\u0440\\u043e\\u043c\",\"\\u043e\\u043a\\u0430\\u0437\\u0430\\u0442\\u044c\\u0441\\u044f\",\"\\u0431\\u0438\\u043b\\u0435\\u0442\",\"\\u0433\\u043e\\u043b\\u043e\\u0432\",\"\\u0442\\u0440\\u0438\",\"\\u0441\\u043f\\u043e\\u043a\\u043e\\u0439\\u043d\\u044b\\u0439\",\"\\u0442\\u0435\\u043c\\u043f\\u0435\\u0440\\u0430\\u0442\\u0443\\u0440\\u0430\",\"\\u0440\\u0430\\u0434\\u043e\\u0432\\u0430\\u0442\\u044c\",\"\\u0432\\u043e\\u043b\\u043e\\u0441\",\"\\u043e\\u0442\\u0432\\u0435\\u0447\\u0430\\u0442\\u044c\",\"\\u043e\\u0431\\u0449\\u0438\\u0439\",\"\\u043f\\u043e\\u0445\\u043e\\u0436\\u0435\",\"\\u043a\\u043e\\u0444\\u0435\",\"\\u043f\\u043e\\u0441\\u043b\\u0430\\u0442\\u044c\",\"\\u043e\\u0442\\u0432\\u0435\\u0442\\u0438\\u0442\\u044c\",\"\\u0447\\u0430\\u0441\\u0442\\u044c\",\"\\u043d\\u0430\\u0434\\u043e\\u0435\\u0441\\u0442\\u044c\",\"\\u0441\\u0442\\u043e\\u044f\\u0442\\u044c\",\"\\u0434\\u043e\\u0440\\u043e\\u0433\\u0430\",\"\\u043d\\u0430\\u0432\\u0435\\u0440\\u043d\\u043e\",\"\\u043d\\u0435\\u0441\\u043a\\u043e\\u043b\\u044c\\u043a\\u043e\",\"\\u043d\\u0430\\u0440\\u043e\\u0434\",\"\\u0441\\u043a\\u043e\\u0440\\u044b\\u0439\",\"\\u0432\\u043c\\u0435\\u0441\\u0442\\u043e\",\"\\u0441\\u043c\\u044b\\u0441\\u043b\",\"\\u0443\\u0440\\u0430\",\"\\u043f\\u043e\\u0433\\u0443\\u043b\\u044f\\u0442\\u044c\",\"\\u0441\\u0430\\u0439\\u0442\",\"\\u0432\\u0441\\u044f\\u043a\\u0438\\u0439\",\"\\u0441\\u0442\\u0430\\u0440\\u044b\\u0439\",\"\\u0432\\u0430\\u0436\\u043d\\u044b\\u0439\",\"\\u0441\\u043d\\u0430\\u0447\\u0430\\u043b\\u0430\",\"\\u043b\\u043e\\u0445\",\"\\u043a\\u0430\\u0440\\u0442\\u0438\\u043d\\u043a\\u0430\",\"\\u043a\\u0438\\u043d\\u043e\",\"\\u0431\\u044b\\u0441\\u0442\\u0440\\u044b\\u0439\",\"\\u043f\\u0435\\u0442\\u044c\",\"\\u043f\\u0440\\u043e\\u0448\\u043b\\u044b\\u0439\",\"\\u044f\\u043d\\u0432\\u0430\\u0440\\u044c\",\"\\u043f\\u0435\\u0440\\u0435\\u0441\\u0442\\u0430\\u0442\\u044c\",\"\\u0432\\u0438\\u0434\",\"\\u043f\\u0440\\u043e\\u043f\\u0443\\u0441\\u0442\\u0438\\u0442\\u044c\",\"\\u0441\\u0442\\u0430\\u0432\\u0438\\u0442\\u044c\",\"\\u0443\\u043f\\u0430\\u0441\\u0442\\u044c\",\"\\u0447\\u0430\\u044f\\u0442\\u044c\",\"\\u043a\\u0432\\u0430\\u0440\\u0442\\u0438\\u0440\\u0430\",\"\\u0434\\u043e\\u0431\\u0440\\u043e\",\"\\u043b\\u0435\\u0447\\u044c\",\"\\u043e\\u0442\\u0432\\u0435\\u0442\",\"\\u043e\\u0431\\u0435\\u0449\\u0430\\u0442\\u044c\",\"\\u0440\\u0430\\u0434\\u043e\\u0441\\u0442\\u044c\",\"\\u043f\\u043e\\u044f\\u0432\\u0438\\u0442\\u044c\\u0441\\u044f\",\"\\u0441\\u0442\\u043e\\u0440\\u043e\\u043d\\u0430\",\"\\u0433\\u043e\\u0442\\u043e\\u0432\\u0438\\u0442\\u044c\\u0441\\u044f\",\"\\u043f\\u0440\\u0430\\u0432\\u043e\",\"\\u043f\\u043e\\u0441\\u0442\\u043e\\u044f\\u043d\\u043d\\u043e\",\"\\u0440\\u043e\\u0434\\u043d\\u043e\\u0439\",\"\\u0431\\u043e\\u043b\\u044c\\u043d\\u0438\\u0446\\u0430\",\"\\u0437\\u0430\\u043c\\u0435\\u0447\\u0430\\u0442\\u0435\\u043b\\u044c\\u043d\\u044b\\u0439\",\"\\u043d\\u0430\\u0441\\u0442\\u043e\\u044f\\u0449\\u0438\\u0439\",\"\\u0433\\u043e\\u0432\\u043d\\u043e\",\"\\u0442\\u0430\\u043d\\u0435\\u0446\",\"\\u043f\\u043e\\u043a\\u0430\\u0437\\u0430\\u0442\\u044c\",\"\\u043d\\u0430\\u0441\\u0442\\u044f\",\"\\u0436\\u0438\\u0432\\u043e\\u0439\",\"\\u043f\\u0440\\u0438\\u0434\\u0443\\u043c\\u0430\\u0442\\u044c\",\"\\u0431\\u0435\\u0434\\u043d\\u044b\\u0439\",\"\\u0441\\u0435\\u0441\\u0442\\u0440\\u0430\",\"\\u0435\\u0434\\u0438\\u043d\\u0441\\u0442\\u0432\\u0435\\u043d\\u043d\\u044b\\u0439\",\"\\u0441\\u0442\\u0440\\u0430\\u043d\\u0438\\u0446\\u0430\",\"\\u0433\\u043e\",\"\\u043f\\u043b\\u0430\\u0442\\u0430\",\"\\u0441\\u043b\\u0443\\u0447\\u0430\\u0439\",\"\\u043a\\u0430\\u0442\\u043e\\u043a\",\"\\u0441\\u043f\\u0430\\u0441\\u0442\\u044c\",\"\\u043f\\u043e\\u0433\\u043e\\u0432\\u043e\\u0440\\u0438\\u0442\\u044c\",\"\\u043e\\u043a\",\"\\u0430\\u0432\\u0442\\u043e\\u0431\\u0443\\u0441\",\"\\u0437\\u043d\\u0430\\u043a\\u043e\\u043c\\u044b\\u0439\",\"\\u043d\\u043e\\u043c\\u0435\\u0440\",\"\\u043d\\u0435\\u043a\\u043e\\u0442\\u043e\\u0440\\u044b\\u0439\",\"\\u0441\\u0443\\u043f\\u0435\\u0440\",\"\\u0441\\u043e\\u0431\\u0430\\u043a\\u0430\",\"\\u0441\\u043f\\u0440\\u043e\\u0441\\u0438\\u0442\\u044c\",\"\\u043c\\u0435\\u0447\\u0442\\u0430\",\"\\u043e\\u0449\\u0443\\u0449\\u0435\\u043d\\u0438\\u0435\",\"\\u0437\\u0430\\u0431\\u0440\\u0430\\u0442\\u044c\",\"\\u0437\\u0430\\u043d\\u0438\\u043c\\u0430\\u0442\\u044c\\u0441\\u044f\",\"\\u043e\\u0433\\u0440\\u043e\\u043c\\u043d\\u044b\\u0439\",\"\\u043e\\u043d\\u0438\",\"\\u043f\\u043e\\u0445\\u043e\\u0436\\u0438\\u0439\",\"\\u0445\\u0438\\u043c\\u0438\\u044f\",\"\\u043a\\u043e\\u043c\\u043d\\u0430\\u0442\\u0430\",\"\\u043c\\u043e\",\"\\u0441\\u0435\\u0431\\u044f\",\"\\u0434\\u0430\\u0430\",\"\\u0441\\u043d\\u0438\\u0442\\u044c\\u0441\\u044f\",\"\\u0443\\u043c\",\"\\u043e\\u0441\\u0442\\u0430\\u043b\\u044c\\u043d\\u043e\\u0439\",\"\\u0431\\u0435\\u0433\\u0430\\u0442\\u044c\",\"\\u043f\\u0438\\u0441\\u044c\\u043c\\u043e\",\"\\u0441\\u043c\\u0435\\u0448\\u043d\\u043e\",\"\\u0440\\u0430\\u0437\\u043d\\u044b\\u0439\",\"\\u0433\\u043e\\u0442\\u043e\\u0432\\u0438\\u0442\\u044c\",\"\\u043a\\u0438\\u043d\\u0443\\u0442\\u044c\",\"\\u043a\\u0443\\u0440\\u0441\",\"\\u0434\\u0435\\u0439\\u0441\\u0442\\u0432\\u0438\\u0442\\u0435\\u043b\\u044c\\u043d\\u043e\",\"\\u0437\\u0432\\u0430\\u0442\\u044c\",\"\\u0441\\u0442\\u0440\\u0430\\u0448\\u043d\\u044b\\u0439\",\"\\u043f\\u0435\\u0447\\u0430\\u043b\\u044c\\u043d\\u043e\",\"\\u0430\\u0430\\u0430\\u0430\",\"\\u0441\\u043b\\u0435\\u0437\\u0430\",\"\\u0447\\u0430\\u0441\\u0442\\u043e\",\"\\u043f\\u044f\\u0442\\u044c\",\"\\u0432\\u0441\\u043f\\u043e\\u043c\\u0438\\u043d\\u0430\\u0442\\u044c\",\"\\u0438\\u043c\\u044f\",\"\\u0441\\u043e\\u043e\\u0431\\u0449\\u0435\\u043d\\u0438\\u0435\",\"\\u043f\\u043e\\u043f\\u0440\\u043e\\u0431\\u043e\\u0432\\u0430\\u0442\\u044c\",\"\\u043f\\u0440\\u0435\\u0434\\u0441\\u0442\\u0430\\u0432\\u043b\\u044f\\u0442\\u044c\",\"\\u043d\\u0430\\u0447\\u0438\\u043d\\u0430\\u0442\\u044c\\u0441\\u044f\",\"\\u0441\\u0442\\u0440\\u0430\\u043d\\u043d\\u044b\\u0439\",\"\\u0441\\u043b\\u0430\\u0434\\u043a\\u043e\\u0435\",\"\\u0436\\u0435\\u043d\\u0430\",\"\\u0438\\u0434\\u0438\\u043e\\u0442\",\"\\u043f\\u043e\\u043a\\u0443\\u043f\\u0430\\u0442\\u044c\",\"\\u0438\\u0441\\u043f\\u043e\\u0440\\u0442\\u0438\\u0442\\u044c\",\"\\u0441\\u0442\\u0440\\u0430\\u043d\\u043d\\u043e\",\"\\u0434\\u043e\\u0436\\u0434\\u044c\",\"\\u0448\\u043e\\u043a\",\"\\u043b\\u043e\\u043b\\u0430\",\"\\u043f\\u0440\\u043e\\u0438\\u0441\\u0445\\u043e\\u0434\\u0438\\u0442\\u044c\",\"\\u0432\\u0435\\u0441\\u0451\\u043b\\u044b\\u0439\",\"\\u0440\\u0430\\u0431\\u043e\\u0447\\u0438\\u0439\",\"\\u0441\\u0435\\u043c\\u044c\\u044f\",\"\\u0433\\u043e\\u0441\\u0442\\u044c\",\"\\u0431\\u0435\\u0437\\u0443\\u043c\\u043d\\u043e\",\"\\u0432\\u0441\\u0442\\u0440\\u0435\\u0442\\u0438\\u0442\\u044c\",\"\\u043d\\u043e\\u0441\",\"\\u043e\\u0442\\u043a\\u0440\\u044b\\u0442\\u044c\",\"\\u043a\\u0443\\u0448\\u0430\\u0442\\u044c\",\"\\u0441\\u0442\\u0430\\u043d\\u043e\\u0432\\u0438\\u0442\\u044c\\u0441\\u044f\",\"\\u043e\\u0431\\u0440\\u0430\\u0442\\u043d\\u043e\",\"\\u0442\\u0440\\u0435\\u043d\\u0438\\u0440\\u043e\\u0432\\u043a\\u0430\",\"\\u043f\\u043e\\u043d\\u044f\\u0442\\u043d\\u043e\",\"\\u043f\\u0440\\u0438\\u0441\\u043b\\u0430\\u0442\\u044c\",\"\\u043e\\u0431\\u044f\\u0437\\u0430\\u0442\\u0435\\u043b\\u044c\\u043d\\u043e\",\"\\u0432\\u0435\\u0440\\u043d\\u0443\\u0442\\u044c\",\"\\u0444\\u0438\\u0433\\u043d\\u044f\",\"\\u043e\\u0434\\u043d\\u043e\\u043a\\u043b\\u0430\\u0441\\u0441\\u043d\\u0438\\u043a\",\"\\u0432\\u0435\\u0449\\u0438\\u0439\",\"\\u0441\\u0430\\u0448\\u0430\",\"\\u0434\\u0443\\u0440\\u0430\",\"\\u043f\\u0440\\u043e\\u0441\\u0442\\u043e\\u0439\",\"\\u0432\\u0430\\u0449\\u0438\\u0439\",\"\\u0444\\u0438\\u0437\\u0438\\u043a\\u0430\",\"\\u0438\\u0442\\u043e\\u0433\",\"\\u0433\\u043e\\u0440\\u043b\\u043e\",\"\\u0432\\u0441\\u0442\\u0440\\u0435\\u0447\\u0430\",\"\\u043c\\u0443\\u0436\",\"\\u0447\\u0451\\u0440\\u043d\\u044b\\u0439\",\"\\u0437\\u0440\\u044f\",\"\\u0443\\u0435\\u0437\\u0436\\u0430\\u0442\\u044c\",\"\\u043e\\u0441\\u0442\\u0430\\u0432\\u0430\\u0442\\u044c\\u0441\\u044f\",\"\\u0444\\u043e\\u0442\\u043e\\u0433\\u0440\\u0430\\u0444\\u0438\\u044f\",\"\\u0432\\u0435\\u0437\\u0434\\u0435\",\"\\u043c\\u0430\\u0439\\u0434\\u0430\\u043d\",\"\\u044f\\u0437\\u044b\\u043a\",\"\\u043e\\u043e\\u043e\",\"\\u0441\\u0434\\u0430\\u0432\\u0430\\u0442\\u044c\",\"\\u0432\\u0441\\u0442\\u0440\\u0435\\u0442\\u0438\\u0442\\u044c\\u0441\\u044f\",\"\\u043c\\u043e\\u0437\\u0433\",\"\\u043a\\u0440\\u043e\\u0432\\u0430\\u0442\\u044c\",\"\\u043a\\u043e\\u043d\\u0442\\u0440\\u043e\\u043b\\u044c\\u043d\\u044b\\u0439\",\"\\u0440\\u0435\\u0442\\u0432\\u0438\\u0442\",\"\\u043b\\u044e\\u0431\\u043e\\u0439\",\"\\u0441\\u043e\\u0441\\u0442\\u043e\\u044f\\u043d\\u0438\\u0435\",\"\\u043c\\u0438\\u043b\\u043e\",\"\\u0441\\u043e\\u0436\\u0430\\u043b\\u0435\\u043d\\u0438\\u0435\",\"\\u0434\\u043e\\u0441\\u0442\\u0430\\u0442\\u044c\",\"\\u0443\\u043a\\u0440\\u0430\\u0438\\u043d\\u0430\",\"\\u0441\\u043b\\u043e\\u0436\\u043d\\u043e\",\"\\u0436\\u0440\\u0430\\u0442\\u044c\",\"\\u0440\\u0430\\u0437\\u0433\\u043e\\u0432\\u0430\\u0440\\u0438\\u0432\\u0430\\u0442\\u044c\",\"\\u043f\\u043e\\u043c\\u043e\\u0449\\u044c\",\"\\u043f\\u043e\\u043a\\u0430\\u0437\\u044b\\u0432\\u0430\\u0442\\u044c\",\"\\u0432\\u044b\\u0437\\u0434\\u043e\\u0440\\u0430\\u0432\\u043b\\u0438\\u0432\\u0430\\u0442\\u044c\",\"\\u043f\\u0440\\u044f\\u043c\\u043e\",\"\\u0432\\u043e\\u0441\\u043a\\u0440\\u0435\\u0441\\u0435\\u043d\\u0438\\u0435\",\"\\u043e\\u0441\\u0442\\u0430\\u0432\\u0438\\u0442\\u044c\",\"\\u0441\\u043b\\u0443\\u0447\\u0438\\u0442\\u044c\\u0441\\u044f\",\"\\u043f\\u0440\\u043e\\u0445\\u043e\\u0434\\u0438\\u0442\\u044c\",\"\\u0431\\u043b\",\"\\u0443\\u043d\\u0438\\u0432\\u0435\\u0440\",\"\\u0440\\u0443\\u0431\\u043b\\u044c\",\"\\u0441\\u043f\\u0440\\u0430\\u0448\\u0438\\u0432\\u0430\\u0442\\u044c\",\"\\u043d\\u0430\\u0445\\u0443\\u0439\",\"\\u0435\\u0437\\u0434\\u0438\\u0442\\u044c\",\"\\u0440\\u0430\\u0434\",\"\\u043f\\u043e\\u0432\\u043e\\u0434\",\"\\u0430\\u043b\\u0433\\u0435\\u0431\\u0440\\u0430\",\"\\u0432\\u043a\\u0443\\u0441\\u043d\\u044b\\u0439\",\"\\u043f\\u0440\\u043e\\u0431\\u043a\\u0430\",\"\\u0438\\u0434\\u0435\\u044f\",\"\\u043a\\u0440\\u0430\\u0441\\u043d\\u044b\\u0439\",\"\\u043f\\u043e\\u043c\\u043e\\u0433\\u0430\\u0442\\u044c\",\"\\u0442\\u0441\\u044f\",\"\\u0441\\u043c\\u0435\\u044f\\u0442\\u044c\\u0441\\u044f\",\"\\u043d\\u0430\\u0437\\u044b\\u0432\\u0430\\u0442\\u044c\",\"\\u043e\\u0442\\u0434\\u0430\\u0442\\u044c\",\"\\u0430\\u0445\",\"\\u0448\\u0438\\u043a\\u0430\\u0440\\u043d\\u044b\\u0439\",\"\\u0432\\u0438\\u0434\\u043d\\u043e\",\"\\u043f\\u0440\\u0438\\u043a\\u043e\\u043b\\u044c\\u043d\\u044b\\u0439\",\"\\u043a\\u043b\\u0430\\u0441\\u0441\\u043d\\u043e\",\"\\u043f\\u043e\\u0437\\u0434\\u043d\\u043e\",\"\\u0443\\u0434\\u0430\\u043b\\u0438\\u0442\\u044c\",\"\\u0433\\u043e\\u0441\\u043f\\u043e\\u0434\\u044c\",\"\\u0447\\u0442\\u043e\",\"\\u0445\\u0443\\u0439\",\"\\u0434\\u0430\\u0430\\u0430\",\"\\u0441\\u043a\\u0438\\u043d\\u0443\\u0442\\u044c\",\"\\u043f\\u043e\\u0437\\u0434\\u0440\\u0430\\u0432\\u0438\\u0442\\u044c\",\"\\u0448\\u043a\",\"\\u043d\\u0430\\u0443\\u0448\\u043d\\u0438\\u043a\",\"\\u0432\\u0435\\u0437\\u0442\\u0438\",\"\\u043f\\u0430\\u043b\\u0435\\u0446\",\"\\u043f\\u0440\\u043e\\u0441\\u043f\\u0430\\u0442\\u044c\",\"\\u043f\\u0440\\u043e\\u0442\\u0438\\u0432\",\"\\u0434\\u0430\\u043b\\u0435\\u043a\\u043e\",\"\\u0441\\u044a\\u0435\\u0441\\u0442\\u044c\",\"\\u043f\\u0440\\u043e\\u0448\\u043b\\u043e\\u0435\",\"\\u0441\\u0442\\u043e\\u043b\",\"\\u0441\\u0442\\u044b\\u0434\\u043d\\u043e\",\"\\u043e\\u0442\\u043f\\u0440\\u0430\\u0432\\u0438\\u0442\\u044c\",\"\\u043f\\u0440\\u0438\\u0435\\u0437\\u0436\\u0430\\u0442\\u044c\",\"\\u043d\\u0430\\u0441\\u0442\\u043e\\u043b\\u044c\\u043a\\u043e\",\"\\u0441\\u0435\\u0433\\u043e\\u0434\\u043d\\u044f\\u0448\\u043d\\u0438\\u0439\",\"\\u0440\\u0430\\u0434\\u0438\",\"\\u043f\\u043e\\u0441\\u0442\",\"\\u043f\\u043b\\u0430\\u0442\\u044c\\u0435\",\"\\u0432\\u043e\\u0437\\u043c\\u043e\\u0436\\u043d\\u043e\",\"\\u0441\\u0438\\u043b\\u044c\\u043d\\u044b\\u0439\",\"\\u0447\\u0438\\u0442\\u0430\\u0442\\u0435\\u043b\\u044c\",\"\\u0431\\u0430\\u0431\\u0430\",\"\\u043a\\u043e\\u0439\",\"\\u0440\\u0430\\u0434\\u043e\\u0432\\u0430\\u0442\\u044c\\u0441\\u044f\",\"\\u043e\\u0446\\u0435\\u043d\\u043a\\u0430\",\"\\u043c\\u0435\\u0442\\u0440\\u043e\",\"\\u043d\\u0438\\u043a\\u0443\\u0434\\u0430\",\"\\u0441\\u0442\\u0430\\u0440\\u043e\\u0435\",\"\\u043d\\u0430\\u0437\\u044b\\u0432\\u0430\\u0442\\u044c\\u0441\\u044f\",\"\\u0442\\u043e\\u043a\",\"\\u043b\\u043e\\u0436\\u0438\\u0442\\u044c\\u0441\\u044f\",\"\\u043e\\u0447\",\"\\u043a\\u0430\\u0442\\u044f\",\"\\u043d\\u0435\\u0434\\u0430\\u0432\\u043d\\u043e\",\"\\u0432\\u043e\\u0434\\u0430\",\"\\u0432\\u044b\\u0433\\u043b\\u044f\\u0434\\u0435\\u0442\\u044c\",\"\\u0443\\u0447\\u0438\\u0442\\u0435\\u043b\\u044c\",\"\\u043f\\u0435\\u0440\\u0435\\u0436\\u0438\\u0432\\u0430\\u0442\\u044c\",\"\\u0441\\u043b\\u043e\\u043c\\u0430\\u0442\\u044c\",\"\\u0432\\u0435\\u0441\\u0442\\u0438\",\"\\u043d\\u0435\\u043c\\u043e\\u0439\",\"\\u0432\\u043e\\u043a\\u0440\\u0443\\u0433\",\"\\u043f\\u0438\\u0442\\u0435\\u0440\",\"\\u043c\\u044b\\u0442\\u044c\",\"\\u043e\\u0447\\u0435\\u0440\\u0435\\u0434\\u043d\\u043e\\u0439\",\"\\u0442\\u0430\\u043d\\u0446\\u0435\\u0432\\u0430\\u0442\\u044c\",\"\\u0432\\u044b\\u043f\\u0438\\u0442\\u044c\",\"\\u0432\\u044b\",\"\\u0442\\u0435\\u043f\\u043b\\u043e\",\"\\u043f\\u0443\\u0442\\u0438\\u043d\",\"\\u043e\\u0448\\u0438\\u0431\\u043a\\u0430\",\"\\u0446\\u0432\\u0435\\u0442\\u0430\",\"\\u043a\\u0440\\u0430\\u0441\\u0438\\u0432\\u043e\",\"\\u043f\\u043e\\u0434\\u043d\\u044f\\u0442\\u044c\",\"\\u043e\\u0442\\u043d\\u043e\\u0448\\u0435\\u043d\\u0438\\u0435\",\"\\u043f\\u043e\\u043f\\u0440\\u043e\\u0441\\u0438\\u0442\\u044c\",\"\\u0440\\u0430\\u0441\\u0441\\u043a\\u0430\\u0437\\u044b\\u0432\\u0430\\u0442\\u044c\",\"\\u0447\\u0443\\u0434\\u043e\",\"\\u043e\\u043e\",\"\\u043c\\u0435\\u0447\\u0442\\u0430\\u0442\\u044c\",\"\\u0434\\u0435\\u0434\",\"\\u043d\\u0430\\u043f\\u0440\\u0438\\u043c\\u0435\\u0440\",\"\\u0432\\u043e\\u043b\\u0433\\u043e\\u0433\\u0440\\u0430\\u0434\",\"\\u0434\\u043e\\u0436\\u0434\\u0430\\u0442\\u044c\\u0441\\u044f\",\"\\u0441\\u043e\\u0441\\u0435\\u0434\",\"\\u0448\\u0443\\u0442\\u043a\\u0430\",\"\\u0432\\u0447\\u0435\\u0440\\u0430\\u0448\\u043d\\u0438\\u0439\",\"\\u0434\\u043d\",\"\\u043f\\u0440\\u043e\\u0441\\u044b\\u043f\\u0430\\u0442\\u044c\\u0441\\u044f\",\"\\u043f\\u0430\\u0446\\u0430\\u043d\",\"\\u0444\\u0443\",\"\\u043e\\u0436\\u0438\\u0434\\u0430\\u0442\\u044c\",\"\\u0440\\u0438\\u0441\\u043e\\u0432\\u0430\\u0442\\u044c\",\"\\u0437\\u043b\\u043e\\u0439\",\"\\u0437\\u0430\\u0431\\u044b\\u0432\\u0430\\u0442\\u044c\",\"\\u0443\\u0432\\u044b\",\"\\u043f\\u043f\\u0446\",\"\\u0431\\u0440\\u043e\\u0441\\u0438\\u0442\\u044c\",\"\\u043f\\u043e\\u0432\\u0435\\u0437\\u0442\\u0438\",\"\\u0436\\u0435\\u0441\\u0442\\u044c\",\"\\u043a\\u0438\\u0435\\u0432\",\"\\u0442\\u044f\\u0436\\u0435\\u043b\\u043e\",\"\\u043a\\u043e\\u043d\\u0442\\u0430\\u043a\\u0442\",\"\\u0442\\u0451\\u043f\\u043b\\u044b\\u0439\",\"\\u0440\\u0436\\u0430\\u0442\\u044c\",\"\\u043f\\u043e\\u0435\\u0441\\u0442\\u044c\",\"\\u0432\\u043a\\u043b\\u044e\\u0447\\u0438\\u0442\\u044c\",\"\\u0434\\u0443\\u0448\\u0438\\u0442\\u044c\",\"\\u043a\\u0430\\u0442\\u0430\\u0442\\u044c\\u0441\\u044f\",\"\\u0442\\u0438\",\"\\u0441\\u043e\\u0433\\u043b\\u0430\\u0441\\u043d\\u044b\\u0439\",\"\\u0440\\u0430\\u0437\\u0433\\u043e\\u0432\\u043e\\u0440\",\"\\u043e\\u043b\\u0438\\u043c\\u043f\\u0438\\u0430\\u0434\\u0430\",\"\\u0441\\u043e\\u0431\\u0440\\u0430\\u0442\\u044c\\u0441\\u044f\",\"\\u043a\\u043e\\u0448\\u043a\\u0430\",\"\\u043c\\u0430\\u043b\\u0435\\u043d\\u044c\\u043a\\u0430\\u044f\",\"\\u0441\\u043d\\u0435\\u0436\\u043e\\u043a\",\"\\u0443\\u043b\\u044b\\u0431\\u0430\\u0442\\u044c\\u0441\\u044f\",\"\\u0448\\u0430\\u043f\\u043a\\u0430\",\"\\u043e\\u0442\\u0434\\u044b\\u0445\\u0430\\u0442\\u044c\",\"\\u0443\\u043c\\u043d\\u044b\\u0439\",\"\\u0432\\u0430\\u0440\\u0438\\u0430\\u043d\\u0442\",\"\\u043a\\u043e\\u043c\\u043f\\u0430\\u043d\\u0438\\u044f\",\"\\u043f\\u0440\\u043e\\u043f\\u0430\\u0441\\u0442\\u044c\",\"\\u0441\\u0438\\u0442\\u0443\\u0430\\u0446\\u0438\\u044f\",\"\\u0432\\u044b\\u0443\\u0447\\u0438\\u0442\\u044c\",\"\\u0430\\u0445\\u0430\\u0445\\u0430\\u0445\\u0438\",\"\\u0445\\u0430\",\"\\u0438\\u0437\\u0432\\u0438\\u043d\\u0438\\u0442\\u044c\",\"\\u043f\\u0440\\u0438\\u0441\\u043d\\u0438\\u0442\\u044c\\u0441\\u044f\",\"\\u043d\\u0430\\u0437\\u0432\\u0430\\u0442\\u044c\",\"\\u0445\\u0440\\u0435\\u043d\",\"\\u043e\\u0442\\u043a\\u0443\\u0434\\u0430\",\"\\u0440\\u0435\\u043a\\u043b\\u0430\\u043c\\u0430\",\"\\u0445\\u0443\\u0439\\u043d\\u044f\",\"\\u0434\\u0435\\u0440\\u0436\\u0430\\u0442\\u044c\",\"\\u043f\\u0437\\u0434\\u0446\\u0430\",\"\\u0433\\u0440\\u0443\\u0441\\u0442\\u043d\\u044b\\u0439\",\"\\u0432\\u0440\\u0430\\u0447\",\"\\u043c\\u0438\\u043d\\u044c\",\"\\u043f\\u043e\\u0441\\u043b\\u0443\\u0448\\u0430\\u0442\\u044c\",\"\\u043a\\u0440\\u043e\\u0432\\u044c\",\"\\u043d\\u0435\\u0443\\u0436\\u0435\\u043b\\u0438\",\"\\u0436\\u0443\\u0439\\u043a\",\"\\u0437\\u0430\\u0441\\u0442\\u0430\\u0432\\u0438\\u0442\\u044c\",\"\\u0432\\u0435\\u0447\\u043d\\u043e\",\"\\u043f\\u043b\\u0430\\u0447\",\"\\u0441\\u0442\\u0430\\u0442\\u0443\\u0441\",\"\\u0430\\u0439\\u0444\\u043e\\u043d\",\"\\u0444\\u0443\\u0442\\u0431\\u043e\\u043b\",\"\\u0441\\u043f\\u0438\\u0441\\u043e\\u043a\",\"\\u043f\\u0430\\u043c\\u044f\\u0442\\u044c\",\"\\u0443\\u043c\\u0438\\u0440\\u0430\\u0442\\u044c\",\"\\u0441\\u044e\\u0434\\u0430\",\"\\u043f\\u043e\\u0441\\u043f\\u0430\\u0442\\u044c\",\"\\u0444\\u0440\\u0430\\u0437\\u0430\",\"\\u0441\\u0435\\u0442\\u044c\",\"\\u0448\\u043e\",\"\\u0437\\u0430\\u0432\\u0438\\u0434\\u043e\\u0432\\u0430\\u0442\\u044c\",\"\\u043d\\u044c\",\"\\u0443\\u0445\\u043e\",\"\\u0430\\u043b\\u044c\\u0431\\u043e\\u043c\",\"\\u0443\\u043b\\u044b\\u0431\\u043a\\u0430\",\"\\u0431\\u043e\\u043b\\u044c\\u043d\\u043e\\u0439\",\"\\u043a\\u0440\\u0430\\u0441\\u043e\\u0442\\u0430\",\"\\u0432\\u0438\\u043d\\u043e\\u0432\\u0430\\u0442\\u044b\\u0439\",\"\\u043f\\u0438\\u0432\\u043e\",\"\\u0441\\u0442\\u0430\\u0440\\u0430\\u0442\\u044c\\u0441\\u044f\",\"\\u0441\\u0443\\u0442\\u043a\\u0438\",\"\\u0441\\u0443\\u0434\\u0438\\u0442\\u044c\",\"\\u0437\\u0438\\u043c\\u043d\\u0438\\u0439\",\"\\u0437\\u0430\\u0433\\u0430\\u0434\\u0430\\u0442\\u044c\",\"\\u0430\\u0430\\u0430\\u0430\\u0430\",\"\\u043f\\u0440\\u0435\\u043a\\u0440\\u0430\\u0441\\u043d\\u043e\",\"\\u043f\\u0440\\u0438\\u043d\\u0435\\u0441\\u0442\\u0438\",\"\\u0448\\u0442\\u0443\\u043a\\u0430\",\"\\u043a\\u043e\\u043c\\u0430\\u043d\\u0434\\u0430\",\"\\u0433\\u0435\\u043e\\u043c\\u0435\\u0442\\u0440\\u0438\\u044f\",\"\\u043f\\u043e\\u0447\\u0438\\u0442\\u0430\\u0442\\u044c\",\"\\u0441\\u043b\\u043e\\u0436\\u043d\\u044b\\u0439\",\"\\u0449\\u0430\",\"\\u043c\\u043d\\u043e\\u0433\\u0438\\u0439\",\"\\u043f\\u043e\\u0438\\u0433\\u0440\\u0430\\u0442\\u044c\",\"\\u043c\\u0430\\u0442\\u044c\",\"\\u0441\\u0441\\u044b\\u043b\\u043a\\u0430\",\"\\u043b\\u0451\\u0433\\u043a\\u0438\\u0439\",\"\\u0437\\u0431\\u0441\",\"\\u0446\\u0435\\u043d\\u0442\\u0440\",\"\\u0437\\u043d\\u0430\\u0435\\u0442\\u0435\",\"\\u0445\\u0440\\u0435\\u043d\\u043e\\u0432\\u044b\\u0439\",\"\\u043f\\u043e\\u0437\\u0438\\u0442\\u0438\\u0432\",\"\\u0442\\u0435\\u043b\\u043e\",\"\\u0437\\u0430\\u043a\\u0440\\u044b\\u0442\\u044c\",\"\\u043e\\u0433\\u043e\",\"\\u0434\\u043e\\u0431\\u0430\\u0432\\u0438\\u0442\\u044c\",\"\\u043e\\u0447\\u0435\\u0440\\u0435\\u0434\\u044c\",\"\\u0438\\u043d\\u0430\\u0447\\u0435\",\"\\u043a\\u043b\\u0443\\u0431\",\"\\u0444\\u0438\\u0433\\u0430\",\"\\u0434\\u0430\\u0448\\u0430\",\"\\u0437\\u0434\\u043e\\u0440\\u043e\\u0432\\u043e\",\"\\u043f\\u043e\\u0434\\u0440\\u044f\\u0434\",\"\\u043a\\u043e\\u043d\\u0447\\u0438\\u0442\\u044c\\u0441\\u044f\",\"\\u0436\\u0438\\u0432\\u043e\\u0442\",\"\\u043a\\u0443\\u0440\\u0438\\u0442\\u044c\",\"\\u0432\\u043f\\u0435\\u0440\\u0432\\u044b\\u0435\",\"\\u043e\\u0431\\u0430\",\"\\u043c\\u0435\\u043d\\u0430\",\"\\u043f\\u043e\\u0441\\u0438\\u0434\\u0435\\u0442\\u044c\",\"\\u0440\\u0442\",\"\\u0434\\u0435\\u0440\\u0436\\u0430\\u0442\\u044c\\u0441\\u044f\",\"\\u0437\\u0434\\u043e\\u0440\\u043e\\u0432\\u044c\\u0435\",\"\\u0441\\u043b\\u0443\\u0447\\u0430\\u0439\\u043d\\u043e\",\"\\u043f\\u0440\\u0438\\u0432\\u044b\\u043a\\u043d\\u0443\\u0442\\u044c\",\"\\u043b\\u0435\\u0442\\u043e\\u043c\",\"\\u0440\\u0435\\u0448\\u0430\\u0442\\u044c\",\"\\u0431\\u0435\\u043b\\u044b\\u0439\",\"\\u0441\\u0432\\u043e\\u0431\\u043e\\u0434\\u043d\\u044b\\u0439\",\"\\u043e\\u0431\\u044b\\u0447\\u043d\\u044b\\u0439\",\"\\u0445\\u0437\",\"\\u0441\\u0440\\u043e\\u0447\\u043d\\u043e\",\"\\u0448\\u0435\\u0440\\u043b\\u043e\\u043a\",\"\\u0432\\u044b\\u0431\\u043e\\u0440\",\"\\u0442\\u043e\\u0436\",\"\\u0431\\u043b\\u0438\\u0437\\u043a\\u0438\\u0439\",\"\\u0437\\u0430\\u0445\\u043e\\u0442\\u0435\\u0442\\u044c\",\"\\u0431\\u0435\\u0434\\u0430\",\"\\u044d\\u043c\\u043e\\u0446\\u0438\\u044f\",\"\\u0447\\u0435\\u0442\\u0432\\u0435\\u0440\\u0433\",\"\\u0441\\u043e\\u043b\\u043d\\u0446\\u0435\",\"\\u043c\\u043e\\u043b\\u043e\\u0434\\u0451\\u0436\\u043a\\u0430\",\"\\u0437\\u0430\\u043a\\u043e\\u043d\\u0447\\u0438\\u0442\\u044c\",\"\\u0440\\u0435\\u0437\\u0443\\u043b\\u044c\\u0442\\u0430\\u0442\",\"\\u0442\\u0443\\u043f\\u043e\",\"\\u0441\\u0443\\u0434\\u044c\\u0431\\u0430\",\"\\u043f\\u0438\\u0437\\u0434\\u0430\",\"\\u0432\\u0441\\u0442\\u0440\\u0435\\u0447\\u0430\\u0442\\u044c\",\"\\u043c\\u0435\\u043d\\u044f\\u0442\\u044c\",\"\\u0441\\u043d\\u0438\\u043c\\u0430\\u0442\\u044c\",\"\\u0441\\u043f\\u043e\\u043a\\u043e\\u0439\\u043d\\u043e\",\"\\u0441\\u0435\\u0441\\u0442\\u044c\",\"\\u0443\\u0441\\u0442\\u0440\\u043e\\u0438\\u0442\\u044c\",\"\\u0437\\u0430\\u043b\",\"\\u043a\\u0430\",\"\\u0431\\u0438\\u043e\\u043b\\u043e\\u0433\\u0438\\u044f\",\"\\u0441\\u043a\\u0430\\u0447\\u0430\\u0442\\u044c\",\"\\u043c\\u043d\\u0435\\u043d\\u0438\\u0435\",\"\\u043d\\u0430\\u0437\\u0432\\u0430\\u043d\\u0438\\u0435\",\"\\u043a\\u0430\\u0440\\u043e\\u0447\\u0438\\u0439\",\"\\u0443\\u0434\\u0430\\u0442\\u044c\\u0441\\u044f\",\"\\u0437\\u0443\\u0431\",\"\\u043f\\u043e\\u0447\\u0442\\u0430\",\"\\u043e\\u0442\\u0434\\u043e\\u0445\\u043d\\u0443\\u0442\\u044c\",\"\\u043f\\u0440\\u0438\\u0445\\u043e\\u0434\\u0438\\u0442\\u044c\\u0441\\u044f\",\"\\u043f\\u0440\\u0438\\u0447\\u0438\\u043d\\u0430\",\"\\u0432\\u044b\\u0431\\u0440\\u0430\\u0442\\u044c\",\"\\u043f\\u0440\\u043e\\u0432\\u043e\\u0434\\u0438\\u0442\\u044c\",\"\\u043f\\u043e\\u043b\\u044c\\u0437\\u043e\\u0432\\u0430\\u0442\\u044c\\u0441\\u044f\",\"\\u043a\\u0430\\u0440\\u0442\\u0430\",\"\\u043f\\u043e\\u043b\\u0443\\u0447\\u0430\\u0442\\u044c\",\"\\u0437\\u0430\\u0431\\u0438\\u0442\\u044c\",\"\\u043b\\u0438\\u0447\\u043d\\u044b\\u0439\",\"\\u0445\\u0440\\u0435\\u043d\\u044c\",\"\\u0440\\u0435\\u0434\\u043a\\u043e\",\"\\u0438\\u0434\\u0430\",\"\\u0441\\u043d\\u044f\\u0442\\u044c\",\"\\u0442\\u0440\\u0443\\u0434\\u043d\\u043e\",\"\\u0433\\u0440\\u0443\\u0441\\u0442\\u044c\",\"\\u0432\\u0438\\u043a\\u0430\",\"\\u0438\\u0434\\u0435\\u0430\\u043b\\u044c\\u043d\\u044b\\u0439\",\"\\u0442\\u0435\\u0441\\u0442\",\"\\u0432\\u043d\\u0438\\u043c\\u0430\\u043d\\u0438\\u0435\",\"\\u043c\\u043e\\u043b\\u0447\\u0430\\u0442\\u044c\",\"\\u0432\\u044b\\u0438\\u0433\\u0440\\u0430\\u0442\\u044c\",\"\\u0443\\u0441\\u043b\\u044b\\u0448\\u0430\\u0442\\u044c\",\"\\u043e\\u0442\\u043c\\u0435\\u0447\\u0430\\u0442\\u044c\",\"\\u0434\\u0430\\u0440\\u0438\\u0442\\u044c\",\"\\u043b\\u044e\\u0431\\u0438\\u043c\",\"\\u0448\\u043e\\u043a\\u043e\\u043b\\u0430\\u0434\\u043a\\u0430\",\"\\u0437\\u0432\\u043e\\u043d\\u043e\\u043a\",\"\\u043b\\u0435\\u0442\\u0435\\u0442\\u044c\",\"\\u0446\\u0435\\u043d\\u0430\",\"\\u0432\\u043e\\u0437\\u043c\\u043e\\u0436\\u043d\\u043e\\u0441\\u0442\\u044c\",\"\\u0441\\u0442\\u0440\\u0430\\u0434\\u0430\\u0442\\u044c\",\"\\u043d\\u043e\\u0443\\u0442\",\"\\u043d\\u0430\\u043f\\u043e\\u043c\\u043d\\u0438\\u0442\\u044c\",\"\\u043e\\u0433\\u043e\\u043d\\u044c\",\"\\u0442\\u044f\\u0436\\u0451\\u043b\\u044b\\u0439\",\"\\u0434\\u0435\\u0442\\u0441\\u043a\\u0438\\u0439\",\"\\u0438\\u0433\\u0440\\u0443\\u0448\\u043a\\u0430\",\"\\u0430\\u0445\\u0430\\u0445\\u0445\\u0430\",\"\\u0442\\u0432\",\"\\u043f\\u0438\\u043f\\u0435\\u0446\",\"\\u043f\\u0430\\u0434\\u0430\\u0442\\u044c\",\"\\u0447\\u0435\\u0442\\u0430\",\"\\u043f\\u0440\\u0435\\u0434\\u043b\\u0430\\u0433\\u0430\\u0442\\u044c\",\"\\u0441\\u0435\\u043a\\u0441\",\"\\u0441\\u043c\\u0435\\u0448\\u043d\\u043e\\u0439\",\"\\u0431\\u043b\\u0438\\u0438\\u043d\\u0430\",\"\\u043f\\u0440\\u043e\\u0434\\u043e\\u043b\\u0436\\u0430\\u0442\\u044c\",\"\\u043e\\u043d\",\"\\u043a\\u043e\\u0448\\u043c\\u0430\\u0440\",\"\\u043f\\u043e\\u0437\\u0434\\u0440\\u0430\\u0432\\u043b\\u0435\\u043d\\u0438\\u0435\",\"\\u0440\\u0430\\u0437\\u0431\\u0443\\u0434\\u0438\\u0442\\u044c\",\"\\u0441\\u043a\\u0430\",\"\\u0430\\u0445\\u0430\\u0445\\u0430\\u0445\\u0430\\u0445\",\"\\u043e\\u0431\\u0435\\u0434\",\"\\u0441\\u043a\\u0430\\u0439\\u043f\",\"\\u043f\\u0440\\u0435\\u0434\\u0441\\u0442\\u0430\\u0432\\u0438\\u0442\\u044c\",\"\\u043f\\u043b\\u044e\\u0441\",\"\\u0441\\u0440\\u0435\\u0434\\u0430\",\"\\u0437\\u0430\\u043d\\u044f\\u0442\\u044b\\u0439\",\"\\u0445\\u043c\",\"\\u043e\\u0443\",\"\\u043f\\u0440\\u043e\\u0433\\u0440\\u0430\\u043c\\u043c\\u0430\",\"\\u0432\\u043a\\u0443\\u0441\",\"\\u043e\\u043a\\u043e\\u043b\\u043e\",\"\\u0437\\u0438\\u043c\\u043e\\u0439\",\"\\u0448\",\"\\u0432\\u0435\\u0441\",\"\\u0432\\u044b\\u0441\\u043e\\u043a\\u0438\\u0439\",\"\\u043a\\u043e\\u043d\\u0444\\u0435\\u0442\\u0430\",\"\\u0430\\u0430\",\"\\u0448\\u044c\",\"\\u0441\\u043b\\u0430\\u0432\\u0430\",\"\\u043a\\u0438\\u0434\\u0430\\u0442\\u044c\",\"\\u043f\\u043e\\u0445\\u0443\\u0439\",\"\\u043c\\u0438\\u043d\\u0443\\u0441\",\"\\u0444\\u0430\\u043a\\u0442\",\"\\u0442\\u0438\\u043f\\u043e\",\"\\u0434\\u0432\\u0435\\u0440\\u044c\",\"\\u0443\\u0441\\u043f\\u0435\\u0432\\u0430\\u0442\\u044c\",\"\\u0432\\u043e\\u0443\",\"\\u0446\\u0435\\u043b\\u043e\\u0435\",\"\\u0443\\u0432\\u0438\\u0434\\u0435\\u0442\\u044c\\u0441\\u044f\",\"\\u0443\\u0434\\u0430\\u0447\\u043d\\u044b\\u0439\",\"\\u0432\\u043f\\u0435\\u0440\\u0435\\u0434\\u0438\",\"\\u043e\\u0441\\u043e\\u0431\\u043e\",\"\\u043d\\u0430\\u043e\\u0431\\u043e\\u0440\\u043e\\u0442\",\"\\u0440\\u043e\\u0441\\u0441\\u0438\\u0439\\u0441\\u043a\\u0438\\u0439\",\"\\u043b\\u044e\\u0431\\u0430\",\"\\u043c\\u043c\\u043c\",\"\\u0441\\u043c\\u0435\\u0445\",\"\\u0441\\u0435\\u0440\\u044b\\u0439\",\"\\u043e\\u0431\\u0438\\u0434\\u0435\\u0442\\u044c\\u0441\\u044f\",\"\\u043f\\u0440\\u0438\\u0434\",\"\\u043b\\u043a\\u0430\",\"\\u043f\\u0443\\u0442\\u044c\",\"\\u0441\\u043e\\u0431\\u0440\\u0430\\u0442\\u044c\",\"\\u043e\\u0442\\u043f\\u0443\\u0441\\u0442\\u0438\\u0442\\u044c\",\"\\u043f\\u043e\\u043b\\u043d\\u043e\\u0441\\u0442\\u044c\\u044e\",\"\\u043a\\u0430\\u043d\\u0430\\u043b\",\"\\u0442\\u0432\\u0438\\u0442\\u0442\\u0435\\u0440\\u0441\\u043a\\u0438\\u0439\"],\"x1\":{\"__ndarray__\":\"V2Q3Qbh9QUEtGb/AmTHwQVpA78EFLLFBk7BtPocNosHK3iLA5Es/wYYS5cGFOelACw44wgzGIsGyp37BCZURQkWIBkLPRRDCBQcsQncq+sDYjAfCxjVGwVTQUkIb5jFChjKhQS1tZcBUxITBNzMAwf0I+r7T1fHByLr7wT7lRsJTP1tCqwfTQc0l+0HOfxdCItwPwu25mkFAL8TBxs4swfszKMEGStBBSqihQYsnvkFlHVPB5gKMQWUAJMIIbxTB9ILPQTiywkCcB0hCBdJOQg8rrsFGUu3BBInyweM2Y0FaGp1BZH7WQWN+r8EmK9xBrPa9QW81SUFBNcHBc7ZdwMagJEHemydA5EW1wU9tXUKzKF3BQ1itwE0cHUBfLrFAbGGPwZWuAMG++GzBhyXaQGVPOkLGk6DBDBsMQkml9EA/+alBdX/tQFGLg0HoUoJB82QjQRivhr4ECfDBb+QAQh0UiL8owHVBj2cdwq4Z8EBtXJdBqjUUQu2njEF1ai5Cr1UtQLsjMkHuB8dAE+gBQg==\",\"dtype\":\"float32\",\"shape\":[100]},\"x2\":{\"__ndarray__\":\"IKSvwfnTS0JHy7VBd34xwTzPtT/CIpLBHHE+QvPltcHeaFzBJDQjwda/JMIhzZBAmpcawR5xQ7+rUPPBFy63QBDmc8G8xBtBTpYoQgao4sBFfh7CbGoaQjJrhUHBpdtB/J9MwohmKMCk0pbAftVRQZXvOkCUPK1Bu5LNwWf/1EBEEBnB85V1QWyE+cGd0HhBCSX7wOqBckLxURFCwSk/wl37BkLlCb1A6XuwQXBfMULX2iRBbYQRwpEXlcECGpDB6xD/v20/7MCLRtvBS8E5QRVV9UGVOjnCOUqKwQfd0MHxQVBBl7XfwaqOcUH78F9COZcJQoudBMGftibBntPXwTP6kEEY75lByCHZPq/e1kFG9F5AAh0Kwp3lnMEOqzTCj5OIwd22nkCt+KRBpsA1Qr303j9ZsQZBDv6nv6jpCUJiKfDAn/BgwXk+Z8G02uhB/4y4v8DH7MA+YwlCSP3QQck6E0Ef2+9AsSm/QbNZQEHjIVlCRCfSwVDAl7+deSLBwfryv/sFwkHiiAnCoEtcQg==\",\"dtype\":\"float32\",\"shape\":[100]}},\"selected\":{\"id\":\"1139\",\"type\":\"Selection\"},\"selection_policy\":{\"id\":\"1140\",\"type\":\"UnionRenderers\"}},\"id\":\"1119\",\"type\":\"ColumnDataSource\"},{\"attributes\":{},\"id\":\"1140\",\"type\":\"UnionRenderers\"},{\"attributes\":{},\"id\":\"1101\",\"type\":\"BasicTicker\"},{\"attributes\":{},\"id\":\"1111\",\"type\":\"WheelZoomTool\"},{\"attributes\":{},\"id\":\"1110\",\"type\":\"PanTool\"},{\"attributes\":{},\"id\":\"1139\",\"type\":\"Selection\"},{\"attributes\":{\"plot\":{\"id\":\"1090\",\"subtype\":\"Figure\",\"type\":\"Plot\"},\"source\":{\"id\":\"1119\",\"type\":\"ColumnDataSource\"},\"text\":{\"field\":\"names\"},\"text_align\":\"center\",\"text_color\":{\"value\":\"#555555\"},\"text_font_size\":{\"value\":\"8pt\"},\"x\":{\"field\":\"x1\"},\"y\":{\"field\":\"x2\"},\"y_offset\":{\"value\":6}},\"id\":\"1125\",\"type\":\"LabelSet\"},{\"attributes\":{},\"id\":\"1113\",\"type\":\"SaveTool\"},{\"attributes\":{\"dimension\":1,\"plot\":{\"id\":\"1090\",\"subtype\":\"Figure\",\"type\":\"Plot\"},\"ticker\":{\"id\":\"1106\",\"type\":\"BasicTicker\"}},\"id\":\"1109\",\"type\":\"Grid\"}],\"root_ids\":[\"1090\"]},\"title\":\"Bokeh Application\",\"version\":\"1.0.4\"}};\n",
       "  var render_items = [{\"docid\":\"eae5dd64-a8c9-4527-a9bc-1818297e52d0\",\"roots\":{\"1090\":\"9588a446-0bb7-459e-be82-c72d3175d535\"}}];\n",
       "  root.Bokeh.embed.embed_items_notebook(docs_json, render_items);\n",
       "\n",
       "  }\n",
       "  if (root.Bokeh !== undefined) {\n",
       "    embed_document(root);\n",
       "  } else {\n",
       "    var attempts = 0;\n",
       "    var timer = setInterval(function(root) {\n",
       "      if (root.Bokeh !== undefined) {\n",
       "        embed_document(root);\n",
       "        clearInterval(timer);\n",
       "      }\n",
       "      attempts++;\n",
       "      if (attempts > 100) {\n",
       "        console.log(\"Bokeh: ERROR: Unable to run BokehJS code because BokehJS library is missing\");\n",
       "        clearInterval(timer);\n",
       "      }\n",
       "    }, 10, root)\n",
       "  }\n",
       "})(window);"
      ],
      "application/vnd.bokehjs_exec.v0+json": ""
     },
     "metadata": {
      "application/vnd.bokehjs_exec.v0+json": {
       "id": "1090"
      }
     },
     "output_type": "display_data"
    }
   ],
   "source": [
    "p = figure(tools=\"pan,wheel_zoom,reset,save\",\n",
    "           toolbar_location=\"above\",\n",
    "           title=\"word2vec T-SNE for most common words\")\n",
    "\n",
    "source = ColumnDataSource(data=dict(x1=top_words_tsne_2[:,0],\n",
    "                                    x2=top_words_tsne_2[:,1],\n",
    "                                    names=top_words))\n",
    "\n",
    "p.scatter(x=\"x1\", y=\"x2\", size=8, source=source)\n",
    "\n",
    "labels = LabelSet(x=\"x1\", y=\"x2\", text=\"names\", y_offset=6,\n",
    "                  text_font_size=\"8pt\", text_color=\"#555555\",\n",
    "                  source=source, text_align='center')\n",
    "p.add_layout(labels)\n",
    "\n",
    "show(p)"
   ]
  },
  {
   "cell_type": "markdown",
   "metadata": {},
   "source": [
    "- **Можно выделить, например, кластер связанный со словами о сне. \"утро, ночь, спать, просыпаться, сон\" и тд.**\n",
    "- **С уроками \"урок, история, английский, русский\".**\n",
    "- **С погодой \"улица, холодный, погода, снег, зима\"**\n",
    "- **С соцсетями \"вк, твиттер, твит, лента\".**\n",
    "- **И т.д.**"
   ]
  },
  {
   "cell_type": "code",
   "execution_count": null,
   "metadata": {},
   "outputs": [],
   "source": []
  },
  {
   "cell_type": "markdown",
   "metadata": {},
   "source": [
    "## Часть 2. Анализ тональности [60 баллов]\n",
    "\n",
    "Отделите 25% положительных и 25% отрицательных твитов как тестовую выборку. Обучите классификатор, отличающий положительно окрашенные твиты от отрицательно окрашенных на обучающей выборке (оставшиеся 75%) и оцените их accuracy на выборке тестовой. А лучше несколько классификаторов, устроенных по-разному. Если у вас получилось несколько очень похожих классификаторов (скажем, один и тот же класс из sklearn с разными гиперпараметрами), они будут считаться не разными методами, а разными версиями одного метода и учитываться будет только лучшая версия. Тем не менее, по возможности не удаляйте их из ноутбука! Очень интересно, как вы пришли к результату, к которому вы пришли.\n",
    "\n",
    "Можно использовать предобученные модели. К обучающей выборке можно добавить какие-нибудь ещё данные, которые вы сами где-то найдёте, а можно наоборот - вообще её не использовать (сделать классификатор, основанный на вручную написанных правилах).\n",
    "\n",
    "Если у вас будет хотя бы один работающий классификатор, ваша оценка за часть 2 будет вычислена по формуле:\n",
    "\n",
    "$$\n",
    "\\min( 10 + \\sum_i (a_i - 50); 60 )\n",
    "$$\n",
    "\n",
    "где $a_i$ - accuracy одного из ваших (разных!) методов на тестовой выборке.\n",
    "\n",
    "В этом задании (при желании) можно применить все знания, полученные за курс:\n",
    "- Морфология и синтаксический парсинг\n",
    "- Тематические модели\n",
    "- Bag of words и TF/IDF\n",
    "- Дистрибутивная семантика\n",
    "- Классические классификаторы (RandomForest)\n",
    "- Нейронные классификаторы\n",
    "- Языковые модели\n",
    "- Attention\n",
    "- Извлечение терминов\n",
    "\n",
    "А так же задавать в слаке любые вопросы\n",
    "\n",
    "Как видно из формулы, у вас есть выбор - брать количеством или качеством :)\n",
    "\n",
    "Удачи и да пребудет с вами BERT."
   ]
  },
  {
   "cell_type": "code",
   "execution_count": 37,
   "metadata": {},
   "outputs": [],
   "source": [
    "from sklearn.model_selection import train_test_split, GridSearchCV"
   ]
  },
  {
   "cell_type": "code",
   "execution_count": 38,
   "metadata": {},
   "outputs": [],
   "source": [
    "X = df.drop(columns=['ttype', 'tdate', 'tmane', 'ttext', 'words_only', 'words_only_without_sw'])\n",
    "y = df['ttype']"
   ]
  },
  {
   "cell_type": "code",
   "execution_count": 39,
   "metadata": {},
   "outputs": [],
   "source": [
    "X_train, X_test, y_train, y_test = train_test_split(X, y, train_size=0.75, random_state=22, shuffle=True)"
   ]
  },
  {
   "cell_type": "code",
   "execution_count": 40,
   "metadata": {},
   "outputs": [],
   "source": [
    "def sent_to_vec(sent, w2v = model):\n",
    "    vec = np.array([w2v[w] for w in sent if w in w2v])\n",
    "    if len(vec):\n",
    "        return(np.mean(vec, axis=0))\n",
    "    else:\n",
    "        return(np.zeros(100))"
   ]
  },
  {
   "cell_type": "code",
   "execution_count": 41,
   "metadata": {},
   "outputs": [
    {
     "name": "stdout",
     "output_type": "stream",
     "text": [
      "Wall time: 16.6 s\n"
     ]
    }
   ],
   "source": [
    "%time X_train['mean_vec'] = X_train.lemmas.apply(lambda x: sent_to_vec(x))"
   ]
  },
  {
   "cell_type": "code",
   "execution_count": 42,
   "metadata": {},
   "outputs": [
    {
     "name": "stdout",
     "output_type": "stream",
     "text": [
      "Wall time: 5.7 s\n"
     ]
    }
   ],
   "source": [
    "%time X_test['mean_vec'] = X_test.lemmas.apply(lambda x: sent_to_vec(x))"
   ]
  },
  {
   "cell_type": "code",
   "execution_count": 43,
   "metadata": {},
   "outputs": [],
   "source": [
    "X_train = X_train.drop(columns=['lemmas'])"
   ]
  },
  {
   "cell_type": "code",
   "execution_count": 44,
   "metadata": {},
   "outputs": [],
   "source": [
    "X_test = X_test.drop(columns=['lemmas'])"
   ]
  },
  {
   "cell_type": "code",
   "execution_count": 45,
   "metadata": {},
   "outputs": [],
   "source": [
    "from sklearn.linear_model import LogisticRegression"
   ]
  },
  {
   "cell_type": "code",
   "execution_count": 46,
   "metadata": {},
   "outputs": [],
   "source": [
    "from xgboost import XGBClassifier"
   ]
  },
  {
   "cell_type": "code",
   "execution_count": 47,
   "metadata": {},
   "outputs": [],
   "source": [
    "clf = LogisticRegression()"
   ]
  },
  {
   "cell_type": "code",
   "execution_count": 48,
   "metadata": {},
   "outputs": [],
   "source": [
    "X_train = np.array(X_train.mean_vec.tolist())\n",
    "X_test= np.array(X_test.mean_vec.tolist())"
   ]
  },
  {
   "cell_type": "code",
   "execution_count": 49,
   "metadata": {},
   "outputs": [
    {
     "data": {
      "text/plain": [
       "LogisticRegression(C=1.0, class_weight=None, dual=False, fit_intercept=True,\n",
       "          intercept_scaling=1, max_iter=100, multi_class='warn',\n",
       "          n_jobs=None, penalty='l2', random_state=None, solver='warn',\n",
       "          tol=0.0001, verbose=0, warm_start=False)"
      ]
     },
     "execution_count": 49,
     "metadata": {},
     "output_type": "execute_result"
    }
   ],
   "source": [
    "clf.fit(X_train, y_train)"
   ]
  },
  {
   "cell_type": "code",
   "execution_count": 50,
   "metadata": {},
   "outputs": [],
   "source": [
    "y_pred = clf.predict(X_test)"
   ]
  },
  {
   "cell_type": "code",
   "execution_count": 51,
   "metadata": {},
   "outputs": [],
   "source": [
    "from sklearn.metrics import accuracy_score"
   ]
  },
  {
   "cell_type": "code",
   "execution_count": 52,
   "metadata": {},
   "outputs": [
    {
     "data": {
      "text/plain": [
       "0.6634572995468091"
      ]
     },
     "execution_count": 52,
     "metadata": {},
     "output_type": "execute_result"
    }
   ],
   "source": [
    "accuracy_score(y_test, y_pred)"
   ]
  },
  {
   "cell_type": "code",
   "execution_count": 53,
   "metadata": {},
   "outputs": [],
   "source": [
    "clf = XGBClassifier()"
   ]
  },
  {
   "cell_type": "code",
   "execution_count": 54,
   "metadata": {},
   "outputs": [
    {
     "data": {
      "text/plain": [
       "XGBClassifier(base_score=0.5, booster='gbtree', colsample_bylevel=1,\n",
       "       colsample_bynode=1, colsample_bytree=1, gamma=0, learning_rate=0.1,\n",
       "       max_delta_step=0, max_depth=3, min_child_weight=1, missing=None,\n",
       "       n_estimators=100, n_jobs=1, nthread=None,\n",
       "       objective='binary:logistic', random_state=0, reg_alpha=0,\n",
       "       reg_lambda=1, scale_pos_weight=1, seed=None, silent=None,\n",
       "       subsample=1, verbosity=1)"
      ]
     },
     "execution_count": 54,
     "metadata": {},
     "output_type": "execute_result"
    }
   ],
   "source": [
    "clf.fit(X_train, y_train)"
   ]
  },
  {
   "cell_type": "code",
   "execution_count": 55,
   "metadata": {},
   "outputs": [],
   "source": [
    "y_pred = clf.predict(X_test)"
   ]
  },
  {
   "cell_type": "code",
   "execution_count": 56,
   "metadata": {},
   "outputs": [
    {
     "data": {
      "text/plain": [
       "0.6580613306529828"
      ]
     },
     "execution_count": 56,
     "metadata": {},
     "output_type": "execute_result"
    }
   ],
   "source": [
    "accuracy_score(y_test, y_pred)"
   ]
  },
  {
   "cell_type": "code",
   "execution_count": null,
   "metadata": {},
   "outputs": [],
   "source": []
  },
  {
   "cell_type": "code",
   "execution_count": 57,
   "metadata": {},
   "outputs": [],
   "source": [
    "def join(text):\n",
    "    return ' '.join(text)"
   ]
  },
  {
   "cell_type": "code",
   "execution_count": 58,
   "metadata": {},
   "outputs": [],
   "source": [
    "df['joined_lemmas'] = df.lemmas.apply(join)"
   ]
  },
  {
   "cell_type": "code",
   "execution_count": 59,
   "metadata": {},
   "outputs": [],
   "source": [
    "from sklearn.feature_extraction.text import CountVectorizer\n",
    "\n",
    "vectorizer = CountVectorizer()\n",
    "X = vectorizer.fit_transform(df['joined_lemmas'][:10000]).toarray()"
   ]
  },
  {
   "cell_type": "code",
   "execution_count": 60,
   "metadata": {},
   "outputs": [
    {
     "data": {
      "text/plain": [
       "(10000, 15056)"
      ]
     },
     "execution_count": 60,
     "metadata": {},
     "output_type": "execute_result"
    }
   ],
   "source": [
    "from sklearn.feature_extraction.text import TfidfTransformer\n",
    "\n",
    "X = TfidfTransformer().fit_transform(X)\n",
    "X.shape"
   ]
  },
  {
   "cell_type": "code",
   "execution_count": 61,
   "metadata": {},
   "outputs": [],
   "source": [
    "feature_names = vectorizer.get_feature_names()"
   ]
  },
  {
   "cell_type": "code",
   "execution_count": 62,
   "metadata": {},
   "outputs": [],
   "source": [
    "X = pd.DataFrame(X.toarray())"
   ]
  },
  {
   "cell_type": "code",
   "execution_count": 63,
   "metadata": {},
   "outputs": [],
   "source": [
    "y = df['ttype'][:10000]"
   ]
  },
  {
   "cell_type": "code",
   "execution_count": 64,
   "metadata": {},
   "outputs": [],
   "source": [
    "from sklearn.model_selection import train_test_split\n",
    "\n",
    "\n",
    "X_train, X_test, y_train, y_test = train_test_split(X, y, test_size=0.25, random_state=22)"
   ]
  },
  {
   "cell_type": "code",
   "execution_count": 65,
   "metadata": {},
   "outputs": [],
   "source": [
    "clf = XGBClassifier(\n",
    "                    max_depth=5,\n",
    "                    n_jobs=-1,\n",
    "                    n_estimators=101,\n",
    "                    min_samples_split=200,\n",
    "                    learning_rate=0.079,\n",
    "                    max_features='log2',\n",
    "                    subsample=0.6578947368421052\n",
    ")"
   ]
  },
  {
   "cell_type": "code",
   "execution_count": 66,
   "metadata": {},
   "outputs": [
    {
     "data": {
      "text/plain": [
       "XGBClassifier(base_score=0.5, booster='gbtree', colsample_bylevel=1,\n",
       "       colsample_bynode=1, colsample_bytree=1, gamma=0,\n",
       "       learning_rate=0.079, max_delta_step=0, max_depth=5,\n",
       "       max_features='log2', min_child_weight=1, min_samples_split=200,\n",
       "       missing=None, n_estimators=101, n_jobs=-1, nthread=None,\n",
       "       objective='binary:logistic', random_state=0, reg_alpha=0,\n",
       "       reg_lambda=1, scale_pos_weight=1, seed=None, silent=None,\n",
       "       subsample=0.6578947368421052, verbosity=1)"
      ]
     },
     "execution_count": 66,
     "metadata": {},
     "output_type": "execute_result"
    }
   ],
   "source": [
    "clf.fit(X=X_train, y=y_train)"
   ]
  },
  {
   "cell_type": "code",
   "execution_count": 67,
   "metadata": {},
   "outputs": [],
   "source": [
    "y_test_predict = clf.predict(X_test)"
   ]
  },
  {
   "cell_type": "code",
   "execution_count": 68,
   "metadata": {},
   "outputs": [
    {
     "data": {
      "text/plain": [
       "0.6168"
      ]
     },
     "execution_count": 68,
     "metadata": {},
     "output_type": "execute_result"
    }
   ],
   "source": [
    "accuracy_score(y_test, y_test_predict)"
   ]
  },
  {
   "cell_type": "code",
   "execution_count": null,
   "metadata": {},
   "outputs": [],
   "source": []
  },
  {
   "cell_type": "code",
   "execution_count": null,
   "metadata": {},
   "outputs": [],
   "source": []
  },
  {
   "cell_type": "code",
   "execution_count": 69,
   "metadata": {},
   "outputs": [],
   "source": [
    "stopw = set(\n",
    "    [w for w in stopwords.words(['russian', 'english'])]\n",
    "    + [u'это', u'году', u'года', u'также', u'етот',\n",
    "       u'которые', u'который', u'которая', u'поэтому',\n",
    "       u'весь', u'свой', u'мочь', u'eтот', u'например',\n",
    "       u'какой-то', u'кто-то', u'самый', u'очень', u'несколько',\n",
    "       u'источник', u'стать', u'время', u'пока', u'однако',\n",
    "       u'около', u'немного', u'кроме', u'гораздо', u'каждый',\n",
    "       u'первый', u'вполне', u'из-за', u'из-под',\n",
    "       u'второй', u'нужно', u'нужный', u'просто', u'большой',\n",
    "       u'хотеть', u'начать', u'должный', u'новый', u'день',\n",
    "       u'метр', u'получить', u'далее', u'именно', u'апрель',\n",
    "       u'сообщать', u'разный', u'говорить', u'делать',\n",
    "       u'появиться', u'2016',\n",
    "       u'2015', u'получить', u'иметь', u'составить', u'дать', u'читать',\n",
    "       u'ничто', u'достаточно', u'использовать',\n",
    "       u'принять', u'практически',\n",
    "       u'находиться', u'месяц', u'достаточно', u'что-то', u'часто',\n",
    "       u'хотеть', u'начаться', u'делать', u'событие', u'составлять',\n",
    "       u'остаться', u'заявить', u'сделать', u'дело',\n",
    "       u'примерно', u'попасть', u'хотя', u'лишь', u'первое',\n",
    "       u'больший', u'решить', u'число', u'идти', u'давать', u'вопрос',\n",
    "       u'сегодня', u'часть', u'высокий', u'главный', u'случай', u'место',\n",
    "       u'конец', u'работать', u'работа', u'слово', u'важный', u'сказать',\n",
    "       u'то', u'по', u'на', u'как', u'что', u'это', u'или', u'не', u'нет', u'за'])\n",
    "    \n",
    "\n",
    "text_dict = {}\n",
    "i = 0\n",
    "for comment in df['joined_lemmas'][:15000]:\n",
    "    text_list = list(set(comment.split()))\n",
    "    text_list_cleaned = []\n",
    "    for word in text_list:\n",
    "        if word not in list(stopw):\n",
    "            text_list_cleaned.append(word)     \n",
    "    text_dict[i] = text_list_cleaned\n",
    "    i += 1"
   ]
  },
  {
   "cell_type": "code",
   "execution_count": 70,
   "metadata": {},
   "outputs": [],
   "source": [
    "N_topics = 10"
   ]
  },
  {
   "cell_type": "code",
   "execution_count": 71,
   "metadata": {},
   "outputs": [
    {
     "name": "stdout",
     "output_type": "stream",
     "text": [
      "Wall time: 4min 7s\n"
     ]
    }
   ],
   "source": [
    "%%time\n",
    "from gensim.corpora import TextCorpus\n",
    "from gensim.models.ldamulticore import LdaMulticore\n",
    "from gensim.models.ldamodel import LdaModel\n",
    "\n",
    "class ListTextCorpus(TextCorpus):\n",
    "\n",
    "    def get_texts(self):\n",
    "        for doc in self.input:\n",
    "            yield doc\n",
    "                \n",
    "mycorp = ListTextCorpus(input=text_dict.values())\n",
    "justlda = LdaModel(\n",
    "    corpus=mycorp, num_topics=N_topics, passes=90)"
   ]
  },
  {
   "cell_type": "code",
   "execution_count": 72,
   "metadata": {},
   "outputs": [
    {
     "name": "stdout",
     "output_type": "stream",
     "text": [
      "LdaModel performance\n",
      "0 сидеть спасибо пора год помнить прям прийтись хороший давно понимать\n",
      "1 любить почему рождение человек бывать правда хороший днём спасибо говорят\n",
      "2 видеть получиться телефон зима б ходить туда р год жизнь\n",
      "3 болеть плохо ахах взять деньга голова з готовый вс москва\n",
      "4 вообще твой скучать смотреть найти понять друг папа любимый никто\n",
      "5 утро добрый вечер вс круто хороший думать блин проснуться снег\n",
      "6 настроение надеяться приехать забыть завтра год дом бог половина жаль\n",
      "7 год нормальный человек новое вообще пятница устать ребёнок подарок учиться\n",
      "8 писать ждать знать каникулы узнать наверное написать твит смотреть играть\n",
      "9 спать пойти ночь школа завтра ахи сон норма кома нг\n"
     ]
    }
   ],
   "source": [
    "print('LdaModel performance')\n",
    "topic_description = {}\n",
    "for i in range(N_topics):\n",
    "    terms = justlda.get_topic_terms(i)\n",
    "    topic_description[i] = ' '.join(map(lambda x: mycorp.dictionary.get(x[0]), terms))\n",
    "    print(i, ' '.join(map(lambda x: mycorp.dictionary.get(x[0]), terms)))"
   ]
  },
  {
   "cell_type": "code",
   "execution_count": 73,
   "metadata": {},
   "outputs": [
    {
     "data": {
      "text/html": [
       "<div>\n",
       "<style scoped>\n",
       "    .dataframe tbody tr th:only-of-type {\n",
       "        vertical-align: middle;\n",
       "    }\n",
       "\n",
       "    .dataframe tbody tr th {\n",
       "        vertical-align: top;\n",
       "    }\n",
       "\n",
       "    .dataframe thead th {\n",
       "        text-align: right;\n",
       "    }\n",
       "</style>\n",
       "<table border=\"1\" class=\"dataframe\">\n",
       "  <thead>\n",
       "    <tr style=\"text-align: right;\">\n",
       "      <th></th>\n",
       "      <th>0</th>\n",
       "      <th>1</th>\n",
       "      <th>2</th>\n",
       "      <th>3</th>\n",
       "      <th>4</th>\n",
       "      <th>5</th>\n",
       "      <th>6</th>\n",
       "      <th>7</th>\n",
       "      <th>8</th>\n",
       "      <th>9</th>\n",
       "    </tr>\n",
       "  </thead>\n",
       "  <tbody>\n",
       "    <tr>\n",
       "      <th>0</th>\n",
       "      <td>0.016670</td>\n",
       "      <td>0.183328</td>\n",
       "      <td>0.016667</td>\n",
       "      <td>0.016667</td>\n",
       "      <td>0.016667</td>\n",
       "      <td>0.683334</td>\n",
       "      <td>0.016667</td>\n",
       "      <td>0.016667</td>\n",
       "      <td>0.016667</td>\n",
       "      <td>0.016668</td>\n",
       "    </tr>\n",
       "    <tr>\n",
       "      <th>1</th>\n",
       "      <td>0.033333</td>\n",
       "      <td>0.033376</td>\n",
       "      <td>0.033333</td>\n",
       "      <td>0.033333</td>\n",
       "      <td>0.033333</td>\n",
       "      <td>0.033333</td>\n",
       "      <td>0.033333</td>\n",
       "      <td>0.699958</td>\n",
       "      <td>0.033333</td>\n",
       "      <td>0.033333</td>\n",
       "    </tr>\n",
       "    <tr>\n",
       "      <th>2</th>\n",
       "      <td>0.014286</td>\n",
       "      <td>0.014287</td>\n",
       "      <td>0.178224</td>\n",
       "      <td>0.014287</td>\n",
       "      <td>0.014286</td>\n",
       "      <td>0.440544</td>\n",
       "      <td>0.281228</td>\n",
       "      <td>0.014286</td>\n",
       "      <td>0.014287</td>\n",
       "      <td>0.014286</td>\n",
       "    </tr>\n",
       "    <tr>\n",
       "      <th>3</th>\n",
       "      <td>0.016667</td>\n",
       "      <td>0.016668</td>\n",
       "      <td>0.016667</td>\n",
       "      <td>0.634482</td>\n",
       "      <td>0.016669</td>\n",
       "      <td>0.016671</td>\n",
       "      <td>0.016668</td>\n",
       "      <td>0.232174</td>\n",
       "      <td>0.016668</td>\n",
       "      <td>0.016667</td>\n",
       "    </tr>\n",
       "    <tr>\n",
       "      <th>4</th>\n",
       "      <td>0.183335</td>\n",
       "      <td>0.016667</td>\n",
       "      <td>0.016667</td>\n",
       "      <td>0.183337</td>\n",
       "      <td>0.016667</td>\n",
       "      <td>0.016669</td>\n",
       "      <td>0.016667</td>\n",
       "      <td>0.016667</td>\n",
       "      <td>0.016667</td>\n",
       "      <td>0.516660</td>\n",
       "    </tr>\n",
       "    <tr>\n",
       "      <th>5</th>\n",
       "      <td>0.157138</td>\n",
       "      <td>0.014287</td>\n",
       "      <td>0.014286</td>\n",
       "      <td>0.409046</td>\n",
       "      <td>0.014286</td>\n",
       "      <td>0.014286</td>\n",
       "      <td>0.014286</td>\n",
       "      <td>0.333815</td>\n",
       "      <td>0.014286</td>\n",
       "      <td>0.014286</td>\n",
       "    </tr>\n",
       "    <tr>\n",
       "      <th>6</th>\n",
       "      <td>0.014287</td>\n",
       "      <td>0.014286</td>\n",
       "      <td>0.014286</td>\n",
       "      <td>0.014286</td>\n",
       "      <td>0.014286</td>\n",
       "      <td>0.014286</td>\n",
       "      <td>0.724726</td>\n",
       "      <td>0.014286</td>\n",
       "      <td>0.014286</td>\n",
       "      <td>0.160987</td>\n",
       "    </tr>\n",
       "    <tr>\n",
       "      <th>7</th>\n",
       "      <td>0.016670</td>\n",
       "      <td>0.683332</td>\n",
       "      <td>0.016667</td>\n",
       "      <td>0.016667</td>\n",
       "      <td>0.016668</td>\n",
       "      <td>0.016668</td>\n",
       "      <td>0.016667</td>\n",
       "      <td>0.016667</td>\n",
       "      <td>0.183329</td>\n",
       "      <td>0.016667</td>\n",
       "    </tr>\n",
       "    <tr>\n",
       "      <th>8</th>\n",
       "      <td>0.137500</td>\n",
       "      <td>0.012500</td>\n",
       "      <td>0.012500</td>\n",
       "      <td>0.504459</td>\n",
       "      <td>0.012503</td>\n",
       "      <td>0.012500</td>\n",
       "      <td>0.145536</td>\n",
       "      <td>0.012502</td>\n",
       "      <td>0.012501</td>\n",
       "      <td>0.137500</td>\n",
       "    </tr>\n",
       "    <tr>\n",
       "      <th>9</th>\n",
       "      <td>0.016667</td>\n",
       "      <td>0.016667</td>\n",
       "      <td>0.016668</td>\n",
       "      <td>0.016668</td>\n",
       "      <td>0.300100</td>\n",
       "      <td>0.183333</td>\n",
       "      <td>0.016667</td>\n",
       "      <td>0.016667</td>\n",
       "      <td>0.016667</td>\n",
       "      <td>0.399898</td>\n",
       "    </tr>\n",
       "    <tr>\n",
       "      <th>10</th>\n",
       "      <td>0.020016</td>\n",
       "      <td>0.020000</td>\n",
       "      <td>0.020000</td>\n",
       "      <td>0.020006</td>\n",
       "      <td>0.020000</td>\n",
       "      <td>0.020009</td>\n",
       "      <td>0.445197</td>\n",
       "      <td>0.020001</td>\n",
       "      <td>0.020009</td>\n",
       "      <td>0.394762</td>\n",
       "    </tr>\n",
       "    <tr>\n",
       "      <th>11</th>\n",
       "      <td>0.033333</td>\n",
       "      <td>0.033333</td>\n",
       "      <td>0.033333</td>\n",
       "      <td>0.033333</td>\n",
       "      <td>0.033333</td>\n",
       "      <td>0.366667</td>\n",
       "      <td>0.033333</td>\n",
       "      <td>0.366667</td>\n",
       "      <td>0.033333</td>\n",
       "      <td>0.033333</td>\n",
       "    </tr>\n",
       "    <tr>\n",
       "      <th>12</th>\n",
       "      <td>0.020005</td>\n",
       "      <td>0.020000</td>\n",
       "      <td>0.020000</td>\n",
       "      <td>0.020000</td>\n",
       "      <td>0.020000</td>\n",
       "      <td>0.619973</td>\n",
       "      <td>0.020004</td>\n",
       "      <td>0.020000</td>\n",
       "      <td>0.020015</td>\n",
       "      <td>0.220003</td>\n",
       "    </tr>\n",
       "    <tr>\n",
       "      <th>13</th>\n",
       "      <td>0.011111</td>\n",
       "      <td>0.779035</td>\n",
       "      <td>0.011111</td>\n",
       "      <td>0.011112</td>\n",
       "      <td>0.011112</td>\n",
       "      <td>0.011113</td>\n",
       "      <td>0.011112</td>\n",
       "      <td>0.011111</td>\n",
       "      <td>0.011112</td>\n",
       "      <td>0.132072</td>\n",
       "    </tr>\n",
       "    <tr>\n",
       "      <th>14</th>\n",
       "      <td>0.020000</td>\n",
       "      <td>0.219995</td>\n",
       "      <td>0.619993</td>\n",
       "      <td>0.020000</td>\n",
       "      <td>0.020000</td>\n",
       "      <td>0.020005</td>\n",
       "      <td>0.020004</td>\n",
       "      <td>0.020000</td>\n",
       "      <td>0.020004</td>\n",
       "      <td>0.020000</td>\n",
       "    </tr>\n",
       "  </tbody>\n",
       "</table>\n",
       "</div>"
      ],
      "text/plain": [
       "           0         1         2         3         4         5         6  \\\n",
       "0   0.016670  0.183328  0.016667  0.016667  0.016667  0.683334  0.016667   \n",
       "1   0.033333  0.033376  0.033333  0.033333  0.033333  0.033333  0.033333   \n",
       "2   0.014286  0.014287  0.178224  0.014287  0.014286  0.440544  0.281228   \n",
       "3   0.016667  0.016668  0.016667  0.634482  0.016669  0.016671  0.016668   \n",
       "4   0.183335  0.016667  0.016667  0.183337  0.016667  0.016669  0.016667   \n",
       "5   0.157138  0.014287  0.014286  0.409046  0.014286  0.014286  0.014286   \n",
       "6   0.014287  0.014286  0.014286  0.014286  0.014286  0.014286  0.724726   \n",
       "7   0.016670  0.683332  0.016667  0.016667  0.016668  0.016668  0.016667   \n",
       "8   0.137500  0.012500  0.012500  0.504459  0.012503  0.012500  0.145536   \n",
       "9   0.016667  0.016667  0.016668  0.016668  0.300100  0.183333  0.016667   \n",
       "10  0.020016  0.020000  0.020000  0.020006  0.020000  0.020009  0.445197   \n",
       "11  0.033333  0.033333  0.033333  0.033333  0.033333  0.366667  0.033333   \n",
       "12  0.020005  0.020000  0.020000  0.020000  0.020000  0.619973  0.020004   \n",
       "13  0.011111  0.779035  0.011111  0.011112  0.011112  0.011113  0.011112   \n",
       "14  0.020000  0.219995  0.619993  0.020000  0.020000  0.020005  0.020004   \n",
       "\n",
       "           7         8         9  \n",
       "0   0.016667  0.016667  0.016668  \n",
       "1   0.699958  0.033333  0.033333  \n",
       "2   0.014286  0.014287  0.014286  \n",
       "3   0.232174  0.016668  0.016667  \n",
       "4   0.016667  0.016667  0.516660  \n",
       "5   0.333815  0.014286  0.014286  \n",
       "6   0.014286  0.014286  0.160987  \n",
       "7   0.016667  0.183329  0.016667  \n",
       "8   0.012502  0.012501  0.137500  \n",
       "9   0.016667  0.016667  0.399898  \n",
       "10  0.020001  0.020009  0.394762  \n",
       "11  0.366667  0.033333  0.033333  \n",
       "12  0.020000  0.020015  0.220003  \n",
       "13  0.011111  0.011112  0.132072  \n",
       "14  0.020000  0.020004  0.020000  "
      ]
     },
     "execution_count": 73,
     "metadata": {},
     "output_type": "execute_result"
    }
   ],
   "source": [
    "dummy_dict = {key: 0 for key in range(N_topics)}\n",
    "\n",
    "comment_topics_dict_2 = {\n",
    "    id: dict(list(dummy_dict.items()) + justlda.get_document_topics(mycorp.dictionary.doc2bow(normalized_words)))\n",
    "    for id, normalized_words in text_dict.items()\n",
    "}\n",
    "check_pd_2 = pd.DataFrame.from_dict(comment_topics_dict_2, orient='index')\n",
    "check_pd_2.head(15)"
   ]
  },
  {
   "cell_type": "code",
   "execution_count": 74,
   "metadata": {},
   "outputs": [
    {
     "data": {
      "text/plain": [
       "(15000, 10)"
      ]
     },
     "execution_count": 74,
     "metadata": {},
     "output_type": "execute_result"
    }
   ],
   "source": [
    "check_pd_2.shape"
   ]
  },
  {
   "cell_type": "code",
   "execution_count": 75,
   "metadata": {},
   "outputs": [],
   "source": [
    "check_pd_2.columns = ['class_1', 'class_2', 'class_3', 'class_4', 'class_5', 'class_6', 'class_7', 'class_8', 'class_9', 'class_10']"
   ]
  },
  {
   "cell_type": "code",
   "execution_count": 76,
   "metadata": {},
   "outputs": [],
   "source": [
    "X = df[:15000].drop(columns=['ttype', 'tdate', 'tmane', 'ttext', 'words_only', 'words_only_without_sw', 'lemmas', 'joined_lemmas'])\n",
    "y = df[:15000]['ttype']"
   ]
  },
  {
   "cell_type": "code",
   "execution_count": 77,
   "metadata": {},
   "outputs": [],
   "source": [
    "X['class_1'] = check_pd_2['class_1']\n",
    "X['class_2'] = check_pd_2['class_2']\n",
    "X['class_3'] = check_pd_2['class_3']\n",
    "X['class_4'] = check_pd_2['class_4']\n",
    "X['class_5'] = check_pd_2['class_5']\n",
    "X['class_6'] = check_pd_2['class_6']\n",
    "X['class_7'] = check_pd_2['class_7']\n",
    "X['class_8'] = check_pd_2['class_8']\n",
    "X['class_9'] = check_pd_2['class_9']\n",
    "X['class_10'] = check_pd_2['class_10']"
   ]
  },
  {
   "cell_type": "code",
   "execution_count": 78,
   "metadata": {},
   "outputs": [],
   "source": [
    "X_train, X_test, y_train, y_test = train_test_split(X, y, test_size=0.25, random_state=22)"
   ]
  },
  {
   "cell_type": "code",
   "execution_count": 79,
   "metadata": {},
   "outputs": [],
   "source": [
    "clf = XGBClassifier()"
   ]
  },
  {
   "cell_type": "code",
   "execution_count": 80,
   "metadata": {},
   "outputs": [],
   "source": [
    "clf.fit(X=X_train, y=y_train)\n",
    "y_train_predict = clf.predict(X_train)\n",
    "y_test_predict = clf.predict(X_test)"
   ]
  },
  {
   "cell_type": "code",
   "execution_count": 81,
   "metadata": {},
   "outputs": [
    {
     "data": {
      "text/plain": [
       "0.9285333333333333"
      ]
     },
     "execution_count": 81,
     "metadata": {},
     "output_type": "execute_result"
    }
   ],
   "source": [
    "accuracy_score(y_test, y_test_predict)"
   ]
  },
  {
   "cell_type": "code",
   "execution_count": null,
   "metadata": {},
   "outputs": [],
   "source": []
  },
  {
   "cell_type": "code",
   "execution_count": 82,
   "metadata": {},
   "outputs": [],
   "source": [
    "columns = ['sent_to_vec + logreg', 'sent_to_vec + xgboost', 'TF/IDF + xgboost', 'LDA (n=10) + xgboost']\n",
    "accuracy = ['0.66', '0.66', '0.62', '0.93']"
   ]
  },
  {
   "cell_type": "code",
   "execution_count": 97,
   "metadata": {},
   "outputs": [],
   "source": [
    "res = pd.DataFrame(accuracy, columns=['accuracy'], index=columns).T"
   ]
  },
  {
   "cell_type": "markdown",
   "metadata": {},
   "source": [
    "## Таким образом, наши результаты:"
   ]
  },
  {
   "cell_type": "code",
   "execution_count": 98,
   "metadata": {},
   "outputs": [
    {
     "data": {
      "text/html": [
       "<div>\n",
       "<style scoped>\n",
       "    .dataframe tbody tr th:only-of-type {\n",
       "        vertical-align: middle;\n",
       "    }\n",
       "\n",
       "    .dataframe tbody tr th {\n",
       "        vertical-align: top;\n",
       "    }\n",
       "\n",
       "    .dataframe thead th {\n",
       "        text-align: right;\n",
       "    }\n",
       "</style>\n",
       "<table border=\"1\" class=\"dataframe\">\n",
       "  <thead>\n",
       "    <tr style=\"text-align: right;\">\n",
       "      <th></th>\n",
       "      <th>sent_to_vec + logreg</th>\n",
       "      <th>sent_to_vec + xgboost</th>\n",
       "      <th>TF/IDF + xgboost</th>\n",
       "      <th>LDA (n=10) + xgboost</th>\n",
       "    </tr>\n",
       "  </thead>\n",
       "  <tbody>\n",
       "    <tr>\n",
       "      <th>accuracy</th>\n",
       "      <td>0.66</td>\n",
       "      <td>0.66</td>\n",
       "      <td>0.62</td>\n",
       "      <td>0.93</td>\n",
       "    </tr>\n",
       "  </tbody>\n",
       "</table>\n",
       "</div>"
      ],
      "text/plain": [
       "         sent_to_vec + logreg sent_to_vec + xgboost TF/IDF + xgboost  \\\n",
       "accuracy                 0.66                  0.66             0.62   \n",
       "\n",
       "         LDA (n=10) + xgboost  \n",
       "accuracy                 0.93  "
      ]
     },
     "execution_count": 98,
     "metadata": {},
     "output_type": "execute_result"
    }
   ],
   "source": [
    "res"
   ]
  },
  {
   "cell_type": "code",
   "execution_count": null,
   "metadata": {},
   "outputs": [],
   "source": []
  }
 ],
 "metadata": {
  "kernelspec": {
   "display_name": "Python 3",
   "language": "python",
   "name": "python3"
  },
  "language_info": {
   "codemirror_mode": {
    "name": "ipython",
    "version": 3
   },
   "file_extension": ".py",
   "mimetype": "text/x-python",
   "name": "python",
   "nbconvert_exporter": "python",
   "pygments_lexer": "ipython3",
   "version": "3.7.3"
  }
 },
 "nbformat": 4,
 "nbformat_minor": 2
}
